{
 "cells": [
  {
   "cell_type": "code",
   "execution_count": 6,
   "id": "fcd3b6cc",
   "metadata": {},
   "outputs": [],
   "source": [
    "import os\n",
    "import pandas as pd\n",
    "import numpy as np\n",
    "import math\n",
    "import ast\n",
    "from util import *\n",
    "import plotly.express as px\n",
    "import plotly.graph_objects as go"
   ]
  },
  {
   "cell_type": "code",
   "execution_count": 208,
   "id": "32090d76",
   "metadata": {},
   "outputs": [
    {
     "data": {
      "text/html": [
       "<div>\n",
       "<style scoped>\n",
       "    .dataframe tbody tr th:only-of-type {\n",
       "        vertical-align: middle;\n",
       "    }\n",
       "\n",
       "    .dataframe tbody tr th {\n",
       "        vertical-align: top;\n",
       "    }\n",
       "\n",
       "    .dataframe thead th {\n",
       "        text-align: right;\n",
       "    }\n",
       "</style>\n",
       "<table border=\"1\" class=\"dataframe\">\n",
       "  <thead>\n",
       "    <tr style=\"text-align: right;\">\n",
       "      <th></th>\n",
       "      <th>Name</th>\n",
       "      <th>Meta_score</th>\n",
       "      <th>User_score</th>\n",
       "      <th>Description</th>\n",
       "      <th>URL</th>\n",
       "      <th>Developer</th>\n",
       "      <th>Type</th>\n",
       "      <th>Rating</th>\n",
       "      <th>Rank</th>\n",
       "      <th>Platform</th>\n",
       "      <th>Year</th>\n",
       "      <th>Publisher</th>\n",
       "      <th>NA_Sales</th>\n",
       "      <th>EU_Sales</th>\n",
       "      <th>JP_Sales</th>\n",
       "      <th>Other_Sales</th>\n",
       "      <th>Global_Sales</th>\n",
       "      <th>Genre</th>\n",
       "    </tr>\n",
       "  </thead>\n",
       "  <tbody>\n",
       "    <tr>\n",
       "      <th>0</th>\n",
       "      <td>The Legend of Zelda: Ocarina of Time</td>\n",
       "      <td>99.0</td>\n",
       "      <td>91.0</td>\n",
       "      <td>As a young boy, Link is tricked by Ganondorf, ...</td>\n",
       "      <td>https://www.metacritic.com/game/nintendo-64/th...</td>\n",
       "      <td>Nintendo</td>\n",
       "      <td>singleplayer</td>\n",
       "      <td>E</td>\n",
       "      <td>95</td>\n",
       "      <td>N64</td>\n",
       "      <td>1998</td>\n",
       "      <td>Nintendo</td>\n",
       "      <td>4.10</td>\n",
       "      <td>1.89</td>\n",
       "      <td>1.45</td>\n",
       "      <td>0.16</td>\n",
       "      <td>7.60</td>\n",
       "      <td>['Action Adventure', 'Fantasy', 'Action']</td>\n",
       "    </tr>\n",
       "    <tr>\n",
       "      <th>1</th>\n",
       "      <td>The Legend of Zelda: Ocarina of Time</td>\n",
       "      <td>94.0</td>\n",
       "      <td>90.0</td>\n",
       "      <td>The Legend of Zelda: Ocarina of Time 3D takes ...</td>\n",
       "      <td>https://www.metacritic.com/game/3ds/the-legend...</td>\n",
       "      <td>GREZZO</td>\n",
       "      <td>singleplayer</td>\n",
       "      <td>E10+</td>\n",
       "      <td>95</td>\n",
       "      <td>N64</td>\n",
       "      <td>1998</td>\n",
       "      <td>Nintendo</td>\n",
       "      <td>4.10</td>\n",
       "      <td>1.89</td>\n",
       "      <td>1.45</td>\n",
       "      <td>0.16</td>\n",
       "      <td>7.60</td>\n",
       "      <td>['Compilation', 'Open-World', 'Miscellaneous',...</td>\n",
       "    </tr>\n",
       "    <tr>\n",
       "      <th>2</th>\n",
       "      <td>The Legend of Zelda: Ocarina of Time</td>\n",
       "      <td>99.0</td>\n",
       "      <td>91.0</td>\n",
       "      <td>As a young boy, Link is tricked by Ganondorf, ...</td>\n",
       "      <td>https://www.metacritic.com/game/nintendo-64/th...</td>\n",
       "      <td>Nintendo</td>\n",
       "      <td>singleplayer</td>\n",
       "      <td>E</td>\n",
       "      <td>269</td>\n",
       "      <td>3DS</td>\n",
       "      <td>2011</td>\n",
       "      <td>Nintendo</td>\n",
       "      <td>2.03</td>\n",
       "      <td>1.27</td>\n",
       "      <td>0.62</td>\n",
       "      <td>0.30</td>\n",
       "      <td>4.21</td>\n",
       "      <td>['Action Adventure', 'Fantasy', 'Action']</td>\n",
       "    </tr>\n",
       "    <tr>\n",
       "      <th>3</th>\n",
       "      <td>The Legend of Zelda: Ocarina of Time</td>\n",
       "      <td>94.0</td>\n",
       "      <td>90.0</td>\n",
       "      <td>The Legend of Zelda: Ocarina of Time 3D takes ...</td>\n",
       "      <td>https://www.metacritic.com/game/3ds/the-legend...</td>\n",
       "      <td>GREZZO</td>\n",
       "      <td>singleplayer</td>\n",
       "      <td>E10+</td>\n",
       "      <td>269</td>\n",
       "      <td>3DS</td>\n",
       "      <td>2011</td>\n",
       "      <td>Nintendo</td>\n",
       "      <td>2.03</td>\n",
       "      <td>1.27</td>\n",
       "      <td>0.62</td>\n",
       "      <td>0.30</td>\n",
       "      <td>4.21</td>\n",
       "      <td>['Compilation', 'Open-World', 'Miscellaneous',...</td>\n",
       "    </tr>\n",
       "    <tr>\n",
       "      <th>4</th>\n",
       "      <td>Super Mario Galaxy</td>\n",
       "      <td>97.0</td>\n",
       "      <td>91.0</td>\n",
       "      <td>[Metacritic's 2007 Wii Game of the Year] The u...</td>\n",
       "      <td>https://www.metacritic.com/game/wii/super-mari...</td>\n",
       "      <td>Nintendo</td>\n",
       "      <td>singleplayer</td>\n",
       "      <td>E</td>\n",
       "      <td>49</td>\n",
       "      <td>Wii</td>\n",
       "      <td>2007</td>\n",
       "      <td>Nintendo</td>\n",
       "      <td>6.16</td>\n",
       "      <td>3.40</td>\n",
       "      <td>1.20</td>\n",
       "      <td>0.76</td>\n",
       "      <td>11.52</td>\n",
       "      <td>['Platform', 'Action', 'Platformer', '3D']</td>\n",
       "    </tr>\n",
       "  </tbody>\n",
       "</table>\n",
       "</div>"
      ],
      "text/plain": [
       "                                   Name  Meta_score  User_score  \\\n",
       "0  The Legend of Zelda: Ocarina of Time        99.0        91.0   \n",
       "1  The Legend of Zelda: Ocarina of Time        94.0        90.0   \n",
       "2  The Legend of Zelda: Ocarina of Time        99.0        91.0   \n",
       "3  The Legend of Zelda: Ocarina of Time        94.0        90.0   \n",
       "4                    Super Mario Galaxy        97.0        91.0   \n",
       "\n",
       "                                         Description  \\\n",
       "0  As a young boy, Link is tricked by Ganondorf, ...   \n",
       "1  The Legend of Zelda: Ocarina of Time 3D takes ...   \n",
       "2  As a young boy, Link is tricked by Ganondorf, ...   \n",
       "3  The Legend of Zelda: Ocarina of Time 3D takes ...   \n",
       "4  [Metacritic's 2007 Wii Game of the Year] The u...   \n",
       "\n",
       "                                                 URL Developer          Type  \\\n",
       "0  https://www.metacritic.com/game/nintendo-64/th...  Nintendo  singleplayer   \n",
       "1  https://www.metacritic.com/game/3ds/the-legend...    GREZZO  singleplayer   \n",
       "2  https://www.metacritic.com/game/nintendo-64/th...  Nintendo  singleplayer   \n",
       "3  https://www.metacritic.com/game/3ds/the-legend...    GREZZO  singleplayer   \n",
       "4  https://www.metacritic.com/game/wii/super-mari...  Nintendo  singleplayer   \n",
       "\n",
       "  Rating  Rank Platform  Year Publisher  NA_Sales  EU_Sales  JP_Sales  \\\n",
       "0      E    95      N64  1998  Nintendo      4.10      1.89      1.45   \n",
       "1   E10+    95      N64  1998  Nintendo      4.10      1.89      1.45   \n",
       "2      E   269      3DS  2011  Nintendo      2.03      1.27      0.62   \n",
       "3   E10+   269      3DS  2011  Nintendo      2.03      1.27      0.62   \n",
       "4      E    49      Wii  2007  Nintendo      6.16      3.40      1.20   \n",
       "\n",
       "   Other_Sales  Global_Sales  \\\n",
       "0         0.16          7.60   \n",
       "1         0.16          7.60   \n",
       "2         0.30          4.21   \n",
       "3         0.30          4.21   \n",
       "4         0.76         11.52   \n",
       "\n",
       "                                               Genre  \n",
       "0          ['Action Adventure', 'Fantasy', 'Action']  \n",
       "1  ['Compilation', 'Open-World', 'Miscellaneous',...  \n",
       "2          ['Action Adventure', 'Fantasy', 'Action']  \n",
       "3  ['Compilation', 'Open-World', 'Miscellaneous',...  \n",
       "4         ['Platform', 'Action', 'Platformer', '3D']  "
      ]
     },
     "execution_count": 208,
     "metadata": {},
     "output_type": "execute_result"
    }
   ],
   "source": [
    "merged = load_dataframes(\"merged_sales_ratings\")\n",
    "merged.head()"
   ]
  },
  {
   "cell_type": "code",
   "execution_count": 209,
   "id": "fc7fe0da",
   "metadata": {},
   "outputs": [
    {
     "name": "stdout",
     "output_type": "stream",
     "text": [
      "7079\n"
     ]
    }
   ],
   "source": [
    "#merged[\"Platform\"] = merged[\"Platform\"].apply(str)\n",
    "#merged[\"Platform\"] = merged[\"Platform\"].apply(ast.literal_eval)\n",
    "merged[\"Genre\"] = merged[\"Genre\"].apply(str)\n",
    "merged[\"Genre\"] = merged[\"Genre\"].apply(ast.literal_eval)\n",
    "merged = merged[merged[\"Year\"] > 1970]\n",
    "merged = merged[merged[\"Year\"] < 2016]\n",
    "merged = merged[merged['Meta_score'].notna()]\n",
    "print(len(merged))"
   ]
  },
  {
   "cell_type": "code",
   "execution_count": 210,
   "id": "3aba5f0f",
   "metadata": {},
   "outputs": [
    {
     "data": {
      "text/html": [
       "<div>\n",
       "<style scoped>\n",
       "    .dataframe tbody tr th:only-of-type {\n",
       "        vertical-align: middle;\n",
       "    }\n",
       "\n",
       "    .dataframe tbody tr th {\n",
       "        vertical-align: top;\n",
       "    }\n",
       "\n",
       "    .dataframe thead th {\n",
       "        text-align: right;\n",
       "    }\n",
       "</style>\n",
       "<table border=\"1\" class=\"dataframe\">\n",
       "  <thead>\n",
       "    <tr style=\"text-align: right;\">\n",
       "      <th></th>\n",
       "      <th>Name</th>\n",
       "      <th>Meta_score</th>\n",
       "      <th>User_score</th>\n",
       "      <th>Description</th>\n",
       "      <th>URL</th>\n",
       "      <th>Developer</th>\n",
       "      <th>Type</th>\n",
       "      <th>Rating</th>\n",
       "      <th>Rank</th>\n",
       "      <th>Platform</th>\n",
       "      <th>Year</th>\n",
       "      <th>Publisher</th>\n",
       "      <th>NA_Sales</th>\n",
       "      <th>EU_Sales</th>\n",
       "      <th>JP_Sales</th>\n",
       "      <th>Other_Sales</th>\n",
       "      <th>Global_Sales</th>\n",
       "      <th>Genre</th>\n",
       "    </tr>\n",
       "  </thead>\n",
       "  <tbody>\n",
       "    <tr>\n",
       "      <th>1971</th>\n",
       "      <td>Missile Command</td>\n",
       "      <td>63.00</td>\n",
       "      <td>63.0</td>\n",
       "      <td>[Xbox Live Arcade]  In one of the most well-kn...</td>\n",
       "      <td>https://www.metacritic.com/game/xbox-360/missi...</td>\n",
       "      <td>Stainless Games</td>\n",
       "      <td>multiplayer</td>\n",
       "      <td>E</td>\n",
       "      <td>545</td>\n",
       "      <td>2600</td>\n",
       "      <td>1980</td>\n",
       "      <td>Atari</td>\n",
       "      <td>2.81</td>\n",
       "      <td>0.34</td>\n",
       "      <td>0.00</td>\n",
       "      <td>0.06</td>\n",
       "      <td>3.21</td>\n",
       "      <td>[Shoot-'Em-Up, Static, Shooter, Top-Down, Action]</td>\n",
       "    </tr>\n",
       "    <tr>\n",
       "      <th>3449</th>\n",
       "      <td>Defender</td>\n",
       "      <td>60.60</td>\n",
       "      <td>62.6</td>\n",
       "      <td>Protect the humans on the planet surface by de...</td>\n",
       "      <td>https://www.metacritic.com/game/playstation-2/...</td>\n",
       "      <td>7 Studios</td>\n",
       "      <td>multiplayer</td>\n",
       "      <td>T</td>\n",
       "      <td>1971</td>\n",
       "      <td>2600</td>\n",
       "      <td>1980</td>\n",
       "      <td>Atari</td>\n",
       "      <td>1.34</td>\n",
       "      <td>0.24</td>\n",
       "      <td>0.00</td>\n",
       "      <td>0.06</td>\n",
       "      <td>1.65</td>\n",
       "      <td>[Misc, Third-Person, Shooter, Sci-Fi, Action]</td>\n",
       "    </tr>\n",
       "    <tr>\n",
       "      <th>5001</th>\n",
       "      <td>Ms. Pac-Man</td>\n",
       "      <td>65.00</td>\n",
       "      <td>72.0</td>\n",
       "      <td>Guide Ms. Pac-Man through mazes, munching Pac-...</td>\n",
       "      <td>https://www.metacritic.com/game/xbox-360/ms-pa...</td>\n",
       "      <td>Namco Bandai Games</td>\n",
       "      <td>singleplayer</td>\n",
       "      <td>E</td>\n",
       "      <td>1108</td>\n",
       "      <td>2600</td>\n",
       "      <td>1981</td>\n",
       "      <td>Atari</td>\n",
       "      <td>1.54</td>\n",
       "      <td>0.10</td>\n",
       "      <td>0.00</td>\n",
       "      <td>0.02</td>\n",
       "      <td>1.65</td>\n",
       "      <td>[Puzzle, Action, General, Arcade]</td>\n",
       "    </tr>\n",
       "    <tr>\n",
       "      <th>4014</th>\n",
       "      <td>Frogger</td>\n",
       "      <td>61.00</td>\n",
       "      <td>53.0</td>\n",
       "      <td>Enjoy the classic game Frogger, revitalized an...</td>\n",
       "      <td>https://www.metacritic.com/game/xbox-360/frogger</td>\n",
       "      <td>Digital Eclipse</td>\n",
       "      <td>multiplayer</td>\n",
       "      <td>E</td>\n",
       "      <td>736</td>\n",
       "      <td>2600</td>\n",
       "      <td>1981</td>\n",
       "      <td>Parker Bros.</td>\n",
       "      <td>5.85</td>\n",
       "      <td>0.39</td>\n",
       "      <td>0.00</td>\n",
       "      <td>0.13</td>\n",
       "      <td>6.36</td>\n",
       "      <td>[Action, General, Arcade]</td>\n",
       "    </tr>\n",
       "    <tr>\n",
       "      <th>6194</th>\n",
       "      <td>Spider-Man</td>\n",
       "      <td>83.50</td>\n",
       "      <td>85.0</td>\n",
       "      <td>YOU DON'T JUST PLAY IT... YOU LIVE IT \\r\\n\\r\\n...</td>\n",
       "      <td>https://www.metacritic.com/game/playstation/sp...</td>\n",
       "      <td>Neversoft Entertainment</td>\n",
       "      <td>singleplayer</td>\n",
       "      <td>E</td>\n",
       "      <td>2234</td>\n",
       "      <td>2600</td>\n",
       "      <td>1981</td>\n",
       "      <td>Parker Bros.</td>\n",
       "      <td>3.00</td>\n",
       "      <td>1.39</td>\n",
       "      <td>0.02</td>\n",
       "      <td>0.18</td>\n",
       "      <td>4.59</td>\n",
       "      <td>[Action, Action Adventure, Sci-Fi]</td>\n",
       "    </tr>\n",
       "    <tr>\n",
       "      <th>...</th>\n",
       "      <td>...</td>\n",
       "      <td>...</td>\n",
       "      <td>...</td>\n",
       "      <td>...</td>\n",
       "      <td>...</td>\n",
       "      <td>...</td>\n",
       "      <td>...</td>\n",
       "      <td>...</td>\n",
       "      <td>...</td>\n",
       "      <td>...</td>\n",
       "      <td>...</td>\n",
       "      <td>...</td>\n",
       "      <td>...</td>\n",
       "      <td>...</td>\n",
       "      <td>...</td>\n",
       "      <td>...</td>\n",
       "      <td>...</td>\n",
       "      <td>...</td>\n",
       "    </tr>\n",
       "    <tr>\n",
       "      <th>3885</th>\n",
       "      <td>Fallout 4</td>\n",
       "      <td>85.50</td>\n",
       "      <td>61.5</td>\n",
       "      <td>As the sole survivor of Vault 111, you enter a...</td>\n",
       "      <td>https://www.metacritic.com/game/playstation-4/...</td>\n",
       "      <td>Bethesda Game Studios</td>\n",
       "      <td>singleplayer</td>\n",
       "      <td>M</td>\n",
       "      <td>110</td>\n",
       "      <td>PS4</td>\n",
       "      <td>2015</td>\n",
       "      <td>Bethesda Softworks</td>\n",
       "      <td>5.42</td>\n",
       "      <td>5.04</td>\n",
       "      <td>0.25</td>\n",
       "      <td>1.57</td>\n",
       "      <td>12.28</td>\n",
       "      <td>[Western-Style, Role-Playing, General]</td>\n",
       "    </tr>\n",
       "    <tr>\n",
       "      <th>5950</th>\n",
       "      <td>Samurai Warriors 4-II</td>\n",
       "      <td>73.00</td>\n",
       "      <td>72.0</td>\n",
       "      <td>Naomasa Ii appears as a playable character for...</td>\n",
       "      <td>https://www.metacritic.com/game/playstation-4/...</td>\n",
       "      <td>Omega Force</td>\n",
       "      <td>multiplayer</td>\n",
       "      <td>T</td>\n",
       "      <td>10114</td>\n",
       "      <td>PS4</td>\n",
       "      <td>2015</td>\n",
       "      <td>Tecmo Koei</td>\n",
       "      <td>0.03</td>\n",
       "      <td>0.02</td>\n",
       "      <td>0.22</td>\n",
       "      <td>0.01</td>\n",
       "      <td>0.27</td>\n",
       "      <td>[Action, 3D, Beat-'Em-Up]</td>\n",
       "    </tr>\n",
       "    <tr>\n",
       "      <th>5987</th>\n",
       "      <td>Senran Kagura: Estival Versus</td>\n",
       "      <td>71.00</td>\n",
       "      <td>72.0</td>\n",
       "      <td>The flame that burns twice as bright burns hal...</td>\n",
       "      <td>https://www.metacritic.com/game/pc/senran-kagu...</td>\n",
       "      <td>Tamsoft</td>\n",
       "      <td>singleplayer</td>\n",
       "      <td>NaN</td>\n",
       "      <td>7126</td>\n",
       "      <td>PSV</td>\n",
       "      <td>2015</td>\n",
       "      <td>Marvelous Interactive</td>\n",
       "      <td>0.13</td>\n",
       "      <td>0.05</td>\n",
       "      <td>0.17</td>\n",
       "      <td>0.05</td>\n",
       "      <td>0.40</td>\n",
       "      <td>[Action, General]</td>\n",
       "    </tr>\n",
       "    <tr>\n",
       "      <th>6001</th>\n",
       "      <td>Shantae and the Pirate's Curse</td>\n",
       "      <td>80.25</td>\n",
       "      <td>82.0</td>\n",
       "      <td>Embark on a brand new adventure which teams Sh...</td>\n",
       "      <td>https://www.metacritic.com/game/wii-u/shantae-...</td>\n",
       "      <td>WayForward</td>\n",
       "      <td>singleplayer</td>\n",
       "      <td>T</td>\n",
       "      <td>14480</td>\n",
       "      <td>3DS</td>\n",
       "      <td>2015</td>\n",
       "      <td>Intergrow</td>\n",
       "      <td>0.00</td>\n",
       "      <td>0.00</td>\n",
       "      <td>0.03</td>\n",
       "      <td>0.00</td>\n",
       "      <td>0.03</td>\n",
       "      <td>[Platform, Action, Platformer, 2D]</td>\n",
       "    </tr>\n",
       "    <tr>\n",
       "      <th>917</th>\n",
       "      <td>Etrian Mystery Dungeon</td>\n",
       "      <td>77.00</td>\n",
       "      <td>79.0</td>\n",
       "      <td>Far off in the mountains, the small village As...</td>\n",
       "      <td>https://www.metacritic.com/game/3ds/etrian-mys...</td>\n",
       "      <td>Spike Chunsoft</td>\n",
       "      <td>NaN</td>\n",
       "      <td>E10+</td>\n",
       "      <td>6963</td>\n",
       "      <td>3DS</td>\n",
       "      <td>2015</td>\n",
       "      <td>Nippon Ichi Software</td>\n",
       "      <td>0.09</td>\n",
       "      <td>0.01</td>\n",
       "      <td>0.12</td>\n",
       "      <td>0.01</td>\n",
       "      <td>0.23</td>\n",
       "      <td>[Roguelike, Role-Playing, General]</td>\n",
       "    </tr>\n",
       "  </tbody>\n",
       "</table>\n",
       "<p>3552 rows × 18 columns</p>\n",
       "</div>"
      ],
      "text/plain": [
       "                                Name  Meta_score  User_score  \\\n",
       "1971                 Missile Command       63.00        63.0   \n",
       "3449                        Defender       60.60        62.6   \n",
       "5001                     Ms. Pac-Man       65.00        72.0   \n",
       "4014                         Frogger       61.00        53.0   \n",
       "6194                      Spider-Man       83.50        85.0   \n",
       "...                              ...         ...         ...   \n",
       "3885                       Fallout 4       85.50        61.5   \n",
       "5950           Samurai Warriors 4-II       73.00        72.0   \n",
       "5987   Senran Kagura: Estival Versus       71.00        72.0   \n",
       "6001  Shantae and the Pirate's Curse       80.25        82.0   \n",
       "917           Etrian Mystery Dungeon       77.00        79.0   \n",
       "\n",
       "                                            Description  \\\n",
       "1971  [Xbox Live Arcade]  In one of the most well-kn...   \n",
       "3449  Protect the humans on the planet surface by de...   \n",
       "5001  Guide Ms. Pac-Man through mazes, munching Pac-...   \n",
       "4014  Enjoy the classic game Frogger, revitalized an...   \n",
       "6194  YOU DON'T JUST PLAY IT... YOU LIVE IT \\r\\n\\r\\n...   \n",
       "...                                                 ...   \n",
       "3885  As the sole survivor of Vault 111, you enter a...   \n",
       "5950  Naomasa Ii appears as a playable character for...   \n",
       "5987  The flame that burns twice as bright burns hal...   \n",
       "6001  Embark on a brand new adventure which teams Sh...   \n",
       "917   Far off in the mountains, the small village As...   \n",
       "\n",
       "                                                    URL  \\\n",
       "1971  https://www.metacritic.com/game/xbox-360/missi...   \n",
       "3449  https://www.metacritic.com/game/playstation-2/...   \n",
       "5001  https://www.metacritic.com/game/xbox-360/ms-pa...   \n",
       "4014   https://www.metacritic.com/game/xbox-360/frogger   \n",
       "6194  https://www.metacritic.com/game/playstation/sp...   \n",
       "...                                                 ...   \n",
       "3885  https://www.metacritic.com/game/playstation-4/...   \n",
       "5950  https://www.metacritic.com/game/playstation-4/...   \n",
       "5987  https://www.metacritic.com/game/pc/senran-kagu...   \n",
       "6001  https://www.metacritic.com/game/wii-u/shantae-...   \n",
       "917   https://www.metacritic.com/game/3ds/etrian-mys...   \n",
       "\n",
       "                    Developer          Type Rating   Rank Platform  Year  \\\n",
       "1971          Stainless Games   multiplayer      E    545     2600  1980   \n",
       "3449                7 Studios   multiplayer      T   1971     2600  1980   \n",
       "5001       Namco Bandai Games  singleplayer      E   1108     2600  1981   \n",
       "4014          Digital Eclipse   multiplayer      E    736     2600  1981   \n",
       "6194  Neversoft Entertainment  singleplayer      E   2234     2600  1981   \n",
       "...                       ...           ...    ...    ...      ...   ...   \n",
       "3885    Bethesda Game Studios  singleplayer      M    110      PS4  2015   \n",
       "5950              Omega Force   multiplayer      T  10114      PS4  2015   \n",
       "5987                  Tamsoft  singleplayer    NaN   7126      PSV  2015   \n",
       "6001               WayForward  singleplayer      T  14480      3DS  2015   \n",
       "917            Spike Chunsoft           NaN   E10+   6963      3DS  2015   \n",
       "\n",
       "                  Publisher  NA_Sales  EU_Sales  JP_Sales  Other_Sales  \\\n",
       "1971                  Atari      2.81      0.34      0.00         0.06   \n",
       "3449                  Atari      1.34      0.24      0.00         0.06   \n",
       "5001                  Atari      1.54      0.10      0.00         0.02   \n",
       "4014           Parker Bros.      5.85      0.39      0.00         0.13   \n",
       "6194           Parker Bros.      3.00      1.39      0.02         0.18   \n",
       "...                     ...       ...       ...       ...          ...   \n",
       "3885     Bethesda Softworks      5.42      5.04      0.25         1.57   \n",
       "5950             Tecmo Koei      0.03      0.02      0.22         0.01   \n",
       "5987  Marvelous Interactive      0.13      0.05      0.17         0.05   \n",
       "6001              Intergrow      0.00      0.00      0.03         0.00   \n",
       "917    Nippon Ichi Software      0.09      0.01      0.12         0.01   \n",
       "\n",
       "      Global_Sales                                              Genre  \n",
       "1971          3.21  [Shoot-'Em-Up, Static, Shooter, Top-Down, Action]  \n",
       "3449          1.65      [Misc, Third-Person, Shooter, Sci-Fi, Action]  \n",
       "5001          1.65                  [Puzzle, Action, General, Arcade]  \n",
       "4014          6.36                          [Action, General, Arcade]  \n",
       "6194          4.59                 [Action, Action Adventure, Sci-Fi]  \n",
       "...            ...                                                ...  \n",
       "3885         12.28             [Western-Style, Role-Playing, General]  \n",
       "5950          0.27                          [Action, 3D, Beat-'Em-Up]  \n",
       "5987          0.40                                  [Action, General]  \n",
       "6001          0.03                 [Platform, Action, Platformer, 2D]  \n",
       "917           0.23                 [Roguelike, Role-Playing, General]  \n",
       "\n",
       "[3552 rows x 18 columns]"
      ]
     },
     "execution_count": 210,
     "metadata": {},
     "output_type": "execute_result"
    }
   ],
   "source": [
    "merged_name = merged.sort_values(\"Year\", ascending = True).drop_duplicates(subset=['Name']).copy()\n",
    "#print(merged_name.head())\n",
    "merged_name[\"NA_Sales\"] = merged.groupby([\"Name\"])[\"NA_Sales\"].sum()[merged_name[\"Name\"]].tolist()\n",
    "merged_name[\"EU_Sales\"] = merged.groupby([\"Name\"])[\"EU_Sales\"].sum()[merged_name[\"Name\"]].tolist()\n",
    "merged_name[\"JP_Sales\"] = merged.groupby([\"Name\"])[\"JP_Sales\"].sum()[merged_name[\"Name\"]].tolist()\n",
    "merged_name[\"Other_Sales\"] = merged.groupby([\"Name\"])[\"Other_Sales\"].sum()[merged_name[\"Name\"]].tolist()\n",
    "merged_name[\"Global_Sales\"] = merged.groupby([\"Name\"])[\"Global_Sales\"].sum()[merged_name[\"Name\"]].tolist()\n",
    "#merged_name[\"NA_Sales\"] = merged.groupby([\"Name\",\"Year\"])[\"NA_Sales\"].sum()[\n",
    "#    list(zip(merged_name[\"Name\"],merged_name[\"Year\"]))].tolist()\n",
    "#merged_name[\"EU_Sales\"] = merged.groupby([\"Name\",\"Year\"])[\"EU_Sales\"].sum()[\n",
    "#    list(zip(merged_name[\"Name\"],merged_name[\"Year\"]))].tolist()\n",
    "#merged_name[\"JP_Sales\"] = merged.groupby([\"Name\",\"Year\"])[\"JP_Sales\"].sum()[\n",
    "#    list(zip(merged_name[\"Name\"],merged_name[\"Year\"]))].tolist()\n",
    "#merged_name[\"Other_Sales\"] = merged.groupby([\"Name\",\"Year\"])[\"Other_Sales\"].sum()[\n",
    "#    list(zip(merged_name[\"Name\"],merged_name[\"Year\"]))].tolist()\n",
    "#merged_name[\"Global_Sales\"] = merged.groupby([\"Name\",\"Year\"])[\"Global_Sales\"].sum()[\n",
    "#    list(zip(merged_name[\"Name\"],merged_name[\"Year\"]))].tolist()\n",
    "merged_name\n",
    "#merged.groupby([\"Name\"])[\"NA_Sales\"].sum()[merged_name[\"Name\"]]"
   ]
  },
  {
   "cell_type": "code",
   "execution_count": 211,
   "id": "4e0a21c2",
   "metadata": {},
   "outputs": [
    {
     "data": {
      "text/html": [
       "<div>\n",
       "<style scoped>\n",
       "    .dataframe tbody tr th:only-of-type {\n",
       "        vertical-align: middle;\n",
       "    }\n",
       "\n",
       "    .dataframe tbody tr th {\n",
       "        vertical-align: top;\n",
       "    }\n",
       "\n",
       "    .dataframe thead th {\n",
       "        text-align: right;\n",
       "    }\n",
       "</style>\n",
       "<table border=\"1\" class=\"dataframe\">\n",
       "  <thead>\n",
       "    <tr style=\"text-align: right;\">\n",
       "      <th></th>\n",
       "      <th>Name</th>\n",
       "      <th>Meta_score</th>\n",
       "      <th>User_score</th>\n",
       "      <th>Description</th>\n",
       "      <th>URL</th>\n",
       "      <th>Developer</th>\n",
       "      <th>Type</th>\n",
       "      <th>Rating</th>\n",
       "      <th>Rank</th>\n",
       "      <th>Platform</th>\n",
       "      <th>Year</th>\n",
       "      <th>Publisher</th>\n",
       "      <th>NA_Sales</th>\n",
       "      <th>EU_Sales</th>\n",
       "      <th>JP_Sales</th>\n",
       "      <th>Other_Sales</th>\n",
       "      <th>Global_Sales</th>\n",
       "      <th>Genre</th>\n",
       "      <th>Year_window</th>\n",
       "    </tr>\n",
       "  </thead>\n",
       "  <tbody>\n",
       "    <tr>\n",
       "      <th>1971</th>\n",
       "      <td>Missile Command</td>\n",
       "      <td>63.00</td>\n",
       "      <td>63.0</td>\n",
       "      <td>[Xbox Live Arcade]  In one of the most well-kn...</td>\n",
       "      <td>https://www.metacritic.com/game/xbox-360/missi...</td>\n",
       "      <td>Stainless Games</td>\n",
       "      <td>multiplayer</td>\n",
       "      <td>E</td>\n",
       "      <td>545</td>\n",
       "      <td>2600</td>\n",
       "      <td>1980</td>\n",
       "      <td>Atari</td>\n",
       "      <td>2.81</td>\n",
       "      <td>0.34</td>\n",
       "      <td>0.00</td>\n",
       "      <td>0.06</td>\n",
       "      <td>3.21</td>\n",
       "      <td>[Shoot-'Em-Up, Static, Shooter, Top-Down, Action]</td>\n",
       "      <td>1980</td>\n",
       "    </tr>\n",
       "    <tr>\n",
       "      <th>3449</th>\n",
       "      <td>Defender</td>\n",
       "      <td>60.60</td>\n",
       "      <td>62.6</td>\n",
       "      <td>Protect the humans on the planet surface by de...</td>\n",
       "      <td>https://www.metacritic.com/game/playstation-2/...</td>\n",
       "      <td>7 Studios</td>\n",
       "      <td>multiplayer</td>\n",
       "      <td>T</td>\n",
       "      <td>1971</td>\n",
       "      <td>2600</td>\n",
       "      <td>1980</td>\n",
       "      <td>Atari</td>\n",
       "      <td>1.34</td>\n",
       "      <td>0.24</td>\n",
       "      <td>0.00</td>\n",
       "      <td>0.06</td>\n",
       "      <td>1.65</td>\n",
       "      <td>[Misc, Third-Person, Shooter, Sci-Fi, Action]</td>\n",
       "      <td>1980</td>\n",
       "    </tr>\n",
       "    <tr>\n",
       "      <th>5001</th>\n",
       "      <td>Ms. Pac-Man</td>\n",
       "      <td>65.00</td>\n",
       "      <td>72.0</td>\n",
       "      <td>Guide Ms. Pac-Man through mazes, munching Pac-...</td>\n",
       "      <td>https://www.metacritic.com/game/xbox-360/ms-pa...</td>\n",
       "      <td>Namco Bandai Games</td>\n",
       "      <td>singleplayer</td>\n",
       "      <td>E</td>\n",
       "      <td>1108</td>\n",
       "      <td>2600</td>\n",
       "      <td>1981</td>\n",
       "      <td>Atari</td>\n",
       "      <td>1.54</td>\n",
       "      <td>0.10</td>\n",
       "      <td>0.00</td>\n",
       "      <td>0.02</td>\n",
       "      <td>1.65</td>\n",
       "      <td>[Puzzle, Action, General, Arcade]</td>\n",
       "      <td>1980</td>\n",
       "    </tr>\n",
       "    <tr>\n",
       "      <th>4014</th>\n",
       "      <td>Frogger</td>\n",
       "      <td>61.00</td>\n",
       "      <td>53.0</td>\n",
       "      <td>Enjoy the classic game Frogger, revitalized an...</td>\n",
       "      <td>https://www.metacritic.com/game/xbox-360/frogger</td>\n",
       "      <td>Digital Eclipse</td>\n",
       "      <td>multiplayer</td>\n",
       "      <td>E</td>\n",
       "      <td>736</td>\n",
       "      <td>2600</td>\n",
       "      <td>1981</td>\n",
       "      <td>Parker Bros.</td>\n",
       "      <td>5.85</td>\n",
       "      <td>0.39</td>\n",
       "      <td>0.00</td>\n",
       "      <td>0.13</td>\n",
       "      <td>6.36</td>\n",
       "      <td>[Action, General, Arcade]</td>\n",
       "      <td>1980</td>\n",
       "    </tr>\n",
       "    <tr>\n",
       "      <th>6194</th>\n",
       "      <td>Spider-Man</td>\n",
       "      <td>83.50</td>\n",
       "      <td>85.0</td>\n",
       "      <td>YOU DON'T JUST PLAY IT... YOU LIVE IT \\r\\n\\r\\n...</td>\n",
       "      <td>https://www.metacritic.com/game/playstation/sp...</td>\n",
       "      <td>Neversoft Entertainment</td>\n",
       "      <td>singleplayer</td>\n",
       "      <td>E</td>\n",
       "      <td>2234</td>\n",
       "      <td>2600</td>\n",
       "      <td>1981</td>\n",
       "      <td>Parker Bros.</td>\n",
       "      <td>3.00</td>\n",
       "      <td>1.39</td>\n",
       "      <td>0.02</td>\n",
       "      <td>0.18</td>\n",
       "      <td>4.59</td>\n",
       "      <td>[Action, Action Adventure, Sci-Fi]</td>\n",
       "      <td>1980</td>\n",
       "    </tr>\n",
       "    <tr>\n",
       "      <th>...</th>\n",
       "      <td>...</td>\n",
       "      <td>...</td>\n",
       "      <td>...</td>\n",
       "      <td>...</td>\n",
       "      <td>...</td>\n",
       "      <td>...</td>\n",
       "      <td>...</td>\n",
       "      <td>...</td>\n",
       "      <td>...</td>\n",
       "      <td>...</td>\n",
       "      <td>...</td>\n",
       "      <td>...</td>\n",
       "      <td>...</td>\n",
       "      <td>...</td>\n",
       "      <td>...</td>\n",
       "      <td>...</td>\n",
       "      <td>...</td>\n",
       "      <td>...</td>\n",
       "      <td>...</td>\n",
       "    </tr>\n",
       "    <tr>\n",
       "      <th>3885</th>\n",
       "      <td>Fallout 4</td>\n",
       "      <td>85.50</td>\n",
       "      <td>61.5</td>\n",
       "      <td>As the sole survivor of Vault 111, you enter a...</td>\n",
       "      <td>https://www.metacritic.com/game/playstation-4/...</td>\n",
       "      <td>Bethesda Game Studios</td>\n",
       "      <td>singleplayer</td>\n",
       "      <td>M</td>\n",
       "      <td>110</td>\n",
       "      <td>PS4</td>\n",
       "      <td>2015</td>\n",
       "      <td>Bethesda Softworks</td>\n",
       "      <td>5.42</td>\n",
       "      <td>5.04</td>\n",
       "      <td>0.25</td>\n",
       "      <td>1.57</td>\n",
       "      <td>12.28</td>\n",
       "      <td>[Western-Style, Role-Playing, General]</td>\n",
       "      <td>2014</td>\n",
       "    </tr>\n",
       "    <tr>\n",
       "      <th>5950</th>\n",
       "      <td>Samurai Warriors 4-II</td>\n",
       "      <td>73.00</td>\n",
       "      <td>72.0</td>\n",
       "      <td>Naomasa Ii appears as a playable character for...</td>\n",
       "      <td>https://www.metacritic.com/game/playstation-4/...</td>\n",
       "      <td>Omega Force</td>\n",
       "      <td>multiplayer</td>\n",
       "      <td>T</td>\n",
       "      <td>10114</td>\n",
       "      <td>PS4</td>\n",
       "      <td>2015</td>\n",
       "      <td>Tecmo Koei</td>\n",
       "      <td>0.03</td>\n",
       "      <td>0.02</td>\n",
       "      <td>0.22</td>\n",
       "      <td>0.01</td>\n",
       "      <td>0.27</td>\n",
       "      <td>[Action, 3D, Beat-'Em-Up]</td>\n",
       "      <td>2014</td>\n",
       "    </tr>\n",
       "    <tr>\n",
       "      <th>5987</th>\n",
       "      <td>Senran Kagura: Estival Versus</td>\n",
       "      <td>71.00</td>\n",
       "      <td>72.0</td>\n",
       "      <td>The flame that burns twice as bright burns hal...</td>\n",
       "      <td>https://www.metacritic.com/game/pc/senran-kagu...</td>\n",
       "      <td>Tamsoft</td>\n",
       "      <td>singleplayer</td>\n",
       "      <td>NaN</td>\n",
       "      <td>7126</td>\n",
       "      <td>PSV</td>\n",
       "      <td>2015</td>\n",
       "      <td>Marvelous Interactive</td>\n",
       "      <td>0.13</td>\n",
       "      <td>0.05</td>\n",
       "      <td>0.17</td>\n",
       "      <td>0.05</td>\n",
       "      <td>0.40</td>\n",
       "      <td>[Action, General]</td>\n",
       "      <td>2014</td>\n",
       "    </tr>\n",
       "    <tr>\n",
       "      <th>6001</th>\n",
       "      <td>Shantae and the Pirate's Curse</td>\n",
       "      <td>80.25</td>\n",
       "      <td>82.0</td>\n",
       "      <td>Embark on a brand new adventure which teams Sh...</td>\n",
       "      <td>https://www.metacritic.com/game/wii-u/shantae-...</td>\n",
       "      <td>WayForward</td>\n",
       "      <td>singleplayer</td>\n",
       "      <td>T</td>\n",
       "      <td>14480</td>\n",
       "      <td>3DS</td>\n",
       "      <td>2015</td>\n",
       "      <td>Intergrow</td>\n",
       "      <td>0.00</td>\n",
       "      <td>0.00</td>\n",
       "      <td>0.03</td>\n",
       "      <td>0.00</td>\n",
       "      <td>0.03</td>\n",
       "      <td>[Platform, Action, Platformer, 2D]</td>\n",
       "      <td>2014</td>\n",
       "    </tr>\n",
       "    <tr>\n",
       "      <th>917</th>\n",
       "      <td>Etrian Mystery Dungeon</td>\n",
       "      <td>77.00</td>\n",
       "      <td>79.0</td>\n",
       "      <td>Far off in the mountains, the small village As...</td>\n",
       "      <td>https://www.metacritic.com/game/3ds/etrian-mys...</td>\n",
       "      <td>Spike Chunsoft</td>\n",
       "      <td>NaN</td>\n",
       "      <td>E10+</td>\n",
       "      <td>6963</td>\n",
       "      <td>3DS</td>\n",
       "      <td>2015</td>\n",
       "      <td>Nippon Ichi Software</td>\n",
       "      <td>0.09</td>\n",
       "      <td>0.01</td>\n",
       "      <td>0.12</td>\n",
       "      <td>0.01</td>\n",
       "      <td>0.23</td>\n",
       "      <td>[Roguelike, Role-Playing, General]</td>\n",
       "      <td>2014</td>\n",
       "    </tr>\n",
       "  </tbody>\n",
       "</table>\n",
       "<p>21174 rows × 19 columns</p>\n",
       "</div>"
      ],
      "text/plain": [
       "                                Name  Meta_score  User_score  \\\n",
       "1971                 Missile Command       63.00        63.0   \n",
       "3449                        Defender       60.60        62.6   \n",
       "5001                     Ms. Pac-Man       65.00        72.0   \n",
       "4014                         Frogger       61.00        53.0   \n",
       "6194                      Spider-Man       83.50        85.0   \n",
       "...                              ...         ...         ...   \n",
       "3885                       Fallout 4       85.50        61.5   \n",
       "5950           Samurai Warriors 4-II       73.00        72.0   \n",
       "5987   Senran Kagura: Estival Versus       71.00        72.0   \n",
       "6001  Shantae and the Pirate's Curse       80.25        82.0   \n",
       "917           Etrian Mystery Dungeon       77.00        79.0   \n",
       "\n",
       "                                            Description  \\\n",
       "1971  [Xbox Live Arcade]  In one of the most well-kn...   \n",
       "3449  Protect the humans on the planet surface by de...   \n",
       "5001  Guide Ms. Pac-Man through mazes, munching Pac-...   \n",
       "4014  Enjoy the classic game Frogger, revitalized an...   \n",
       "6194  YOU DON'T JUST PLAY IT... YOU LIVE IT \\r\\n\\r\\n...   \n",
       "...                                                 ...   \n",
       "3885  As the sole survivor of Vault 111, you enter a...   \n",
       "5950  Naomasa Ii appears as a playable character for...   \n",
       "5987  The flame that burns twice as bright burns hal...   \n",
       "6001  Embark on a brand new adventure which teams Sh...   \n",
       "917   Far off in the mountains, the small village As...   \n",
       "\n",
       "                                                    URL  \\\n",
       "1971  https://www.metacritic.com/game/xbox-360/missi...   \n",
       "3449  https://www.metacritic.com/game/playstation-2/...   \n",
       "5001  https://www.metacritic.com/game/xbox-360/ms-pa...   \n",
       "4014   https://www.metacritic.com/game/xbox-360/frogger   \n",
       "6194  https://www.metacritic.com/game/playstation/sp...   \n",
       "...                                                 ...   \n",
       "3885  https://www.metacritic.com/game/playstation-4/...   \n",
       "5950  https://www.metacritic.com/game/playstation-4/...   \n",
       "5987  https://www.metacritic.com/game/pc/senran-kagu...   \n",
       "6001  https://www.metacritic.com/game/wii-u/shantae-...   \n",
       "917   https://www.metacritic.com/game/3ds/etrian-mys...   \n",
       "\n",
       "                    Developer          Type Rating   Rank Platform  Year  \\\n",
       "1971          Stainless Games   multiplayer      E    545     2600  1980   \n",
       "3449                7 Studios   multiplayer      T   1971     2600  1980   \n",
       "5001       Namco Bandai Games  singleplayer      E   1108     2600  1981   \n",
       "4014          Digital Eclipse   multiplayer      E    736     2600  1981   \n",
       "6194  Neversoft Entertainment  singleplayer      E   2234     2600  1981   \n",
       "...                       ...           ...    ...    ...      ...   ...   \n",
       "3885    Bethesda Game Studios  singleplayer      M    110      PS4  2015   \n",
       "5950              Omega Force   multiplayer      T  10114      PS4  2015   \n",
       "5987                  Tamsoft  singleplayer    NaN   7126      PSV  2015   \n",
       "6001               WayForward  singleplayer      T  14480      3DS  2015   \n",
       "917            Spike Chunsoft           NaN   E10+   6963      3DS  2015   \n",
       "\n",
       "                  Publisher  NA_Sales  EU_Sales  JP_Sales  Other_Sales  \\\n",
       "1971                  Atari      2.81      0.34      0.00         0.06   \n",
       "3449                  Atari      1.34      0.24      0.00         0.06   \n",
       "5001                  Atari      1.54      0.10      0.00         0.02   \n",
       "4014           Parker Bros.      5.85      0.39      0.00         0.13   \n",
       "6194           Parker Bros.      3.00      1.39      0.02         0.18   \n",
       "...                     ...       ...       ...       ...          ...   \n",
       "3885     Bethesda Softworks      5.42      5.04      0.25         1.57   \n",
       "5950             Tecmo Koei      0.03      0.02      0.22         0.01   \n",
       "5987  Marvelous Interactive      0.13      0.05      0.17         0.05   \n",
       "6001              Intergrow      0.00      0.00      0.03         0.00   \n",
       "917    Nippon Ichi Software      0.09      0.01      0.12         0.01   \n",
       "\n",
       "      Global_Sales                                              Genre  \\\n",
       "1971          3.21  [Shoot-'Em-Up, Static, Shooter, Top-Down, Action]   \n",
       "3449          1.65      [Misc, Third-Person, Shooter, Sci-Fi, Action]   \n",
       "5001          1.65                  [Puzzle, Action, General, Arcade]   \n",
       "4014          6.36                          [Action, General, Arcade]   \n",
       "6194          4.59                 [Action, Action Adventure, Sci-Fi]   \n",
       "...            ...                                                ...   \n",
       "3885         12.28             [Western-Style, Role-Playing, General]   \n",
       "5950          0.27                          [Action, 3D, Beat-'Em-Up]   \n",
       "5987          0.40                                  [Action, General]   \n",
       "6001          0.03                 [Platform, Action, Platformer, 2D]   \n",
       "917           0.23                 [Roguelike, Role-Playing, General]   \n",
       "\n",
       "      Year_window  \n",
       "1971         1980  \n",
       "3449         1980  \n",
       "5001         1980  \n",
       "4014         1980  \n",
       "6194         1980  \n",
       "...           ...  \n",
       "3885         2014  \n",
       "5950         2014  \n",
       "5987         2014  \n",
       "6001         2014  \n",
       "917          2014  \n",
       "\n",
       "[21174 rows x 19 columns]"
      ]
     },
     "execution_count": 211,
     "metadata": {},
     "output_type": "execute_result"
    }
   ],
   "source": [
    "min_year = merged_name[\"Year\"].min()\n",
    "max_year = merged_name[\"Year\"].max()\n",
    "merged_name[\"Year_window\"] = 1980\n",
    "window = 5\n",
    "windowed = merged_name.copy()[0:0]\n",
    "for x in range(0,max_year-min_year):\n",
    "    group = merged_name[(merged_name[\"Year\"] >= min_year+x) & (merged_name[\"Year\"] <= min_year+x+window)].copy()\n",
    "    group[\"Year_window\"] =  min_year+x\n",
    "    windowed = pd.concat([windowed,group])\n",
    "    \n",
    "windowed"
   ]
  },
  {
   "cell_type": "code",
   "execution_count": 65,
   "id": "c5425fa2",
   "metadata": {},
   "outputs": [
    {
     "name": "stdout",
     "output_type": "stream",
     "text": [
      "1980\n",
      "2015\n"
     ]
    }
   ],
   "source": [
    "print(merged[\"Year\"].min())\n",
    "print(merged[\"Year\"].max())"
   ]
  },
  {
   "cell_type": "code",
   "execution_count": 66,
   "id": "3c30e53f",
   "metadata": {},
   "outputs": [],
   "source": [
    "#max_size = merged[\"Name\"].apply(len).max()\n",
    "#merged[\"Name\"] = merged[\"Name\"].apply(lambda x:x.rjust(50, \" \"))"
   ]
  },
  {
   "cell_type": "code",
   "execution_count": 223,
   "id": "584a466e",
   "metadata": {},
   "outputs": [
    {
     "data": {
      "application/vnd.plotly.v1+json": {
       "config": {
        "plotlyServerURL": "https://plot.ly"
       },
       "data": [
        {
         "alignmentgroup": "True",
         "hovertemplate": "Year=1980<br>Global Sales (in Millions)=%{x}<br>Name=%{y}<br>Meta Score=%{marker.color}<extra></extra>",
         "legendgroup": "",
         "marker": {
          "color": [
           68,
           76,
           74,
           65,
           60.6,
           65,
           63,
           83.5,
           61,
           62
          ],
          "coloraxis": "coloraxis",
          "pattern": {
           "shape": ""
          }
         },
         "name": "",
         "offsetgroup": "",
         "orientation": "h",
         "showlegend": false,
         "textposition": "auto",
         "type": "bar",
         "x": [
          1.08,
          1.12,
          1.3499999999999999,
          1.65,
          1.6500000000000004,
          2.05,
          3.21,
          4.59,
          6.36,
          9.03
         ],
         "xaxis": "x",
         "y": [
          "Joust",
          "Lode Runner",
          "Bomberman",
          "Ms. Pac-Man",
          "Defender",
          "Dig Dug",
          "Missile Command",
          "Spider-Man",
          "Frogger",
          "Pac-Man"
         ],
         "yaxis": "y"
        }
       ],
       "frames": [
        {
         "data": [
          {
           "alignmentgroup": "True",
           "hovertemplate": "Year=1980<br>Global Sales (in Millions)=%{x}<br>Name=%{y}<br>Meta Score=%{marker.color}<extra></extra>",
           "legendgroup": "",
           "marker": {
            "color": [
             68,
             76,
             74,
             65,
             60.6,
             65,
             63,
             83.5,
             61,
             62
            ],
            "coloraxis": "coloraxis",
            "pattern": {
             "shape": ""
            }
           },
           "name": "",
           "offsetgroup": "",
           "orientation": "h",
           "showlegend": false,
           "textposition": "auto",
           "type": "bar",
           "x": [
            1.08,
            1.12,
            1.3499999999999999,
            1.65,
            1.6500000000000004,
            2.05,
            3.21,
            4.59,
            6.36,
            9.03
           ],
           "xaxis": "x",
           "y": [
            "Joust",
            "Lode Runner",
            "Bomberman",
            "Ms. Pac-Man",
            "Defender",
            "Dig Dug",
            "Missile Command",
            "Spider-Man",
            "Frogger",
            "Pac-Man"
           ],
           "yaxis": "y"
          }
         ],
         "name": "1980"
        },
        {
         "data": [
          {
           "alignmentgroup": "True",
           "hovertemplate": "Year=1981<br>Global Sales (in Millions)=%{x}<br>Name=%{y}<br>Meta Score=%{marker.color}<extra></extra>",
           "legendgroup": "",
           "marker": {
            "color": [
             64,
             68,
             76,
             74,
             65,
             78,
             65,
             83.5,
             61,
             62
            ],
            "coloraxis": "coloraxis",
            "pattern": {
             "shape": ""
            }
           },
           "name": "",
           "offsetgroup": "",
           "orientation": "h",
           "showlegend": false,
           "textposition": "auto",
           "type": "bar",
           "x": [
            0.96,
            1.08,
            1.12,
            1.3499999999999999,
            1.65,
            1.87,
            2.05,
            4.59,
            6.36,
            9.03
           ],
           "xaxis": "x",
           "y": [
            "Star Soldier",
            "Joust",
            "Lode Runner",
            "Bomberman",
            "Ms. Pac-Man",
            "Castlevania",
            "Dig Dug",
            "Spider-Man",
            "Frogger",
            "Pac-Man"
           ],
           "yaxis": "y"
          }
         ],
         "name": "1981"
        },
        {
         "data": [
          {
           "alignmentgroup": "True",
           "hovertemplate": "Year=1982<br>Global Sales (in Millions)=%{x}<br>Name=%{y}<br>Meta Score=%{marker.color}<extra></extra>",
           "legendgroup": "",
           "marker": {
            "color": [
             50,
             55,
             64,
             68,
             76,
             74,
             67,
             78,
             65,
             62
            ],
            "coloraxis": "coloraxis",
            "pattern": {
             "shape": ""
            }
           },
           "name": "",
           "offsetgroup": "",
           "orientation": "h",
           "showlegend": false,
           "textposition": "auto",
           "type": "bar",
           "x": [
            0.65,
            0.78,
            0.96,
            1.08,
            1.12,
            1.3499999999999999,
            1.35,
            1.87,
            2.05,
            9.03
           ],
           "xaxis": "x",
           "y": [
            "Battlezone",
            "Yars' Revenge",
            "Star Soldier",
            "Joust",
            "Lode Runner",
            "Bomberman",
            "Final Fantasy",
            "Castlevania",
            "Dig Dug",
            "Pac-Man"
           ],
           "yaxis": "y"
          }
         ],
         "name": "1982"
        },
        {
         "data": [
          {
           "alignmentgroup": "True",
           "hovertemplate": "Year=1983<br>Global Sales (in Millions)=%{x}<br>Name=%{y}<br>Meta Score=%{marker.color}<extra></extra>",
           "legendgroup": "",
           "marker": {
            "color": [
             64,
             76,
             74,
             67,
             78,
             64,
             63,
             82.5
            ],
            "coloraxis": "coloraxis",
            "pattern": {
             "shape": ""
            }
           },
           "name": "",
           "offsetgroup": "",
           "orientation": "h",
           "showlegend": false,
           "textposition": "auto",
           "type": "bar",
           "x": [
            0.96,
            1.12,
            1.3499999999999999,
            1.35,
            1.87,
            2.01,
            2.7800000000000002,
            35.84
           ],
           "xaxis": "x",
           "y": [
            "Star Soldier",
            "Lode Runner",
            "Bomberman",
            "Final Fantasy",
            "Castlevania",
            "SimCity",
            "Final Fantasy II",
            "Tetris"
           ],
           "yaxis": "y"
          }
         ],
         "name": "1983"
        },
        {
         "data": [
          {
           "alignmentgroup": "True",
           "hovertemplate": "Year=1984<br>Global Sales (in Millions)=%{x}<br>Name=%{y}<br>Meta Score=%{marker.color}<extra></extra>",
           "legendgroup": "",
           "marker": {
            "color": [
             57,
             64,
             76,
             74,
             67,
             78,
             64,
             63,
             62.33,
             82.5
            ],
            "coloraxis": "coloraxis",
            "pattern": {
             "shape": ""
            }
           },
           "name": "",
           "offsetgroup": "",
           "orientation": "h",
           "showlegend": false,
           "textposition": "auto",
           "type": "bar",
           "x": [
            0.47,
            0.96,
            1.12,
            1.3499999999999999,
            1.35,
            1.87,
            2.01,
            2.7800000000000002,
            6.669999999999999,
            35.84
           ],
           "xaxis": "x",
           "y": [
            "Double Dragon",
            "Star Soldier",
            "Lode Runner",
            "Bomberman",
            "Final Fantasy",
            "Castlevania",
            "SimCity",
            "Final Fantasy II",
            "Teenage Mutant Ninja Turtles",
            "Tetris"
           ],
           "yaxis": "y"
          }
         ],
         "name": "1984"
        },
        {
         "data": [
          {
           "alignmentgroup": "True",
           "hovertemplate": "Year=1985<br>Global Sales (in Millions)=%{x}<br>Name=%{y}<br>Meta Score=%{marker.color}<extra></extra>",
           "legendgroup": "",
           "marker": {
            "color": [
             64,
             74,
             67,
             78,
             64,
             63,
             82.67,
             62.33,
             77,
             82.5
            ],
            "coloraxis": "coloraxis",
            "pattern": {
             "shape": ""
            }
           },
           "name": "",
           "offsetgroup": "",
           "orientation": "h",
           "showlegend": false,
           "textposition": "auto",
           "type": "bar",
           "x": [
            0.96,
            1.3499999999999999,
            1.35,
            1.87,
            2.01,
            2.7800000000000002,
            5.2,
            6.669999999999999,
            7.05,
            35.84
           ],
           "xaxis": "x",
           "y": [
            "Star Soldier",
            "Bomberman",
            "Final Fantasy",
            "Castlevania",
            "SimCity",
            "Final Fantasy II",
            "Streets of Rage",
            "Teenage Mutant Ninja Turtles",
            "Final Fantasy III",
            "Tetris"
           ],
           "yaxis": "y"
          }
         ],
         "name": "1985"
        },
        {
         "data": [
          {
           "alignmentgroup": "True",
           "hovertemplate": "Year=1986<br>Global Sales (in Millions)=%{x}<br>Name=%{y}<br>Meta Score=%{marker.color}<extra></extra>",
           "legendgroup": "",
           "marker": {
            "color": [
             78,
             67,
             78,
             64,
             63,
             82.67,
             62.33,
             77,
             95,
             82.5
            ],
            "coloraxis": "coloraxis",
            "pattern": {
             "shape": ""
            }
           },
           "name": "",
           "offsetgroup": "",
           "orientation": "h",
           "showlegend": false,
           "textposition": "auto",
           "type": "bar",
           "x": [
            1.25,
            1.35,
            1.87,
            2.01,
            2.7800000000000002,
            5.2,
            6.669999999999999,
            7.05,
            7.3100000000000005,
            35.84
           ],
           "xaxis": "x",
           "y": [
            "Super Ghouls 'n Ghosts",
            "Final Fantasy",
            "Castlevania",
            "SimCity",
            "Final Fantasy II",
            "Streets of Rage",
            "Teenage Mutant Ninja Turtles",
            "Final Fantasy III",
            "The Legend of Zelda: A Link to the Past",
            "Tetris"
           ],
           "yaxis": "y"
          }
         ],
         "name": "1986"
        },
        {
         "data": [
          {
           "alignmentgroup": "True",
           "hovertemplate": "Year=1987<br>Global Sales (in Millions)=%{x}<br>Name=%{y}<br>Meta Score=%{marker.color}<extra></extra>",
           "legendgroup": "",
           "marker": {
            "color": [
             63,
             62,
             82.67,
             75,
             82,
             62.33,
             77,
             95,
             84.5,
             82.5
            ],
            "coloraxis": "coloraxis",
            "pattern": {
             "shape": ""
            }
           },
           "name": "",
           "offsetgroup": "",
           "orientation": "h",
           "showlegend": false,
           "textposition": "auto",
           "type": "bar",
           "x": [
            2.7800000000000002,
            4.240000000000001,
            5.2,
            5.22,
            6.03,
            6.669999999999999,
            7.05,
            7.3100000000000005,
            8.399999999999999,
            35.84
           ],
           "xaxis": "x",
           "y": [
            "Final Fantasy II",
            "SimCity 2000",
            "Streets of Rage",
            "NBA Jam",
            "Sonic the Hedgehog 2",
            "Teenage Mutant Ninja Turtles",
            "Final Fantasy III",
            "The Legend of Zelda: A Link to the Past",
            "Mortal Kombat",
            "Tetris"
           ],
           "yaxis": "y"
          }
         ],
         "name": "1987"
        },
        {
         "data": [
          {
           "alignmentgroup": "True",
           "hovertemplate": "Year=1988<br>Global Sales (in Millions)=%{x}<br>Name=%{y}<br>Meta Score=%{marker.color}<extra></extra>",
           "legendgroup": "",
           "marker": {
            "color": [
             62,
             82.67,
             75,
             82,
             62.33,
             77,
             95,
             84.5,
             82,
             82.5
            ],
            "coloraxis": "coloraxis",
            "pattern": {
             "shape": ""
            }
           },
           "name": "",
           "offsetgroup": "",
           "orientation": "h",
           "showlegend": false,
           "textposition": "auto",
           "type": "bar",
           "x": [
            4.240000000000001,
            5.2,
            5.22,
            6.03,
            6.669999999999999,
            7.05,
            7.3100000000000005,
            8.399999999999999,
            10.55,
            35.84
           ],
           "xaxis": "x",
           "y": [
            "SimCity 2000",
            "Streets of Rage",
            "NBA Jam",
            "Sonic the Hedgehog 2",
            "Teenage Mutant Ninja Turtles",
            "Final Fantasy III",
            "The Legend of Zelda: A Link to the Past",
            "Mortal Kombat",
            "Super Mario All-Stars",
            "Tetris"
           ],
           "yaxis": "y"
          }
         ],
         "name": "1988"
        },
        {
         "data": [
          {
           "alignmentgroup": "True",
           "hovertemplate": "Year=1989<br>Global Sales (in Millions)=%{x}<br>Name=%{y}<br>Meta Score=%{marker.color}<extra></extra>",
           "legendgroup": "",
           "marker": {
            "color": [
             62,
             82.67,
             75,
             82,
             62.33,
             77,
             95,
             84.5,
             82,
             78
            ],
            "coloraxis": "coloraxis",
            "pattern": {
             "shape": ""
            }
           },
           "name": "",
           "offsetgroup": "",
           "orientation": "h",
           "showlegend": false,
           "textposition": "auto",
           "type": "bar",
           "x": [
            4.240000000000001,
            5.2,
            5.22,
            6.03,
            6.669999999999999,
            7.05,
            7.3100000000000005,
            8.399999999999999,
            10.55,
            13.530000000000001
           ],
           "xaxis": "x",
           "y": [
            "SimCity 2000",
            "Streets of Rage",
            "NBA Jam",
            "Sonic the Hedgehog 2",
            "Teenage Mutant Ninja Turtles",
            "Final Fantasy III",
            "The Legend of Zelda: A Link to the Past",
            "Mortal Kombat",
            "Super Mario All-Stars",
            "Donkey Kong Country"
           ],
           "yaxis": "y"
          }
         ],
         "name": "1989"
        },
        {
         "data": [
          {
           "alignmentgroup": "True",
           "hovertemplate": "Year=1990<br>Global Sales (in Millions)=%{x}<br>Name=%{y}<br>Meta Score=%{marker.color}<extra></extra>",
           "legendgroup": "",
           "marker": {
            "color": [
             92,
             62,
             82.67,
             75,
             82,
             77,
             95,
             84.5,
             82,
             78
            ],
            "coloraxis": "coloraxis",
            "pattern": {
             "shape": ""
            }
           },
           "name": "",
           "offsetgroup": "",
           "orientation": "h",
           "showlegend": false,
           "textposition": "auto",
           "type": "bar",
           "x": [
            3.7800000000000002,
            4.240000000000001,
            5.2,
            5.22,
            6.03,
            7.05,
            7.3100000000000005,
            8.399999999999999,
            10.55,
            13.530000000000001
           ],
           "xaxis": "x",
           "y": [
            "Chrono Trigger",
            "SimCity 2000",
            "Streets of Rage",
            "NBA Jam",
            "Sonic the Hedgehog 2",
            "Final Fantasy III",
            "The Legend of Zelda: A Link to the Past",
            "Mortal Kombat",
            "Super Mario All-Stars",
            "Donkey Kong Country"
           ],
           "yaxis": "y"
          }
         ],
         "name": "1990"
        },
        {
         "data": [
          {
           "alignmentgroup": "True",
           "hovertemplate": "Year=1991<br>Global Sales (in Millions)=%{x}<br>Name=%{y}<br>Meta Score=%{marker.color}<extra></extra>",
           "legendgroup": "",
           "marker": {
            "color": [
             75,
             85.5,
             91,
             82,
             95,
             84.5,
             83,
             82,
             78,
             94
            ],
            "coloraxis": "coloraxis",
            "pattern": {
             "shape": ""
            }
           },
           "name": "",
           "offsetgroup": "",
           "orientation": "h",
           "showlegend": false,
           "textposition": "auto",
           "type": "bar",
           "x": [
            5.22,
            5.34,
            5.66,
            6.03,
            7.3100000000000005,
            8.399999999999999,
            9.87,
            10.55,
            13.530000000000001,
            22.310000000000002
           ],
           "xaxis": "x",
           "y": [
            "NBA Jam",
            "Resident Evil",
            "Tomb Raider",
            "Sonic the Hedgehog 2",
            "The Legend of Zelda: A Link to the Past",
            "Mortal Kombat",
            "Mario Kart 64",
            "Super Mario All-Stars",
            "Donkey Kong Country",
            "Super Mario 64"
           ],
           "yaxis": "y"
          }
         ],
         "name": "1991"
        },
        {
         "data": [
          {
           "alignmentgroup": "True",
           "hovertemplate": "Year=1992<br>Global Sales (in Millions)=%{x}<br>Name=%{y}<br>Meta Score=%{marker.color}<extra></extra>",
           "legendgroup": "",
           "marker": {
            "color": [
             82,
             76,
             80.33,
             84.5,
             86.5,
             83,
             82,
             96,
             78,
             94
            ],
            "coloraxis": "coloraxis",
            "pattern": {
             "shape": ""
            }
           },
           "name": "",
           "offsetgroup": "",
           "orientation": "h",
           "showlegend": false,
           "textposition": "auto",
           "type": "bar",
           "x": [
            6.03,
            7.53,
            8.09,
            8.399999999999999,
            9.72,
            9.87,
            10.55,
            10.95,
            13.530000000000001,
            22.310000000000002
           ],
           "xaxis": "x",
           "y": [
            "Sonic the Hedgehog 2",
            "Tomb Raider II",
            "GoldenEye 007",
            "Mortal Kombat",
            "Final Fantasy VII",
            "Mario Kart 64",
            "Super Mario All-Stars",
            "Gran Turismo",
            "Donkey Kong Country",
            "Super Mario 64"
           ],
           "yaxis": "y"
          }
         ],
         "name": "1992"
        },
        {
         "data": [
          {
           "alignmentgroup": "True",
           "hovertemplate": "Year=1993<br>Global Sales (in Millions)=%{x}<br>Name=%{y}<br>Meta Score=%{marker.color}<extra></extra>",
           "legendgroup": "",
           "marker": {
            "color": [
             80.33,
             80.33,
             86.5,
             83,
             82,
             96,
             78,
             81.8,
             94,
             99
            ],
            "coloraxis": "coloraxis",
            "pattern": {
             "shape": ""
            }
           },
           "name": "",
           "offsetgroup": "",
           "orientation": "h",
           "showlegend": false,
           "textposition": "auto",
           "type": "bar",
           "x": [
            8.09,
            8.610000000000001,
            9.72,
            9.87,
            10.55,
            10.95,
            13.530000000000001,
            19.319999999999993,
            22.310000000000002,
            23.62
           ],
           "xaxis": "x",
           "y": [
            "GoldenEye 007",
            "Medal of Honor",
            "Final Fantasy VII",
            "Mario Kart 64",
            "Super Mario All-Stars",
            "Gran Turismo",
            "Donkey Kong Country",
            "Resident Evil 2",
            "Super Mario 64",
            "The Legend of Zelda: Ocarina of Time"
           ],
           "yaxis": "y"
          }
         ],
         "name": "1993"
        },
        {
         "data": [
          {
           "alignmentgroup": "True",
           "hovertemplate": "Year=1994<br>Global Sales (in Millions)=%{x}<br>Name=%{y}<br>Meta Score=%{marker.color}<extra></extra>",
           "legendgroup": "",
           "marker": {
            "color": [
             92,
             80.33,
             93,
             86.5,
             83,
             96,
             78,
             81.8,
             94,
             99
            ],
            "coloraxis": "coloraxis",
            "pattern": {
             "shape": ""
            }
           },
           "name": "",
           "offsetgroup": "",
           "orientation": "h",
           "showlegend": false,
           "textposition": "auto",
           "type": "bar",
           "x": [
            8.459999999999999,
            8.610000000000001,
            9.49,
            9.72,
            9.87,
            10.95,
            13.530000000000001,
            19.319999999999993,
            22.310000000000002,
            23.62
           ],
           "xaxis": "x",
           "y": [
            "Tony Hawk's Pro Skater",
            "Medal of Honor",
            "Gran Turismo 2",
            "Final Fantasy VII",
            "Mario Kart 64",
            "Gran Turismo",
            "Donkey Kong Country",
            "Resident Evil 2",
            "Super Mario 64",
            "The Legend of Zelda: Ocarina of Time"
           ],
           "yaxis": "y"
          }
         ],
         "name": "1994"
        },
        {
         "data": [
          {
           "alignmentgroup": "True",
           "hovertemplate": "Year=1995<br>Global Sales (in Millions)=%{x}<br>Name=%{y}<br>Meta Score=%{marker.color}<extra></extra>",
           "legendgroup": "",
           "marker": {
            "color": [
             92,
             80.33,
             93,
             86.5,
             83,
             96,
             93,
             81.8,
             94,
             99
            ],
            "coloraxis": "coloraxis",
            "pattern": {
             "shape": ""
            }
           },
           "name": "",
           "offsetgroup": "",
           "orientation": "h",
           "showlegend": false,
           "textposition": "auto",
           "type": "bar",
           "x": [
            8.459999999999999,
            8.610000000000001,
            9.49,
            9.72,
            9.87,
            10.95,
            13.239999999999998,
            19.319999999999993,
            22.310000000000002,
            23.62
           ],
           "xaxis": "x",
           "y": [
            "Tony Hawk's Pro Skater",
            "Medal of Honor",
            "Gran Turismo 2",
            "Final Fantasy VII",
            "Mario Kart 64",
            "Gran Turismo",
            "Tony Hawk's Pro Skater 2",
            "Resident Evil 2",
            "Super Mario 64",
            "The Legend of Zelda: Ocarina of Time"
           ],
           "yaxis": "y"
          }
         ],
         "name": "1995"
        },
        {
         "data": [
          {
           "alignmentgroup": "True",
           "hovertemplate": "Year=1996<br>Global Sales (in Millions)=%{x}<br>Name=%{y}<br>Meta Score=%{marker.color}<extra></extra>",
           "legendgroup": "",
           "marker": {
            "color": [
             96,
             70,
             55,
             95,
             93,
             95,
             92,
             81.8,
             94,
             99
            ],
            "coloraxis": "coloraxis",
            "pattern": {
             "shape": ""
            }
           },
           "name": "",
           "offsetgroup": "",
           "orientation": "h",
           "showlegend": false,
           "textposition": "auto",
           "type": "bar",
           "x": [
            10.95,
            11.659999999999998,
            12.180000000000001,
            13.11,
            13.239999999999998,
            14.98,
            16.1,
            19.319999999999993,
            22.310000000000002,
            23.62
           ],
           "xaxis": "x",
           "y": [
            "Gran Turismo",
            "Madden NFL 2002",
            "The Simpsons: Road Rage",
            "Grand Theft Auto III",
            "Tony Hawk's Pro Skater 2",
            "Gran Turismo 3: A-Spec",
            "Final Fantasy X",
            "Resident Evil 2",
            "Super Mario 64",
            "The Legend of Zelda: Ocarina of Time"
           ],
           "yaxis": "y"
          }
         ],
         "name": "1996"
        },
        {
         "data": [
          {
           "alignmentgroup": "True",
           "hovertemplate": "Year=1997<br>Global Sales (in Millions)=%{x}<br>Name=%{y}<br>Meta Score=%{marker.color}<extra></extra>",
           "legendgroup": "",
           "marker": {
            "color": [
             70,
             55,
             96,
             95,
             93,
             95,
             92,
             94.5,
             81.8,
             99
            ],
            "coloraxis": "coloraxis",
            "pattern": {
             "shape": ""
            }
           },
           "name": "",
           "offsetgroup": "",
           "orientation": "h",
           "showlegend": false,
           "textposition": "auto",
           "type": "bar",
           "x": [
            11.659999999999998,
            12.180000000000001,
            12.739999999999998,
            13.11,
            13.239999999999998,
            14.98,
            16.1,
            16.189999999999998,
            19.319999999999993,
            23.62
           ],
           "xaxis": "x",
           "y": [
            "Madden NFL 2002",
            "The Simpsons: Road Rage",
            "The Legend of Zelda: The Wind Waker",
            "Grand Theft Auto III",
            "Tony Hawk's Pro Skater 2",
            "Gran Turismo 3: A-Spec",
            "Final Fantasy X",
            "Grand Theft Auto: Vice City",
            "Resident Evil 2",
            "The Legend of Zelda: Ocarina of Time"
           ],
           "yaxis": "y"
          }
         ],
         "name": "1997"
        },
        {
         "data": [
          {
           "alignmentgroup": "True",
           "hovertemplate": "Year=1998<br>Global Sales (in Millions)=%{x}<br>Name=%{y}<br>Meta Score=%{marker.color}<extra></extra>",
           "legendgroup": "",
           "marker": {
            "color": [
             55,
             96,
             95,
             93,
             95,
             92,
             94.5,
             81.8,
             81.67,
             99
            ],
            "coloraxis": "coloraxis",
            "pattern": {
             "shape": ""
            }
           },
           "name": "",
           "offsetgroup": "",
           "orientation": "h",
           "showlegend": false,
           "textposition": "auto",
           "type": "bar",
           "x": [
            12.180000000000001,
            12.739999999999998,
            13.11,
            13.239999999999998,
            14.98,
            16.1,
            16.189999999999998,
            19.319999999999993,
            20.92,
            23.62
           ],
           "xaxis": "x",
           "y": [
            "The Simpsons: Road Rage",
            "The Legend of Zelda: The Wind Waker",
            "Grand Theft Auto III",
            "Tony Hawk's Pro Skater 2",
            "Gran Turismo 3: A-Spec",
            "Final Fantasy X",
            "Grand Theft Auto: Vice City",
            "Resident Evil 2",
            "Need for Speed Underground",
            "The Legend of Zelda: Ocarina of Time"
           ],
           "yaxis": "y"
          }
         ],
         "name": "1998"
        },
        {
         "data": [
          {
           "alignmentgroup": "True",
           "hovertemplate": "Year=1999<br>Global Sales (in Millions)=%{x}<br>Name=%{y}<br>Meta Score=%{marker.color}<extra></extra>",
           "legendgroup": "",
           "marker": {
            "color": [
             55,
             96,
             95,
             93,
             95,
             92,
             94.5,
             81.67,
             77,
             93.67
            ],
            "coloraxis": "coloraxis",
            "pattern": {
             "shape": ""
            }
           },
           "name": "",
           "offsetgroup": "",
           "orientation": "h",
           "showlegend": false,
           "textposition": "auto",
           "type": "bar",
           "x": [
            12.180000000000001,
            12.739999999999998,
            13.11,
            13.239999999999998,
            14.98,
            16.1,
            16.189999999999998,
            20.92,
            21.94,
            23.86
           ],
           "xaxis": "x",
           "y": [
            "The Simpsons: Road Rage",
            "The Legend of Zelda: The Wind Waker",
            "Grand Theft Auto III",
            "Tony Hawk's Pro Skater 2",
            "Gran Turismo 3: A-Spec",
            "Final Fantasy X",
            "Grand Theft Auto: Vice City",
            "Need for Speed Underground",
            "Need for Speed Underground 2",
            "Grand Theft Auto: San Andreas"
           ],
           "yaxis": "y"
          }
         ],
         "name": "1999"
        },
        {
         "data": [
          {
           "alignmentgroup": "True",
           "hovertemplate": "Year=2000<br>Global Sales (in Millions)=%{x}<br>Name=%{y}<br>Meta Score=%{marker.color}<extra></extra>",
           "legendgroup": "",
           "marker": {
            "color": [
             95,
             77,
             92,
             94.5,
             77,
             81.67,
             77,
             91,
             93.67,
             81.67
            ],
            "coloraxis": "coloraxis",
            "pattern": {
             "shape": ""
            }
           },
           "name": "",
           "offsetgroup": "",
           "orientation": "h",
           "showlegend": false,
           "textposition": "auto",
           "type": "bar",
           "x": [
            14.98,
            15.3,
            16.1,
            16.189999999999998,
            20.22,
            20.92,
            21.94,
            23.42,
            23.86,
            28.159999999999997
           ],
           "xaxis": "x",
           "y": [
            "Gran Turismo 3: A-Spec",
            "Brain Age 2: More Training in Minutes a Day",
            "Final Fantasy X",
            "Grand Theft Auto: Vice City",
            "Brain Age: Train Your Brain in Minutes a Day",
            "Need for Speed Underground",
            "Need for Speed Underground 2",
            "Mario Kart DS",
            "Grand Theft Auto: San Andreas",
            "Need for Speed: Most Wanted"
           ],
           "yaxis": "y"
          }
         ],
         "name": "2000"
        },
        {
         "data": [
          {
           "alignmentgroup": "True",
           "hovertemplate": "Year=2001<br>Global Sales (in Millions)=%{x}<br>Name=%{y}<br>Meta Score=%{marker.color}<extra></extra>",
           "legendgroup": "",
           "marker": {
            "color": [
             92,
             94.5,
             77,
             81.67,
             77,
             91,
             93.67,
             81.67,
             58,
             76
            ],
            "coloraxis": "coloraxis",
            "pattern": {
             "shape": ""
            }
           },
           "name": "",
           "offsetgroup": "",
           "orientation": "h",
           "showlegend": false,
           "textposition": "auto",
           "type": "bar",
           "x": [
            16.1,
            16.189999999999998,
            20.22,
            20.92,
            21.94,
            23.42,
            23.86,
            28.159999999999997,
            29.02,
            82.74
           ],
           "xaxis": "x",
           "y": [
            "Final Fantasy X",
            "Grand Theft Auto: Vice City",
            "Brain Age: Train Your Brain in Minutes a Day",
            "Need for Speed Underground",
            "Need for Speed Underground 2",
            "Mario Kart DS",
            "Grand Theft Auto: San Andreas",
            "Need for Speed: Most Wanted",
            "Wii Play",
            "Wii Sports"
           ],
           "yaxis": "y"
          }
         ],
         "name": "2001"
        },
        {
         "data": [
          {
           "alignmentgroup": "True",
           "hovertemplate": "Year=2002<br>Global Sales (in Millions)=%{x}<br>Name=%{y}<br>Meta Score=%{marker.color}<extra></extra>",
           "legendgroup": "",
           "marker": {
            "color": [
             77,
             81.67,
             77,
             80,
             91,
             93.67,
             82,
             81.67,
             58,
             76
            ],
            "coloraxis": "coloraxis",
            "pattern": {
             "shape": ""
            }
           },
           "name": "",
           "offsetgroup": "",
           "orientation": "h",
           "showlegend": false,
           "textposition": "auto",
           "type": "bar",
           "x": [
            20.22,
            20.92,
            21.94,
            22.72,
            23.42,
            23.86,
            25.41000000000001,
            28.159999999999997,
            29.02,
            82.74
           ],
           "xaxis": "x",
           "y": [
            "Brain Age: Train Your Brain in Minutes a Day",
            "Need for Speed Underground",
            "Need for Speed Underground 2",
            "Wii Fit",
            "Mario Kart DS",
            "Grand Theft Auto: San Andreas",
            "Pro Evolution Soccer 2008",
            "Need for Speed: Most Wanted",
            "Wii Play",
            "Wii Sports"
           ],
           "yaxis": "y"
          }
         ],
         "name": "2002"
        },
        {
         "data": [
          {
           "alignmentgroup": "True",
           "hovertemplate": "Year=2003<br>Global Sales (in Millions)=%{x}<br>Name=%{y}<br>Meta Score=%{marker.color}<extra></extra>",
           "legendgroup": "",
           "marker": {
            "color": [
             77,
             95.33,
             80,
             91,
             93.67,
             82,
             81.67,
             58,
             82,
             76
            ],
            "coloraxis": "coloraxis",
            "pattern": {
             "shape": ""
            }
           },
           "name": "",
           "offsetgroup": "",
           "orientation": "h",
           "showlegend": false,
           "textposition": "auto",
           "type": "bar",
           "x": [
            21.94,
            22.47,
            22.72,
            23.42,
            23.86,
            25.41000000000001,
            28.159999999999997,
            29.02,
            35.82,
            82.74
           ],
           "xaxis": "x",
           "y": [
            "Need for Speed Underground 2",
            "Grand Theft Auto IV",
            "Wii Fit",
            "Mario Kart DS",
            "Grand Theft Auto: San Andreas",
            "Pro Evolution Soccer 2008",
            "Need for Speed: Most Wanted",
            "Wii Play",
            "Mario Kart Wii",
            "Wii Sports"
           ],
           "yaxis": "y"
          }
         ],
         "name": "2003"
        },
        {
         "data": [
          {
           "alignmentgroup": "True",
           "hovertemplate": "Year=2004<br>Global Sales (in Millions)=%{x}<br>Name=%{y}<br>Meta Score=%{marker.color}<extra></extra>",
           "legendgroup": "",
           "marker": {
            "color": [
             80,
             91,
             93.67,
             94,
             82,
             81.67,
             58,
             80,
             82,
             76
            ],
            "coloraxis": "coloraxis",
            "pattern": {
             "shape": ""
            }
           },
           "name": "",
           "offsetgroup": "",
           "orientation": "h",
           "showlegend": false,
           "textposition": "auto",
           "type": "bar",
           "x": [
            22.72,
            23.42,
            23.86,
            25.09,
            25.41000000000001,
            28.159999999999997,
            29.02,
            33,
            35.82,
            82.74
           ],
           "xaxis": "x",
           "y": [
            "Wii Fit",
            "Mario Kart DS",
            "Grand Theft Auto: San Andreas",
            "Call of Duty: Modern Warfare 2",
            "Pro Evolution Soccer 2008",
            "Need for Speed: Most Wanted",
            "Wii Play",
            "Wii Sports Resort",
            "Mario Kart Wii",
            "Wii Sports"
           ],
           "yaxis": "y"
          }
         ],
         "name": "2004"
        },
        {
         "data": [
          {
           "alignmentgroup": "True",
           "hovertemplate": "Year=2005<br>Global Sales (in Millions)=%{x}<br>Name=%{y}<br>Meta Score=%{marker.color}<extra></extra>",
           "legendgroup": "",
           "marker": {
            "color": [
             91,
             94,
             82,
             95,
             81.67,
             58,
             80,
             82,
             83,
             76
            ],
            "coloraxis": "coloraxis",
            "pattern": {
             "shape": ""
            }
           },
           "name": "",
           "offsetgroup": "",
           "orientation": "h",
           "showlegend": false,
           "textposition": "auto",
           "type": "bar",
           "x": [
            23.42,
            25.09,
            25.41000000000001,
            25.88,
            28.159999999999997,
            29.02,
            33,
            35.82,
            58.80000000000001,
            82.74
           ],
           "xaxis": "x",
           "y": [
            "Mario Kart DS",
            "Call of Duty: Modern Warfare 2",
            "Pro Evolution Soccer 2008",
            "Red Dead Redemption",
            "Need for Speed: Most Wanted",
            "Wii Play",
            "Wii Sports Resort",
            "Mario Kart Wii",
            "Call of Duty: Black Ops",
            "Wii Sports"
           ],
           "yaxis": "y"
          }
         ],
         "name": "2005"
        },
        {
         "data": [
          {
           "alignmentgroup": "True",
           "hovertemplate": "Year=2006<br>Global Sales (in Millions)=%{x}<br>Name=%{y}<br>Meta Score=%{marker.color}<extra></extra>",
           "legendgroup": "",
           "marker": {
            "color": [
             94,
             82,
             95,
             58,
             80,
             82,
             91.5,
             83,
             80,
             76
            ],
            "coloraxis": "coloraxis",
            "pattern": {
             "shape": ""
            }
           },
           "name": "",
           "offsetgroup": "",
           "orientation": "h",
           "showlegend": false,
           "textposition": "auto",
           "type": "bar",
           "x": [
            25.09,
            25.41000000000001,
            25.88,
            29.02,
            33,
            35.82,
            38.56,
            58.80000000000001,
            61.660000000000004,
            82.74
           ],
           "xaxis": "x",
           "y": [
            "Call of Duty: Modern Warfare 2",
            "Pro Evolution Soccer 2008",
            "Red Dead Redemption",
            "Wii Play",
            "Wii Sports Resort",
            "Mario Kart Wii",
            "The Elder Scrolls V: Skyrim",
            "Call of Duty: Black Ops",
            "Call of Duty: Modern Warfare 3",
            "Wii Sports"
           ],
           "yaxis": "y"
          }
         ],
         "name": "2006"
        },
        {
         "data": [
          {
           "alignmentgroup": "True",
           "hovertemplate": "Year=2007<br>Global Sales (in Millions)=%{x}<br>Name=%{y}<br>Meta Score=%{marker.color}<extra></extra>",
           "legendgroup": "",
           "marker": {
            "color": [
             94,
             82,
             95,
             76,
             80,
             82,
             91.5,
             83,
             78.5,
             80
            ],
            "coloraxis": "coloraxis",
            "pattern": {
             "shape": ""
            }
           },
           "name": "",
           "offsetgroup": "",
           "orientation": "h",
           "showlegend": false,
           "textposition": "auto",
           "type": "bar",
           "x": [
            25.09,
            25.41000000000001,
            25.88,
            32.32,
            33,
            35.82,
            38.56,
            58.80000000000001,
            59.44,
            61.660000000000004
           ],
           "xaxis": "x",
           "y": [
            "Call of Duty: Modern Warfare 2",
            "Pro Evolution Soccer 2008",
            "Red Dead Redemption",
            "FIFA Soccer 13",
            "Wii Sports Resort",
            "Mario Kart Wii",
            "The Elder Scrolls V: Skyrim",
            "Call of Duty: Black Ops",
            "Call of Duty: Black Ops II",
            "Call of Duty: Modern Warfare 3"
           ],
           "yaxis": "y"
          }
         ],
         "name": "2007"
        },
        {
         "data": [
          {
           "alignmentgroup": "True",
           "hovertemplate": "Year=2008<br>Global Sales (in Millions)=%{x}<br>Name=%{y}<br>Meta Score=%{marker.color}<extra></extra>",
           "legendgroup": "",
           "marker": {
            "color": [
             72.67,
             70.67,
             76,
             80,
             82,
             91.5,
             96.8,
             83,
             78.5,
             80
            ],
            "coloraxis": "coloraxis",
            "pattern": {
             "shape": ""
            }
           },
           "name": "",
           "offsetgroup": "",
           "orientation": "h",
           "showlegend": false,
           "textposition": "auto",
           "type": "bar",
           "x": [
            26.32,
            27.38,
            32.32,
            33,
            35.82,
            38.56,
            55.92,
            58.80000000000001,
            59.44,
            61.660000000000004
           ],
           "xaxis": "x",
           "y": [
            "Just Dance 2014",
            "Call of Duty: Ghosts",
            "FIFA Soccer 13",
            "Wii Sports Resort",
            "Mario Kart Wii",
            "The Elder Scrolls V: Skyrim",
            "Grand Theft Auto V",
            "Call of Duty: Black Ops",
            "Call of Duty: Black Ops II",
            "Call of Duty: Modern Warfare 3"
           ],
           "yaxis": "y"
          }
         ],
         "name": "2008"
        },
        {
         "data": [
          {
           "alignmentgroup": "True",
           "hovertemplate": "Year=2009<br>Global Sales (in Millions)=%{x}<br>Name=%{y}<br>Meta Score=%{marker.color}<extra></extra>",
           "legendgroup": "",
           "marker": {
            "color": [
             95,
             72.67,
             70.67,
             76,
             80,
             91.5,
             96.8,
             83,
             78.5,
             80
            ],
            "coloraxis": "coloraxis",
            "pattern": {
             "shape": ""
            }
           },
           "name": "",
           "offsetgroup": "",
           "orientation": "h",
           "showlegend": false,
           "textposition": "auto",
           "type": "bar",
           "x": [
            25.88,
            26.32,
            27.38,
            32.32,
            33,
            38.56,
            55.92,
            58.80000000000001,
            59.44,
            61.660000000000004
           ],
           "xaxis": "x",
           "y": [
            "Red Dead Redemption",
            "Just Dance 2014",
            "Call of Duty: Ghosts",
            "FIFA Soccer 13",
            "Wii Sports Resort",
            "The Elder Scrolls V: Skyrim",
            "Grand Theft Auto V",
            "Call of Duty: Black Ops",
            "Call of Duty: Black Ops II",
            "Call of Duty: Modern Warfare 3"
           ],
           "yaxis": "y"
          }
         ],
         "name": "2009"
        },
        {
         "data": [
          {
           "alignmentgroup": "True",
           "hovertemplate": "Year=2010<br>Global Sales (in Millions)=%{x}<br>Name=%{y}<br>Meta Score=%{marker.color}<extra></extra>",
           "legendgroup": "",
           "marker": {
            "color": [
             93,
             95,
             72.67,
             70.67,
             76,
             91.5,
             96.8,
             83,
             78.5,
             80
            ],
            "coloraxis": "coloraxis",
            "pattern": {
             "shape": ""
            }
           },
           "name": "",
           "offsetgroup": "",
           "orientation": "h",
           "showlegend": false,
           "textposition": "auto",
           "type": "bar",
           "x": [
            23.3,
            25.88,
            26.32,
            27.38,
            32.32,
            38.56,
            55.92,
            58.80000000000001,
            59.44,
            61.660000000000004
           ],
           "xaxis": "x",
           "y": [
            "Minecraft",
            "Red Dead Redemption",
            "Just Dance 2014",
            "Call of Duty: Ghosts",
            "FIFA Soccer 13",
            "The Elder Scrolls V: Skyrim",
            "Grand Theft Auto V",
            "Call of Duty: Black Ops",
            "Call of Duty: Black Ops II",
            "Call of Duty: Modern Warfare 3"
           ],
           "yaxis": "y"
          }
         ],
         "name": "2010"
        },
        {
         "data": [
          {
           "alignmentgroup": "True",
           "hovertemplate": "Year=2011<br>Global Sales (in Millions)=%{x}<br>Name=%{y}<br>Meta Score=%{marker.color}<extra></extra>",
           "legendgroup": "",
           "marker": {
            "color": [
             74.5,
             80.5,
             93,
             72.67,
             70.67,
             76,
             91.5,
             96.8,
             78.5,
             80
            ],
            "coloraxis": "coloraxis",
            "pattern": {
             "shape": ""
            }
           },
           "name": "",
           "offsetgroup": "",
           "orientation": "h",
           "showlegend": false,
           "textposition": "auto",
           "type": "bar",
           "x": [
            19.719999999999995,
            21.9,
            23.3,
            26.32,
            27.38,
            32.32,
            38.56,
            55.92,
            59.44,
            61.660000000000004
           ],
           "xaxis": "x",
           "y": [
            "LEGO Marvel Super Heroes",
            "Call of Duty: Advanced Warfare",
            "Minecraft",
            "Just Dance 2014",
            "Call of Duty: Ghosts",
            "FIFA Soccer 13",
            "The Elder Scrolls V: Skyrim",
            "Grand Theft Auto V",
            "Call of Duty: Black Ops II",
            "Call of Duty: Modern Warfare 3"
           ],
           "yaxis": "y"
          }
         ],
         "name": "2011"
        },
        {
         "data": [
          {
           "alignmentgroup": "True",
           "hovertemplate": "Year=2012<br>Global Sales (in Millions)=%{x}<br>Name=%{y}<br>Meta Score=%{marker.color}<extra></extra>",
           "legendgroup": "",
           "marker": {
            "color": [
             85,
             82,
             74.5,
             80.5,
             93,
             72.67,
             70.67,
             76,
             96.8,
             78.5
            ],
            "coloraxis": "coloraxis",
            "pattern": {
             "shape": ""
            }
           },
           "name": "",
           "offsetgroup": "",
           "orientation": "h",
           "showlegend": false,
           "textposition": "auto",
           "type": "bar",
           "x": [
            17.14,
            19.02,
            19.719999999999995,
            21.9,
            23.3,
            26.32,
            27.38,
            32.32,
            55.92,
            59.44
           ],
           "xaxis": "x",
           "y": [
            "FIFA 14",
            "FIFA 15",
            "LEGO Marvel Super Heroes",
            "Call of Duty: Advanced Warfare",
            "Minecraft",
            "Just Dance 2014",
            "Call of Duty: Ghosts",
            "FIFA Soccer 13",
            "Grand Theft Auto V",
            "Call of Duty: Black Ops II"
           ],
           "yaxis": "y"
          }
         ],
         "name": "2012"
        },
        {
         "data": [
          {
           "alignmentgroup": "True",
           "hovertemplate": "Year=2013<br>Global Sales (in Millions)=%{x}<br>Name=%{y}<br>Meta Score=%{marker.color}<extra></extra>",
           "legendgroup": "",
           "marker": {
            "color": [
             81.25,
             82.33,
             85,
             82,
             74.5,
             80.5,
             93,
             72.67,
             70.67,
             96.8
            ],
            "coloraxis": "coloraxis",
            "pattern": {
             "shape": ""
            }
           },
           "name": "",
           "offsetgroup": "",
           "orientation": "h",
           "showlegend": false,
           "textposition": "auto",
           "type": "bar",
           "x": [
            14.030000000000001,
            16.44,
            17.14,
            19.02,
            19.719999999999995,
            21.9,
            23.3,
            26.32,
            27.38,
            55.92
           ],
           "xaxis": "x",
           "y": [
            "Battlefield 4",
            "FIFA 16",
            "FIFA 14",
            "FIFA 15",
            "LEGO Marvel Super Heroes",
            "Call of Duty: Advanced Warfare",
            "Minecraft",
            "Just Dance 2014",
            "Call of Duty: Ghosts",
            "Grand Theft Auto V"
           ],
           "yaxis": "y"
          }
         ],
         "name": "2013"
        },
        {
         "data": [
          {
           "alignmentgroup": "True",
           "hovertemplate": "Year=2014<br>Global Sales (in Millions)=%{x}<br>Name=%{y}<br>Meta Score=%{marker.color}<extra></extra>",
           "legendgroup": "",
           "marker": {
            "color": [
             84.5,
             77,
             82.33,
             71,
             59.33,
             85.5,
             75.5,
             82.33,
             82,
             80.5
            ],
            "coloraxis": "coloraxis",
            "pattern": {
             "shape": ""
            }
           },
           "name": "",
           "offsetgroup": "",
           "orientation": "h",
           "showlegend": false,
           "textposition": "auto",
           "type": "bar",
           "x": [
            8.200000000000001,
            8.3,
            8.68,
            9.489999999999998,
            10.66,
            12.280000000000001,
            12.61,
            16.44,
            19.02,
            21.9
           ],
           "xaxis": "x",
           "y": [
            "Mortal Kombat X",
            "The Evil Within",
            "Far Cry 4",
            "Watch Dogs",
            "The LEGO Movie Videogame",
            "Fallout 4",
            "Destiny",
            "FIFA 16",
            "FIFA 15",
            "Call of Duty: Advanced Warfare"
           ],
           "yaxis": "y"
          }
         ],
         "name": "2014"
        }
       ],
       "layout": {
        "barmode": "relative",
        "coloraxis": {
         "cmax": 100,
         "cmin": 0,
         "colorbar": {
          "title": {
           "text": "Meta Score"
          }
         },
         "colorscale": [
          [
           0,
           "red"
          ],
          [
           0.5,
           "yellow"
          ],
          [
           1,
           "green"
          ]
         ]
        },
        "legend": {
         "tracegroupgap": 0
        },
        "margin": {
         "l": 400,
         "t": 60
        },
        "sliders": [
         {
          "active": 0,
          "currentvalue": {
           "prefix": "Year="
          },
          "len": 0.9,
          "pad": {
           "b": 10,
           "t": 60
          },
          "steps": [
           {
            "args": [
             [
              "1980"
             ],
             {
              "frame": {
               "duration": 0,
               "redraw": true
              },
              "fromcurrent": true,
              "mode": "immediate",
              "transition": {
               "duration": 0,
               "easing": "linear"
              }
             }
            ],
            "label": "1980",
            "method": "animate"
           },
           {
            "args": [
             [
              "1981"
             ],
             {
              "frame": {
               "duration": 0,
               "redraw": true
              },
              "fromcurrent": true,
              "mode": "immediate",
              "transition": {
               "duration": 0,
               "easing": "linear"
              }
             }
            ],
            "label": "1981",
            "method": "animate"
           },
           {
            "args": [
             [
              "1982"
             ],
             {
              "frame": {
               "duration": 0,
               "redraw": true
              },
              "fromcurrent": true,
              "mode": "immediate",
              "transition": {
               "duration": 0,
               "easing": "linear"
              }
             }
            ],
            "label": "1982",
            "method": "animate"
           },
           {
            "args": [
             [
              "1983"
             ],
             {
              "frame": {
               "duration": 0,
               "redraw": true
              },
              "fromcurrent": true,
              "mode": "immediate",
              "transition": {
               "duration": 0,
               "easing": "linear"
              }
             }
            ],
            "label": "1983",
            "method": "animate"
           },
           {
            "args": [
             [
              "1984"
             ],
             {
              "frame": {
               "duration": 0,
               "redraw": true
              },
              "fromcurrent": true,
              "mode": "immediate",
              "transition": {
               "duration": 0,
               "easing": "linear"
              }
             }
            ],
            "label": "1984",
            "method": "animate"
           },
           {
            "args": [
             [
              "1985"
             ],
             {
              "frame": {
               "duration": 0,
               "redraw": true
              },
              "fromcurrent": true,
              "mode": "immediate",
              "transition": {
               "duration": 0,
               "easing": "linear"
              }
             }
            ],
            "label": "1985",
            "method": "animate"
           },
           {
            "args": [
             [
              "1986"
             ],
             {
              "frame": {
               "duration": 0,
               "redraw": true
              },
              "fromcurrent": true,
              "mode": "immediate",
              "transition": {
               "duration": 0,
               "easing": "linear"
              }
             }
            ],
            "label": "1986",
            "method": "animate"
           },
           {
            "args": [
             [
              "1987"
             ],
             {
              "frame": {
               "duration": 0,
               "redraw": true
              },
              "fromcurrent": true,
              "mode": "immediate",
              "transition": {
               "duration": 0,
               "easing": "linear"
              }
             }
            ],
            "label": "1987",
            "method": "animate"
           },
           {
            "args": [
             [
              "1988"
             ],
             {
              "frame": {
               "duration": 0,
               "redraw": true
              },
              "fromcurrent": true,
              "mode": "immediate",
              "transition": {
               "duration": 0,
               "easing": "linear"
              }
             }
            ],
            "label": "1988",
            "method": "animate"
           },
           {
            "args": [
             [
              "1989"
             ],
             {
              "frame": {
               "duration": 0,
               "redraw": true
              },
              "fromcurrent": true,
              "mode": "immediate",
              "transition": {
               "duration": 0,
               "easing": "linear"
              }
             }
            ],
            "label": "1989",
            "method": "animate"
           },
           {
            "args": [
             [
              "1990"
             ],
             {
              "frame": {
               "duration": 0,
               "redraw": true
              },
              "fromcurrent": true,
              "mode": "immediate",
              "transition": {
               "duration": 0,
               "easing": "linear"
              }
             }
            ],
            "label": "1990",
            "method": "animate"
           },
           {
            "args": [
             [
              "1991"
             ],
             {
              "frame": {
               "duration": 0,
               "redraw": true
              },
              "fromcurrent": true,
              "mode": "immediate",
              "transition": {
               "duration": 0,
               "easing": "linear"
              }
             }
            ],
            "label": "1991",
            "method": "animate"
           },
           {
            "args": [
             [
              "1992"
             ],
             {
              "frame": {
               "duration": 0,
               "redraw": true
              },
              "fromcurrent": true,
              "mode": "immediate",
              "transition": {
               "duration": 0,
               "easing": "linear"
              }
             }
            ],
            "label": "1992",
            "method": "animate"
           },
           {
            "args": [
             [
              "1993"
             ],
             {
              "frame": {
               "duration": 0,
               "redraw": true
              },
              "fromcurrent": true,
              "mode": "immediate",
              "transition": {
               "duration": 0,
               "easing": "linear"
              }
             }
            ],
            "label": "1993",
            "method": "animate"
           },
           {
            "args": [
             [
              "1994"
             ],
             {
              "frame": {
               "duration": 0,
               "redraw": true
              },
              "fromcurrent": true,
              "mode": "immediate",
              "transition": {
               "duration": 0,
               "easing": "linear"
              }
             }
            ],
            "label": "1994",
            "method": "animate"
           },
           {
            "args": [
             [
              "1995"
             ],
             {
              "frame": {
               "duration": 0,
               "redraw": true
              },
              "fromcurrent": true,
              "mode": "immediate",
              "transition": {
               "duration": 0,
               "easing": "linear"
              }
             }
            ],
            "label": "1995",
            "method": "animate"
           },
           {
            "args": [
             [
              "1996"
             ],
             {
              "frame": {
               "duration": 0,
               "redraw": true
              },
              "fromcurrent": true,
              "mode": "immediate",
              "transition": {
               "duration": 0,
               "easing": "linear"
              }
             }
            ],
            "label": "1996",
            "method": "animate"
           },
           {
            "args": [
             [
              "1997"
             ],
             {
              "frame": {
               "duration": 0,
               "redraw": true
              },
              "fromcurrent": true,
              "mode": "immediate",
              "transition": {
               "duration": 0,
               "easing": "linear"
              }
             }
            ],
            "label": "1997",
            "method": "animate"
           },
           {
            "args": [
             [
              "1998"
             ],
             {
              "frame": {
               "duration": 0,
               "redraw": true
              },
              "fromcurrent": true,
              "mode": "immediate",
              "transition": {
               "duration": 0,
               "easing": "linear"
              }
             }
            ],
            "label": "1998",
            "method": "animate"
           },
           {
            "args": [
             [
              "1999"
             ],
             {
              "frame": {
               "duration": 0,
               "redraw": true
              },
              "fromcurrent": true,
              "mode": "immediate",
              "transition": {
               "duration": 0,
               "easing": "linear"
              }
             }
            ],
            "label": "1999",
            "method": "animate"
           },
           {
            "args": [
             [
              "2000"
             ],
             {
              "frame": {
               "duration": 0,
               "redraw": true
              },
              "fromcurrent": true,
              "mode": "immediate",
              "transition": {
               "duration": 0,
               "easing": "linear"
              }
             }
            ],
            "label": "2000",
            "method": "animate"
           },
           {
            "args": [
             [
              "2001"
             ],
             {
              "frame": {
               "duration": 0,
               "redraw": true
              },
              "fromcurrent": true,
              "mode": "immediate",
              "transition": {
               "duration": 0,
               "easing": "linear"
              }
             }
            ],
            "label": "2001",
            "method": "animate"
           },
           {
            "args": [
             [
              "2002"
             ],
             {
              "frame": {
               "duration": 0,
               "redraw": true
              },
              "fromcurrent": true,
              "mode": "immediate",
              "transition": {
               "duration": 0,
               "easing": "linear"
              }
             }
            ],
            "label": "2002",
            "method": "animate"
           },
           {
            "args": [
             [
              "2003"
             ],
             {
              "frame": {
               "duration": 0,
               "redraw": true
              },
              "fromcurrent": true,
              "mode": "immediate",
              "transition": {
               "duration": 0,
               "easing": "linear"
              }
             }
            ],
            "label": "2003",
            "method": "animate"
           },
           {
            "args": [
             [
              "2004"
             ],
             {
              "frame": {
               "duration": 0,
               "redraw": true
              },
              "fromcurrent": true,
              "mode": "immediate",
              "transition": {
               "duration": 0,
               "easing": "linear"
              }
             }
            ],
            "label": "2004",
            "method": "animate"
           },
           {
            "args": [
             [
              "2005"
             ],
             {
              "frame": {
               "duration": 0,
               "redraw": true
              },
              "fromcurrent": true,
              "mode": "immediate",
              "transition": {
               "duration": 0,
               "easing": "linear"
              }
             }
            ],
            "label": "2005",
            "method": "animate"
           },
           {
            "args": [
             [
              "2006"
             ],
             {
              "frame": {
               "duration": 0,
               "redraw": true
              },
              "fromcurrent": true,
              "mode": "immediate",
              "transition": {
               "duration": 0,
               "easing": "linear"
              }
             }
            ],
            "label": "2006",
            "method": "animate"
           },
           {
            "args": [
             [
              "2007"
             ],
             {
              "frame": {
               "duration": 0,
               "redraw": true
              },
              "fromcurrent": true,
              "mode": "immediate",
              "transition": {
               "duration": 0,
               "easing": "linear"
              }
             }
            ],
            "label": "2007",
            "method": "animate"
           },
           {
            "args": [
             [
              "2008"
             ],
             {
              "frame": {
               "duration": 0,
               "redraw": true
              },
              "fromcurrent": true,
              "mode": "immediate",
              "transition": {
               "duration": 0,
               "easing": "linear"
              }
             }
            ],
            "label": "2008",
            "method": "animate"
           },
           {
            "args": [
             [
              "2009"
             ],
             {
              "frame": {
               "duration": 0,
               "redraw": true
              },
              "fromcurrent": true,
              "mode": "immediate",
              "transition": {
               "duration": 0,
               "easing": "linear"
              }
             }
            ],
            "label": "2009",
            "method": "animate"
           },
           {
            "args": [
             [
              "2010"
             ],
             {
              "frame": {
               "duration": 0,
               "redraw": true
              },
              "fromcurrent": true,
              "mode": "immediate",
              "transition": {
               "duration": 0,
               "easing": "linear"
              }
             }
            ],
            "label": "2010",
            "method": "animate"
           },
           {
            "args": [
             [
              "2011"
             ],
             {
              "frame": {
               "duration": 0,
               "redraw": true
              },
              "fromcurrent": true,
              "mode": "immediate",
              "transition": {
               "duration": 0,
               "easing": "linear"
              }
             }
            ],
            "label": "2011",
            "method": "animate"
           },
           {
            "args": [
             [
              "2012"
             ],
             {
              "frame": {
               "duration": 0,
               "redraw": true
              },
              "fromcurrent": true,
              "mode": "immediate",
              "transition": {
               "duration": 0,
               "easing": "linear"
              }
             }
            ],
            "label": "2012",
            "method": "animate"
           },
           {
            "args": [
             [
              "2013"
             ],
             {
              "frame": {
               "duration": 0,
               "redraw": true
              },
              "fromcurrent": true,
              "mode": "immediate",
              "transition": {
               "duration": 0,
               "easing": "linear"
              }
             }
            ],
            "label": "2013",
            "method": "animate"
           },
           {
            "args": [
             [
              "2014"
             ],
             {
              "frame": {
               "duration": 0,
               "redraw": true
              },
              "fromcurrent": true,
              "mode": "immediate",
              "transition": {
               "duration": 0,
               "easing": "linear"
              }
             }
            ],
            "label": "2014",
            "method": "animate"
           }
          ],
          "x": 0.1,
          "xanchor": "left",
          "y": 0,
          "yanchor": "top"
         }
        ],
        "template": {
         "data": {
          "bar": [
           {
            "error_x": {
             "color": "#2a3f5f"
            },
            "error_y": {
             "color": "#2a3f5f"
            },
            "marker": {
             "line": {
              "color": "#E5ECF6",
              "width": 0.5
             },
             "pattern": {
              "fillmode": "overlay",
              "size": 10,
              "solidity": 0.2
             }
            },
            "type": "bar"
           }
          ],
          "barpolar": [
           {
            "marker": {
             "line": {
              "color": "#E5ECF6",
              "width": 0.5
             },
             "pattern": {
              "fillmode": "overlay",
              "size": 10,
              "solidity": 0.2
             }
            },
            "type": "barpolar"
           }
          ],
          "carpet": [
           {
            "aaxis": {
             "endlinecolor": "#2a3f5f",
             "gridcolor": "white",
             "linecolor": "white",
             "minorgridcolor": "white",
             "startlinecolor": "#2a3f5f"
            },
            "baxis": {
             "endlinecolor": "#2a3f5f",
             "gridcolor": "white",
             "linecolor": "white",
             "minorgridcolor": "white",
             "startlinecolor": "#2a3f5f"
            },
            "type": "carpet"
           }
          ],
          "choropleth": [
           {
            "colorbar": {
             "outlinewidth": 0,
             "ticks": ""
            },
            "type": "choropleth"
           }
          ],
          "contour": [
           {
            "colorbar": {
             "outlinewidth": 0,
             "ticks": ""
            },
            "colorscale": [
             [
              0,
              "#0d0887"
             ],
             [
              0.1111111111111111,
              "#46039f"
             ],
             [
              0.2222222222222222,
              "#7201a8"
             ],
             [
              0.3333333333333333,
              "#9c179e"
             ],
             [
              0.4444444444444444,
              "#bd3786"
             ],
             [
              0.5555555555555556,
              "#d8576b"
             ],
             [
              0.6666666666666666,
              "#ed7953"
             ],
             [
              0.7777777777777778,
              "#fb9f3a"
             ],
             [
              0.8888888888888888,
              "#fdca26"
             ],
             [
              1,
              "#f0f921"
             ]
            ],
            "type": "contour"
           }
          ],
          "contourcarpet": [
           {
            "colorbar": {
             "outlinewidth": 0,
             "ticks": ""
            },
            "type": "contourcarpet"
           }
          ],
          "heatmap": [
           {
            "colorbar": {
             "outlinewidth": 0,
             "ticks": ""
            },
            "colorscale": [
             [
              0,
              "#0d0887"
             ],
             [
              0.1111111111111111,
              "#46039f"
             ],
             [
              0.2222222222222222,
              "#7201a8"
             ],
             [
              0.3333333333333333,
              "#9c179e"
             ],
             [
              0.4444444444444444,
              "#bd3786"
             ],
             [
              0.5555555555555556,
              "#d8576b"
             ],
             [
              0.6666666666666666,
              "#ed7953"
             ],
             [
              0.7777777777777778,
              "#fb9f3a"
             ],
             [
              0.8888888888888888,
              "#fdca26"
             ],
             [
              1,
              "#f0f921"
             ]
            ],
            "type": "heatmap"
           }
          ],
          "heatmapgl": [
           {
            "colorbar": {
             "outlinewidth": 0,
             "ticks": ""
            },
            "colorscale": [
             [
              0,
              "#0d0887"
             ],
             [
              0.1111111111111111,
              "#46039f"
             ],
             [
              0.2222222222222222,
              "#7201a8"
             ],
             [
              0.3333333333333333,
              "#9c179e"
             ],
             [
              0.4444444444444444,
              "#bd3786"
             ],
             [
              0.5555555555555556,
              "#d8576b"
             ],
             [
              0.6666666666666666,
              "#ed7953"
             ],
             [
              0.7777777777777778,
              "#fb9f3a"
             ],
             [
              0.8888888888888888,
              "#fdca26"
             ],
             [
              1,
              "#f0f921"
             ]
            ],
            "type": "heatmapgl"
           }
          ],
          "histogram": [
           {
            "marker": {
             "pattern": {
              "fillmode": "overlay",
              "size": 10,
              "solidity": 0.2
             }
            },
            "type": "histogram"
           }
          ],
          "histogram2d": [
           {
            "colorbar": {
             "outlinewidth": 0,
             "ticks": ""
            },
            "colorscale": [
             [
              0,
              "#0d0887"
             ],
             [
              0.1111111111111111,
              "#46039f"
             ],
             [
              0.2222222222222222,
              "#7201a8"
             ],
             [
              0.3333333333333333,
              "#9c179e"
             ],
             [
              0.4444444444444444,
              "#bd3786"
             ],
             [
              0.5555555555555556,
              "#d8576b"
             ],
             [
              0.6666666666666666,
              "#ed7953"
             ],
             [
              0.7777777777777778,
              "#fb9f3a"
             ],
             [
              0.8888888888888888,
              "#fdca26"
             ],
             [
              1,
              "#f0f921"
             ]
            ],
            "type": "histogram2d"
           }
          ],
          "histogram2dcontour": [
           {
            "colorbar": {
             "outlinewidth": 0,
             "ticks": ""
            },
            "colorscale": [
             [
              0,
              "#0d0887"
             ],
             [
              0.1111111111111111,
              "#46039f"
             ],
             [
              0.2222222222222222,
              "#7201a8"
             ],
             [
              0.3333333333333333,
              "#9c179e"
             ],
             [
              0.4444444444444444,
              "#bd3786"
             ],
             [
              0.5555555555555556,
              "#d8576b"
             ],
             [
              0.6666666666666666,
              "#ed7953"
             ],
             [
              0.7777777777777778,
              "#fb9f3a"
             ],
             [
              0.8888888888888888,
              "#fdca26"
             ],
             [
              1,
              "#f0f921"
             ]
            ],
            "type": "histogram2dcontour"
           }
          ],
          "mesh3d": [
           {
            "colorbar": {
             "outlinewidth": 0,
             "ticks": ""
            },
            "type": "mesh3d"
           }
          ],
          "parcoords": [
           {
            "line": {
             "colorbar": {
              "outlinewidth": 0,
              "ticks": ""
             }
            },
            "type": "parcoords"
           }
          ],
          "pie": [
           {
            "automargin": true,
            "type": "pie"
           }
          ],
          "scatter": [
           {
            "fillpattern": {
             "fillmode": "overlay",
             "size": 10,
             "solidity": 0.2
            },
            "type": "scatter"
           }
          ],
          "scatter3d": [
           {
            "line": {
             "colorbar": {
              "outlinewidth": 0,
              "ticks": ""
             }
            },
            "marker": {
             "colorbar": {
              "outlinewidth": 0,
              "ticks": ""
             }
            },
            "type": "scatter3d"
           }
          ],
          "scattercarpet": [
           {
            "marker": {
             "colorbar": {
              "outlinewidth": 0,
              "ticks": ""
             }
            },
            "type": "scattercarpet"
           }
          ],
          "scattergeo": [
           {
            "marker": {
             "colorbar": {
              "outlinewidth": 0,
              "ticks": ""
             }
            },
            "type": "scattergeo"
           }
          ],
          "scattergl": [
           {
            "marker": {
             "colorbar": {
              "outlinewidth": 0,
              "ticks": ""
             }
            },
            "type": "scattergl"
           }
          ],
          "scattermapbox": [
           {
            "marker": {
             "colorbar": {
              "outlinewidth": 0,
              "ticks": ""
             }
            },
            "type": "scattermapbox"
           }
          ],
          "scatterpolar": [
           {
            "marker": {
             "colorbar": {
              "outlinewidth": 0,
              "ticks": ""
             }
            },
            "type": "scatterpolar"
           }
          ],
          "scatterpolargl": [
           {
            "marker": {
             "colorbar": {
              "outlinewidth": 0,
              "ticks": ""
             }
            },
            "type": "scatterpolargl"
           }
          ],
          "scatterternary": [
           {
            "marker": {
             "colorbar": {
              "outlinewidth": 0,
              "ticks": ""
             }
            },
            "type": "scatterternary"
           }
          ],
          "surface": [
           {
            "colorbar": {
             "outlinewidth": 0,
             "ticks": ""
            },
            "colorscale": [
             [
              0,
              "#0d0887"
             ],
             [
              0.1111111111111111,
              "#46039f"
             ],
             [
              0.2222222222222222,
              "#7201a8"
             ],
             [
              0.3333333333333333,
              "#9c179e"
             ],
             [
              0.4444444444444444,
              "#bd3786"
             ],
             [
              0.5555555555555556,
              "#d8576b"
             ],
             [
              0.6666666666666666,
              "#ed7953"
             ],
             [
              0.7777777777777778,
              "#fb9f3a"
             ],
             [
              0.8888888888888888,
              "#fdca26"
             ],
             [
              1,
              "#f0f921"
             ]
            ],
            "type": "surface"
           }
          ],
          "table": [
           {
            "cells": {
             "fill": {
              "color": "#EBF0F8"
             },
             "line": {
              "color": "white"
             }
            },
            "header": {
             "fill": {
              "color": "#C8D4E3"
             },
             "line": {
              "color": "white"
             }
            },
            "type": "table"
           }
          ]
         },
         "layout": {
          "annotationdefaults": {
           "arrowcolor": "#2a3f5f",
           "arrowhead": 0,
           "arrowwidth": 1
          },
          "autotypenumbers": "strict",
          "coloraxis": {
           "colorbar": {
            "outlinewidth": 0,
            "ticks": ""
           }
          },
          "colorscale": {
           "diverging": [
            [
             0,
             "#8e0152"
            ],
            [
             0.1,
             "#c51b7d"
            ],
            [
             0.2,
             "#de77ae"
            ],
            [
             0.3,
             "#f1b6da"
            ],
            [
             0.4,
             "#fde0ef"
            ],
            [
             0.5,
             "#f7f7f7"
            ],
            [
             0.6,
             "#e6f5d0"
            ],
            [
             0.7,
             "#b8e186"
            ],
            [
             0.8,
             "#7fbc41"
            ],
            [
             0.9,
             "#4d9221"
            ],
            [
             1,
             "#276419"
            ]
           ],
           "sequential": [
            [
             0,
             "#0d0887"
            ],
            [
             0.1111111111111111,
             "#46039f"
            ],
            [
             0.2222222222222222,
             "#7201a8"
            ],
            [
             0.3333333333333333,
             "#9c179e"
            ],
            [
             0.4444444444444444,
             "#bd3786"
            ],
            [
             0.5555555555555556,
             "#d8576b"
            ],
            [
             0.6666666666666666,
             "#ed7953"
            ],
            [
             0.7777777777777778,
             "#fb9f3a"
            ],
            [
             0.8888888888888888,
             "#fdca26"
            ],
            [
             1,
             "#f0f921"
            ]
           ],
           "sequentialminus": [
            [
             0,
             "#0d0887"
            ],
            [
             0.1111111111111111,
             "#46039f"
            ],
            [
             0.2222222222222222,
             "#7201a8"
            ],
            [
             0.3333333333333333,
             "#9c179e"
            ],
            [
             0.4444444444444444,
             "#bd3786"
            ],
            [
             0.5555555555555556,
             "#d8576b"
            ],
            [
             0.6666666666666666,
             "#ed7953"
            ],
            [
             0.7777777777777778,
             "#fb9f3a"
            ],
            [
             0.8888888888888888,
             "#fdca26"
            ],
            [
             1,
             "#f0f921"
            ]
           ]
          },
          "colorway": [
           "#636efa",
           "#EF553B",
           "#00cc96",
           "#ab63fa",
           "#FFA15A",
           "#19d3f3",
           "#FF6692",
           "#B6E880",
           "#FF97FF",
           "#FECB52"
          ],
          "font": {
           "color": "#2a3f5f"
          },
          "geo": {
           "bgcolor": "white",
           "lakecolor": "white",
           "landcolor": "#E5ECF6",
           "showlakes": true,
           "showland": true,
           "subunitcolor": "white"
          },
          "hoverlabel": {
           "align": "left"
          },
          "hovermode": "closest",
          "mapbox": {
           "style": "light"
          },
          "paper_bgcolor": "white",
          "plot_bgcolor": "#E5ECF6",
          "polar": {
           "angularaxis": {
            "gridcolor": "white",
            "linecolor": "white",
            "ticks": ""
           },
           "bgcolor": "#E5ECF6",
           "radialaxis": {
            "gridcolor": "white",
            "linecolor": "white",
            "ticks": ""
           }
          },
          "scene": {
           "xaxis": {
            "backgroundcolor": "#E5ECF6",
            "gridcolor": "white",
            "gridwidth": 2,
            "linecolor": "white",
            "showbackground": true,
            "ticks": "",
            "zerolinecolor": "white"
           },
           "yaxis": {
            "backgroundcolor": "#E5ECF6",
            "gridcolor": "white",
            "gridwidth": 2,
            "linecolor": "white",
            "showbackground": true,
            "ticks": "",
            "zerolinecolor": "white"
           },
           "zaxis": {
            "backgroundcolor": "#E5ECF6",
            "gridcolor": "white",
            "gridwidth": 2,
            "linecolor": "white",
            "showbackground": true,
            "ticks": "",
            "zerolinecolor": "white"
           }
          },
          "shapedefaults": {
           "line": {
            "color": "#2a3f5f"
           }
          },
          "ternary": {
           "aaxis": {
            "gridcolor": "white",
            "linecolor": "white",
            "ticks": ""
           },
           "baxis": {
            "gridcolor": "white",
            "linecolor": "white",
            "ticks": ""
           },
           "bgcolor": "#E5ECF6",
           "caxis": {
            "gridcolor": "white",
            "linecolor": "white",
            "ticks": ""
           }
          },
          "title": {
           "x": 0.05
          },
          "xaxis": {
           "automargin": true,
           "gridcolor": "white",
           "linecolor": "white",
           "ticks": "",
           "title": {
            "standoff": 15
           },
           "zerolinecolor": "white",
           "zerolinewidth": 2
          },
          "yaxis": {
           "automargin": true,
           "gridcolor": "white",
           "linecolor": "white",
           "ticks": "",
           "title": {
            "standoff": 15
           },
           "zerolinecolor": "white",
           "zerolinewidth": 2
          }
         }
        },
        "updatemenus": [
         {
          "buttons": [
           {
            "args": [
             null,
             {
              "frame": {
               "duration": 1500,
               "redraw": true
              },
              "fromcurrent": true,
              "mode": "immediate",
              "transition": {
               "duration": 500,
               "easing": "linear"
              }
             }
            ],
            "label": "&#9654;",
            "method": "animate"
           },
           {
            "args": [
             [
              null
             ],
             {
              "frame": {
               "duration": 0,
               "redraw": true
              },
              "fromcurrent": true,
              "mode": "immediate",
              "transition": {
               "duration": 0,
               "easing": "linear"
              }
             }
            ],
            "label": "&#9724;",
            "method": "animate"
           }
          ],
          "direction": "left",
          "pad": {
           "r": 10,
           "t": 70
          },
          "showactive": false,
          "type": "buttons",
          "x": 0.1,
          "xanchor": "right",
          "y": 0,
          "yanchor": "top"
         }
        ],
        "xaxis": {
         "anchor": "y",
         "domain": [
          0,
          1
         ],
         "range": [
          0,
          80
         ],
         "title": {
          "text": "Global Sales (in Millions)"
         }
        },
        "yaxis": {
         "anchor": "x",
         "domain": [
          0,
          1
         ],
         "title": {
          "font": {
           "color": "white"
          },
          "text": "Name"
         }
        }
       }
      },
      "text/html": [
       "<div>                            <div id=\"d248767d-d375-40ae-8174-f24e36e146bb\" class=\"plotly-graph-div\" style=\"height:525px; width:100%;\"></div>            <script type=\"text/javascript\">                require([\"plotly\"], function(Plotly) {                    window.PLOTLYENV=window.PLOTLYENV || {};                                    if (document.getElementById(\"d248767d-d375-40ae-8174-f24e36e146bb\")) {                    Plotly.newPlot(                        \"d248767d-d375-40ae-8174-f24e36e146bb\",                        [{\"alignmentgroup\":\"True\",\"hovertemplate\":\"Year=1980<br>Global Sales (in Millions)=%{x}<br>Name=%{y}<br>Meta Score=%{marker.color}<extra></extra>\",\"legendgroup\":\"\",\"marker\":{\"color\":[68.0,76.0,74.0,65.0,60.6,65.0,63.0,83.5,61.0,62.0],\"coloraxis\":\"coloraxis\",\"pattern\":{\"shape\":\"\"}},\"name\":\"\",\"offsetgroup\":\"\",\"orientation\":\"h\",\"showlegend\":false,\"textposition\":\"auto\",\"x\":[1.08,1.12,1.3499999999999999,1.65,1.6500000000000004,2.05,3.21,4.59,6.36,9.03],\"xaxis\":\"x\",\"y\":[\"Joust\",\"Lode Runner\",\"Bomberman\",\"Ms. Pac-Man\",\"Defender\",\"Dig Dug\",\"Missile Command\",\"Spider-Man\",\"Frogger\",\"Pac-Man\"],\"yaxis\":\"y\",\"type\":\"bar\"}],                        {\"template\":{\"data\":{\"histogram2dcontour\":[{\"type\":\"histogram2dcontour\",\"colorbar\":{\"outlinewidth\":0,\"ticks\":\"\"},\"colorscale\":[[0.0,\"#0d0887\"],[0.1111111111111111,\"#46039f\"],[0.2222222222222222,\"#7201a8\"],[0.3333333333333333,\"#9c179e\"],[0.4444444444444444,\"#bd3786\"],[0.5555555555555556,\"#d8576b\"],[0.6666666666666666,\"#ed7953\"],[0.7777777777777778,\"#fb9f3a\"],[0.8888888888888888,\"#fdca26\"],[1.0,\"#f0f921\"]]}],\"choropleth\":[{\"type\":\"choropleth\",\"colorbar\":{\"outlinewidth\":0,\"ticks\":\"\"}}],\"histogram2d\":[{\"type\":\"histogram2d\",\"colorbar\":{\"outlinewidth\":0,\"ticks\":\"\"},\"colorscale\":[[0.0,\"#0d0887\"],[0.1111111111111111,\"#46039f\"],[0.2222222222222222,\"#7201a8\"],[0.3333333333333333,\"#9c179e\"],[0.4444444444444444,\"#bd3786\"],[0.5555555555555556,\"#d8576b\"],[0.6666666666666666,\"#ed7953\"],[0.7777777777777778,\"#fb9f3a\"],[0.8888888888888888,\"#fdca26\"],[1.0,\"#f0f921\"]]}],\"heatmap\":[{\"type\":\"heatmap\",\"colorbar\":{\"outlinewidth\":0,\"ticks\":\"\"},\"colorscale\":[[0.0,\"#0d0887\"],[0.1111111111111111,\"#46039f\"],[0.2222222222222222,\"#7201a8\"],[0.3333333333333333,\"#9c179e\"],[0.4444444444444444,\"#bd3786\"],[0.5555555555555556,\"#d8576b\"],[0.6666666666666666,\"#ed7953\"],[0.7777777777777778,\"#fb9f3a\"],[0.8888888888888888,\"#fdca26\"],[1.0,\"#f0f921\"]]}],\"heatmapgl\":[{\"type\":\"heatmapgl\",\"colorbar\":{\"outlinewidth\":0,\"ticks\":\"\"},\"colorscale\":[[0.0,\"#0d0887\"],[0.1111111111111111,\"#46039f\"],[0.2222222222222222,\"#7201a8\"],[0.3333333333333333,\"#9c179e\"],[0.4444444444444444,\"#bd3786\"],[0.5555555555555556,\"#d8576b\"],[0.6666666666666666,\"#ed7953\"],[0.7777777777777778,\"#fb9f3a\"],[0.8888888888888888,\"#fdca26\"],[1.0,\"#f0f921\"]]}],\"contourcarpet\":[{\"type\":\"contourcarpet\",\"colorbar\":{\"outlinewidth\":0,\"ticks\":\"\"}}],\"contour\":[{\"type\":\"contour\",\"colorbar\":{\"outlinewidth\":0,\"ticks\":\"\"},\"colorscale\":[[0.0,\"#0d0887\"],[0.1111111111111111,\"#46039f\"],[0.2222222222222222,\"#7201a8\"],[0.3333333333333333,\"#9c179e\"],[0.4444444444444444,\"#bd3786\"],[0.5555555555555556,\"#d8576b\"],[0.6666666666666666,\"#ed7953\"],[0.7777777777777778,\"#fb9f3a\"],[0.8888888888888888,\"#fdca26\"],[1.0,\"#f0f921\"]]}],\"surface\":[{\"type\":\"surface\",\"colorbar\":{\"outlinewidth\":0,\"ticks\":\"\"},\"colorscale\":[[0.0,\"#0d0887\"],[0.1111111111111111,\"#46039f\"],[0.2222222222222222,\"#7201a8\"],[0.3333333333333333,\"#9c179e\"],[0.4444444444444444,\"#bd3786\"],[0.5555555555555556,\"#d8576b\"],[0.6666666666666666,\"#ed7953\"],[0.7777777777777778,\"#fb9f3a\"],[0.8888888888888888,\"#fdca26\"],[1.0,\"#f0f921\"]]}],\"mesh3d\":[{\"type\":\"mesh3d\",\"colorbar\":{\"outlinewidth\":0,\"ticks\":\"\"}}],\"scatter\":[{\"fillpattern\":{\"fillmode\":\"overlay\",\"size\":10,\"solidity\":0.2},\"type\":\"scatter\"}],\"parcoords\":[{\"type\":\"parcoords\",\"line\":{\"colorbar\":{\"outlinewidth\":0,\"ticks\":\"\"}}}],\"scatterpolargl\":[{\"type\":\"scatterpolargl\",\"marker\":{\"colorbar\":{\"outlinewidth\":0,\"ticks\":\"\"}}}],\"bar\":[{\"error_x\":{\"color\":\"#2a3f5f\"},\"error_y\":{\"color\":\"#2a3f5f\"},\"marker\":{\"line\":{\"color\":\"#E5ECF6\",\"width\":0.5},\"pattern\":{\"fillmode\":\"overlay\",\"size\":10,\"solidity\":0.2}},\"type\":\"bar\"}],\"scattergeo\":[{\"type\":\"scattergeo\",\"marker\":{\"colorbar\":{\"outlinewidth\":0,\"ticks\":\"\"}}}],\"scatterpolar\":[{\"type\":\"scatterpolar\",\"marker\":{\"colorbar\":{\"outlinewidth\":0,\"ticks\":\"\"}}}],\"histogram\":[{\"marker\":{\"pattern\":{\"fillmode\":\"overlay\",\"size\":10,\"solidity\":0.2}},\"type\":\"histogram\"}],\"scattergl\":[{\"type\":\"scattergl\",\"marker\":{\"colorbar\":{\"outlinewidth\":0,\"ticks\":\"\"}}}],\"scatter3d\":[{\"type\":\"scatter3d\",\"line\":{\"colorbar\":{\"outlinewidth\":0,\"ticks\":\"\"}},\"marker\":{\"colorbar\":{\"outlinewidth\":0,\"ticks\":\"\"}}}],\"scattermapbox\":[{\"type\":\"scattermapbox\",\"marker\":{\"colorbar\":{\"outlinewidth\":0,\"ticks\":\"\"}}}],\"scatterternary\":[{\"type\":\"scatterternary\",\"marker\":{\"colorbar\":{\"outlinewidth\":0,\"ticks\":\"\"}}}],\"scattercarpet\":[{\"type\":\"scattercarpet\",\"marker\":{\"colorbar\":{\"outlinewidth\":0,\"ticks\":\"\"}}}],\"carpet\":[{\"aaxis\":{\"endlinecolor\":\"#2a3f5f\",\"gridcolor\":\"white\",\"linecolor\":\"white\",\"minorgridcolor\":\"white\",\"startlinecolor\":\"#2a3f5f\"},\"baxis\":{\"endlinecolor\":\"#2a3f5f\",\"gridcolor\":\"white\",\"linecolor\":\"white\",\"minorgridcolor\":\"white\",\"startlinecolor\":\"#2a3f5f\"},\"type\":\"carpet\"}],\"table\":[{\"cells\":{\"fill\":{\"color\":\"#EBF0F8\"},\"line\":{\"color\":\"white\"}},\"header\":{\"fill\":{\"color\":\"#C8D4E3\"},\"line\":{\"color\":\"white\"}},\"type\":\"table\"}],\"barpolar\":[{\"marker\":{\"line\":{\"color\":\"#E5ECF6\",\"width\":0.5},\"pattern\":{\"fillmode\":\"overlay\",\"size\":10,\"solidity\":0.2}},\"type\":\"barpolar\"}],\"pie\":[{\"automargin\":true,\"type\":\"pie\"}]},\"layout\":{\"autotypenumbers\":\"strict\",\"colorway\":[\"#636efa\",\"#EF553B\",\"#00cc96\",\"#ab63fa\",\"#FFA15A\",\"#19d3f3\",\"#FF6692\",\"#B6E880\",\"#FF97FF\",\"#FECB52\"],\"font\":{\"color\":\"#2a3f5f\"},\"hovermode\":\"closest\",\"hoverlabel\":{\"align\":\"left\"},\"paper_bgcolor\":\"white\",\"plot_bgcolor\":\"#E5ECF6\",\"polar\":{\"bgcolor\":\"#E5ECF6\",\"angularaxis\":{\"gridcolor\":\"white\",\"linecolor\":\"white\",\"ticks\":\"\"},\"radialaxis\":{\"gridcolor\":\"white\",\"linecolor\":\"white\",\"ticks\":\"\"}},\"ternary\":{\"bgcolor\":\"#E5ECF6\",\"aaxis\":{\"gridcolor\":\"white\",\"linecolor\":\"white\",\"ticks\":\"\"},\"baxis\":{\"gridcolor\":\"white\",\"linecolor\":\"white\",\"ticks\":\"\"},\"caxis\":{\"gridcolor\":\"white\",\"linecolor\":\"white\",\"ticks\":\"\"}},\"coloraxis\":{\"colorbar\":{\"outlinewidth\":0,\"ticks\":\"\"}},\"colorscale\":{\"sequential\":[[0.0,\"#0d0887\"],[0.1111111111111111,\"#46039f\"],[0.2222222222222222,\"#7201a8\"],[0.3333333333333333,\"#9c179e\"],[0.4444444444444444,\"#bd3786\"],[0.5555555555555556,\"#d8576b\"],[0.6666666666666666,\"#ed7953\"],[0.7777777777777778,\"#fb9f3a\"],[0.8888888888888888,\"#fdca26\"],[1.0,\"#f0f921\"]],\"sequentialminus\":[[0.0,\"#0d0887\"],[0.1111111111111111,\"#46039f\"],[0.2222222222222222,\"#7201a8\"],[0.3333333333333333,\"#9c179e\"],[0.4444444444444444,\"#bd3786\"],[0.5555555555555556,\"#d8576b\"],[0.6666666666666666,\"#ed7953\"],[0.7777777777777778,\"#fb9f3a\"],[0.8888888888888888,\"#fdca26\"],[1.0,\"#f0f921\"]],\"diverging\":[[0,\"#8e0152\"],[0.1,\"#c51b7d\"],[0.2,\"#de77ae\"],[0.3,\"#f1b6da\"],[0.4,\"#fde0ef\"],[0.5,\"#f7f7f7\"],[0.6,\"#e6f5d0\"],[0.7,\"#b8e186\"],[0.8,\"#7fbc41\"],[0.9,\"#4d9221\"],[1,\"#276419\"]]},\"xaxis\":{\"gridcolor\":\"white\",\"linecolor\":\"white\",\"ticks\":\"\",\"title\":{\"standoff\":15},\"zerolinecolor\":\"white\",\"automargin\":true,\"zerolinewidth\":2},\"yaxis\":{\"gridcolor\":\"white\",\"linecolor\":\"white\",\"ticks\":\"\",\"title\":{\"standoff\":15},\"zerolinecolor\":\"white\",\"automargin\":true,\"zerolinewidth\":2},\"scene\":{\"xaxis\":{\"backgroundcolor\":\"#E5ECF6\",\"gridcolor\":\"white\",\"linecolor\":\"white\",\"showbackground\":true,\"ticks\":\"\",\"zerolinecolor\":\"white\",\"gridwidth\":2},\"yaxis\":{\"backgroundcolor\":\"#E5ECF6\",\"gridcolor\":\"white\",\"linecolor\":\"white\",\"showbackground\":true,\"ticks\":\"\",\"zerolinecolor\":\"white\",\"gridwidth\":2},\"zaxis\":{\"backgroundcolor\":\"#E5ECF6\",\"gridcolor\":\"white\",\"linecolor\":\"white\",\"showbackground\":true,\"ticks\":\"\",\"zerolinecolor\":\"white\",\"gridwidth\":2}},\"shapedefaults\":{\"line\":{\"color\":\"#2a3f5f\"}},\"annotationdefaults\":{\"arrowcolor\":\"#2a3f5f\",\"arrowhead\":0,\"arrowwidth\":1},\"geo\":{\"bgcolor\":\"white\",\"landcolor\":\"#E5ECF6\",\"subunitcolor\":\"white\",\"showland\":true,\"showlakes\":true,\"lakecolor\":\"white\"},\"title\":{\"x\":0.05},\"mapbox\":{\"style\":\"light\"}}},\"xaxis\":{\"anchor\":\"y\",\"domain\":[0.0,1.0],\"title\":{\"text\":\"Global Sales (in Millions)\"},\"range\":[0,80]},\"yaxis\":{\"anchor\":\"x\",\"domain\":[0.0,1.0],\"title\":{\"text\":\"Name\",\"font\":{\"color\":\"white\"}}},\"coloraxis\":{\"colorbar\":{\"title\":{\"text\":\"Meta Score\"}},\"colorscale\":[[0.0,\"red\"],[0.5,\"yellow\"],[1.0,\"green\"]],\"cmin\":0,\"cmax\":100},\"legend\":{\"tracegroupgap\":0},\"margin\":{\"t\":60,\"l\":400},\"barmode\":\"relative\",\"updatemenus\":[{\"buttons\":[{\"args\":[null,{\"frame\":{\"duration\":1500,\"redraw\":true},\"mode\":\"immediate\",\"fromcurrent\":true,\"transition\":{\"duration\":500,\"easing\":\"linear\"}}],\"label\":\"&#9654;\",\"method\":\"animate\"},{\"args\":[[null],{\"frame\":{\"duration\":0,\"redraw\":true},\"mode\":\"immediate\",\"fromcurrent\":true,\"transition\":{\"duration\":0,\"easing\":\"linear\"}}],\"label\":\"&#9724;\",\"method\":\"animate\"}],\"direction\":\"left\",\"pad\":{\"r\":10,\"t\":70},\"showactive\":false,\"type\":\"buttons\",\"x\":0.1,\"xanchor\":\"right\",\"y\":0,\"yanchor\":\"top\"}],\"sliders\":[{\"active\":0,\"currentvalue\":{\"prefix\":\"Year=\"},\"len\":0.9,\"pad\":{\"b\":10,\"t\":60},\"steps\":[{\"args\":[[\"1980\"],{\"frame\":{\"duration\":0,\"redraw\":true},\"mode\":\"immediate\",\"fromcurrent\":true,\"transition\":{\"duration\":0,\"easing\":\"linear\"}}],\"label\":\"1980\",\"method\":\"animate\"},{\"args\":[[\"1981\"],{\"frame\":{\"duration\":0,\"redraw\":true},\"mode\":\"immediate\",\"fromcurrent\":true,\"transition\":{\"duration\":0,\"easing\":\"linear\"}}],\"label\":\"1981\",\"method\":\"animate\"},{\"args\":[[\"1982\"],{\"frame\":{\"duration\":0,\"redraw\":true},\"mode\":\"immediate\",\"fromcurrent\":true,\"transition\":{\"duration\":0,\"easing\":\"linear\"}}],\"label\":\"1982\",\"method\":\"animate\"},{\"args\":[[\"1983\"],{\"frame\":{\"duration\":0,\"redraw\":true},\"mode\":\"immediate\",\"fromcurrent\":true,\"transition\":{\"duration\":0,\"easing\":\"linear\"}}],\"label\":\"1983\",\"method\":\"animate\"},{\"args\":[[\"1984\"],{\"frame\":{\"duration\":0,\"redraw\":true},\"mode\":\"immediate\",\"fromcurrent\":true,\"transition\":{\"duration\":0,\"easing\":\"linear\"}}],\"label\":\"1984\",\"method\":\"animate\"},{\"args\":[[\"1985\"],{\"frame\":{\"duration\":0,\"redraw\":true},\"mode\":\"immediate\",\"fromcurrent\":true,\"transition\":{\"duration\":0,\"easing\":\"linear\"}}],\"label\":\"1985\",\"method\":\"animate\"},{\"args\":[[\"1986\"],{\"frame\":{\"duration\":0,\"redraw\":true},\"mode\":\"immediate\",\"fromcurrent\":true,\"transition\":{\"duration\":0,\"easing\":\"linear\"}}],\"label\":\"1986\",\"method\":\"animate\"},{\"args\":[[\"1987\"],{\"frame\":{\"duration\":0,\"redraw\":true},\"mode\":\"immediate\",\"fromcurrent\":true,\"transition\":{\"duration\":0,\"easing\":\"linear\"}}],\"label\":\"1987\",\"method\":\"animate\"},{\"args\":[[\"1988\"],{\"frame\":{\"duration\":0,\"redraw\":true},\"mode\":\"immediate\",\"fromcurrent\":true,\"transition\":{\"duration\":0,\"easing\":\"linear\"}}],\"label\":\"1988\",\"method\":\"animate\"},{\"args\":[[\"1989\"],{\"frame\":{\"duration\":0,\"redraw\":true},\"mode\":\"immediate\",\"fromcurrent\":true,\"transition\":{\"duration\":0,\"easing\":\"linear\"}}],\"label\":\"1989\",\"method\":\"animate\"},{\"args\":[[\"1990\"],{\"frame\":{\"duration\":0,\"redraw\":true},\"mode\":\"immediate\",\"fromcurrent\":true,\"transition\":{\"duration\":0,\"easing\":\"linear\"}}],\"label\":\"1990\",\"method\":\"animate\"},{\"args\":[[\"1991\"],{\"frame\":{\"duration\":0,\"redraw\":true},\"mode\":\"immediate\",\"fromcurrent\":true,\"transition\":{\"duration\":0,\"easing\":\"linear\"}}],\"label\":\"1991\",\"method\":\"animate\"},{\"args\":[[\"1992\"],{\"frame\":{\"duration\":0,\"redraw\":true},\"mode\":\"immediate\",\"fromcurrent\":true,\"transition\":{\"duration\":0,\"easing\":\"linear\"}}],\"label\":\"1992\",\"method\":\"animate\"},{\"args\":[[\"1993\"],{\"frame\":{\"duration\":0,\"redraw\":true},\"mode\":\"immediate\",\"fromcurrent\":true,\"transition\":{\"duration\":0,\"easing\":\"linear\"}}],\"label\":\"1993\",\"method\":\"animate\"},{\"args\":[[\"1994\"],{\"frame\":{\"duration\":0,\"redraw\":true},\"mode\":\"immediate\",\"fromcurrent\":true,\"transition\":{\"duration\":0,\"easing\":\"linear\"}}],\"label\":\"1994\",\"method\":\"animate\"},{\"args\":[[\"1995\"],{\"frame\":{\"duration\":0,\"redraw\":true},\"mode\":\"immediate\",\"fromcurrent\":true,\"transition\":{\"duration\":0,\"easing\":\"linear\"}}],\"label\":\"1995\",\"method\":\"animate\"},{\"args\":[[\"1996\"],{\"frame\":{\"duration\":0,\"redraw\":true},\"mode\":\"immediate\",\"fromcurrent\":true,\"transition\":{\"duration\":0,\"easing\":\"linear\"}}],\"label\":\"1996\",\"method\":\"animate\"},{\"args\":[[\"1997\"],{\"frame\":{\"duration\":0,\"redraw\":true},\"mode\":\"immediate\",\"fromcurrent\":true,\"transition\":{\"duration\":0,\"easing\":\"linear\"}}],\"label\":\"1997\",\"method\":\"animate\"},{\"args\":[[\"1998\"],{\"frame\":{\"duration\":0,\"redraw\":true},\"mode\":\"immediate\",\"fromcurrent\":true,\"transition\":{\"duration\":0,\"easing\":\"linear\"}}],\"label\":\"1998\",\"method\":\"animate\"},{\"args\":[[\"1999\"],{\"frame\":{\"duration\":0,\"redraw\":true},\"mode\":\"immediate\",\"fromcurrent\":true,\"transition\":{\"duration\":0,\"easing\":\"linear\"}}],\"label\":\"1999\",\"method\":\"animate\"},{\"args\":[[\"2000\"],{\"frame\":{\"duration\":0,\"redraw\":true},\"mode\":\"immediate\",\"fromcurrent\":true,\"transition\":{\"duration\":0,\"easing\":\"linear\"}}],\"label\":\"2000\",\"method\":\"animate\"},{\"args\":[[\"2001\"],{\"frame\":{\"duration\":0,\"redraw\":true},\"mode\":\"immediate\",\"fromcurrent\":true,\"transition\":{\"duration\":0,\"easing\":\"linear\"}}],\"label\":\"2001\",\"method\":\"animate\"},{\"args\":[[\"2002\"],{\"frame\":{\"duration\":0,\"redraw\":true},\"mode\":\"immediate\",\"fromcurrent\":true,\"transition\":{\"duration\":0,\"easing\":\"linear\"}}],\"label\":\"2002\",\"method\":\"animate\"},{\"args\":[[\"2003\"],{\"frame\":{\"duration\":0,\"redraw\":true},\"mode\":\"immediate\",\"fromcurrent\":true,\"transition\":{\"duration\":0,\"easing\":\"linear\"}}],\"label\":\"2003\",\"method\":\"animate\"},{\"args\":[[\"2004\"],{\"frame\":{\"duration\":0,\"redraw\":true},\"mode\":\"immediate\",\"fromcurrent\":true,\"transition\":{\"duration\":0,\"easing\":\"linear\"}}],\"label\":\"2004\",\"method\":\"animate\"},{\"args\":[[\"2005\"],{\"frame\":{\"duration\":0,\"redraw\":true},\"mode\":\"immediate\",\"fromcurrent\":true,\"transition\":{\"duration\":0,\"easing\":\"linear\"}}],\"label\":\"2005\",\"method\":\"animate\"},{\"args\":[[\"2006\"],{\"frame\":{\"duration\":0,\"redraw\":true},\"mode\":\"immediate\",\"fromcurrent\":true,\"transition\":{\"duration\":0,\"easing\":\"linear\"}}],\"label\":\"2006\",\"method\":\"animate\"},{\"args\":[[\"2007\"],{\"frame\":{\"duration\":0,\"redraw\":true},\"mode\":\"immediate\",\"fromcurrent\":true,\"transition\":{\"duration\":0,\"easing\":\"linear\"}}],\"label\":\"2007\",\"method\":\"animate\"},{\"args\":[[\"2008\"],{\"frame\":{\"duration\":0,\"redraw\":true},\"mode\":\"immediate\",\"fromcurrent\":true,\"transition\":{\"duration\":0,\"easing\":\"linear\"}}],\"label\":\"2008\",\"method\":\"animate\"},{\"args\":[[\"2009\"],{\"frame\":{\"duration\":0,\"redraw\":true},\"mode\":\"immediate\",\"fromcurrent\":true,\"transition\":{\"duration\":0,\"easing\":\"linear\"}}],\"label\":\"2009\",\"method\":\"animate\"},{\"args\":[[\"2010\"],{\"frame\":{\"duration\":0,\"redraw\":true},\"mode\":\"immediate\",\"fromcurrent\":true,\"transition\":{\"duration\":0,\"easing\":\"linear\"}}],\"label\":\"2010\",\"method\":\"animate\"},{\"args\":[[\"2011\"],{\"frame\":{\"duration\":0,\"redraw\":true},\"mode\":\"immediate\",\"fromcurrent\":true,\"transition\":{\"duration\":0,\"easing\":\"linear\"}}],\"label\":\"2011\",\"method\":\"animate\"},{\"args\":[[\"2012\"],{\"frame\":{\"duration\":0,\"redraw\":true},\"mode\":\"immediate\",\"fromcurrent\":true,\"transition\":{\"duration\":0,\"easing\":\"linear\"}}],\"label\":\"2012\",\"method\":\"animate\"},{\"args\":[[\"2013\"],{\"frame\":{\"duration\":0,\"redraw\":true},\"mode\":\"immediate\",\"fromcurrent\":true,\"transition\":{\"duration\":0,\"easing\":\"linear\"}}],\"label\":\"2013\",\"method\":\"animate\"},{\"args\":[[\"2014\"],{\"frame\":{\"duration\":0,\"redraw\":true},\"mode\":\"immediate\",\"fromcurrent\":true,\"transition\":{\"duration\":0,\"easing\":\"linear\"}}],\"label\":\"2014\",\"method\":\"animate\"}],\"x\":0.1,\"xanchor\":\"left\",\"y\":0,\"yanchor\":\"top\"}]},                        {\"responsive\": true}                    ).then(function(){\n",
       "                            Plotly.addFrames('d248767d-d375-40ae-8174-f24e36e146bb', [{\"data\":[{\"alignmentgroup\":\"True\",\"hovertemplate\":\"Year=1980<br>Global Sales (in Millions)=%{x}<br>Name=%{y}<br>Meta Score=%{marker.color}<extra></extra>\",\"legendgroup\":\"\",\"marker\":{\"color\":[68.0,76.0,74.0,65.0,60.6,65.0,63.0,83.5,61.0,62.0],\"coloraxis\":\"coloraxis\",\"pattern\":{\"shape\":\"\"}},\"name\":\"\",\"offsetgroup\":\"\",\"orientation\":\"h\",\"showlegend\":false,\"textposition\":\"auto\",\"x\":[1.08,1.12,1.3499999999999999,1.65,1.6500000000000004,2.05,3.21,4.59,6.36,9.03],\"xaxis\":\"x\",\"y\":[\"Joust\",\"Lode Runner\",\"Bomberman\",\"Ms. Pac-Man\",\"Defender\",\"Dig Dug\",\"Missile Command\",\"Spider-Man\",\"Frogger\",\"Pac-Man\"],\"yaxis\":\"y\",\"type\":\"bar\"}],\"name\":\"1980\"},{\"data\":[{\"alignmentgroup\":\"True\",\"hovertemplate\":\"Year=1981<br>Global Sales (in Millions)=%{x}<br>Name=%{y}<br>Meta Score=%{marker.color}<extra></extra>\",\"legendgroup\":\"\",\"marker\":{\"color\":[64.0,68.0,76.0,74.0,65.0,78.0,65.0,83.5,61.0,62.0],\"coloraxis\":\"coloraxis\",\"pattern\":{\"shape\":\"\"}},\"name\":\"\",\"offsetgroup\":\"\",\"orientation\":\"h\",\"showlegend\":false,\"textposition\":\"auto\",\"x\":[0.96,1.08,1.12,1.3499999999999999,1.65,1.87,2.05,4.59,6.36,9.03],\"xaxis\":\"x\",\"y\":[\"Star Soldier\",\"Joust\",\"Lode Runner\",\"Bomberman\",\"Ms. Pac-Man\",\"Castlevania\",\"Dig Dug\",\"Spider-Man\",\"Frogger\",\"Pac-Man\"],\"yaxis\":\"y\",\"type\":\"bar\"}],\"name\":\"1981\"},{\"data\":[{\"alignmentgroup\":\"True\",\"hovertemplate\":\"Year=1982<br>Global Sales (in Millions)=%{x}<br>Name=%{y}<br>Meta Score=%{marker.color}<extra></extra>\",\"legendgroup\":\"\",\"marker\":{\"color\":[50.0,55.0,64.0,68.0,76.0,74.0,67.0,78.0,65.0,62.0],\"coloraxis\":\"coloraxis\",\"pattern\":{\"shape\":\"\"}},\"name\":\"\",\"offsetgroup\":\"\",\"orientation\":\"h\",\"showlegend\":false,\"textposition\":\"auto\",\"x\":[0.65,0.78,0.96,1.08,1.12,1.3499999999999999,1.35,1.87,2.05,9.03],\"xaxis\":\"x\",\"y\":[\"Battlezone\",\"Yars' Revenge\",\"Star Soldier\",\"Joust\",\"Lode Runner\",\"Bomberman\",\"Final Fantasy\",\"Castlevania\",\"Dig Dug\",\"Pac-Man\"],\"yaxis\":\"y\",\"type\":\"bar\"}],\"name\":\"1982\"},{\"data\":[{\"alignmentgroup\":\"True\",\"hovertemplate\":\"Year=1983<br>Global Sales (in Millions)=%{x}<br>Name=%{y}<br>Meta Score=%{marker.color}<extra></extra>\",\"legendgroup\":\"\",\"marker\":{\"color\":[64.0,76.0,74.0,67.0,78.0,64.0,63.0,82.5],\"coloraxis\":\"coloraxis\",\"pattern\":{\"shape\":\"\"}},\"name\":\"\",\"offsetgroup\":\"\",\"orientation\":\"h\",\"showlegend\":false,\"textposition\":\"auto\",\"x\":[0.96,1.12,1.3499999999999999,1.35,1.87,2.01,2.7800000000000002,35.84],\"xaxis\":\"x\",\"y\":[\"Star Soldier\",\"Lode Runner\",\"Bomberman\",\"Final Fantasy\",\"Castlevania\",\"SimCity\",\"Final Fantasy II\",\"Tetris\"],\"yaxis\":\"y\",\"type\":\"bar\"}],\"name\":\"1983\"},{\"data\":[{\"alignmentgroup\":\"True\",\"hovertemplate\":\"Year=1984<br>Global Sales (in Millions)=%{x}<br>Name=%{y}<br>Meta Score=%{marker.color}<extra></extra>\",\"legendgroup\":\"\",\"marker\":{\"color\":[57.0,64.0,76.0,74.0,67.0,78.0,64.0,63.0,62.33,82.5],\"coloraxis\":\"coloraxis\",\"pattern\":{\"shape\":\"\"}},\"name\":\"\",\"offsetgroup\":\"\",\"orientation\":\"h\",\"showlegend\":false,\"textposition\":\"auto\",\"x\":[0.47,0.96,1.12,1.3499999999999999,1.35,1.87,2.01,2.7800000000000002,6.669999999999999,35.84],\"xaxis\":\"x\",\"y\":[\"Double Dragon\",\"Star Soldier\",\"Lode Runner\",\"Bomberman\",\"Final Fantasy\",\"Castlevania\",\"SimCity\",\"Final Fantasy II\",\"Teenage Mutant Ninja Turtles\",\"Tetris\"],\"yaxis\":\"y\",\"type\":\"bar\"}],\"name\":\"1984\"},{\"data\":[{\"alignmentgroup\":\"True\",\"hovertemplate\":\"Year=1985<br>Global Sales (in Millions)=%{x}<br>Name=%{y}<br>Meta Score=%{marker.color}<extra></extra>\",\"legendgroup\":\"\",\"marker\":{\"color\":[64.0,74.0,67.0,78.0,64.0,63.0,82.67,62.33,77.0,82.5],\"coloraxis\":\"coloraxis\",\"pattern\":{\"shape\":\"\"}},\"name\":\"\",\"offsetgroup\":\"\",\"orientation\":\"h\",\"showlegend\":false,\"textposition\":\"auto\",\"x\":[0.96,1.3499999999999999,1.35,1.87,2.01,2.7800000000000002,5.2,6.669999999999999,7.05,35.84],\"xaxis\":\"x\",\"y\":[\"Star Soldier\",\"Bomberman\",\"Final Fantasy\",\"Castlevania\",\"SimCity\",\"Final Fantasy II\",\"Streets of Rage\",\"Teenage Mutant Ninja Turtles\",\"Final Fantasy III\",\"Tetris\"],\"yaxis\":\"y\",\"type\":\"bar\"}],\"name\":\"1985\"},{\"data\":[{\"alignmentgroup\":\"True\",\"hovertemplate\":\"Year=1986<br>Global Sales (in Millions)=%{x}<br>Name=%{y}<br>Meta Score=%{marker.color}<extra></extra>\",\"legendgroup\":\"\",\"marker\":{\"color\":[78.0,67.0,78.0,64.0,63.0,82.67,62.33,77.0,95.0,82.5],\"coloraxis\":\"coloraxis\",\"pattern\":{\"shape\":\"\"}},\"name\":\"\",\"offsetgroup\":\"\",\"orientation\":\"h\",\"showlegend\":false,\"textposition\":\"auto\",\"x\":[1.25,1.35,1.87,2.01,2.7800000000000002,5.2,6.669999999999999,7.05,7.3100000000000005,35.84],\"xaxis\":\"x\",\"y\":[\"Super Ghouls 'n Ghosts\",\"Final Fantasy\",\"Castlevania\",\"SimCity\",\"Final Fantasy II\",\"Streets of Rage\",\"Teenage Mutant Ninja Turtles\",\"Final Fantasy III\",\"The Legend of Zelda: A Link to the Past\",\"Tetris\"],\"yaxis\":\"y\",\"type\":\"bar\"}],\"name\":\"1986\"},{\"data\":[{\"alignmentgroup\":\"True\",\"hovertemplate\":\"Year=1987<br>Global Sales (in Millions)=%{x}<br>Name=%{y}<br>Meta Score=%{marker.color}<extra></extra>\",\"legendgroup\":\"\",\"marker\":{\"color\":[63.0,62.0,82.67,75.0,82.0,62.33,77.0,95.0,84.5,82.5],\"coloraxis\":\"coloraxis\",\"pattern\":{\"shape\":\"\"}},\"name\":\"\",\"offsetgroup\":\"\",\"orientation\":\"h\",\"showlegend\":false,\"textposition\":\"auto\",\"x\":[2.7800000000000002,4.240000000000001,5.2,5.22,6.03,6.669999999999999,7.05,7.3100000000000005,8.399999999999999,35.84],\"xaxis\":\"x\",\"y\":[\"Final Fantasy II\",\"SimCity 2000\",\"Streets of Rage\",\"NBA Jam\",\"Sonic the Hedgehog 2\",\"Teenage Mutant Ninja Turtles\",\"Final Fantasy III\",\"The Legend of Zelda: A Link to the Past\",\"Mortal Kombat\",\"Tetris\"],\"yaxis\":\"y\",\"type\":\"bar\"}],\"name\":\"1987\"},{\"data\":[{\"alignmentgroup\":\"True\",\"hovertemplate\":\"Year=1988<br>Global Sales (in Millions)=%{x}<br>Name=%{y}<br>Meta Score=%{marker.color}<extra></extra>\",\"legendgroup\":\"\",\"marker\":{\"color\":[62.0,82.67,75.0,82.0,62.33,77.0,95.0,84.5,82.0,82.5],\"coloraxis\":\"coloraxis\",\"pattern\":{\"shape\":\"\"}},\"name\":\"\",\"offsetgroup\":\"\",\"orientation\":\"h\",\"showlegend\":false,\"textposition\":\"auto\",\"x\":[4.240000000000001,5.2,5.22,6.03,6.669999999999999,7.05,7.3100000000000005,8.399999999999999,10.55,35.84],\"xaxis\":\"x\",\"y\":[\"SimCity 2000\",\"Streets of Rage\",\"NBA Jam\",\"Sonic the Hedgehog 2\",\"Teenage Mutant Ninja Turtles\",\"Final Fantasy III\",\"The Legend of Zelda: A Link to the Past\",\"Mortal Kombat\",\"Super Mario All-Stars\",\"Tetris\"],\"yaxis\":\"y\",\"type\":\"bar\"}],\"name\":\"1988\"},{\"data\":[{\"alignmentgroup\":\"True\",\"hovertemplate\":\"Year=1989<br>Global Sales (in Millions)=%{x}<br>Name=%{y}<br>Meta Score=%{marker.color}<extra></extra>\",\"legendgroup\":\"\",\"marker\":{\"color\":[62.0,82.67,75.0,82.0,62.33,77.0,95.0,84.5,82.0,78.0],\"coloraxis\":\"coloraxis\",\"pattern\":{\"shape\":\"\"}},\"name\":\"\",\"offsetgroup\":\"\",\"orientation\":\"h\",\"showlegend\":false,\"textposition\":\"auto\",\"x\":[4.240000000000001,5.2,5.22,6.03,6.669999999999999,7.05,7.3100000000000005,8.399999999999999,10.55,13.530000000000001],\"xaxis\":\"x\",\"y\":[\"SimCity 2000\",\"Streets of Rage\",\"NBA Jam\",\"Sonic the Hedgehog 2\",\"Teenage Mutant Ninja Turtles\",\"Final Fantasy III\",\"The Legend of Zelda: A Link to the Past\",\"Mortal Kombat\",\"Super Mario All-Stars\",\"Donkey Kong Country\"],\"yaxis\":\"y\",\"type\":\"bar\"}],\"name\":\"1989\"},{\"data\":[{\"alignmentgroup\":\"True\",\"hovertemplate\":\"Year=1990<br>Global Sales (in Millions)=%{x}<br>Name=%{y}<br>Meta Score=%{marker.color}<extra></extra>\",\"legendgroup\":\"\",\"marker\":{\"color\":[92.0,62.0,82.67,75.0,82.0,77.0,95.0,84.5,82.0,78.0],\"coloraxis\":\"coloraxis\",\"pattern\":{\"shape\":\"\"}},\"name\":\"\",\"offsetgroup\":\"\",\"orientation\":\"h\",\"showlegend\":false,\"textposition\":\"auto\",\"x\":[3.7800000000000002,4.240000000000001,5.2,5.22,6.03,7.05,7.3100000000000005,8.399999999999999,10.55,13.530000000000001],\"xaxis\":\"x\",\"y\":[\"Chrono Trigger\",\"SimCity 2000\",\"Streets of Rage\",\"NBA Jam\",\"Sonic the Hedgehog 2\",\"Final Fantasy III\",\"The Legend of Zelda: A Link to the Past\",\"Mortal Kombat\",\"Super Mario All-Stars\",\"Donkey Kong Country\"],\"yaxis\":\"y\",\"type\":\"bar\"}],\"name\":\"1990\"},{\"data\":[{\"alignmentgroup\":\"True\",\"hovertemplate\":\"Year=1991<br>Global Sales (in Millions)=%{x}<br>Name=%{y}<br>Meta Score=%{marker.color}<extra></extra>\",\"legendgroup\":\"\",\"marker\":{\"color\":[75.0,85.5,91.0,82.0,95.0,84.5,83.0,82.0,78.0,94.0],\"coloraxis\":\"coloraxis\",\"pattern\":{\"shape\":\"\"}},\"name\":\"\",\"offsetgroup\":\"\",\"orientation\":\"h\",\"showlegend\":false,\"textposition\":\"auto\",\"x\":[5.22,5.34,5.66,6.03,7.3100000000000005,8.399999999999999,9.87,10.55,13.530000000000001,22.310000000000002],\"xaxis\":\"x\",\"y\":[\"NBA Jam\",\"Resident Evil\",\"Tomb Raider\",\"Sonic the Hedgehog 2\",\"The Legend of Zelda: A Link to the Past\",\"Mortal Kombat\",\"Mario Kart 64\",\"Super Mario All-Stars\",\"Donkey Kong Country\",\"Super Mario 64\"],\"yaxis\":\"y\",\"type\":\"bar\"}],\"name\":\"1991\"},{\"data\":[{\"alignmentgroup\":\"True\",\"hovertemplate\":\"Year=1992<br>Global Sales (in Millions)=%{x}<br>Name=%{y}<br>Meta Score=%{marker.color}<extra></extra>\",\"legendgroup\":\"\",\"marker\":{\"color\":[82.0,76.0,80.33,84.5,86.5,83.0,82.0,96.0,78.0,94.0],\"coloraxis\":\"coloraxis\",\"pattern\":{\"shape\":\"\"}},\"name\":\"\",\"offsetgroup\":\"\",\"orientation\":\"h\",\"showlegend\":false,\"textposition\":\"auto\",\"x\":[6.03,7.53,8.09,8.399999999999999,9.72,9.87,10.55,10.95,13.530000000000001,22.310000000000002],\"xaxis\":\"x\",\"y\":[\"Sonic the Hedgehog 2\",\"Tomb Raider II\",\"GoldenEye 007\",\"Mortal Kombat\",\"Final Fantasy VII\",\"Mario Kart 64\",\"Super Mario All-Stars\",\"Gran Turismo\",\"Donkey Kong Country\",\"Super Mario 64\"],\"yaxis\":\"y\",\"type\":\"bar\"}],\"name\":\"1992\"},{\"data\":[{\"alignmentgroup\":\"True\",\"hovertemplate\":\"Year=1993<br>Global Sales (in Millions)=%{x}<br>Name=%{y}<br>Meta Score=%{marker.color}<extra></extra>\",\"legendgroup\":\"\",\"marker\":{\"color\":[80.33,80.33,86.5,83.0,82.0,96.0,78.0,81.8,94.0,99.0],\"coloraxis\":\"coloraxis\",\"pattern\":{\"shape\":\"\"}},\"name\":\"\",\"offsetgroup\":\"\",\"orientation\":\"h\",\"showlegend\":false,\"textposition\":\"auto\",\"x\":[8.09,8.610000000000001,9.72,9.87,10.55,10.95,13.530000000000001,19.319999999999993,22.310000000000002,23.62],\"xaxis\":\"x\",\"y\":[\"GoldenEye 007\",\"Medal of Honor\",\"Final Fantasy VII\",\"Mario Kart 64\",\"Super Mario All-Stars\",\"Gran Turismo\",\"Donkey Kong Country\",\"Resident Evil 2\",\"Super Mario 64\",\"The Legend of Zelda: Ocarina of Time\"],\"yaxis\":\"y\",\"type\":\"bar\"}],\"name\":\"1993\"},{\"data\":[{\"alignmentgroup\":\"True\",\"hovertemplate\":\"Year=1994<br>Global Sales (in Millions)=%{x}<br>Name=%{y}<br>Meta Score=%{marker.color}<extra></extra>\",\"legendgroup\":\"\",\"marker\":{\"color\":[92.0,80.33,93.0,86.5,83.0,96.0,78.0,81.8,94.0,99.0],\"coloraxis\":\"coloraxis\",\"pattern\":{\"shape\":\"\"}},\"name\":\"\",\"offsetgroup\":\"\",\"orientation\":\"h\",\"showlegend\":false,\"textposition\":\"auto\",\"x\":[8.459999999999999,8.610000000000001,9.49,9.72,9.87,10.95,13.530000000000001,19.319999999999993,22.310000000000002,23.62],\"xaxis\":\"x\",\"y\":[\"Tony Hawk's Pro Skater\",\"Medal of Honor\",\"Gran Turismo 2\",\"Final Fantasy VII\",\"Mario Kart 64\",\"Gran Turismo\",\"Donkey Kong Country\",\"Resident Evil 2\",\"Super Mario 64\",\"The Legend of Zelda: Ocarina of Time\"],\"yaxis\":\"y\",\"type\":\"bar\"}],\"name\":\"1994\"},{\"data\":[{\"alignmentgroup\":\"True\",\"hovertemplate\":\"Year=1995<br>Global Sales (in Millions)=%{x}<br>Name=%{y}<br>Meta Score=%{marker.color}<extra></extra>\",\"legendgroup\":\"\",\"marker\":{\"color\":[92.0,80.33,93.0,86.5,83.0,96.0,93.0,81.8,94.0,99.0],\"coloraxis\":\"coloraxis\",\"pattern\":{\"shape\":\"\"}},\"name\":\"\",\"offsetgroup\":\"\",\"orientation\":\"h\",\"showlegend\":false,\"textposition\":\"auto\",\"x\":[8.459999999999999,8.610000000000001,9.49,9.72,9.87,10.95,13.239999999999998,19.319999999999993,22.310000000000002,23.62],\"xaxis\":\"x\",\"y\":[\"Tony Hawk's Pro Skater\",\"Medal of Honor\",\"Gran Turismo 2\",\"Final Fantasy VII\",\"Mario Kart 64\",\"Gran Turismo\",\"Tony Hawk's Pro Skater 2\",\"Resident Evil 2\",\"Super Mario 64\",\"The Legend of Zelda: Ocarina of Time\"],\"yaxis\":\"y\",\"type\":\"bar\"}],\"name\":\"1995\"},{\"data\":[{\"alignmentgroup\":\"True\",\"hovertemplate\":\"Year=1996<br>Global Sales (in Millions)=%{x}<br>Name=%{y}<br>Meta Score=%{marker.color}<extra></extra>\",\"legendgroup\":\"\",\"marker\":{\"color\":[96.0,70.0,55.0,95.0,93.0,95.0,92.0,81.8,94.0,99.0],\"coloraxis\":\"coloraxis\",\"pattern\":{\"shape\":\"\"}},\"name\":\"\",\"offsetgroup\":\"\",\"orientation\":\"h\",\"showlegend\":false,\"textposition\":\"auto\",\"x\":[10.95,11.659999999999998,12.180000000000001,13.11,13.239999999999998,14.98,16.1,19.319999999999993,22.310000000000002,23.62],\"xaxis\":\"x\",\"y\":[\"Gran Turismo\",\"Madden NFL 2002\",\"The Simpsons: Road Rage\",\"Grand Theft Auto III\",\"Tony Hawk's Pro Skater 2\",\"Gran Turismo 3: A-Spec\",\"Final Fantasy X\",\"Resident Evil 2\",\"Super Mario 64\",\"The Legend of Zelda: Ocarina of Time\"],\"yaxis\":\"y\",\"type\":\"bar\"}],\"name\":\"1996\"},{\"data\":[{\"alignmentgroup\":\"True\",\"hovertemplate\":\"Year=1997<br>Global Sales (in Millions)=%{x}<br>Name=%{y}<br>Meta Score=%{marker.color}<extra></extra>\",\"legendgroup\":\"\",\"marker\":{\"color\":[70.0,55.0,96.0,95.0,93.0,95.0,92.0,94.5,81.8,99.0],\"coloraxis\":\"coloraxis\",\"pattern\":{\"shape\":\"\"}},\"name\":\"\",\"offsetgroup\":\"\",\"orientation\":\"h\",\"showlegend\":false,\"textposition\":\"auto\",\"x\":[11.659999999999998,12.180000000000001,12.739999999999998,13.11,13.239999999999998,14.98,16.1,16.189999999999998,19.319999999999993,23.62],\"xaxis\":\"x\",\"y\":[\"Madden NFL 2002\",\"The Simpsons: Road Rage\",\"The Legend of Zelda: The Wind Waker\",\"Grand Theft Auto III\",\"Tony Hawk's Pro Skater 2\",\"Gran Turismo 3: A-Spec\",\"Final Fantasy X\",\"Grand Theft Auto: Vice City\",\"Resident Evil 2\",\"The Legend of Zelda: Ocarina of Time\"],\"yaxis\":\"y\",\"type\":\"bar\"}],\"name\":\"1997\"},{\"data\":[{\"alignmentgroup\":\"True\",\"hovertemplate\":\"Year=1998<br>Global Sales (in Millions)=%{x}<br>Name=%{y}<br>Meta Score=%{marker.color}<extra></extra>\",\"legendgroup\":\"\",\"marker\":{\"color\":[55.0,96.0,95.0,93.0,95.0,92.0,94.5,81.8,81.67,99.0],\"coloraxis\":\"coloraxis\",\"pattern\":{\"shape\":\"\"}},\"name\":\"\",\"offsetgroup\":\"\",\"orientation\":\"h\",\"showlegend\":false,\"textposition\":\"auto\",\"x\":[12.180000000000001,12.739999999999998,13.11,13.239999999999998,14.98,16.1,16.189999999999998,19.319999999999993,20.92,23.62],\"xaxis\":\"x\",\"y\":[\"The Simpsons: Road Rage\",\"The Legend of Zelda: The Wind Waker\",\"Grand Theft Auto III\",\"Tony Hawk's Pro Skater 2\",\"Gran Turismo 3: A-Spec\",\"Final Fantasy X\",\"Grand Theft Auto: Vice City\",\"Resident Evil 2\",\"Need for Speed Underground\",\"The Legend of Zelda: Ocarina of Time\"],\"yaxis\":\"y\",\"type\":\"bar\"}],\"name\":\"1998\"},{\"data\":[{\"alignmentgroup\":\"True\",\"hovertemplate\":\"Year=1999<br>Global Sales (in Millions)=%{x}<br>Name=%{y}<br>Meta Score=%{marker.color}<extra></extra>\",\"legendgroup\":\"\",\"marker\":{\"color\":[55.0,96.0,95.0,93.0,95.0,92.0,94.5,81.67,77.0,93.67],\"coloraxis\":\"coloraxis\",\"pattern\":{\"shape\":\"\"}},\"name\":\"\",\"offsetgroup\":\"\",\"orientation\":\"h\",\"showlegend\":false,\"textposition\":\"auto\",\"x\":[12.180000000000001,12.739999999999998,13.11,13.239999999999998,14.98,16.1,16.189999999999998,20.92,21.94,23.86],\"xaxis\":\"x\",\"y\":[\"The Simpsons: Road Rage\",\"The Legend of Zelda: The Wind Waker\",\"Grand Theft Auto III\",\"Tony Hawk's Pro Skater 2\",\"Gran Turismo 3: A-Spec\",\"Final Fantasy X\",\"Grand Theft Auto: Vice City\",\"Need for Speed Underground\",\"Need for Speed Underground 2\",\"Grand Theft Auto: San Andreas\"],\"yaxis\":\"y\",\"type\":\"bar\"}],\"name\":\"1999\"},{\"data\":[{\"alignmentgroup\":\"True\",\"hovertemplate\":\"Year=2000<br>Global Sales (in Millions)=%{x}<br>Name=%{y}<br>Meta Score=%{marker.color}<extra></extra>\",\"legendgroup\":\"\",\"marker\":{\"color\":[95.0,77.0,92.0,94.5,77.0,81.67,77.0,91.0,93.67,81.67],\"coloraxis\":\"coloraxis\",\"pattern\":{\"shape\":\"\"}},\"name\":\"\",\"offsetgroup\":\"\",\"orientation\":\"h\",\"showlegend\":false,\"textposition\":\"auto\",\"x\":[14.98,15.3,16.1,16.189999999999998,20.22,20.92,21.94,23.42,23.86,28.159999999999997],\"xaxis\":\"x\",\"y\":[\"Gran Turismo 3: A-Spec\",\"Brain Age 2: More Training in Minutes a Day\",\"Final Fantasy X\",\"Grand Theft Auto: Vice City\",\"Brain Age: Train Your Brain in Minutes a Day\",\"Need for Speed Underground\",\"Need for Speed Underground 2\",\"Mario Kart DS\",\"Grand Theft Auto: San Andreas\",\"Need for Speed: Most Wanted\"],\"yaxis\":\"y\",\"type\":\"bar\"}],\"name\":\"2000\"},{\"data\":[{\"alignmentgroup\":\"True\",\"hovertemplate\":\"Year=2001<br>Global Sales (in Millions)=%{x}<br>Name=%{y}<br>Meta Score=%{marker.color}<extra></extra>\",\"legendgroup\":\"\",\"marker\":{\"color\":[92.0,94.5,77.0,81.67,77.0,91.0,93.67,81.67,58.0,76.0],\"coloraxis\":\"coloraxis\",\"pattern\":{\"shape\":\"\"}},\"name\":\"\",\"offsetgroup\":\"\",\"orientation\":\"h\",\"showlegend\":false,\"textposition\":\"auto\",\"x\":[16.1,16.189999999999998,20.22,20.92,21.94,23.42,23.86,28.159999999999997,29.02,82.74],\"xaxis\":\"x\",\"y\":[\"Final Fantasy X\",\"Grand Theft Auto: Vice City\",\"Brain Age: Train Your Brain in Minutes a Day\",\"Need for Speed Underground\",\"Need for Speed Underground 2\",\"Mario Kart DS\",\"Grand Theft Auto: San Andreas\",\"Need for Speed: Most Wanted\",\"Wii Play\",\"Wii Sports\"],\"yaxis\":\"y\",\"type\":\"bar\"}],\"name\":\"2001\"},{\"data\":[{\"alignmentgroup\":\"True\",\"hovertemplate\":\"Year=2002<br>Global Sales (in Millions)=%{x}<br>Name=%{y}<br>Meta Score=%{marker.color}<extra></extra>\",\"legendgroup\":\"\",\"marker\":{\"color\":[77.0,81.67,77.0,80.0,91.0,93.67,82.0,81.67,58.0,76.0],\"coloraxis\":\"coloraxis\",\"pattern\":{\"shape\":\"\"}},\"name\":\"\",\"offsetgroup\":\"\",\"orientation\":\"h\",\"showlegend\":false,\"textposition\":\"auto\",\"x\":[20.22,20.92,21.94,22.72,23.42,23.86,25.41000000000001,28.159999999999997,29.02,82.74],\"xaxis\":\"x\",\"y\":[\"Brain Age: Train Your Brain in Minutes a Day\",\"Need for Speed Underground\",\"Need for Speed Underground 2\",\"Wii Fit\",\"Mario Kart DS\",\"Grand Theft Auto: San Andreas\",\"Pro Evolution Soccer 2008\",\"Need for Speed: Most Wanted\",\"Wii Play\",\"Wii Sports\"],\"yaxis\":\"y\",\"type\":\"bar\"}],\"name\":\"2002\"},{\"data\":[{\"alignmentgroup\":\"True\",\"hovertemplate\":\"Year=2003<br>Global Sales (in Millions)=%{x}<br>Name=%{y}<br>Meta Score=%{marker.color}<extra></extra>\",\"legendgroup\":\"\",\"marker\":{\"color\":[77.0,95.33,80.0,91.0,93.67,82.0,81.67,58.0,82.0,76.0],\"coloraxis\":\"coloraxis\",\"pattern\":{\"shape\":\"\"}},\"name\":\"\",\"offsetgroup\":\"\",\"orientation\":\"h\",\"showlegend\":false,\"textposition\":\"auto\",\"x\":[21.94,22.47,22.72,23.42,23.86,25.41000000000001,28.159999999999997,29.02,35.82,82.74],\"xaxis\":\"x\",\"y\":[\"Need for Speed Underground 2\",\"Grand Theft Auto IV\",\"Wii Fit\",\"Mario Kart DS\",\"Grand Theft Auto: San Andreas\",\"Pro Evolution Soccer 2008\",\"Need for Speed: Most Wanted\",\"Wii Play\",\"Mario Kart Wii\",\"Wii Sports\"],\"yaxis\":\"y\",\"type\":\"bar\"}],\"name\":\"2003\"},{\"data\":[{\"alignmentgroup\":\"True\",\"hovertemplate\":\"Year=2004<br>Global Sales (in Millions)=%{x}<br>Name=%{y}<br>Meta Score=%{marker.color}<extra></extra>\",\"legendgroup\":\"\",\"marker\":{\"color\":[80.0,91.0,93.67,94.0,82.0,81.67,58.0,80.0,82.0,76.0],\"coloraxis\":\"coloraxis\",\"pattern\":{\"shape\":\"\"}},\"name\":\"\",\"offsetgroup\":\"\",\"orientation\":\"h\",\"showlegend\":false,\"textposition\":\"auto\",\"x\":[22.72,23.42,23.86,25.09,25.41000000000001,28.159999999999997,29.02,33.0,35.82,82.74],\"xaxis\":\"x\",\"y\":[\"Wii Fit\",\"Mario Kart DS\",\"Grand Theft Auto: San Andreas\",\"Call of Duty: Modern Warfare 2\",\"Pro Evolution Soccer 2008\",\"Need for Speed: Most Wanted\",\"Wii Play\",\"Wii Sports Resort\",\"Mario Kart Wii\",\"Wii Sports\"],\"yaxis\":\"y\",\"type\":\"bar\"}],\"name\":\"2004\"},{\"data\":[{\"alignmentgroup\":\"True\",\"hovertemplate\":\"Year=2005<br>Global Sales (in Millions)=%{x}<br>Name=%{y}<br>Meta Score=%{marker.color}<extra></extra>\",\"legendgroup\":\"\",\"marker\":{\"color\":[91.0,94.0,82.0,95.0,81.67,58.0,80.0,82.0,83.0,76.0],\"coloraxis\":\"coloraxis\",\"pattern\":{\"shape\":\"\"}},\"name\":\"\",\"offsetgroup\":\"\",\"orientation\":\"h\",\"showlegend\":false,\"textposition\":\"auto\",\"x\":[23.42,25.09,25.41000000000001,25.88,28.159999999999997,29.02,33.0,35.82,58.80000000000001,82.74],\"xaxis\":\"x\",\"y\":[\"Mario Kart DS\",\"Call of Duty: Modern Warfare 2\",\"Pro Evolution Soccer 2008\",\"Red Dead Redemption\",\"Need for Speed: Most Wanted\",\"Wii Play\",\"Wii Sports Resort\",\"Mario Kart Wii\",\"Call of Duty: Black Ops\",\"Wii Sports\"],\"yaxis\":\"y\",\"type\":\"bar\"}],\"name\":\"2005\"},{\"data\":[{\"alignmentgroup\":\"True\",\"hovertemplate\":\"Year=2006<br>Global Sales (in Millions)=%{x}<br>Name=%{y}<br>Meta Score=%{marker.color}<extra></extra>\",\"legendgroup\":\"\",\"marker\":{\"color\":[94.0,82.0,95.0,58.0,80.0,82.0,91.5,83.0,80.0,76.0],\"coloraxis\":\"coloraxis\",\"pattern\":{\"shape\":\"\"}},\"name\":\"\",\"offsetgroup\":\"\",\"orientation\":\"h\",\"showlegend\":false,\"textposition\":\"auto\",\"x\":[25.09,25.41000000000001,25.88,29.02,33.0,35.82,38.56,58.80000000000001,61.660000000000004,82.74],\"xaxis\":\"x\",\"y\":[\"Call of Duty: Modern Warfare 2\",\"Pro Evolution Soccer 2008\",\"Red Dead Redemption\",\"Wii Play\",\"Wii Sports Resort\",\"Mario Kart Wii\",\"The Elder Scrolls V: Skyrim\",\"Call of Duty: Black Ops\",\"Call of Duty: Modern Warfare 3\",\"Wii Sports\"],\"yaxis\":\"y\",\"type\":\"bar\"}],\"name\":\"2006\"},{\"data\":[{\"alignmentgroup\":\"True\",\"hovertemplate\":\"Year=2007<br>Global Sales (in Millions)=%{x}<br>Name=%{y}<br>Meta Score=%{marker.color}<extra></extra>\",\"legendgroup\":\"\",\"marker\":{\"color\":[94.0,82.0,95.0,76.0,80.0,82.0,91.5,83.0,78.5,80.0],\"coloraxis\":\"coloraxis\",\"pattern\":{\"shape\":\"\"}},\"name\":\"\",\"offsetgroup\":\"\",\"orientation\":\"h\",\"showlegend\":false,\"textposition\":\"auto\",\"x\":[25.09,25.41000000000001,25.88,32.32,33.0,35.82,38.56,58.80000000000001,59.44,61.660000000000004],\"xaxis\":\"x\",\"y\":[\"Call of Duty: Modern Warfare 2\",\"Pro Evolution Soccer 2008\",\"Red Dead Redemption\",\"FIFA Soccer 13\",\"Wii Sports Resort\",\"Mario Kart Wii\",\"The Elder Scrolls V: Skyrim\",\"Call of Duty: Black Ops\",\"Call of Duty: Black Ops II\",\"Call of Duty: Modern Warfare 3\"],\"yaxis\":\"y\",\"type\":\"bar\"}],\"name\":\"2007\"},{\"data\":[{\"alignmentgroup\":\"True\",\"hovertemplate\":\"Year=2008<br>Global Sales (in Millions)=%{x}<br>Name=%{y}<br>Meta Score=%{marker.color}<extra></extra>\",\"legendgroup\":\"\",\"marker\":{\"color\":[72.67,70.67,76.0,80.0,82.0,91.5,96.8,83.0,78.5,80.0],\"coloraxis\":\"coloraxis\",\"pattern\":{\"shape\":\"\"}},\"name\":\"\",\"offsetgroup\":\"\",\"orientation\":\"h\",\"showlegend\":false,\"textposition\":\"auto\",\"x\":[26.32,27.38,32.32,33.0,35.82,38.56,55.92,58.80000000000001,59.44,61.660000000000004],\"xaxis\":\"x\",\"y\":[\"Just Dance 2014\",\"Call of Duty: Ghosts\",\"FIFA Soccer 13\",\"Wii Sports Resort\",\"Mario Kart Wii\",\"The Elder Scrolls V: Skyrim\",\"Grand Theft Auto V\",\"Call of Duty: Black Ops\",\"Call of Duty: Black Ops II\",\"Call of Duty: Modern Warfare 3\"],\"yaxis\":\"y\",\"type\":\"bar\"}],\"name\":\"2008\"},{\"data\":[{\"alignmentgroup\":\"True\",\"hovertemplate\":\"Year=2009<br>Global Sales (in Millions)=%{x}<br>Name=%{y}<br>Meta Score=%{marker.color}<extra></extra>\",\"legendgroup\":\"\",\"marker\":{\"color\":[95.0,72.67,70.67,76.0,80.0,91.5,96.8,83.0,78.5,80.0],\"coloraxis\":\"coloraxis\",\"pattern\":{\"shape\":\"\"}},\"name\":\"\",\"offsetgroup\":\"\",\"orientation\":\"h\",\"showlegend\":false,\"textposition\":\"auto\",\"x\":[25.88,26.32,27.38,32.32,33.0,38.56,55.92,58.80000000000001,59.44,61.660000000000004],\"xaxis\":\"x\",\"y\":[\"Red Dead Redemption\",\"Just Dance 2014\",\"Call of Duty: Ghosts\",\"FIFA Soccer 13\",\"Wii Sports Resort\",\"The Elder Scrolls V: Skyrim\",\"Grand Theft Auto V\",\"Call of Duty: Black Ops\",\"Call of Duty: Black Ops II\",\"Call of Duty: Modern Warfare 3\"],\"yaxis\":\"y\",\"type\":\"bar\"}],\"name\":\"2009\"},{\"data\":[{\"alignmentgroup\":\"True\",\"hovertemplate\":\"Year=2010<br>Global Sales (in Millions)=%{x}<br>Name=%{y}<br>Meta Score=%{marker.color}<extra></extra>\",\"legendgroup\":\"\",\"marker\":{\"color\":[93.0,95.0,72.67,70.67,76.0,91.5,96.8,83.0,78.5,80.0],\"coloraxis\":\"coloraxis\",\"pattern\":{\"shape\":\"\"}},\"name\":\"\",\"offsetgroup\":\"\",\"orientation\":\"h\",\"showlegend\":false,\"textposition\":\"auto\",\"x\":[23.3,25.88,26.32,27.38,32.32,38.56,55.92,58.80000000000001,59.44,61.660000000000004],\"xaxis\":\"x\",\"y\":[\"Minecraft\",\"Red Dead Redemption\",\"Just Dance 2014\",\"Call of Duty: Ghosts\",\"FIFA Soccer 13\",\"The Elder Scrolls V: Skyrim\",\"Grand Theft Auto V\",\"Call of Duty: Black Ops\",\"Call of Duty: Black Ops II\",\"Call of Duty: Modern Warfare 3\"],\"yaxis\":\"y\",\"type\":\"bar\"}],\"name\":\"2010\"},{\"data\":[{\"alignmentgroup\":\"True\",\"hovertemplate\":\"Year=2011<br>Global Sales (in Millions)=%{x}<br>Name=%{y}<br>Meta Score=%{marker.color}<extra></extra>\",\"legendgroup\":\"\",\"marker\":{\"color\":[74.5,80.5,93.0,72.67,70.67,76.0,91.5,96.8,78.5,80.0],\"coloraxis\":\"coloraxis\",\"pattern\":{\"shape\":\"\"}},\"name\":\"\",\"offsetgroup\":\"\",\"orientation\":\"h\",\"showlegend\":false,\"textposition\":\"auto\",\"x\":[19.719999999999995,21.9,23.3,26.32,27.38,32.32,38.56,55.92,59.44,61.660000000000004],\"xaxis\":\"x\",\"y\":[\"LEGO Marvel Super Heroes\",\"Call of Duty: Advanced Warfare\",\"Minecraft\",\"Just Dance 2014\",\"Call of Duty: Ghosts\",\"FIFA Soccer 13\",\"The Elder Scrolls V: Skyrim\",\"Grand Theft Auto V\",\"Call of Duty: Black Ops II\",\"Call of Duty: Modern Warfare 3\"],\"yaxis\":\"y\",\"type\":\"bar\"}],\"name\":\"2011\"},{\"data\":[{\"alignmentgroup\":\"True\",\"hovertemplate\":\"Year=2012<br>Global Sales (in Millions)=%{x}<br>Name=%{y}<br>Meta Score=%{marker.color}<extra></extra>\",\"legendgroup\":\"\",\"marker\":{\"color\":[85.0,82.0,74.5,80.5,93.0,72.67,70.67,76.0,96.8,78.5],\"coloraxis\":\"coloraxis\",\"pattern\":{\"shape\":\"\"}},\"name\":\"\",\"offsetgroup\":\"\",\"orientation\":\"h\",\"showlegend\":false,\"textposition\":\"auto\",\"x\":[17.14,19.02,19.719999999999995,21.9,23.3,26.32,27.38,32.32,55.92,59.44],\"xaxis\":\"x\",\"y\":[\"FIFA 14\",\"FIFA 15\",\"LEGO Marvel Super Heroes\",\"Call of Duty: Advanced Warfare\",\"Minecraft\",\"Just Dance 2014\",\"Call of Duty: Ghosts\",\"FIFA Soccer 13\",\"Grand Theft Auto V\",\"Call of Duty: Black Ops II\"],\"yaxis\":\"y\",\"type\":\"bar\"}],\"name\":\"2012\"},{\"data\":[{\"alignmentgroup\":\"True\",\"hovertemplate\":\"Year=2013<br>Global Sales (in Millions)=%{x}<br>Name=%{y}<br>Meta Score=%{marker.color}<extra></extra>\",\"legendgroup\":\"\",\"marker\":{\"color\":[81.25,82.33,85.0,82.0,74.5,80.5,93.0,72.67,70.67,96.8],\"coloraxis\":\"coloraxis\",\"pattern\":{\"shape\":\"\"}},\"name\":\"\",\"offsetgroup\":\"\",\"orientation\":\"h\",\"showlegend\":false,\"textposition\":\"auto\",\"x\":[14.030000000000001,16.44,17.14,19.02,19.719999999999995,21.9,23.3,26.32,27.38,55.92],\"xaxis\":\"x\",\"y\":[\"Battlefield 4\",\"FIFA 16\",\"FIFA 14\",\"FIFA 15\",\"LEGO Marvel Super Heroes\",\"Call of Duty: Advanced Warfare\",\"Minecraft\",\"Just Dance 2014\",\"Call of Duty: Ghosts\",\"Grand Theft Auto V\"],\"yaxis\":\"y\",\"type\":\"bar\"}],\"name\":\"2013\"},{\"data\":[{\"alignmentgroup\":\"True\",\"hovertemplate\":\"Year=2014<br>Global Sales (in Millions)=%{x}<br>Name=%{y}<br>Meta Score=%{marker.color}<extra></extra>\",\"legendgroup\":\"\",\"marker\":{\"color\":[84.5,77.0,82.33,71.0,59.33,85.5,75.5,82.33,82.0,80.5],\"coloraxis\":\"coloraxis\",\"pattern\":{\"shape\":\"\"}},\"name\":\"\",\"offsetgroup\":\"\",\"orientation\":\"h\",\"showlegend\":false,\"textposition\":\"auto\",\"x\":[8.200000000000001,8.3,8.68,9.489999999999998,10.66,12.280000000000001,12.61,16.44,19.02,21.9],\"xaxis\":\"x\",\"y\":[\"Mortal Kombat X\",\"The Evil Within\",\"Far Cry 4\",\"Watch Dogs\",\"The LEGO Movie Videogame\",\"Fallout 4\",\"Destiny\",\"FIFA 16\",\"FIFA 15\",\"Call of Duty: Advanced Warfare\"],\"yaxis\":\"y\",\"type\":\"bar\"}],\"name\":\"2014\"}]);\n",
       "                        }).then(function(){\n",
       "                            \n",
       "var gd = document.getElementById('d248767d-d375-40ae-8174-f24e36e146bb');\n",
       "var x = new MutationObserver(function (mutations, observer) {{\n",
       "        var display = window.getComputedStyle(gd).display;\n",
       "        if (!display || display === 'none') {{\n",
       "            console.log([gd, 'removed!']);\n",
       "            Plotly.purge(gd);\n",
       "            observer.disconnect();\n",
       "        }}\n",
       "}});\n",
       "\n",
       "// Listen for the removal of the full notebook cells\n",
       "var notebookContainer = gd.closest('#notebook-container');\n",
       "if (notebookContainer) {{\n",
       "    x.observe(notebookContainer, {childList: true});\n",
       "}}\n",
       "\n",
       "// Listen for the clearing of the current output cell\n",
       "var outputEl = gd.closest('.output');\n",
       "if (outputEl) {{\n",
       "    x.observe(outputEl, {childList: true});\n",
       "}}\n",
       "\n",
       "                        })                };                });            </script>        </div>"
      ]
     },
     "metadata": {},
     "output_type": "display_data"
    }
   ],
   "source": [
    "fig = px.bar(\n",
    "    windowed.sort_values(by=[\"Year_window\",'Global_Sales'], ascending = [True,False]).groupby(\"Year_window\").head(10).sort_values(by=[\"Year_window\",'Global_Sales'], ascending = [True,True]),\n",
    "    x=\"Global_Sales\",\n",
    "    y=\"Name\",\n",
    "    animation_frame=\"Year_window\", \n",
    "    range_x=[0, 80],\n",
    "    color='Meta_score',\n",
    "    color_continuous_scale=[\"red\", \"yellow\", \"green\"],\n",
    "    range_color = [0,100],\n",
    "    #barmode=\"group\",\n",
    "    orientation=\"h\",\n",
    "    labels={'Name':'Name',\n",
    "           \"Global_Sales\": \"Global Sales (in Millions)\",\n",
    "           \"Meta_score\": \"Meta Score\",\n",
    "           \"Year_window\":\"Year\"}\n",
    ")\n",
    "#for f in fig.frames:\n",
    "#    f.layout.update(xaxis_range = [0,35])\n",
    "#fig.update_layout(yaxis_range=[0,10])\n",
    "#fig.update_layout(xaxis_range=[0,35])\n",
    "fig.update_layout(margin=dict(l=400))\n",
    "#fig.update_layout(\n",
    "#    xaxis = dict(\n",
    "#        tickmode = 'array',\n",
    "#        tickvals = [0, 5, 10, 15, 20, 25, 30, 25],\n",
    "#        ticktext = [0, 5, 10, 15, 20, 25, 30, 25]\n",
    "#    )\n",
    "#)\n",
    "#fig.update_layout(\n",
    "#    xaxis = dict(\n",
    "#        range = [0,35],\n",
    "#        type = 'linear'\n",
    "#    )\n",
    "#)\n",
    "fig.update_yaxes(title_font_color=\"white\")\n",
    "fig.layout.updatemenus[0].buttons[0].args[1][\"frame\"][\"duration\"] = 1500\n",
    "fig.write_html('../plots/sales_with_meta_score.html', auto_play=False)\n",
    "fig.show()"
   ]
  },
  {
   "cell_type": "code",
   "execution_count": 224,
   "id": "fc7ec14a",
   "metadata": {},
   "outputs": [
    {
     "data": {
      "application/vnd.plotly.v1+json": {
       "config": {
        "plotlyServerURL": "https://plot.ly"
       },
       "data": [
        {
         "alignmentgroup": "True",
         "hovertemplate": "Year=1980<br>Global Sales (in Millions)=%{x}<br>Name=%{y}<br>Meta Score=%{marker.color}<extra></extra>",
         "legendgroup": "",
         "marker": {
          "color": [
           60.6,
           61,
           62,
           63,
           65,
           65,
           68,
           74,
           76,
           83.5
          ],
          "coloraxis": "coloraxis",
          "pattern": {
           "shape": ""
          }
         },
         "name": "",
         "offsetgroup": "",
         "orientation": "h",
         "showlegend": false,
         "textposition": "auto",
         "type": "bar",
         "x": [
          1.6500000000000004,
          6.36,
          9.03,
          3.21,
          1.65,
          2.05,
          1.08,
          1.3499999999999999,
          1.12,
          4.59
         ],
         "xaxis": "x",
         "y": [
          "Defender",
          "Frogger",
          "Pac-Man",
          "Missile Command",
          "Ms. Pac-Man",
          "Dig Dug",
          "Joust",
          "Bomberman",
          "Lode Runner",
          "Spider-Man"
         ],
         "yaxis": "y"
        }
       ],
       "frames": [
        {
         "data": [
          {
           "alignmentgroup": "True",
           "hovertemplate": "Year=1980<br>Global Sales (in Millions)=%{x}<br>Name=%{y}<br>Meta Score=%{marker.color}<extra></extra>",
           "legendgroup": "",
           "marker": {
            "color": [
             60.6,
             61,
             62,
             63,
             65,
             65,
             68,
             74,
             76,
             83.5
            ],
            "coloraxis": "coloraxis",
            "pattern": {
             "shape": ""
            }
           },
           "name": "",
           "offsetgroup": "",
           "orientation": "h",
           "showlegend": false,
           "textposition": "auto",
           "type": "bar",
           "x": [
            1.6500000000000004,
            6.36,
            9.03,
            3.21,
            1.65,
            2.05,
            1.08,
            1.3499999999999999,
            1.12,
            4.59
           ],
           "xaxis": "x",
           "y": [
            "Defender",
            "Frogger",
            "Pac-Man",
            "Missile Command",
            "Ms. Pac-Man",
            "Dig Dug",
            "Joust",
            "Bomberman",
            "Lode Runner",
            "Spider-Man"
           ],
           "yaxis": "y"
          }
         ],
         "name": "1980"
        },
        {
         "data": [
          {
           "alignmentgroup": "True",
           "hovertemplate": "Year=1981<br>Global Sales (in Millions)=%{x}<br>Name=%{y}<br>Meta Score=%{marker.color}<extra></extra>",
           "legendgroup": "",
           "marker": {
            "color": [
             61,
             62,
             64,
             65,
             65,
             68,
             74,
             76,
             78,
             83.5
            ],
            "coloraxis": "coloraxis",
            "pattern": {
             "shape": ""
            }
           },
           "name": "",
           "offsetgroup": "",
           "orientation": "h",
           "showlegend": false,
           "textposition": "auto",
           "type": "bar",
           "x": [
            6.36,
            9.03,
            0.96,
            1.65,
            2.05,
            1.08,
            1.3499999999999999,
            1.12,
            1.87,
            4.59
           ],
           "xaxis": "x",
           "y": [
            "Frogger",
            "Pac-Man",
            "Star Soldier",
            "Ms. Pac-Man",
            "Dig Dug",
            "Joust",
            "Bomberman",
            "Lode Runner",
            "Castlevania",
            "Spider-Man"
           ],
           "yaxis": "y"
          }
         ],
         "name": "1981"
        },
        {
         "data": [
          {
           "alignmentgroup": "True",
           "hovertemplate": "Year=1982<br>Global Sales (in Millions)=%{x}<br>Name=%{y}<br>Meta Score=%{marker.color}<extra></extra>",
           "legendgroup": "",
           "marker": {
            "color": [
             50,
             55,
             62,
             64,
             65,
             67,
             68,
             74,
             76,
             78
            ],
            "coloraxis": "coloraxis",
            "pattern": {
             "shape": ""
            }
           },
           "name": "",
           "offsetgroup": "",
           "orientation": "h",
           "showlegend": false,
           "textposition": "auto",
           "type": "bar",
           "x": [
            0.65,
            0.78,
            9.03,
            0.96,
            2.05,
            1.35,
            1.08,
            1.3499999999999999,
            1.12,
            1.87
           ],
           "xaxis": "x",
           "y": [
            "Battlezone",
            "Yars' Revenge",
            "Pac-Man",
            "Star Soldier",
            "Dig Dug",
            "Final Fantasy",
            "Joust",
            "Bomberman",
            "Lode Runner",
            "Castlevania"
           ],
           "yaxis": "y"
          }
         ],
         "name": "1982"
        },
        {
         "data": [
          {
           "alignmentgroup": "True",
           "hovertemplate": "Year=1983<br>Global Sales (in Millions)=%{x}<br>Name=%{y}<br>Meta Score=%{marker.color}<extra></extra>",
           "legendgroup": "",
           "marker": {
            "color": [
             63,
             64,
             64,
             67,
             74,
             76,
             78,
             82.5
            ],
            "coloraxis": "coloraxis",
            "pattern": {
             "shape": ""
            }
           },
           "name": "",
           "offsetgroup": "",
           "orientation": "h",
           "showlegend": false,
           "textposition": "auto",
           "type": "bar",
           "x": [
            2.7800000000000002,
            0.96,
            2.01,
            1.35,
            1.3499999999999999,
            1.12,
            1.87,
            35.84
           ],
           "xaxis": "x",
           "y": [
            "Final Fantasy II",
            "Star Soldier",
            "SimCity",
            "Final Fantasy",
            "Bomberman",
            "Lode Runner",
            "Castlevania",
            "Tetris"
           ],
           "yaxis": "y"
          }
         ],
         "name": "1983"
        },
        {
         "data": [
          {
           "alignmentgroup": "True",
           "hovertemplate": "Year=1984<br>Global Sales (in Millions)=%{x}<br>Name=%{y}<br>Meta Score=%{marker.color}<extra></extra>",
           "legendgroup": "",
           "marker": {
            "color": [
             57,
             62.33,
             63,
             64,
             64,
             67,
             74,
             76,
             78,
             82.5
            ],
            "coloraxis": "coloraxis",
            "pattern": {
             "shape": ""
            }
           },
           "name": "",
           "offsetgroup": "",
           "orientation": "h",
           "showlegend": false,
           "textposition": "auto",
           "type": "bar",
           "x": [
            0.47,
            6.669999999999999,
            2.7800000000000002,
            0.96,
            2.01,
            1.35,
            1.3499999999999999,
            1.12,
            1.87,
            35.84
           ],
           "xaxis": "x",
           "y": [
            "Double Dragon",
            "Teenage Mutant Ninja Turtles",
            "Final Fantasy II",
            "Star Soldier",
            "SimCity",
            "Final Fantasy",
            "Bomberman",
            "Lode Runner",
            "Castlevania",
            "Tetris"
           ],
           "yaxis": "y"
          }
         ],
         "name": "1984"
        },
        {
         "data": [
          {
           "alignmentgroup": "True",
           "hovertemplate": "Year=1985<br>Global Sales (in Millions)=%{x}<br>Name=%{y}<br>Meta Score=%{marker.color}<extra></extra>",
           "legendgroup": "",
           "marker": {
            "color": [
             62.33,
             63,
             64,
             64,
             67,
             74,
             77,
             78,
             82.5,
             82.67
            ],
            "coloraxis": "coloraxis",
            "pattern": {
             "shape": ""
            }
           },
           "name": "",
           "offsetgroup": "",
           "orientation": "h",
           "showlegend": false,
           "textposition": "auto",
           "type": "bar",
           "x": [
            6.669999999999999,
            2.7800000000000002,
            0.96,
            2.01,
            1.35,
            1.3499999999999999,
            7.05,
            1.87,
            35.84,
            5.2
           ],
           "xaxis": "x",
           "y": [
            "Teenage Mutant Ninja Turtles",
            "Final Fantasy II",
            "Star Soldier",
            "SimCity",
            "Final Fantasy",
            "Bomberman",
            "Final Fantasy III",
            "Castlevania",
            "Tetris",
            "Streets of Rage"
           ],
           "yaxis": "y"
          }
         ],
         "name": "1985"
        },
        {
         "data": [
          {
           "alignmentgroup": "True",
           "hovertemplate": "Year=1986<br>Global Sales (in Millions)=%{x}<br>Name=%{y}<br>Meta Score=%{marker.color}<extra></extra>",
           "legendgroup": "",
           "marker": {
            "color": [
             63,
             64,
             64,
             67,
             77,
             78,
             78,
             82.5,
             82.67,
             95
            ],
            "coloraxis": "coloraxis",
            "pattern": {
             "shape": ""
            }
           },
           "name": "",
           "offsetgroup": "",
           "orientation": "h",
           "showlegend": false,
           "textposition": "auto",
           "type": "bar",
           "x": [
            2.7800000000000002,
            0.96,
            2.01,
            1.35,
            7.05,
            1.87,
            1.25,
            35.84,
            5.2,
            7.3100000000000005
           ],
           "xaxis": "x",
           "y": [
            "Final Fantasy II",
            "Star Soldier",
            "SimCity",
            "Final Fantasy",
            "Final Fantasy III",
            "Castlevania",
            "Super Ghouls 'n Ghosts",
            "Tetris",
            "Streets of Rage",
            "The Legend of Zelda: A Link to the Past"
           ],
           "yaxis": "y"
          }
         ],
         "name": "1986"
        },
        {
         "data": [
          {
           "alignmentgroup": "True",
           "hovertemplate": "Year=1987<br>Global Sales (in Millions)=%{x}<br>Name=%{y}<br>Meta Score=%{marker.color}<extra></extra>",
           "legendgroup": "",
           "marker": {
            "color": [
             74.5,
             75,
             77,
             78,
             81,
             82,
             82.5,
             82.67,
             84.5,
             95
            ],
            "coloraxis": "coloraxis",
            "pattern": {
             "shape": ""
            }
           },
           "name": "",
           "offsetgroup": "",
           "orientation": "h",
           "showlegend": false,
           "textposition": "auto",
           "type": "bar",
           "x": [
            0.38999999999999996,
            5.22,
            7.05,
            1.25,
            0.9500000000000001,
            6.03,
            35.84,
            5.2,
            8.399999999999999,
            7.3100000000000005
           ],
           "xaxis": "x",
           "y": [
            "Syndicate",
            "NBA Jam",
            "Final Fantasy III",
            "Super Ghouls 'n Ghosts",
            "Doom",
            "Sonic the Hedgehog 2",
            "Tetris",
            "Streets of Rage",
            "Mortal Kombat",
            "The Legend of Zelda: A Link to the Past"
           ],
           "yaxis": "y"
          }
         ],
         "name": "1987"
        },
        {
         "data": [
          {
           "alignmentgroup": "True",
           "hovertemplate": "Year=1988<br>Global Sales (in Millions)=%{x}<br>Name=%{y}<br>Meta Score=%{marker.color}<extra></extra>",
           "legendgroup": "",
           "marker": {
            "color": [
             78,
             81,
             82,
             82,
             82,
             82.5,
             82.67,
             84.5,
             91.5,
             95
            ],
            "coloraxis": "coloraxis",
            "pattern": {
             "shape": ""
            }
           },
           "name": "",
           "offsetgroup": "",
           "orientation": "h",
           "showlegend": false,
           "textposition": "auto",
           "type": "bar",
           "x": [
            1.25,
            0.9500000000000001,
            6.03,
            1.5,
            10.55,
            35.84,
            5.2,
            8.399999999999999,
            2.15,
            7.3100000000000005
           ],
           "xaxis": "x",
           "y": [
            "Super Ghouls 'n Ghosts",
            "Doom",
            "Sonic the Hedgehog 2",
            "Sonic CD",
            "Super Mario All-Stars",
            "Tetris",
            "Streets of Rage",
            "Mortal Kombat",
            "Super Street Fighter II",
            "The Legend of Zelda: A Link to the Past"
           ],
           "yaxis": "y"
          }
         ],
         "name": "1988"
        },
        {
         "data": [
          {
           "alignmentgroup": "True",
           "hovertemplate": "Year=1989<br>Global Sales (in Millions)=%{x}<br>Name=%{y}<br>Meta Score=%{marker.color}<extra></extra>",
           "legendgroup": "",
           "marker": {
            "color": [
             81,
             82,
             82,
             82,
             82.67,
             84.5,
             86,
             88,
             91.5,
             95
            ],
            "coloraxis": "coloraxis",
            "pattern": {
             "shape": ""
            }
           },
           "name": "",
           "offsetgroup": "",
           "orientation": "h",
           "showlegend": false,
           "textposition": "auto",
           "type": "bar",
           "x": [
            0.9500000000000001,
            6.03,
            1.5,
            10.55,
            5.2,
            8.399999999999999,
            0.55,
            2.4000000000000004,
            2.15,
            7.3100000000000005
           ],
           "xaxis": "x",
           "y": [
            "Doom",
            "Sonic the Hedgehog 2",
            "Sonic CD",
            "Super Mario All-Stars",
            "Streets of Rage",
            "Mortal Kombat",
            "Daytona USA",
            "Ridge Racer",
            "Super Street Fighter II",
            "The Legend of Zelda: A Link to the Past"
           ],
           "yaxis": "y"
          }
         ],
         "name": "1989"
        },
        {
         "data": [
          {
           "alignmentgroup": "True",
           "hovertemplate": "Year=1990<br>Global Sales (in Millions)=%{x}<br>Name=%{y}<br>Meta Score=%{marker.color}<extra></extra>",
           "legendgroup": "",
           "marker": {
            "color": [
             82,
             82.67,
             83,
             84,
             84.5,
             86,
             88,
             91.5,
             92,
             95
            ],
            "coloraxis": "coloraxis",
            "pattern": {
             "shape": ""
            }
           },
           "name": "",
           "offsetgroup": "",
           "orientation": "h",
           "showlegend": false,
           "textposition": "auto",
           "type": "bar",
           "x": [
            6.03,
            5.2,
            0.29,
            1.52,
            8.399999999999999,
            0.55,
            2.4000000000000004,
            2.15,
            3.7800000000000002,
            7.3100000000000005
           ],
           "xaxis": "x",
           "y": [
            "Sonic the Hedgehog 2",
            "Streets of Rage",
            "Guardian Heroes",
            "Warhawk",
            "Mortal Kombat",
            "Daytona USA",
            "Ridge Racer",
            "Super Street Fighter II",
            "Chrono Trigger",
            "The Legend of Zelda: A Link to the Past"
           ],
           "yaxis": "y"
          }
         ],
         "name": "1990"
        },
        {
         "data": [
          {
           "alignmentgroup": "True",
           "hovertemplate": "Year=1991<br>Global Sales (in Millions)=%{x}<br>Name=%{y}<br>Meta Score=%{marker.color}<extra></extra>",
           "legendgroup": "",
           "marker": {
            "color": [
             88,
             90,
             90.5,
             91,
             91.5,
             92,
             92,
             94,
             94,
             95
            ],
            "coloraxis": "coloraxis",
            "pattern": {
             "shape": ""
            }
           },
           "name": "",
           "offsetgroup": "",
           "orientation": "h",
           "showlegend": false,
           "textposition": "auto",
           "type": "bar",
           "x": [
            2.4000000000000004,
            3.2600000000000002,
            5.12,
            5.66,
            2.15,
            3.7800000000000002,
            2.94,
            22.310000000000002,
            2.17,
            7.3100000000000005
           ],
           "xaxis": "x",
           "y": [
            "Ridge Racer",
            "Command & Conquer: Red Alert",
            "Microsoft Flight Simulator",
            "Tomb Raider",
            "Super Street Fighter II",
            "Chrono Trigger",
            "Wave Race 64",
            "Super Mario 64",
            "Diablo",
            "The Legend of Zelda: A Link to the Past"
           ],
           "yaxis": "y"
          }
         ],
         "name": "1991"
        },
        {
         "data": [
          {
           "alignmentgroup": "True",
           "hovertemplate": "Year=1992<br>Global Sales (in Millions)=%{x}<br>Name=%{y}<br>Meta Score=%{marker.color}<extra></extra>",
           "legendgroup": "",
           "marker": {
            "color": [
             91,
             91,
             91,
             91.5,
             91.5,
             92,
             92,
             94,
             94,
             96
            ],
            "coloraxis": "coloraxis",
            "pattern": {
             "shape": ""
            }
           },
           "name": "",
           "offsetgroup": "",
           "orientation": "h",
           "showlegend": false,
           "textposition": "auto",
           "type": "bar",
           "x": [
            5.66,
            0.42,
            1.27,
            2.15,
            4.72,
            3.7800000000000002,
            2.94,
            22.310000000000002,
            2.17,
            10.95
           ],
           "xaxis": "x",
           "y": [
            "Tomb Raider",
            "Colony Wars",
            "Castlevania: Symphony of the Night",
            "Super Street Fighter II",
            "Half-Life",
            "Chrono Trigger",
            "Wave Race 64",
            "Super Mario 64",
            "Diablo",
            "Gran Turismo"
           ],
           "yaxis": "y"
          }
         ],
         "name": "1992"
        },
        {
         "data": [
          {
           "alignmentgroup": "True",
           "hovertemplate": "Year=1993<br>Global Sales (in Millions)=%{x}<br>Name=%{y}<br>Meta Score=%{marker.color}<extra></extra>",
           "legendgroup": "",
           "marker": {
            "color": [
             91.5,
             91.5,
             92,
             92,
             93,
             94,
             94,
             96,
             96,
             99
            ],
            "coloraxis": "coloraxis",
            "pattern": {
             "shape": ""
            }
           },
           "name": "",
           "offsetgroup": "",
           "orientation": "h",
           "showlegend": false,
           "textposition": "auto",
           "type": "bar",
           "x": [
            2.15,
            4.72,
            3.7800000000000002,
            2.94,
            0.02,
            22.310000000000002,
            2.17,
            10.95,
            7.16,
            23.62
           ],
           "xaxis": "x",
           "y": [
            "Super Street Fighter II",
            "Half-Life",
            "Chrono Trigger",
            "Wave Race 64",
            "Homeworld",
            "Super Mario 64",
            "Diablo",
            "Gran Turismo",
            "Tekken 3",
            "The Legend of Zelda: Ocarina of Time"
           ],
           "yaxis": "y"
          }
         ],
         "name": "1993"
        },
        {
         "data": [
          {
           "alignmentgroup": "True",
           "hovertemplate": "Year=1994<br>Global Sales (in Millions)=%{x}<br>Name=%{y}<br>Meta Score=%{marker.color}<extra></extra>",
           "legendgroup": "",
           "marker": {
            "color": [
             92,
             93,
             93,
             93,
             94,
             94,
             94,
             96,
             96,
             99
            ],
            "coloraxis": "coloraxis",
            "pattern": {
             "shape": ""
            }
           },
           "name": "",
           "offsetgroup": "",
           "orientation": "h",
           "showlegend": false,
           "textposition": "auto",
           "type": "bar",
           "x": [
            3.7800000000000002,
            0.02,
            9.49,
            0.05,
            22.310000000000002,
            2.17,
            1.86,
            10.95,
            7.16,
            23.62
           ],
           "xaxis": "x",
           "y": [
            "Chrono Trigger",
            "Homeworld",
            "Gran Turismo 2",
            "Test Drive Le Mans",
            "Super Mario 64",
            "Diablo",
            "Chrono Cross",
            "Gran Turismo",
            "Tekken 3",
            "The Legend of Zelda: Ocarina of Time"
           ],
           "yaxis": "y"
          }
         ],
         "name": "1994"
        },
        {
         "data": [
          {
           "alignmentgroup": "True",
           "hovertemplate": "Year=1995<br>Global Sales (in Millions)=%{x}<br>Name=%{y}<br>Meta Score=%{marker.color}<extra></extra>",
           "legendgroup": "",
           "marker": {
            "color": [
             93,
             93,
             94,
             94,
             94,
             95,
             96,
             96,
             97,
             99
            ],
            "coloraxis": "coloraxis",
            "pattern": {
             "shape": ""
            }
           },
           "name": "",
           "offsetgroup": "",
           "orientation": "h",
           "showlegend": false,
           "textposition": "auto",
           "type": "bar",
           "x": [
            0.02,
            9.49,
            22.310000000000002,
            2.17,
            1.86,
            3.36,
            10.95,
            7.16,
            1.09,
            23.62
           ],
           "xaxis": "x",
           "y": [
            "Homeworld",
            "Gran Turismo 2",
            "Super Mario 64",
            "Diablo",
            "Chrono Cross",
            "The Legend of Zelda: Majora's Mask",
            "Gran Turismo",
            "Tekken 3",
            "NFL 2K1",
            "The Legend of Zelda: Ocarina of Time"
           ],
           "yaxis": "y"
          }
         ],
         "name": "1995"
        },
        {
         "data": [
          {
           "alignmentgroup": "True",
           "hovertemplate": "Year=1996<br>Global Sales (in Millions)=%{x}<br>Name=%{y}<br>Meta Score=%{marker.color}<extra></extra>",
           "legendgroup": "",
           "marker": {
            "color": [
             94,
             95,
             95,
             95,
             96,
             96,
             96,
             97,
             97,
             99
            ],
            "coloraxis": "coloraxis",
            "pattern": {
             "shape": ""
            }
           },
           "name": "",
           "offsetgroup": "",
           "orientation": "h",
           "showlegend": false,
           "textposition": "auto",
           "type": "bar",
           "x": [
            22.310000000000002,
            3.36,
            13.11,
            14.98,
            10.95,
            7.16,
            6.05,
            1.09,
            6.47,
            23.62
           ],
           "xaxis": "x",
           "y": [
            "Super Mario 64",
            "The Legend of Zelda: Majora's Mask",
            "Grand Theft Auto III",
            "Gran Turismo 3: A-Spec",
            "Gran Turismo",
            "Tekken 3",
            "Metal Gear Solid 2: Sons of Liberty",
            "NFL 2K1",
            "Halo: Combat Evolved",
            "The Legend of Zelda: Ocarina of Time"
           ],
           "yaxis": "y"
          }
         ],
         "name": "1996"
        },
        {
         "data": [
          {
           "alignmentgroup": "True",
           "hovertemplate": "Year=1997<br>Global Sales (in Millions)=%{x}<br>Name=%{y}<br>Meta Score=%{marker.color}<extra></extra>",
           "legendgroup": "",
           "marker": {
            "color": [
             95,
             95,
             96,
             96,
             96,
             96,
             97,
             97,
             97,
             99
            ],
            "coloraxis": "coloraxis",
            "pattern": {
             "shape": ""
            }
           },
           "name": "",
           "offsetgroup": "",
           "orientation": "h",
           "showlegend": false,
           "textposition": "auto",
           "type": "bar",
           "x": [
            3.36,
            13.11,
            10.95,
            7.16,
            6.05,
            12.739999999999998,
            1.09,
            6.47,
            2.82,
            23.62
           ],
           "xaxis": "x",
           "y": [
            "The Legend of Zelda: Majora's Mask",
            "Grand Theft Auto III",
            "Gran Turismo",
            "Tekken 3",
            "Metal Gear Solid 2: Sons of Liberty",
            "The Legend of Zelda: The Wind Waker",
            "NFL 2K1",
            "Halo: Combat Evolved",
            "Metroid Prime",
            "The Legend of Zelda: Ocarina of Time"
           ],
           "yaxis": "y"
          }
         ],
         "name": "1997"
        },
        {
         "data": [
          {
           "alignmentgroup": "True",
           "hovertemplate": "Year=1998<br>Global Sales (in Millions)=%{x}<br>Name=%{y}<br>Meta Score=%{marker.color}<extra></extra>",
           "legendgroup": "",
           "marker": {
            "color": [
             95,
             95,
             95,
             96,
             96,
             96,
             97,
             97,
             97,
             99
            ],
            "coloraxis": "coloraxis",
            "pattern": {
             "shape": ""
            }
           },
           "name": "",
           "offsetgroup": "",
           "orientation": "h",
           "showlegend": false,
           "textposition": "auto",
           "type": "bar",
           "x": [
            3.36,
            13.11,
            14.98,
            7.16,
            6.05,
            12.739999999999998,
            1.09,
            6.47,
            2.82,
            23.62
           ],
           "xaxis": "x",
           "y": [
            "The Legend of Zelda: Majora's Mask",
            "Grand Theft Auto III",
            "Gran Turismo 3: A-Spec",
            "Tekken 3",
            "Metal Gear Solid 2: Sons of Liberty",
            "The Legend of Zelda: The Wind Waker",
            "NFL 2K1",
            "Halo: Combat Evolved",
            "Metroid Prime",
            "The Legend of Zelda: Ocarina of Time"
           ],
           "yaxis": "y"
          }
         ],
         "name": "1998"
        },
        {
         "data": [
          {
           "alignmentgroup": "True",
           "hovertemplate": "Year=1999<br>Global Sales (in Millions)=%{x}<br>Name=%{y}<br>Meta Score=%{marker.color}<extra></extra>",
           "legendgroup": "",
           "marker": {
            "color": [
             94,
             94.5,
             95,
             95,
             95,
             96,
             96,
             97,
             97,
             97
            ],
            "coloraxis": "coloraxis",
            "pattern": {
             "shape": ""
            }
           },
           "name": "",
           "offsetgroup": "",
           "orientation": "h",
           "showlegend": false,
           "textposition": "auto",
           "type": "bar",
           "x": [
            1.86,
            16.189999999999998,
            3.36,
            13.11,
            14.98,
            6.05,
            12.739999999999998,
            1.09,
            6.47,
            2.82
           ],
           "xaxis": "x",
           "y": [
            "Chrono Cross",
            "Grand Theft Auto: Vice City",
            "The Legend of Zelda: Majora's Mask",
            "Grand Theft Auto III",
            "Gran Turismo 3: A-Spec",
            "Metal Gear Solid 2: Sons of Liberty",
            "The Legend of Zelda: The Wind Waker",
            "NFL 2K1",
            "Halo: Combat Evolved",
            "Metroid Prime"
           ],
           "yaxis": "y"
          }
         ],
         "name": "1999"
        },
        {
         "data": [
          {
           "alignmentgroup": "True",
           "hovertemplate": "Year=2000<br>Global Sales (in Millions)=%{x}<br>Name=%{y}<br>Meta Score=%{marker.color}<extra></extra>",
           "legendgroup": "",
           "marker": {
            "color": [
             94,
             94.5,
             95,
             95,
             95,
             96,
             96,
             97,
             97,
             97
            ],
            "coloraxis": "coloraxis",
            "pattern": {
             "shape": ""
            }
           },
           "name": "",
           "offsetgroup": "",
           "orientation": "h",
           "showlegend": false,
           "textposition": "auto",
           "type": "bar",
           "x": [
            1.81,
            16.189999999999998,
            3.36,
            13.11,
            14.98,
            6.05,
            12.739999999999998,
            1.09,
            6.47,
            2.82
           ],
           "xaxis": "x",
           "y": [
            "Virtua Fighter 4",
            "Grand Theft Auto: Vice City",
            "The Legend of Zelda: Majora's Mask",
            "Grand Theft Auto III",
            "Gran Turismo 3: A-Spec",
            "Metal Gear Solid 2: Sons of Liberty",
            "The Legend of Zelda: The Wind Waker",
            "NFL 2K1",
            "Halo: Combat Evolved",
            "Metroid Prime"
           ],
           "yaxis": "y"
          }
         ],
         "name": "2000"
        },
        {
         "data": [
          {
           "alignmentgroup": "True",
           "hovertemplate": "Year=2001<br>Global Sales (in Millions)=%{x}<br>Name=%{y}<br>Meta Score=%{marker.color}<extra></extra>",
           "legendgroup": "",
           "marker": {
            "color": [
             94,
             94,
             94.5,
             95,
             95,
             95.5,
             96,
             96,
             97,
             97
            ],
            "coloraxis": "coloraxis",
            "pattern": {
             "shape": ""
            }
           },
           "name": "",
           "offsetgroup": "",
           "orientation": "h",
           "showlegend": false,
           "textposition": "auto",
           "type": "bar",
           "x": [
            1.81,
            0.03,
            16.189999999999998,
            13.11,
            14.98,
            8.9,
            6.05,
            12.739999999999998,
            6.47,
            2.82
           ],
           "xaxis": "x",
           "y": [
            "Virtua Fighter 4",
            "Jet Grind Radio",
            "Grand Theft Auto: Vice City",
            "Grand Theft Auto III",
            "Gran Turismo 3: A-Spec",
            "The Legend of Zelda: Twilight Princess",
            "Metal Gear Solid 2: Sons of Liberty",
            "The Legend of Zelda: The Wind Waker",
            "Halo: Combat Evolved",
            "Metroid Prime"
           ],
           "yaxis": "y"
          }
         ],
         "name": "2001"
        },
        {
         "data": [
          {
           "alignmentgroup": "True",
           "hovertemplate": "Year=2002<br>Global Sales (in Millions)=%{x}<br>Name=%{y}<br>Meta Score=%{marker.color}<extra></extra>",
           "legendgroup": "",
           "marker": {
            "color": [
             94,
             94,
             94,
             94.5,
             95.33,
             95.5,
             96,
             96,
             97,
             97
            ],
            "coloraxis": "coloraxis",
            "pattern": {
             "shape": ""
            }
           },
           "name": "",
           "offsetgroup": "",
           "orientation": "h",
           "showlegend": false,
           "textposition": "auto",
           "type": "bar",
           "x": [
            1.81,
            0.03,
            4.45,
            16.189999999999998,
            4.69,
            8.9,
            12.739999999999998,
            3.0500000000000003,
            2.82,
            11.52
           ],
           "xaxis": "x",
           "y": [
            "Virtua Fighter 4",
            "Jet Grind Radio",
            "God of War",
            "Grand Theft Auto: Vice City",
            "BioShock",
            "The Legend of Zelda: Twilight Princess",
            "The Legend of Zelda: The Wind Waker",
            "The Orange Box",
            "Metroid Prime",
            "Super Mario Galaxy"
           ],
           "yaxis": "y"
          }
         ],
         "name": "2002"
        },
        {
         "data": [
          {
           "alignmentgroup": "True",
           "hovertemplate": "Year=2003<br>Global Sales (in Millions)=%{x}<br>Name=%{y}<br>Meta Score=%{marker.color}<extra></extra>",
           "legendgroup": "",
           "marker": {
            "color": [
             94,
             94,
             94,
             94,
             94,
             95.33,
             95.33,
             95.5,
             96,
             97
            ],
            "coloraxis": "coloraxis",
            "pattern": {
             "shape": ""
            }
           },
           "name": "",
           "offsetgroup": "",
           "orientation": "h",
           "showlegend": false,
           "textposition": "auto",
           "type": "bar",
           "x": [
            0.03,
            4.45,
            0.55,
            0.51,
            0.09,
            4.69,
            22.47,
            8.9,
            3.0500000000000003,
            11.52
           ],
           "xaxis": "x",
           "y": [
            "Jet Grind Radio",
            "God of War",
            "Metal Gear Solid 3: Subsistence",
            "Sid Meier's Civilization IV",
            "Ninja Gaiden Black",
            "BioShock",
            "Grand Theft Auto IV",
            "The Legend of Zelda: Twilight Princess",
            "The Orange Box",
            "Super Mario Galaxy"
           ],
           "yaxis": "y"
          }
         ],
         "name": "2003"
        },
        {
         "data": [
          {
           "alignmentgroup": "True",
           "hovertemplate": "Year=2004<br>Global Sales (in Millions)=%{x}<br>Name=%{y}<br>Meta Score=%{marker.color}<extra></extra>",
           "legendgroup": "",
           "marker": {
            "color": [
             94,
             94,
             94,
             94,
             95.33,
             95.33,
             95.5,
             96,
             96,
             97
            ],
            "coloraxis": "coloraxis",
            "pattern": {
             "shape": ""
            }
           },
           "name": "",
           "offsetgroup": "",
           "orientation": "h",
           "showlegend": false,
           "textposition": "auto",
           "type": "bar",
           "x": [
            4.45,
            0.55,
            0.51,
            0.09,
            4.69,
            22.47,
            8.9,
            3.0500000000000003,
            6.73,
            11.52
           ],
           "xaxis": "x",
           "y": [
            "God of War",
            "Metal Gear Solid 3: Subsistence",
            "Sid Meier's Civilization IV",
            "Ninja Gaiden Black",
            "BioShock",
            "Grand Theft Auto IV",
            "The Legend of Zelda: Twilight Princess",
            "The Orange Box",
            "Uncharted 2: Among Thieves",
            "Super Mario Galaxy"
           ],
           "yaxis": "y"
          }
         ],
         "name": "2004"
        },
        {
         "data": [
          {
           "alignmentgroup": "True",
           "hovertemplate": "Year=2005<br>Global Sales (in Millions)=%{x}<br>Name=%{y}<br>Meta Score=%{marker.color}<extra></extra>",
           "legendgroup": "",
           "marker": {
            "color": [
             94,
             94.67,
             95,
             95.33,
             95.33,
             95.5,
             96,
             96,
             97,
             97
            ],
            "coloraxis": "coloraxis",
            "pattern": {
             "shape": ""
            }
           },
           "name": "",
           "offsetgroup": "",
           "orientation": "h",
           "showlegend": false,
           "textposition": "auto",
           "type": "bar",
           "x": [
            4.45,
            4.99,
            25.88,
            4.69,
            22.47,
            8.9,
            3.0500000000000003,
            6.73,
            11.52,
            7.69
           ],
           "xaxis": "x",
           "y": [
            "God of War",
            "Mass Effect 2",
            "Red Dead Redemption",
            "BioShock",
            "Grand Theft Auto IV",
            "The Legend of Zelda: Twilight Princess",
            "The Orange Box",
            "Uncharted 2: Among Thieves",
            "Super Mario Galaxy",
            "Super Mario Galaxy 2"
           ],
           "yaxis": "y"
          }
         ],
         "name": "2005"
        },
        {
         "data": [
          {
           "alignmentgroup": "True",
           "hovertemplate": "Year=2006<br>Global Sales (in Millions)=%{x}<br>Name=%{y}<br>Meta Score=%{marker.color}<extra></extra>",
           "legendgroup": "",
           "marker": {
            "color": [
             94.67,
             95,
             95,
             95.33,
             95.33,
             95.5,
             96,
             96,
             97,
             97
            ],
            "coloraxis": "coloraxis",
            "pattern": {
             "shape": ""
            }
           },
           "name": "",
           "offsetgroup": "",
           "orientation": "h",
           "showlegend": false,
           "textposition": "auto",
           "type": "bar",
           "x": [
            4.99,
            25.88,
            4.6,
            4.69,
            22.47,
            8.9,
            3.0500000000000003,
            6.73,
            11.52,
            7.69
           ],
           "xaxis": "x",
           "y": [
            "Mass Effect 2",
            "Red Dead Redemption",
            "Portal 2",
            "BioShock",
            "Grand Theft Auto IV",
            "The Legend of Zelda: Twilight Princess",
            "The Orange Box",
            "Uncharted 2: Among Thieves",
            "Super Mario Galaxy",
            "Super Mario Galaxy 2"
           ],
           "yaxis": "y"
          }
         ],
         "name": "2006"
        },
        {
         "data": [
          {
           "alignmentgroup": "True",
           "hovertemplate": "Year=2007<br>Global Sales (in Millions)=%{x}<br>Name=%{y}<br>Meta Score=%{marker.color}<extra></extra>",
           "legendgroup": "",
           "marker": {
            "color": [
             94,
             94.67,
             95,
             95,
             95.33,
             95.33,
             96,
             96,
             97,
             97
            ],
            "coloraxis": "coloraxis",
            "pattern": {
             "shape": ""
            }
           },
           "name": "",
           "offsetgroup": "",
           "orientation": "h",
           "showlegend": false,
           "textposition": "auto",
           "type": "bar",
           "x": [
            12.14,
            4.99,
            25.88,
            4.6,
            4.69,
            22.47,
            3.0500000000000003,
            6.73,
            11.52,
            7.69
           ],
           "xaxis": "x",
           "y": [
            "Halo 3",
            "Mass Effect 2",
            "Red Dead Redemption",
            "Portal 2",
            "BioShock",
            "Grand Theft Auto IV",
            "The Orange Box",
            "Uncharted 2: Among Thieves",
            "Super Mario Galaxy",
            "Super Mario Galaxy 2"
           ],
           "yaxis": "y"
          }
         ],
         "name": "2007"
        },
        {
         "data": [
          {
           "alignmentgroup": "True",
           "hovertemplate": "Year=2008<br>Global Sales (in Millions)=%{x}<br>Name=%{y}<br>Meta Score=%{marker.color}<extra></extra>",
           "legendgroup": "",
           "marker": {
            "color": [
             94,
             94,
             94.67,
             95,
             95,
             95,
             95.33,
             96,
             96.8,
             97
            ],
            "coloraxis": "coloraxis",
            "pattern": {
             "shape": ""
            }
           },
           "name": "",
           "offsetgroup": "",
           "orientation": "h",
           "showlegend": false,
           "textposition": "auto",
           "type": "bar",
           "x": [
            6.03,
            25.09,
            4.99,
            25.88,
            4.6,
            10.54,
            22.47,
            6.73,
            55.92,
            7.69
           ],
           "xaxis": "x",
           "y": [
            "Metal Gear Solid 4: Guns of the Patriots",
            "Call of Duty: Modern Warfare 2",
            "Mass Effect 2",
            "Red Dead Redemption",
            "Portal 2",
            "The Last of Us",
            "Grand Theft Auto IV",
            "Uncharted 2: Among Thieves",
            "Grand Theft Auto V",
            "Super Mario Galaxy 2"
           ],
           "yaxis": "y"
          }
         ],
         "name": "2008"
        },
        {
         "data": [
          {
           "alignmentgroup": "True",
           "hovertemplate": "Year=2009<br>Global Sales (in Millions)=%{x}<br>Name=%{y}<br>Meta Score=%{marker.color}<extra></extra>",
           "legendgroup": "",
           "marker": {
            "color": [
             93.67,
             93.67,
             94,
             94.67,
             95,
             95,
             95,
             96,
             96.8,
             97
            ],
            "coloraxis": "coloraxis",
            "pattern": {
             "shape": ""
            }
           },
           "name": "",
           "offsetgroup": "",
           "orientation": "h",
           "showlegend": false,
           "textposition": "auto",
           "type": "bar",
           "x": [
            11.2,
            4.39,
            25.09,
            4.99,
            25.88,
            4.6,
            10.54,
            6.73,
            55.92,
            7.69
           ],
           "xaxis": "x",
           "y": [
            "Batman: Arkham City",
            "BioShock Infinite",
            "Call of Duty: Modern Warfare 2",
            "Mass Effect 2",
            "Red Dead Redemption",
            "Portal 2",
            "The Last of Us",
            "Uncharted 2: Among Thieves",
            "Grand Theft Auto V",
            "Super Mario Galaxy 2"
           ],
           "yaxis": "y"
          }
         ],
         "name": "2009"
        },
        {
         "data": [
          {
           "alignmentgroup": "True",
           "hovertemplate": "Year=2010<br>Global Sales (in Millions)=%{x}<br>Name=%{y}<br>Meta Score=%{marker.color}<extra></extra>",
           "legendgroup": "",
           "marker": {
            "color": [
             93,
             93,
             93.67,
             93.67,
             94.67,
             95,
             95,
             95,
             96.8,
             97
            ],
            "coloraxis": "coloraxis",
            "pattern": {
             "shape": ""
            }
           },
           "name": "",
           "offsetgroup": "",
           "orientation": "h",
           "showlegend": false,
           "textposition": "auto",
           "type": "bar",
           "x": [
            4.83,
            8.2,
            11.2,
            4.39,
            4.99,
            25.88,
            4.6,
            10.54,
            55.92,
            7.69
           ],
           "xaxis": "x",
           "y": [
            "StarCraft II: Wings of Liberty",
            "The Legend of Zelda: Skyward Sword",
            "Batman: Arkham City",
            "BioShock Infinite",
            "Mass Effect 2",
            "Red Dead Redemption",
            "Portal 2",
            "The Last of Us",
            "Grand Theft Auto V",
            "Super Mario Galaxy 2"
           ],
           "yaxis": "y"
          }
         ],
         "name": "2010"
        },
        {
         "data": [
          {
           "alignmentgroup": "True",
           "hovertemplate": "Year=2011<br>Global Sales (in Millions)=%{x}<br>Name=%{y}<br>Meta Score=%{marker.color}<extra></extra>",
           "legendgroup": "",
           "marker": {
            "color": [
             93,
             93,
             93,
             93,
             93,
             93.67,
             93.67,
             95,
             95,
             96.8
            ],
            "coloraxis": "coloraxis",
            "pattern": {
             "shape": ""
            }
           },
           "name": "",
           "offsetgroup": "",
           "orientation": "h",
           "showlegend": false,
           "textposition": "auto",
           "type": "bar",
           "x": [
            8.2,
            1.38,
            5.779999999999999,
            23.3,
            4.25,
            11.2,
            4.39,
            4.6,
            10.54,
            55.92
           ],
           "xaxis": "x",
           "y": [
            "The Legend of Zelda: Skyward Sword",
            "Persona 4: Golden",
            "Mass Effect 3",
            "Minecraft",
            "Super Mario 3D World",
            "Batman: Arkham City",
            "BioShock Infinite",
            "Portal 2",
            "The Last of Us",
            "Grand Theft Auto V"
           ],
           "yaxis": "y"
          }
         ],
         "name": "2011"
        },
        {
         "data": [
          {
           "alignmentgroup": "True",
           "hovertemplate": "Year=2012<br>Global Sales (in Millions)=%{x}<br>Name=%{y}<br>Meta Score=%{marker.color}<extra></extra>",
           "legendgroup": "",
           "marker": {
            "color": [
             93,
             93,
             93,
             93,
             93,
             93,
             93,
             93.67,
             95,
             96.8
            ],
            "coloraxis": "coloraxis",
            "pattern": {
             "shape": ""
            }
           },
           "name": "",
           "offsetgroup": "",
           "orientation": "h",
           "showlegend": false,
           "textposition": "auto",
           "type": "bar",
           "x": [
            1.38,
            5.779999999999999,
            23.3,
            4.25,
            0.36000000000000004,
            5.08,
            8.03,
            4.39,
            10.54,
            55.92
           ],
           "xaxis": "x",
           "y": [
            "Persona 4: Golden",
            "Mass Effect 3",
            "Minecraft",
            "Super Mario 3D World",
            "Divinity: Original Sin",
            "Metal Gear Solid V: The Phantom Pain",
            "NBA 2K16",
            "BioShock Infinite",
            "The Last of Us",
            "Grand Theft Auto V"
           ],
           "yaxis": "y"
          }
         ],
         "name": "2012"
        },
        {
         "data": [
          {
           "alignmentgroup": "True",
           "hovertemplate": "Year=2013<br>Global Sales (in Millions)=%{x}<br>Name=%{y}<br>Meta Score=%{marker.color}<extra></extra>",
           "legendgroup": "",
           "marker": {
            "color": [
             92,
             92,
             93,
             93,
             93,
             93,
             93,
             93.67,
             95,
             96.8
            ],
            "coloraxis": "coloraxis",
            "pattern": {
             "shape": ""
            }
           },
           "name": "",
           "offsetgroup": "",
           "orientation": "h",
           "showlegend": false,
           "textposition": "auto",
           "type": "bar",
           "x": [
            5.64,
            2.38,
            23.3,
            4.25,
            0.36000000000000004,
            5.08,
            8.03,
            4.39,
            10.54,
            55.92
           ],
           "xaxis": "x",
           "y": [
            "The Witcher 3: Wild Hunt",
            "Bloodborne",
            "Minecraft",
            "Super Mario 3D World",
            "Divinity: Original Sin",
            "Metal Gear Solid V: The Phantom Pain",
            "NBA 2K16",
            "BioShock Infinite",
            "The Last of Us",
            "Grand Theft Auto V"
           ],
           "yaxis": "y"
          }
         ],
         "name": "2013"
        },
        {
         "data": [
          {
           "alignmentgroup": "True",
           "hovertemplate": "Year=2014<br>Global Sales (in Millions)=%{x}<br>Name=%{y}<br>Meta Score=%{marker.color}<extra></extra>",
           "legendgroup": "",
           "marker": {
            "color": [
             88,
             89,
             89,
             91,
             91.5,
             92,
             92,
             93,
             93,
             93
            ],
            "coloraxis": "coloraxis",
            "pattern": {
             "shape": ""
            }
           },
           "name": "",
           "offsetgroup": "",
           "orientation": "h",
           "showlegend": false,
           "textposition": "auto",
           "type": "bar",
           "x": [
            3.18,
            0.02,
            2.32,
            3.0700000000000003,
            1.01,
            5.64,
            2.38,
            0.36000000000000004,
            5.08,
            8.03
           ],
           "xaxis": "x",
           "y": [
            "Super Mario Maker",
            "Pillars of Eternity",
            "The Legend of Zelda: Majora's Mask 3D",
            "Dark Souls II",
            "Bayonetta 2",
            "The Witcher 3: Wild Hunt",
            "Bloodborne",
            "Divinity: Original Sin",
            "Metal Gear Solid V: The Phantom Pain",
            "NBA 2K16"
           ],
           "yaxis": "y"
          }
         ],
         "name": "2014"
        }
       ],
       "layout": {
        "barmode": "relative",
        "coloraxis": {
         "cmax": 100,
         "cmin": 0,
         "colorbar": {
          "title": {
           "text": "Meta Score"
          }
         },
         "colorscale": [
          [
           0,
           "red"
          ],
          [
           0.5,
           "yellow"
          ],
          [
           1,
           "green"
          ]
         ]
        },
        "legend": {
         "tracegroupgap": 0
        },
        "margin": {
         "l": 400,
         "t": 60
        },
        "sliders": [
         {
          "active": 0,
          "currentvalue": {
           "prefix": "Year="
          },
          "len": 0.9,
          "pad": {
           "b": 10,
           "t": 60
          },
          "steps": [
           {
            "args": [
             [
              "1980"
             ],
             {
              "frame": {
               "duration": 0,
               "redraw": true
              },
              "fromcurrent": true,
              "mode": "immediate",
              "transition": {
               "duration": 0,
               "easing": "linear"
              }
             }
            ],
            "label": "1980",
            "method": "animate"
           },
           {
            "args": [
             [
              "1981"
             ],
             {
              "frame": {
               "duration": 0,
               "redraw": true
              },
              "fromcurrent": true,
              "mode": "immediate",
              "transition": {
               "duration": 0,
               "easing": "linear"
              }
             }
            ],
            "label": "1981",
            "method": "animate"
           },
           {
            "args": [
             [
              "1982"
             ],
             {
              "frame": {
               "duration": 0,
               "redraw": true
              },
              "fromcurrent": true,
              "mode": "immediate",
              "transition": {
               "duration": 0,
               "easing": "linear"
              }
             }
            ],
            "label": "1982",
            "method": "animate"
           },
           {
            "args": [
             [
              "1983"
             ],
             {
              "frame": {
               "duration": 0,
               "redraw": true
              },
              "fromcurrent": true,
              "mode": "immediate",
              "transition": {
               "duration": 0,
               "easing": "linear"
              }
             }
            ],
            "label": "1983",
            "method": "animate"
           },
           {
            "args": [
             [
              "1984"
             ],
             {
              "frame": {
               "duration": 0,
               "redraw": true
              },
              "fromcurrent": true,
              "mode": "immediate",
              "transition": {
               "duration": 0,
               "easing": "linear"
              }
             }
            ],
            "label": "1984",
            "method": "animate"
           },
           {
            "args": [
             [
              "1985"
             ],
             {
              "frame": {
               "duration": 0,
               "redraw": true
              },
              "fromcurrent": true,
              "mode": "immediate",
              "transition": {
               "duration": 0,
               "easing": "linear"
              }
             }
            ],
            "label": "1985",
            "method": "animate"
           },
           {
            "args": [
             [
              "1986"
             ],
             {
              "frame": {
               "duration": 0,
               "redraw": true
              },
              "fromcurrent": true,
              "mode": "immediate",
              "transition": {
               "duration": 0,
               "easing": "linear"
              }
             }
            ],
            "label": "1986",
            "method": "animate"
           },
           {
            "args": [
             [
              "1987"
             ],
             {
              "frame": {
               "duration": 0,
               "redraw": true
              },
              "fromcurrent": true,
              "mode": "immediate",
              "transition": {
               "duration": 0,
               "easing": "linear"
              }
             }
            ],
            "label": "1987",
            "method": "animate"
           },
           {
            "args": [
             [
              "1988"
             ],
             {
              "frame": {
               "duration": 0,
               "redraw": true
              },
              "fromcurrent": true,
              "mode": "immediate",
              "transition": {
               "duration": 0,
               "easing": "linear"
              }
             }
            ],
            "label": "1988",
            "method": "animate"
           },
           {
            "args": [
             [
              "1989"
             ],
             {
              "frame": {
               "duration": 0,
               "redraw": true
              },
              "fromcurrent": true,
              "mode": "immediate",
              "transition": {
               "duration": 0,
               "easing": "linear"
              }
             }
            ],
            "label": "1989",
            "method": "animate"
           },
           {
            "args": [
             [
              "1990"
             ],
             {
              "frame": {
               "duration": 0,
               "redraw": true
              },
              "fromcurrent": true,
              "mode": "immediate",
              "transition": {
               "duration": 0,
               "easing": "linear"
              }
             }
            ],
            "label": "1990",
            "method": "animate"
           },
           {
            "args": [
             [
              "1991"
             ],
             {
              "frame": {
               "duration": 0,
               "redraw": true
              },
              "fromcurrent": true,
              "mode": "immediate",
              "transition": {
               "duration": 0,
               "easing": "linear"
              }
             }
            ],
            "label": "1991",
            "method": "animate"
           },
           {
            "args": [
             [
              "1992"
             ],
             {
              "frame": {
               "duration": 0,
               "redraw": true
              },
              "fromcurrent": true,
              "mode": "immediate",
              "transition": {
               "duration": 0,
               "easing": "linear"
              }
             }
            ],
            "label": "1992",
            "method": "animate"
           },
           {
            "args": [
             [
              "1993"
             ],
             {
              "frame": {
               "duration": 0,
               "redraw": true
              },
              "fromcurrent": true,
              "mode": "immediate",
              "transition": {
               "duration": 0,
               "easing": "linear"
              }
             }
            ],
            "label": "1993",
            "method": "animate"
           },
           {
            "args": [
             [
              "1994"
             ],
             {
              "frame": {
               "duration": 0,
               "redraw": true
              },
              "fromcurrent": true,
              "mode": "immediate",
              "transition": {
               "duration": 0,
               "easing": "linear"
              }
             }
            ],
            "label": "1994",
            "method": "animate"
           },
           {
            "args": [
             [
              "1995"
             ],
             {
              "frame": {
               "duration": 0,
               "redraw": true
              },
              "fromcurrent": true,
              "mode": "immediate",
              "transition": {
               "duration": 0,
               "easing": "linear"
              }
             }
            ],
            "label": "1995",
            "method": "animate"
           },
           {
            "args": [
             [
              "1996"
             ],
             {
              "frame": {
               "duration": 0,
               "redraw": true
              },
              "fromcurrent": true,
              "mode": "immediate",
              "transition": {
               "duration": 0,
               "easing": "linear"
              }
             }
            ],
            "label": "1996",
            "method": "animate"
           },
           {
            "args": [
             [
              "1997"
             ],
             {
              "frame": {
               "duration": 0,
               "redraw": true
              },
              "fromcurrent": true,
              "mode": "immediate",
              "transition": {
               "duration": 0,
               "easing": "linear"
              }
             }
            ],
            "label": "1997",
            "method": "animate"
           },
           {
            "args": [
             [
              "1998"
             ],
             {
              "frame": {
               "duration": 0,
               "redraw": true
              },
              "fromcurrent": true,
              "mode": "immediate",
              "transition": {
               "duration": 0,
               "easing": "linear"
              }
             }
            ],
            "label": "1998",
            "method": "animate"
           },
           {
            "args": [
             [
              "1999"
             ],
             {
              "frame": {
               "duration": 0,
               "redraw": true
              },
              "fromcurrent": true,
              "mode": "immediate",
              "transition": {
               "duration": 0,
               "easing": "linear"
              }
             }
            ],
            "label": "1999",
            "method": "animate"
           },
           {
            "args": [
             [
              "2000"
             ],
             {
              "frame": {
               "duration": 0,
               "redraw": true
              },
              "fromcurrent": true,
              "mode": "immediate",
              "transition": {
               "duration": 0,
               "easing": "linear"
              }
             }
            ],
            "label": "2000",
            "method": "animate"
           },
           {
            "args": [
             [
              "2001"
             ],
             {
              "frame": {
               "duration": 0,
               "redraw": true
              },
              "fromcurrent": true,
              "mode": "immediate",
              "transition": {
               "duration": 0,
               "easing": "linear"
              }
             }
            ],
            "label": "2001",
            "method": "animate"
           },
           {
            "args": [
             [
              "2002"
             ],
             {
              "frame": {
               "duration": 0,
               "redraw": true
              },
              "fromcurrent": true,
              "mode": "immediate",
              "transition": {
               "duration": 0,
               "easing": "linear"
              }
             }
            ],
            "label": "2002",
            "method": "animate"
           },
           {
            "args": [
             [
              "2003"
             ],
             {
              "frame": {
               "duration": 0,
               "redraw": true
              },
              "fromcurrent": true,
              "mode": "immediate",
              "transition": {
               "duration": 0,
               "easing": "linear"
              }
             }
            ],
            "label": "2003",
            "method": "animate"
           },
           {
            "args": [
             [
              "2004"
             ],
             {
              "frame": {
               "duration": 0,
               "redraw": true
              },
              "fromcurrent": true,
              "mode": "immediate",
              "transition": {
               "duration": 0,
               "easing": "linear"
              }
             }
            ],
            "label": "2004",
            "method": "animate"
           },
           {
            "args": [
             [
              "2005"
             ],
             {
              "frame": {
               "duration": 0,
               "redraw": true
              },
              "fromcurrent": true,
              "mode": "immediate",
              "transition": {
               "duration": 0,
               "easing": "linear"
              }
             }
            ],
            "label": "2005",
            "method": "animate"
           },
           {
            "args": [
             [
              "2006"
             ],
             {
              "frame": {
               "duration": 0,
               "redraw": true
              },
              "fromcurrent": true,
              "mode": "immediate",
              "transition": {
               "duration": 0,
               "easing": "linear"
              }
             }
            ],
            "label": "2006",
            "method": "animate"
           },
           {
            "args": [
             [
              "2007"
             ],
             {
              "frame": {
               "duration": 0,
               "redraw": true
              },
              "fromcurrent": true,
              "mode": "immediate",
              "transition": {
               "duration": 0,
               "easing": "linear"
              }
             }
            ],
            "label": "2007",
            "method": "animate"
           },
           {
            "args": [
             [
              "2008"
             ],
             {
              "frame": {
               "duration": 0,
               "redraw": true
              },
              "fromcurrent": true,
              "mode": "immediate",
              "transition": {
               "duration": 0,
               "easing": "linear"
              }
             }
            ],
            "label": "2008",
            "method": "animate"
           },
           {
            "args": [
             [
              "2009"
             ],
             {
              "frame": {
               "duration": 0,
               "redraw": true
              },
              "fromcurrent": true,
              "mode": "immediate",
              "transition": {
               "duration": 0,
               "easing": "linear"
              }
             }
            ],
            "label": "2009",
            "method": "animate"
           },
           {
            "args": [
             [
              "2010"
             ],
             {
              "frame": {
               "duration": 0,
               "redraw": true
              },
              "fromcurrent": true,
              "mode": "immediate",
              "transition": {
               "duration": 0,
               "easing": "linear"
              }
             }
            ],
            "label": "2010",
            "method": "animate"
           },
           {
            "args": [
             [
              "2011"
             ],
             {
              "frame": {
               "duration": 0,
               "redraw": true
              },
              "fromcurrent": true,
              "mode": "immediate",
              "transition": {
               "duration": 0,
               "easing": "linear"
              }
             }
            ],
            "label": "2011",
            "method": "animate"
           },
           {
            "args": [
             [
              "2012"
             ],
             {
              "frame": {
               "duration": 0,
               "redraw": true
              },
              "fromcurrent": true,
              "mode": "immediate",
              "transition": {
               "duration": 0,
               "easing": "linear"
              }
             }
            ],
            "label": "2012",
            "method": "animate"
           },
           {
            "args": [
             [
              "2013"
             ],
             {
              "frame": {
               "duration": 0,
               "redraw": true
              },
              "fromcurrent": true,
              "mode": "immediate",
              "transition": {
               "duration": 0,
               "easing": "linear"
              }
             }
            ],
            "label": "2013",
            "method": "animate"
           },
           {
            "args": [
             [
              "2014"
             ],
             {
              "frame": {
               "duration": 0,
               "redraw": true
              },
              "fromcurrent": true,
              "mode": "immediate",
              "transition": {
               "duration": 0,
               "easing": "linear"
              }
             }
            ],
            "label": "2014",
            "method": "animate"
           }
          ],
          "x": 0.1,
          "xanchor": "left",
          "y": 0,
          "yanchor": "top"
         }
        ],
        "template": {
         "data": {
          "bar": [
           {
            "error_x": {
             "color": "#2a3f5f"
            },
            "error_y": {
             "color": "#2a3f5f"
            },
            "marker": {
             "line": {
              "color": "#E5ECF6",
              "width": 0.5
             },
             "pattern": {
              "fillmode": "overlay",
              "size": 10,
              "solidity": 0.2
             }
            },
            "type": "bar"
           }
          ],
          "barpolar": [
           {
            "marker": {
             "line": {
              "color": "#E5ECF6",
              "width": 0.5
             },
             "pattern": {
              "fillmode": "overlay",
              "size": 10,
              "solidity": 0.2
             }
            },
            "type": "barpolar"
           }
          ],
          "carpet": [
           {
            "aaxis": {
             "endlinecolor": "#2a3f5f",
             "gridcolor": "white",
             "linecolor": "white",
             "minorgridcolor": "white",
             "startlinecolor": "#2a3f5f"
            },
            "baxis": {
             "endlinecolor": "#2a3f5f",
             "gridcolor": "white",
             "linecolor": "white",
             "minorgridcolor": "white",
             "startlinecolor": "#2a3f5f"
            },
            "type": "carpet"
           }
          ],
          "choropleth": [
           {
            "colorbar": {
             "outlinewidth": 0,
             "ticks": ""
            },
            "type": "choropleth"
           }
          ],
          "contour": [
           {
            "colorbar": {
             "outlinewidth": 0,
             "ticks": ""
            },
            "colorscale": [
             [
              0,
              "#0d0887"
             ],
             [
              0.1111111111111111,
              "#46039f"
             ],
             [
              0.2222222222222222,
              "#7201a8"
             ],
             [
              0.3333333333333333,
              "#9c179e"
             ],
             [
              0.4444444444444444,
              "#bd3786"
             ],
             [
              0.5555555555555556,
              "#d8576b"
             ],
             [
              0.6666666666666666,
              "#ed7953"
             ],
             [
              0.7777777777777778,
              "#fb9f3a"
             ],
             [
              0.8888888888888888,
              "#fdca26"
             ],
             [
              1,
              "#f0f921"
             ]
            ],
            "type": "contour"
           }
          ],
          "contourcarpet": [
           {
            "colorbar": {
             "outlinewidth": 0,
             "ticks": ""
            },
            "type": "contourcarpet"
           }
          ],
          "heatmap": [
           {
            "colorbar": {
             "outlinewidth": 0,
             "ticks": ""
            },
            "colorscale": [
             [
              0,
              "#0d0887"
             ],
             [
              0.1111111111111111,
              "#46039f"
             ],
             [
              0.2222222222222222,
              "#7201a8"
             ],
             [
              0.3333333333333333,
              "#9c179e"
             ],
             [
              0.4444444444444444,
              "#bd3786"
             ],
             [
              0.5555555555555556,
              "#d8576b"
             ],
             [
              0.6666666666666666,
              "#ed7953"
             ],
             [
              0.7777777777777778,
              "#fb9f3a"
             ],
             [
              0.8888888888888888,
              "#fdca26"
             ],
             [
              1,
              "#f0f921"
             ]
            ],
            "type": "heatmap"
           }
          ],
          "heatmapgl": [
           {
            "colorbar": {
             "outlinewidth": 0,
             "ticks": ""
            },
            "colorscale": [
             [
              0,
              "#0d0887"
             ],
             [
              0.1111111111111111,
              "#46039f"
             ],
             [
              0.2222222222222222,
              "#7201a8"
             ],
             [
              0.3333333333333333,
              "#9c179e"
             ],
             [
              0.4444444444444444,
              "#bd3786"
             ],
             [
              0.5555555555555556,
              "#d8576b"
             ],
             [
              0.6666666666666666,
              "#ed7953"
             ],
             [
              0.7777777777777778,
              "#fb9f3a"
             ],
             [
              0.8888888888888888,
              "#fdca26"
             ],
             [
              1,
              "#f0f921"
             ]
            ],
            "type": "heatmapgl"
           }
          ],
          "histogram": [
           {
            "marker": {
             "pattern": {
              "fillmode": "overlay",
              "size": 10,
              "solidity": 0.2
             }
            },
            "type": "histogram"
           }
          ],
          "histogram2d": [
           {
            "colorbar": {
             "outlinewidth": 0,
             "ticks": ""
            },
            "colorscale": [
             [
              0,
              "#0d0887"
             ],
             [
              0.1111111111111111,
              "#46039f"
             ],
             [
              0.2222222222222222,
              "#7201a8"
             ],
             [
              0.3333333333333333,
              "#9c179e"
             ],
             [
              0.4444444444444444,
              "#bd3786"
             ],
             [
              0.5555555555555556,
              "#d8576b"
             ],
             [
              0.6666666666666666,
              "#ed7953"
             ],
             [
              0.7777777777777778,
              "#fb9f3a"
             ],
             [
              0.8888888888888888,
              "#fdca26"
             ],
             [
              1,
              "#f0f921"
             ]
            ],
            "type": "histogram2d"
           }
          ],
          "histogram2dcontour": [
           {
            "colorbar": {
             "outlinewidth": 0,
             "ticks": ""
            },
            "colorscale": [
             [
              0,
              "#0d0887"
             ],
             [
              0.1111111111111111,
              "#46039f"
             ],
             [
              0.2222222222222222,
              "#7201a8"
             ],
             [
              0.3333333333333333,
              "#9c179e"
             ],
             [
              0.4444444444444444,
              "#bd3786"
             ],
             [
              0.5555555555555556,
              "#d8576b"
             ],
             [
              0.6666666666666666,
              "#ed7953"
             ],
             [
              0.7777777777777778,
              "#fb9f3a"
             ],
             [
              0.8888888888888888,
              "#fdca26"
             ],
             [
              1,
              "#f0f921"
             ]
            ],
            "type": "histogram2dcontour"
           }
          ],
          "mesh3d": [
           {
            "colorbar": {
             "outlinewidth": 0,
             "ticks": ""
            },
            "type": "mesh3d"
           }
          ],
          "parcoords": [
           {
            "line": {
             "colorbar": {
              "outlinewidth": 0,
              "ticks": ""
             }
            },
            "type": "parcoords"
           }
          ],
          "pie": [
           {
            "automargin": true,
            "type": "pie"
           }
          ],
          "scatter": [
           {
            "fillpattern": {
             "fillmode": "overlay",
             "size": 10,
             "solidity": 0.2
            },
            "type": "scatter"
           }
          ],
          "scatter3d": [
           {
            "line": {
             "colorbar": {
              "outlinewidth": 0,
              "ticks": ""
             }
            },
            "marker": {
             "colorbar": {
              "outlinewidth": 0,
              "ticks": ""
             }
            },
            "type": "scatter3d"
           }
          ],
          "scattercarpet": [
           {
            "marker": {
             "colorbar": {
              "outlinewidth": 0,
              "ticks": ""
             }
            },
            "type": "scattercarpet"
           }
          ],
          "scattergeo": [
           {
            "marker": {
             "colorbar": {
              "outlinewidth": 0,
              "ticks": ""
             }
            },
            "type": "scattergeo"
           }
          ],
          "scattergl": [
           {
            "marker": {
             "colorbar": {
              "outlinewidth": 0,
              "ticks": ""
             }
            },
            "type": "scattergl"
           }
          ],
          "scattermapbox": [
           {
            "marker": {
             "colorbar": {
              "outlinewidth": 0,
              "ticks": ""
             }
            },
            "type": "scattermapbox"
           }
          ],
          "scatterpolar": [
           {
            "marker": {
             "colorbar": {
              "outlinewidth": 0,
              "ticks": ""
             }
            },
            "type": "scatterpolar"
           }
          ],
          "scatterpolargl": [
           {
            "marker": {
             "colorbar": {
              "outlinewidth": 0,
              "ticks": ""
             }
            },
            "type": "scatterpolargl"
           }
          ],
          "scatterternary": [
           {
            "marker": {
             "colorbar": {
              "outlinewidth": 0,
              "ticks": ""
             }
            },
            "type": "scatterternary"
           }
          ],
          "surface": [
           {
            "colorbar": {
             "outlinewidth": 0,
             "ticks": ""
            },
            "colorscale": [
             [
              0,
              "#0d0887"
             ],
             [
              0.1111111111111111,
              "#46039f"
             ],
             [
              0.2222222222222222,
              "#7201a8"
             ],
             [
              0.3333333333333333,
              "#9c179e"
             ],
             [
              0.4444444444444444,
              "#bd3786"
             ],
             [
              0.5555555555555556,
              "#d8576b"
             ],
             [
              0.6666666666666666,
              "#ed7953"
             ],
             [
              0.7777777777777778,
              "#fb9f3a"
             ],
             [
              0.8888888888888888,
              "#fdca26"
             ],
             [
              1,
              "#f0f921"
             ]
            ],
            "type": "surface"
           }
          ],
          "table": [
           {
            "cells": {
             "fill": {
              "color": "#EBF0F8"
             },
             "line": {
              "color": "white"
             }
            },
            "header": {
             "fill": {
              "color": "#C8D4E3"
             },
             "line": {
              "color": "white"
             }
            },
            "type": "table"
           }
          ]
         },
         "layout": {
          "annotationdefaults": {
           "arrowcolor": "#2a3f5f",
           "arrowhead": 0,
           "arrowwidth": 1
          },
          "autotypenumbers": "strict",
          "coloraxis": {
           "colorbar": {
            "outlinewidth": 0,
            "ticks": ""
           }
          },
          "colorscale": {
           "diverging": [
            [
             0,
             "#8e0152"
            ],
            [
             0.1,
             "#c51b7d"
            ],
            [
             0.2,
             "#de77ae"
            ],
            [
             0.3,
             "#f1b6da"
            ],
            [
             0.4,
             "#fde0ef"
            ],
            [
             0.5,
             "#f7f7f7"
            ],
            [
             0.6,
             "#e6f5d0"
            ],
            [
             0.7,
             "#b8e186"
            ],
            [
             0.8,
             "#7fbc41"
            ],
            [
             0.9,
             "#4d9221"
            ],
            [
             1,
             "#276419"
            ]
           ],
           "sequential": [
            [
             0,
             "#0d0887"
            ],
            [
             0.1111111111111111,
             "#46039f"
            ],
            [
             0.2222222222222222,
             "#7201a8"
            ],
            [
             0.3333333333333333,
             "#9c179e"
            ],
            [
             0.4444444444444444,
             "#bd3786"
            ],
            [
             0.5555555555555556,
             "#d8576b"
            ],
            [
             0.6666666666666666,
             "#ed7953"
            ],
            [
             0.7777777777777778,
             "#fb9f3a"
            ],
            [
             0.8888888888888888,
             "#fdca26"
            ],
            [
             1,
             "#f0f921"
            ]
           ],
           "sequentialminus": [
            [
             0,
             "#0d0887"
            ],
            [
             0.1111111111111111,
             "#46039f"
            ],
            [
             0.2222222222222222,
             "#7201a8"
            ],
            [
             0.3333333333333333,
             "#9c179e"
            ],
            [
             0.4444444444444444,
             "#bd3786"
            ],
            [
             0.5555555555555556,
             "#d8576b"
            ],
            [
             0.6666666666666666,
             "#ed7953"
            ],
            [
             0.7777777777777778,
             "#fb9f3a"
            ],
            [
             0.8888888888888888,
             "#fdca26"
            ],
            [
             1,
             "#f0f921"
            ]
           ]
          },
          "colorway": [
           "#636efa",
           "#EF553B",
           "#00cc96",
           "#ab63fa",
           "#FFA15A",
           "#19d3f3",
           "#FF6692",
           "#B6E880",
           "#FF97FF",
           "#FECB52"
          ],
          "font": {
           "color": "#2a3f5f"
          },
          "geo": {
           "bgcolor": "white",
           "lakecolor": "white",
           "landcolor": "#E5ECF6",
           "showlakes": true,
           "showland": true,
           "subunitcolor": "white"
          },
          "hoverlabel": {
           "align": "left"
          },
          "hovermode": "closest",
          "mapbox": {
           "style": "light"
          },
          "paper_bgcolor": "white",
          "plot_bgcolor": "#E5ECF6",
          "polar": {
           "angularaxis": {
            "gridcolor": "white",
            "linecolor": "white",
            "ticks": ""
           },
           "bgcolor": "#E5ECF6",
           "radialaxis": {
            "gridcolor": "white",
            "linecolor": "white",
            "ticks": ""
           }
          },
          "scene": {
           "xaxis": {
            "backgroundcolor": "#E5ECF6",
            "gridcolor": "white",
            "gridwidth": 2,
            "linecolor": "white",
            "showbackground": true,
            "ticks": "",
            "zerolinecolor": "white"
           },
           "yaxis": {
            "backgroundcolor": "#E5ECF6",
            "gridcolor": "white",
            "gridwidth": 2,
            "linecolor": "white",
            "showbackground": true,
            "ticks": "",
            "zerolinecolor": "white"
           },
           "zaxis": {
            "backgroundcolor": "#E5ECF6",
            "gridcolor": "white",
            "gridwidth": 2,
            "linecolor": "white",
            "showbackground": true,
            "ticks": "",
            "zerolinecolor": "white"
           }
          },
          "shapedefaults": {
           "line": {
            "color": "#2a3f5f"
           }
          },
          "ternary": {
           "aaxis": {
            "gridcolor": "white",
            "linecolor": "white",
            "ticks": ""
           },
           "baxis": {
            "gridcolor": "white",
            "linecolor": "white",
            "ticks": ""
           },
           "bgcolor": "#E5ECF6",
           "caxis": {
            "gridcolor": "white",
            "linecolor": "white",
            "ticks": ""
           }
          },
          "title": {
           "x": 0.05
          },
          "xaxis": {
           "automargin": true,
           "gridcolor": "white",
           "linecolor": "white",
           "ticks": "",
           "title": {
            "standoff": 15
           },
           "zerolinecolor": "white",
           "zerolinewidth": 2
          },
          "yaxis": {
           "automargin": true,
           "gridcolor": "white",
           "linecolor": "white",
           "ticks": "",
           "title": {
            "standoff": 15
           },
           "zerolinecolor": "white",
           "zerolinewidth": 2
          }
         }
        },
        "updatemenus": [
         {
          "buttons": [
           {
            "args": [
             null,
             {
              "frame": {
               "duration": 1500,
               "redraw": true
              },
              "fromcurrent": true,
              "mode": "immediate",
              "transition": {
               "duration": 500,
               "easing": "linear"
              }
             }
            ],
            "label": "&#9654;",
            "method": "animate"
           },
           {
            "args": [
             [
              null
             ],
             {
              "frame": {
               "duration": 0,
               "redraw": true
              },
              "fromcurrent": true,
              "mode": "immediate",
              "transition": {
               "duration": 0,
               "easing": "linear"
              }
             }
            ],
            "label": "&#9724;",
            "method": "animate"
           }
          ],
          "direction": "left",
          "pad": {
           "r": 10,
           "t": 70
          },
          "showactive": false,
          "type": "buttons",
          "x": 0.1,
          "xanchor": "right",
          "y": 0,
          "yanchor": "top"
         }
        ],
        "xaxis": {
         "anchor": "y",
         "domain": [
          0,
          1
         ],
         "range": [
          0,
          80
         ],
         "title": {
          "text": "Global Sales (in Millions)"
         }
        },
        "yaxis": {
         "anchor": "x",
         "domain": [
          0,
          1
         ],
         "title": {
          "font": {
           "color": "white"
          },
          "text": "Name"
         }
        }
       }
      },
      "text/html": [
       "<div>                            <div id=\"d6c92a6d-9ffc-48de-ab7a-75543a1c7a4d\" class=\"plotly-graph-div\" style=\"height:525px; width:100%;\"></div>            <script type=\"text/javascript\">                require([\"plotly\"], function(Plotly) {                    window.PLOTLYENV=window.PLOTLYENV || {};                                    if (document.getElementById(\"d6c92a6d-9ffc-48de-ab7a-75543a1c7a4d\")) {                    Plotly.newPlot(                        \"d6c92a6d-9ffc-48de-ab7a-75543a1c7a4d\",                        [{\"alignmentgroup\":\"True\",\"hovertemplate\":\"Year=1980<br>Global Sales (in Millions)=%{x}<br>Name=%{y}<br>Meta Score=%{marker.color}<extra></extra>\",\"legendgroup\":\"\",\"marker\":{\"color\":[60.6,61.0,62.0,63.0,65.0,65.0,68.0,74.0,76.0,83.5],\"coloraxis\":\"coloraxis\",\"pattern\":{\"shape\":\"\"}},\"name\":\"\",\"offsetgroup\":\"\",\"orientation\":\"h\",\"showlegend\":false,\"textposition\":\"auto\",\"x\":[1.6500000000000004,6.36,9.03,3.21,1.65,2.05,1.08,1.3499999999999999,1.12,4.59],\"xaxis\":\"x\",\"y\":[\"Defender\",\"Frogger\",\"Pac-Man\",\"Missile Command\",\"Ms. Pac-Man\",\"Dig Dug\",\"Joust\",\"Bomberman\",\"Lode Runner\",\"Spider-Man\"],\"yaxis\":\"y\",\"type\":\"bar\"}],                        {\"template\":{\"data\":{\"histogram2dcontour\":[{\"type\":\"histogram2dcontour\",\"colorbar\":{\"outlinewidth\":0,\"ticks\":\"\"},\"colorscale\":[[0.0,\"#0d0887\"],[0.1111111111111111,\"#46039f\"],[0.2222222222222222,\"#7201a8\"],[0.3333333333333333,\"#9c179e\"],[0.4444444444444444,\"#bd3786\"],[0.5555555555555556,\"#d8576b\"],[0.6666666666666666,\"#ed7953\"],[0.7777777777777778,\"#fb9f3a\"],[0.8888888888888888,\"#fdca26\"],[1.0,\"#f0f921\"]]}],\"choropleth\":[{\"type\":\"choropleth\",\"colorbar\":{\"outlinewidth\":0,\"ticks\":\"\"}}],\"histogram2d\":[{\"type\":\"histogram2d\",\"colorbar\":{\"outlinewidth\":0,\"ticks\":\"\"},\"colorscale\":[[0.0,\"#0d0887\"],[0.1111111111111111,\"#46039f\"],[0.2222222222222222,\"#7201a8\"],[0.3333333333333333,\"#9c179e\"],[0.4444444444444444,\"#bd3786\"],[0.5555555555555556,\"#d8576b\"],[0.6666666666666666,\"#ed7953\"],[0.7777777777777778,\"#fb9f3a\"],[0.8888888888888888,\"#fdca26\"],[1.0,\"#f0f921\"]]}],\"heatmap\":[{\"type\":\"heatmap\",\"colorbar\":{\"outlinewidth\":0,\"ticks\":\"\"},\"colorscale\":[[0.0,\"#0d0887\"],[0.1111111111111111,\"#46039f\"],[0.2222222222222222,\"#7201a8\"],[0.3333333333333333,\"#9c179e\"],[0.4444444444444444,\"#bd3786\"],[0.5555555555555556,\"#d8576b\"],[0.6666666666666666,\"#ed7953\"],[0.7777777777777778,\"#fb9f3a\"],[0.8888888888888888,\"#fdca26\"],[1.0,\"#f0f921\"]]}],\"heatmapgl\":[{\"type\":\"heatmapgl\",\"colorbar\":{\"outlinewidth\":0,\"ticks\":\"\"},\"colorscale\":[[0.0,\"#0d0887\"],[0.1111111111111111,\"#46039f\"],[0.2222222222222222,\"#7201a8\"],[0.3333333333333333,\"#9c179e\"],[0.4444444444444444,\"#bd3786\"],[0.5555555555555556,\"#d8576b\"],[0.6666666666666666,\"#ed7953\"],[0.7777777777777778,\"#fb9f3a\"],[0.8888888888888888,\"#fdca26\"],[1.0,\"#f0f921\"]]}],\"contourcarpet\":[{\"type\":\"contourcarpet\",\"colorbar\":{\"outlinewidth\":0,\"ticks\":\"\"}}],\"contour\":[{\"type\":\"contour\",\"colorbar\":{\"outlinewidth\":0,\"ticks\":\"\"},\"colorscale\":[[0.0,\"#0d0887\"],[0.1111111111111111,\"#46039f\"],[0.2222222222222222,\"#7201a8\"],[0.3333333333333333,\"#9c179e\"],[0.4444444444444444,\"#bd3786\"],[0.5555555555555556,\"#d8576b\"],[0.6666666666666666,\"#ed7953\"],[0.7777777777777778,\"#fb9f3a\"],[0.8888888888888888,\"#fdca26\"],[1.0,\"#f0f921\"]]}],\"surface\":[{\"type\":\"surface\",\"colorbar\":{\"outlinewidth\":0,\"ticks\":\"\"},\"colorscale\":[[0.0,\"#0d0887\"],[0.1111111111111111,\"#46039f\"],[0.2222222222222222,\"#7201a8\"],[0.3333333333333333,\"#9c179e\"],[0.4444444444444444,\"#bd3786\"],[0.5555555555555556,\"#d8576b\"],[0.6666666666666666,\"#ed7953\"],[0.7777777777777778,\"#fb9f3a\"],[0.8888888888888888,\"#fdca26\"],[1.0,\"#f0f921\"]]}],\"mesh3d\":[{\"type\":\"mesh3d\",\"colorbar\":{\"outlinewidth\":0,\"ticks\":\"\"}}],\"scatter\":[{\"fillpattern\":{\"fillmode\":\"overlay\",\"size\":10,\"solidity\":0.2},\"type\":\"scatter\"}],\"parcoords\":[{\"type\":\"parcoords\",\"line\":{\"colorbar\":{\"outlinewidth\":0,\"ticks\":\"\"}}}],\"scatterpolargl\":[{\"type\":\"scatterpolargl\",\"marker\":{\"colorbar\":{\"outlinewidth\":0,\"ticks\":\"\"}}}],\"bar\":[{\"error_x\":{\"color\":\"#2a3f5f\"},\"error_y\":{\"color\":\"#2a3f5f\"},\"marker\":{\"line\":{\"color\":\"#E5ECF6\",\"width\":0.5},\"pattern\":{\"fillmode\":\"overlay\",\"size\":10,\"solidity\":0.2}},\"type\":\"bar\"}],\"scattergeo\":[{\"type\":\"scattergeo\",\"marker\":{\"colorbar\":{\"outlinewidth\":0,\"ticks\":\"\"}}}],\"scatterpolar\":[{\"type\":\"scatterpolar\",\"marker\":{\"colorbar\":{\"outlinewidth\":0,\"ticks\":\"\"}}}],\"histogram\":[{\"marker\":{\"pattern\":{\"fillmode\":\"overlay\",\"size\":10,\"solidity\":0.2}},\"type\":\"histogram\"}],\"scattergl\":[{\"type\":\"scattergl\",\"marker\":{\"colorbar\":{\"outlinewidth\":0,\"ticks\":\"\"}}}],\"scatter3d\":[{\"type\":\"scatter3d\",\"line\":{\"colorbar\":{\"outlinewidth\":0,\"ticks\":\"\"}},\"marker\":{\"colorbar\":{\"outlinewidth\":0,\"ticks\":\"\"}}}],\"scattermapbox\":[{\"type\":\"scattermapbox\",\"marker\":{\"colorbar\":{\"outlinewidth\":0,\"ticks\":\"\"}}}],\"scatterternary\":[{\"type\":\"scatterternary\",\"marker\":{\"colorbar\":{\"outlinewidth\":0,\"ticks\":\"\"}}}],\"scattercarpet\":[{\"type\":\"scattercarpet\",\"marker\":{\"colorbar\":{\"outlinewidth\":0,\"ticks\":\"\"}}}],\"carpet\":[{\"aaxis\":{\"endlinecolor\":\"#2a3f5f\",\"gridcolor\":\"white\",\"linecolor\":\"white\",\"minorgridcolor\":\"white\",\"startlinecolor\":\"#2a3f5f\"},\"baxis\":{\"endlinecolor\":\"#2a3f5f\",\"gridcolor\":\"white\",\"linecolor\":\"white\",\"minorgridcolor\":\"white\",\"startlinecolor\":\"#2a3f5f\"},\"type\":\"carpet\"}],\"table\":[{\"cells\":{\"fill\":{\"color\":\"#EBF0F8\"},\"line\":{\"color\":\"white\"}},\"header\":{\"fill\":{\"color\":\"#C8D4E3\"},\"line\":{\"color\":\"white\"}},\"type\":\"table\"}],\"barpolar\":[{\"marker\":{\"line\":{\"color\":\"#E5ECF6\",\"width\":0.5},\"pattern\":{\"fillmode\":\"overlay\",\"size\":10,\"solidity\":0.2}},\"type\":\"barpolar\"}],\"pie\":[{\"automargin\":true,\"type\":\"pie\"}]},\"layout\":{\"autotypenumbers\":\"strict\",\"colorway\":[\"#636efa\",\"#EF553B\",\"#00cc96\",\"#ab63fa\",\"#FFA15A\",\"#19d3f3\",\"#FF6692\",\"#B6E880\",\"#FF97FF\",\"#FECB52\"],\"font\":{\"color\":\"#2a3f5f\"},\"hovermode\":\"closest\",\"hoverlabel\":{\"align\":\"left\"},\"paper_bgcolor\":\"white\",\"plot_bgcolor\":\"#E5ECF6\",\"polar\":{\"bgcolor\":\"#E5ECF6\",\"angularaxis\":{\"gridcolor\":\"white\",\"linecolor\":\"white\",\"ticks\":\"\"},\"radialaxis\":{\"gridcolor\":\"white\",\"linecolor\":\"white\",\"ticks\":\"\"}},\"ternary\":{\"bgcolor\":\"#E5ECF6\",\"aaxis\":{\"gridcolor\":\"white\",\"linecolor\":\"white\",\"ticks\":\"\"},\"baxis\":{\"gridcolor\":\"white\",\"linecolor\":\"white\",\"ticks\":\"\"},\"caxis\":{\"gridcolor\":\"white\",\"linecolor\":\"white\",\"ticks\":\"\"}},\"coloraxis\":{\"colorbar\":{\"outlinewidth\":0,\"ticks\":\"\"}},\"colorscale\":{\"sequential\":[[0.0,\"#0d0887\"],[0.1111111111111111,\"#46039f\"],[0.2222222222222222,\"#7201a8\"],[0.3333333333333333,\"#9c179e\"],[0.4444444444444444,\"#bd3786\"],[0.5555555555555556,\"#d8576b\"],[0.6666666666666666,\"#ed7953\"],[0.7777777777777778,\"#fb9f3a\"],[0.8888888888888888,\"#fdca26\"],[1.0,\"#f0f921\"]],\"sequentialminus\":[[0.0,\"#0d0887\"],[0.1111111111111111,\"#46039f\"],[0.2222222222222222,\"#7201a8\"],[0.3333333333333333,\"#9c179e\"],[0.4444444444444444,\"#bd3786\"],[0.5555555555555556,\"#d8576b\"],[0.6666666666666666,\"#ed7953\"],[0.7777777777777778,\"#fb9f3a\"],[0.8888888888888888,\"#fdca26\"],[1.0,\"#f0f921\"]],\"diverging\":[[0,\"#8e0152\"],[0.1,\"#c51b7d\"],[0.2,\"#de77ae\"],[0.3,\"#f1b6da\"],[0.4,\"#fde0ef\"],[0.5,\"#f7f7f7\"],[0.6,\"#e6f5d0\"],[0.7,\"#b8e186\"],[0.8,\"#7fbc41\"],[0.9,\"#4d9221\"],[1,\"#276419\"]]},\"xaxis\":{\"gridcolor\":\"white\",\"linecolor\":\"white\",\"ticks\":\"\",\"title\":{\"standoff\":15},\"zerolinecolor\":\"white\",\"automargin\":true,\"zerolinewidth\":2},\"yaxis\":{\"gridcolor\":\"white\",\"linecolor\":\"white\",\"ticks\":\"\",\"title\":{\"standoff\":15},\"zerolinecolor\":\"white\",\"automargin\":true,\"zerolinewidth\":2},\"scene\":{\"xaxis\":{\"backgroundcolor\":\"#E5ECF6\",\"gridcolor\":\"white\",\"linecolor\":\"white\",\"showbackground\":true,\"ticks\":\"\",\"zerolinecolor\":\"white\",\"gridwidth\":2},\"yaxis\":{\"backgroundcolor\":\"#E5ECF6\",\"gridcolor\":\"white\",\"linecolor\":\"white\",\"showbackground\":true,\"ticks\":\"\",\"zerolinecolor\":\"white\",\"gridwidth\":2},\"zaxis\":{\"backgroundcolor\":\"#E5ECF6\",\"gridcolor\":\"white\",\"linecolor\":\"white\",\"showbackground\":true,\"ticks\":\"\",\"zerolinecolor\":\"white\",\"gridwidth\":2}},\"shapedefaults\":{\"line\":{\"color\":\"#2a3f5f\"}},\"annotationdefaults\":{\"arrowcolor\":\"#2a3f5f\",\"arrowhead\":0,\"arrowwidth\":1},\"geo\":{\"bgcolor\":\"white\",\"landcolor\":\"#E5ECF6\",\"subunitcolor\":\"white\",\"showland\":true,\"showlakes\":true,\"lakecolor\":\"white\"},\"title\":{\"x\":0.05},\"mapbox\":{\"style\":\"light\"}}},\"xaxis\":{\"anchor\":\"y\",\"domain\":[0.0,1.0],\"title\":{\"text\":\"Global Sales (in Millions)\"},\"range\":[0,80]},\"yaxis\":{\"anchor\":\"x\",\"domain\":[0.0,1.0],\"title\":{\"text\":\"Name\",\"font\":{\"color\":\"white\"}}},\"coloraxis\":{\"colorbar\":{\"title\":{\"text\":\"Meta Score\"}},\"colorscale\":[[0.0,\"red\"],[0.5,\"yellow\"],[1.0,\"green\"]],\"cmin\":0,\"cmax\":100},\"legend\":{\"tracegroupgap\":0},\"margin\":{\"t\":60,\"l\":400},\"barmode\":\"relative\",\"updatemenus\":[{\"buttons\":[{\"args\":[null,{\"frame\":{\"duration\":1500,\"redraw\":true},\"mode\":\"immediate\",\"fromcurrent\":true,\"transition\":{\"duration\":500,\"easing\":\"linear\"}}],\"label\":\"&#9654;\",\"method\":\"animate\"},{\"args\":[[null],{\"frame\":{\"duration\":0,\"redraw\":true},\"mode\":\"immediate\",\"fromcurrent\":true,\"transition\":{\"duration\":0,\"easing\":\"linear\"}}],\"label\":\"&#9724;\",\"method\":\"animate\"}],\"direction\":\"left\",\"pad\":{\"r\":10,\"t\":70},\"showactive\":false,\"type\":\"buttons\",\"x\":0.1,\"xanchor\":\"right\",\"y\":0,\"yanchor\":\"top\"}],\"sliders\":[{\"active\":0,\"currentvalue\":{\"prefix\":\"Year=\"},\"len\":0.9,\"pad\":{\"b\":10,\"t\":60},\"steps\":[{\"args\":[[\"1980\"],{\"frame\":{\"duration\":0,\"redraw\":true},\"mode\":\"immediate\",\"fromcurrent\":true,\"transition\":{\"duration\":0,\"easing\":\"linear\"}}],\"label\":\"1980\",\"method\":\"animate\"},{\"args\":[[\"1981\"],{\"frame\":{\"duration\":0,\"redraw\":true},\"mode\":\"immediate\",\"fromcurrent\":true,\"transition\":{\"duration\":0,\"easing\":\"linear\"}}],\"label\":\"1981\",\"method\":\"animate\"},{\"args\":[[\"1982\"],{\"frame\":{\"duration\":0,\"redraw\":true},\"mode\":\"immediate\",\"fromcurrent\":true,\"transition\":{\"duration\":0,\"easing\":\"linear\"}}],\"label\":\"1982\",\"method\":\"animate\"},{\"args\":[[\"1983\"],{\"frame\":{\"duration\":0,\"redraw\":true},\"mode\":\"immediate\",\"fromcurrent\":true,\"transition\":{\"duration\":0,\"easing\":\"linear\"}}],\"label\":\"1983\",\"method\":\"animate\"},{\"args\":[[\"1984\"],{\"frame\":{\"duration\":0,\"redraw\":true},\"mode\":\"immediate\",\"fromcurrent\":true,\"transition\":{\"duration\":0,\"easing\":\"linear\"}}],\"label\":\"1984\",\"method\":\"animate\"},{\"args\":[[\"1985\"],{\"frame\":{\"duration\":0,\"redraw\":true},\"mode\":\"immediate\",\"fromcurrent\":true,\"transition\":{\"duration\":0,\"easing\":\"linear\"}}],\"label\":\"1985\",\"method\":\"animate\"},{\"args\":[[\"1986\"],{\"frame\":{\"duration\":0,\"redraw\":true},\"mode\":\"immediate\",\"fromcurrent\":true,\"transition\":{\"duration\":0,\"easing\":\"linear\"}}],\"label\":\"1986\",\"method\":\"animate\"},{\"args\":[[\"1987\"],{\"frame\":{\"duration\":0,\"redraw\":true},\"mode\":\"immediate\",\"fromcurrent\":true,\"transition\":{\"duration\":0,\"easing\":\"linear\"}}],\"label\":\"1987\",\"method\":\"animate\"},{\"args\":[[\"1988\"],{\"frame\":{\"duration\":0,\"redraw\":true},\"mode\":\"immediate\",\"fromcurrent\":true,\"transition\":{\"duration\":0,\"easing\":\"linear\"}}],\"label\":\"1988\",\"method\":\"animate\"},{\"args\":[[\"1989\"],{\"frame\":{\"duration\":0,\"redraw\":true},\"mode\":\"immediate\",\"fromcurrent\":true,\"transition\":{\"duration\":0,\"easing\":\"linear\"}}],\"label\":\"1989\",\"method\":\"animate\"},{\"args\":[[\"1990\"],{\"frame\":{\"duration\":0,\"redraw\":true},\"mode\":\"immediate\",\"fromcurrent\":true,\"transition\":{\"duration\":0,\"easing\":\"linear\"}}],\"label\":\"1990\",\"method\":\"animate\"},{\"args\":[[\"1991\"],{\"frame\":{\"duration\":0,\"redraw\":true},\"mode\":\"immediate\",\"fromcurrent\":true,\"transition\":{\"duration\":0,\"easing\":\"linear\"}}],\"label\":\"1991\",\"method\":\"animate\"},{\"args\":[[\"1992\"],{\"frame\":{\"duration\":0,\"redraw\":true},\"mode\":\"immediate\",\"fromcurrent\":true,\"transition\":{\"duration\":0,\"easing\":\"linear\"}}],\"label\":\"1992\",\"method\":\"animate\"},{\"args\":[[\"1993\"],{\"frame\":{\"duration\":0,\"redraw\":true},\"mode\":\"immediate\",\"fromcurrent\":true,\"transition\":{\"duration\":0,\"easing\":\"linear\"}}],\"label\":\"1993\",\"method\":\"animate\"},{\"args\":[[\"1994\"],{\"frame\":{\"duration\":0,\"redraw\":true},\"mode\":\"immediate\",\"fromcurrent\":true,\"transition\":{\"duration\":0,\"easing\":\"linear\"}}],\"label\":\"1994\",\"method\":\"animate\"},{\"args\":[[\"1995\"],{\"frame\":{\"duration\":0,\"redraw\":true},\"mode\":\"immediate\",\"fromcurrent\":true,\"transition\":{\"duration\":0,\"easing\":\"linear\"}}],\"label\":\"1995\",\"method\":\"animate\"},{\"args\":[[\"1996\"],{\"frame\":{\"duration\":0,\"redraw\":true},\"mode\":\"immediate\",\"fromcurrent\":true,\"transition\":{\"duration\":0,\"easing\":\"linear\"}}],\"label\":\"1996\",\"method\":\"animate\"},{\"args\":[[\"1997\"],{\"frame\":{\"duration\":0,\"redraw\":true},\"mode\":\"immediate\",\"fromcurrent\":true,\"transition\":{\"duration\":0,\"easing\":\"linear\"}}],\"label\":\"1997\",\"method\":\"animate\"},{\"args\":[[\"1998\"],{\"frame\":{\"duration\":0,\"redraw\":true},\"mode\":\"immediate\",\"fromcurrent\":true,\"transition\":{\"duration\":0,\"easing\":\"linear\"}}],\"label\":\"1998\",\"method\":\"animate\"},{\"args\":[[\"1999\"],{\"frame\":{\"duration\":0,\"redraw\":true},\"mode\":\"immediate\",\"fromcurrent\":true,\"transition\":{\"duration\":0,\"easing\":\"linear\"}}],\"label\":\"1999\",\"method\":\"animate\"},{\"args\":[[\"2000\"],{\"frame\":{\"duration\":0,\"redraw\":true},\"mode\":\"immediate\",\"fromcurrent\":true,\"transition\":{\"duration\":0,\"easing\":\"linear\"}}],\"label\":\"2000\",\"method\":\"animate\"},{\"args\":[[\"2001\"],{\"frame\":{\"duration\":0,\"redraw\":true},\"mode\":\"immediate\",\"fromcurrent\":true,\"transition\":{\"duration\":0,\"easing\":\"linear\"}}],\"label\":\"2001\",\"method\":\"animate\"},{\"args\":[[\"2002\"],{\"frame\":{\"duration\":0,\"redraw\":true},\"mode\":\"immediate\",\"fromcurrent\":true,\"transition\":{\"duration\":0,\"easing\":\"linear\"}}],\"label\":\"2002\",\"method\":\"animate\"},{\"args\":[[\"2003\"],{\"frame\":{\"duration\":0,\"redraw\":true},\"mode\":\"immediate\",\"fromcurrent\":true,\"transition\":{\"duration\":0,\"easing\":\"linear\"}}],\"label\":\"2003\",\"method\":\"animate\"},{\"args\":[[\"2004\"],{\"frame\":{\"duration\":0,\"redraw\":true},\"mode\":\"immediate\",\"fromcurrent\":true,\"transition\":{\"duration\":0,\"easing\":\"linear\"}}],\"label\":\"2004\",\"method\":\"animate\"},{\"args\":[[\"2005\"],{\"frame\":{\"duration\":0,\"redraw\":true},\"mode\":\"immediate\",\"fromcurrent\":true,\"transition\":{\"duration\":0,\"easing\":\"linear\"}}],\"label\":\"2005\",\"method\":\"animate\"},{\"args\":[[\"2006\"],{\"frame\":{\"duration\":0,\"redraw\":true},\"mode\":\"immediate\",\"fromcurrent\":true,\"transition\":{\"duration\":0,\"easing\":\"linear\"}}],\"label\":\"2006\",\"method\":\"animate\"},{\"args\":[[\"2007\"],{\"frame\":{\"duration\":0,\"redraw\":true},\"mode\":\"immediate\",\"fromcurrent\":true,\"transition\":{\"duration\":0,\"easing\":\"linear\"}}],\"label\":\"2007\",\"method\":\"animate\"},{\"args\":[[\"2008\"],{\"frame\":{\"duration\":0,\"redraw\":true},\"mode\":\"immediate\",\"fromcurrent\":true,\"transition\":{\"duration\":0,\"easing\":\"linear\"}}],\"label\":\"2008\",\"method\":\"animate\"},{\"args\":[[\"2009\"],{\"frame\":{\"duration\":0,\"redraw\":true},\"mode\":\"immediate\",\"fromcurrent\":true,\"transition\":{\"duration\":0,\"easing\":\"linear\"}}],\"label\":\"2009\",\"method\":\"animate\"},{\"args\":[[\"2010\"],{\"frame\":{\"duration\":0,\"redraw\":true},\"mode\":\"immediate\",\"fromcurrent\":true,\"transition\":{\"duration\":0,\"easing\":\"linear\"}}],\"label\":\"2010\",\"method\":\"animate\"},{\"args\":[[\"2011\"],{\"frame\":{\"duration\":0,\"redraw\":true},\"mode\":\"immediate\",\"fromcurrent\":true,\"transition\":{\"duration\":0,\"easing\":\"linear\"}}],\"label\":\"2011\",\"method\":\"animate\"},{\"args\":[[\"2012\"],{\"frame\":{\"duration\":0,\"redraw\":true},\"mode\":\"immediate\",\"fromcurrent\":true,\"transition\":{\"duration\":0,\"easing\":\"linear\"}}],\"label\":\"2012\",\"method\":\"animate\"},{\"args\":[[\"2013\"],{\"frame\":{\"duration\":0,\"redraw\":true},\"mode\":\"immediate\",\"fromcurrent\":true,\"transition\":{\"duration\":0,\"easing\":\"linear\"}}],\"label\":\"2013\",\"method\":\"animate\"},{\"args\":[[\"2014\"],{\"frame\":{\"duration\":0,\"redraw\":true},\"mode\":\"immediate\",\"fromcurrent\":true,\"transition\":{\"duration\":0,\"easing\":\"linear\"}}],\"label\":\"2014\",\"method\":\"animate\"}],\"x\":0.1,\"xanchor\":\"left\",\"y\":0,\"yanchor\":\"top\"}]},                        {\"responsive\": true}                    ).then(function(){\n",
       "                            Plotly.addFrames('d6c92a6d-9ffc-48de-ab7a-75543a1c7a4d', [{\"data\":[{\"alignmentgroup\":\"True\",\"hovertemplate\":\"Year=1980<br>Global Sales (in Millions)=%{x}<br>Name=%{y}<br>Meta Score=%{marker.color}<extra></extra>\",\"legendgroup\":\"\",\"marker\":{\"color\":[60.6,61.0,62.0,63.0,65.0,65.0,68.0,74.0,76.0,83.5],\"coloraxis\":\"coloraxis\",\"pattern\":{\"shape\":\"\"}},\"name\":\"\",\"offsetgroup\":\"\",\"orientation\":\"h\",\"showlegend\":false,\"textposition\":\"auto\",\"x\":[1.6500000000000004,6.36,9.03,3.21,1.65,2.05,1.08,1.3499999999999999,1.12,4.59],\"xaxis\":\"x\",\"y\":[\"Defender\",\"Frogger\",\"Pac-Man\",\"Missile Command\",\"Ms. Pac-Man\",\"Dig Dug\",\"Joust\",\"Bomberman\",\"Lode Runner\",\"Spider-Man\"],\"yaxis\":\"y\",\"type\":\"bar\"}],\"name\":\"1980\"},{\"data\":[{\"alignmentgroup\":\"True\",\"hovertemplate\":\"Year=1981<br>Global Sales (in Millions)=%{x}<br>Name=%{y}<br>Meta Score=%{marker.color}<extra></extra>\",\"legendgroup\":\"\",\"marker\":{\"color\":[61.0,62.0,64.0,65.0,65.0,68.0,74.0,76.0,78.0,83.5],\"coloraxis\":\"coloraxis\",\"pattern\":{\"shape\":\"\"}},\"name\":\"\",\"offsetgroup\":\"\",\"orientation\":\"h\",\"showlegend\":false,\"textposition\":\"auto\",\"x\":[6.36,9.03,0.96,1.65,2.05,1.08,1.3499999999999999,1.12,1.87,4.59],\"xaxis\":\"x\",\"y\":[\"Frogger\",\"Pac-Man\",\"Star Soldier\",\"Ms. Pac-Man\",\"Dig Dug\",\"Joust\",\"Bomberman\",\"Lode Runner\",\"Castlevania\",\"Spider-Man\"],\"yaxis\":\"y\",\"type\":\"bar\"}],\"name\":\"1981\"},{\"data\":[{\"alignmentgroup\":\"True\",\"hovertemplate\":\"Year=1982<br>Global Sales (in Millions)=%{x}<br>Name=%{y}<br>Meta Score=%{marker.color}<extra></extra>\",\"legendgroup\":\"\",\"marker\":{\"color\":[50.0,55.0,62.0,64.0,65.0,67.0,68.0,74.0,76.0,78.0],\"coloraxis\":\"coloraxis\",\"pattern\":{\"shape\":\"\"}},\"name\":\"\",\"offsetgroup\":\"\",\"orientation\":\"h\",\"showlegend\":false,\"textposition\":\"auto\",\"x\":[0.65,0.78,9.03,0.96,2.05,1.35,1.08,1.3499999999999999,1.12,1.87],\"xaxis\":\"x\",\"y\":[\"Battlezone\",\"Yars' Revenge\",\"Pac-Man\",\"Star Soldier\",\"Dig Dug\",\"Final Fantasy\",\"Joust\",\"Bomberman\",\"Lode Runner\",\"Castlevania\"],\"yaxis\":\"y\",\"type\":\"bar\"}],\"name\":\"1982\"},{\"data\":[{\"alignmentgroup\":\"True\",\"hovertemplate\":\"Year=1983<br>Global Sales (in Millions)=%{x}<br>Name=%{y}<br>Meta Score=%{marker.color}<extra></extra>\",\"legendgroup\":\"\",\"marker\":{\"color\":[63.0,64.0,64.0,67.0,74.0,76.0,78.0,82.5],\"coloraxis\":\"coloraxis\",\"pattern\":{\"shape\":\"\"}},\"name\":\"\",\"offsetgroup\":\"\",\"orientation\":\"h\",\"showlegend\":false,\"textposition\":\"auto\",\"x\":[2.7800000000000002,0.96,2.01,1.35,1.3499999999999999,1.12,1.87,35.84],\"xaxis\":\"x\",\"y\":[\"Final Fantasy II\",\"Star Soldier\",\"SimCity\",\"Final Fantasy\",\"Bomberman\",\"Lode Runner\",\"Castlevania\",\"Tetris\"],\"yaxis\":\"y\",\"type\":\"bar\"}],\"name\":\"1983\"},{\"data\":[{\"alignmentgroup\":\"True\",\"hovertemplate\":\"Year=1984<br>Global Sales (in Millions)=%{x}<br>Name=%{y}<br>Meta Score=%{marker.color}<extra></extra>\",\"legendgroup\":\"\",\"marker\":{\"color\":[57.0,62.33,63.0,64.0,64.0,67.0,74.0,76.0,78.0,82.5],\"coloraxis\":\"coloraxis\",\"pattern\":{\"shape\":\"\"}},\"name\":\"\",\"offsetgroup\":\"\",\"orientation\":\"h\",\"showlegend\":false,\"textposition\":\"auto\",\"x\":[0.47,6.669999999999999,2.7800000000000002,0.96,2.01,1.35,1.3499999999999999,1.12,1.87,35.84],\"xaxis\":\"x\",\"y\":[\"Double Dragon\",\"Teenage Mutant Ninja Turtles\",\"Final Fantasy II\",\"Star Soldier\",\"SimCity\",\"Final Fantasy\",\"Bomberman\",\"Lode Runner\",\"Castlevania\",\"Tetris\"],\"yaxis\":\"y\",\"type\":\"bar\"}],\"name\":\"1984\"},{\"data\":[{\"alignmentgroup\":\"True\",\"hovertemplate\":\"Year=1985<br>Global Sales (in Millions)=%{x}<br>Name=%{y}<br>Meta Score=%{marker.color}<extra></extra>\",\"legendgroup\":\"\",\"marker\":{\"color\":[62.33,63.0,64.0,64.0,67.0,74.0,77.0,78.0,82.5,82.67],\"coloraxis\":\"coloraxis\",\"pattern\":{\"shape\":\"\"}},\"name\":\"\",\"offsetgroup\":\"\",\"orientation\":\"h\",\"showlegend\":false,\"textposition\":\"auto\",\"x\":[6.669999999999999,2.7800000000000002,0.96,2.01,1.35,1.3499999999999999,7.05,1.87,35.84,5.2],\"xaxis\":\"x\",\"y\":[\"Teenage Mutant Ninja Turtles\",\"Final Fantasy II\",\"Star Soldier\",\"SimCity\",\"Final Fantasy\",\"Bomberman\",\"Final Fantasy III\",\"Castlevania\",\"Tetris\",\"Streets of Rage\"],\"yaxis\":\"y\",\"type\":\"bar\"}],\"name\":\"1985\"},{\"data\":[{\"alignmentgroup\":\"True\",\"hovertemplate\":\"Year=1986<br>Global Sales (in Millions)=%{x}<br>Name=%{y}<br>Meta Score=%{marker.color}<extra></extra>\",\"legendgroup\":\"\",\"marker\":{\"color\":[63.0,64.0,64.0,67.0,77.0,78.0,78.0,82.5,82.67,95.0],\"coloraxis\":\"coloraxis\",\"pattern\":{\"shape\":\"\"}},\"name\":\"\",\"offsetgroup\":\"\",\"orientation\":\"h\",\"showlegend\":false,\"textposition\":\"auto\",\"x\":[2.7800000000000002,0.96,2.01,1.35,7.05,1.87,1.25,35.84,5.2,7.3100000000000005],\"xaxis\":\"x\",\"y\":[\"Final Fantasy II\",\"Star Soldier\",\"SimCity\",\"Final Fantasy\",\"Final Fantasy III\",\"Castlevania\",\"Super Ghouls 'n Ghosts\",\"Tetris\",\"Streets of Rage\",\"The Legend of Zelda: A Link to the Past\"],\"yaxis\":\"y\",\"type\":\"bar\"}],\"name\":\"1986\"},{\"data\":[{\"alignmentgroup\":\"True\",\"hovertemplate\":\"Year=1987<br>Global Sales (in Millions)=%{x}<br>Name=%{y}<br>Meta Score=%{marker.color}<extra></extra>\",\"legendgroup\":\"\",\"marker\":{\"color\":[74.5,75.0,77.0,78.0,81.0,82.0,82.5,82.67,84.5,95.0],\"coloraxis\":\"coloraxis\",\"pattern\":{\"shape\":\"\"}},\"name\":\"\",\"offsetgroup\":\"\",\"orientation\":\"h\",\"showlegend\":false,\"textposition\":\"auto\",\"x\":[0.38999999999999996,5.22,7.05,1.25,0.9500000000000001,6.03,35.84,5.2,8.399999999999999,7.3100000000000005],\"xaxis\":\"x\",\"y\":[\"Syndicate\",\"NBA Jam\",\"Final Fantasy III\",\"Super Ghouls 'n Ghosts\",\"Doom\",\"Sonic the Hedgehog 2\",\"Tetris\",\"Streets of Rage\",\"Mortal Kombat\",\"The Legend of Zelda: A Link to the Past\"],\"yaxis\":\"y\",\"type\":\"bar\"}],\"name\":\"1987\"},{\"data\":[{\"alignmentgroup\":\"True\",\"hovertemplate\":\"Year=1988<br>Global Sales (in Millions)=%{x}<br>Name=%{y}<br>Meta Score=%{marker.color}<extra></extra>\",\"legendgroup\":\"\",\"marker\":{\"color\":[78.0,81.0,82.0,82.0,82.0,82.5,82.67,84.5,91.5,95.0],\"coloraxis\":\"coloraxis\",\"pattern\":{\"shape\":\"\"}},\"name\":\"\",\"offsetgroup\":\"\",\"orientation\":\"h\",\"showlegend\":false,\"textposition\":\"auto\",\"x\":[1.25,0.9500000000000001,6.03,1.5,10.55,35.84,5.2,8.399999999999999,2.15,7.3100000000000005],\"xaxis\":\"x\",\"y\":[\"Super Ghouls 'n Ghosts\",\"Doom\",\"Sonic the Hedgehog 2\",\"Sonic CD\",\"Super Mario All-Stars\",\"Tetris\",\"Streets of Rage\",\"Mortal Kombat\",\"Super Street Fighter II\",\"The Legend of Zelda: A Link to the Past\"],\"yaxis\":\"y\",\"type\":\"bar\"}],\"name\":\"1988\"},{\"data\":[{\"alignmentgroup\":\"True\",\"hovertemplate\":\"Year=1989<br>Global Sales (in Millions)=%{x}<br>Name=%{y}<br>Meta Score=%{marker.color}<extra></extra>\",\"legendgroup\":\"\",\"marker\":{\"color\":[81.0,82.0,82.0,82.0,82.67,84.5,86.0,88.0,91.5,95.0],\"coloraxis\":\"coloraxis\",\"pattern\":{\"shape\":\"\"}},\"name\":\"\",\"offsetgroup\":\"\",\"orientation\":\"h\",\"showlegend\":false,\"textposition\":\"auto\",\"x\":[0.9500000000000001,6.03,1.5,10.55,5.2,8.399999999999999,0.55,2.4000000000000004,2.15,7.3100000000000005],\"xaxis\":\"x\",\"y\":[\"Doom\",\"Sonic the Hedgehog 2\",\"Sonic CD\",\"Super Mario All-Stars\",\"Streets of Rage\",\"Mortal Kombat\",\"Daytona USA\",\"Ridge Racer\",\"Super Street Fighter II\",\"The Legend of Zelda: A Link to the Past\"],\"yaxis\":\"y\",\"type\":\"bar\"}],\"name\":\"1989\"},{\"data\":[{\"alignmentgroup\":\"True\",\"hovertemplate\":\"Year=1990<br>Global Sales (in Millions)=%{x}<br>Name=%{y}<br>Meta Score=%{marker.color}<extra></extra>\",\"legendgroup\":\"\",\"marker\":{\"color\":[82.0,82.67,83.0,84.0,84.5,86.0,88.0,91.5,92.0,95.0],\"coloraxis\":\"coloraxis\",\"pattern\":{\"shape\":\"\"}},\"name\":\"\",\"offsetgroup\":\"\",\"orientation\":\"h\",\"showlegend\":false,\"textposition\":\"auto\",\"x\":[6.03,5.2,0.29,1.52,8.399999999999999,0.55,2.4000000000000004,2.15,3.7800000000000002,7.3100000000000005],\"xaxis\":\"x\",\"y\":[\"Sonic the Hedgehog 2\",\"Streets of Rage\",\"Guardian Heroes\",\"Warhawk\",\"Mortal Kombat\",\"Daytona USA\",\"Ridge Racer\",\"Super Street Fighter II\",\"Chrono Trigger\",\"The Legend of Zelda: A Link to the Past\"],\"yaxis\":\"y\",\"type\":\"bar\"}],\"name\":\"1990\"},{\"data\":[{\"alignmentgroup\":\"True\",\"hovertemplate\":\"Year=1991<br>Global Sales (in Millions)=%{x}<br>Name=%{y}<br>Meta Score=%{marker.color}<extra></extra>\",\"legendgroup\":\"\",\"marker\":{\"color\":[88.0,90.0,90.5,91.0,91.5,92.0,92.0,94.0,94.0,95.0],\"coloraxis\":\"coloraxis\",\"pattern\":{\"shape\":\"\"}},\"name\":\"\",\"offsetgroup\":\"\",\"orientation\":\"h\",\"showlegend\":false,\"textposition\":\"auto\",\"x\":[2.4000000000000004,3.2600000000000002,5.12,5.66,2.15,3.7800000000000002,2.94,22.310000000000002,2.17,7.3100000000000005],\"xaxis\":\"x\",\"y\":[\"Ridge Racer\",\"Command & Conquer: Red Alert\",\"Microsoft Flight Simulator\",\"Tomb Raider\",\"Super Street Fighter II\",\"Chrono Trigger\",\"Wave Race 64\",\"Super Mario 64\",\"Diablo\",\"The Legend of Zelda: A Link to the Past\"],\"yaxis\":\"y\",\"type\":\"bar\"}],\"name\":\"1991\"},{\"data\":[{\"alignmentgroup\":\"True\",\"hovertemplate\":\"Year=1992<br>Global Sales (in Millions)=%{x}<br>Name=%{y}<br>Meta Score=%{marker.color}<extra></extra>\",\"legendgroup\":\"\",\"marker\":{\"color\":[91.0,91.0,91.0,91.5,91.5,92.0,92.0,94.0,94.0,96.0],\"coloraxis\":\"coloraxis\",\"pattern\":{\"shape\":\"\"}},\"name\":\"\",\"offsetgroup\":\"\",\"orientation\":\"h\",\"showlegend\":false,\"textposition\":\"auto\",\"x\":[5.66,0.42,1.27,2.15,4.72,3.7800000000000002,2.94,22.310000000000002,2.17,10.95],\"xaxis\":\"x\",\"y\":[\"Tomb Raider\",\"Colony Wars\",\"Castlevania: Symphony of the Night\",\"Super Street Fighter II\",\"Half-Life\",\"Chrono Trigger\",\"Wave Race 64\",\"Super Mario 64\",\"Diablo\",\"Gran Turismo\"],\"yaxis\":\"y\",\"type\":\"bar\"}],\"name\":\"1992\"},{\"data\":[{\"alignmentgroup\":\"True\",\"hovertemplate\":\"Year=1993<br>Global Sales (in Millions)=%{x}<br>Name=%{y}<br>Meta Score=%{marker.color}<extra></extra>\",\"legendgroup\":\"\",\"marker\":{\"color\":[91.5,91.5,92.0,92.0,93.0,94.0,94.0,96.0,96.0,99.0],\"coloraxis\":\"coloraxis\",\"pattern\":{\"shape\":\"\"}},\"name\":\"\",\"offsetgroup\":\"\",\"orientation\":\"h\",\"showlegend\":false,\"textposition\":\"auto\",\"x\":[2.15,4.72,3.7800000000000002,2.94,0.02,22.310000000000002,2.17,10.95,7.16,23.62],\"xaxis\":\"x\",\"y\":[\"Super Street Fighter II\",\"Half-Life\",\"Chrono Trigger\",\"Wave Race 64\",\"Homeworld\",\"Super Mario 64\",\"Diablo\",\"Gran Turismo\",\"Tekken 3\",\"The Legend of Zelda: Ocarina of Time\"],\"yaxis\":\"y\",\"type\":\"bar\"}],\"name\":\"1993\"},{\"data\":[{\"alignmentgroup\":\"True\",\"hovertemplate\":\"Year=1994<br>Global Sales (in Millions)=%{x}<br>Name=%{y}<br>Meta Score=%{marker.color}<extra></extra>\",\"legendgroup\":\"\",\"marker\":{\"color\":[92.0,93.0,93.0,93.0,94.0,94.0,94.0,96.0,96.0,99.0],\"coloraxis\":\"coloraxis\",\"pattern\":{\"shape\":\"\"}},\"name\":\"\",\"offsetgroup\":\"\",\"orientation\":\"h\",\"showlegend\":false,\"textposition\":\"auto\",\"x\":[3.7800000000000002,0.02,9.49,0.05,22.310000000000002,2.17,1.86,10.95,7.16,23.62],\"xaxis\":\"x\",\"y\":[\"Chrono Trigger\",\"Homeworld\",\"Gran Turismo 2\",\"Test Drive Le Mans\",\"Super Mario 64\",\"Diablo\",\"Chrono Cross\",\"Gran Turismo\",\"Tekken 3\",\"The Legend of Zelda: Ocarina of Time\"],\"yaxis\":\"y\",\"type\":\"bar\"}],\"name\":\"1994\"},{\"data\":[{\"alignmentgroup\":\"True\",\"hovertemplate\":\"Year=1995<br>Global Sales (in Millions)=%{x}<br>Name=%{y}<br>Meta Score=%{marker.color}<extra></extra>\",\"legendgroup\":\"\",\"marker\":{\"color\":[93.0,93.0,94.0,94.0,94.0,95.0,96.0,96.0,97.0,99.0],\"coloraxis\":\"coloraxis\",\"pattern\":{\"shape\":\"\"}},\"name\":\"\",\"offsetgroup\":\"\",\"orientation\":\"h\",\"showlegend\":false,\"textposition\":\"auto\",\"x\":[0.02,9.49,22.310000000000002,2.17,1.86,3.36,10.95,7.16,1.09,23.62],\"xaxis\":\"x\",\"y\":[\"Homeworld\",\"Gran Turismo 2\",\"Super Mario 64\",\"Diablo\",\"Chrono Cross\",\"The Legend of Zelda: Majora's Mask\",\"Gran Turismo\",\"Tekken 3\",\"NFL 2K1\",\"The Legend of Zelda: Ocarina of Time\"],\"yaxis\":\"y\",\"type\":\"bar\"}],\"name\":\"1995\"},{\"data\":[{\"alignmentgroup\":\"True\",\"hovertemplate\":\"Year=1996<br>Global Sales (in Millions)=%{x}<br>Name=%{y}<br>Meta Score=%{marker.color}<extra></extra>\",\"legendgroup\":\"\",\"marker\":{\"color\":[94.0,95.0,95.0,95.0,96.0,96.0,96.0,97.0,97.0,99.0],\"coloraxis\":\"coloraxis\",\"pattern\":{\"shape\":\"\"}},\"name\":\"\",\"offsetgroup\":\"\",\"orientation\":\"h\",\"showlegend\":false,\"textposition\":\"auto\",\"x\":[22.310000000000002,3.36,13.11,14.98,10.95,7.16,6.05,1.09,6.47,23.62],\"xaxis\":\"x\",\"y\":[\"Super Mario 64\",\"The Legend of Zelda: Majora's Mask\",\"Grand Theft Auto III\",\"Gran Turismo 3: A-Spec\",\"Gran Turismo\",\"Tekken 3\",\"Metal Gear Solid 2: Sons of Liberty\",\"NFL 2K1\",\"Halo: Combat Evolved\",\"The Legend of Zelda: Ocarina of Time\"],\"yaxis\":\"y\",\"type\":\"bar\"}],\"name\":\"1996\"},{\"data\":[{\"alignmentgroup\":\"True\",\"hovertemplate\":\"Year=1997<br>Global Sales (in Millions)=%{x}<br>Name=%{y}<br>Meta Score=%{marker.color}<extra></extra>\",\"legendgroup\":\"\",\"marker\":{\"color\":[95.0,95.0,96.0,96.0,96.0,96.0,97.0,97.0,97.0,99.0],\"coloraxis\":\"coloraxis\",\"pattern\":{\"shape\":\"\"}},\"name\":\"\",\"offsetgroup\":\"\",\"orientation\":\"h\",\"showlegend\":false,\"textposition\":\"auto\",\"x\":[3.36,13.11,10.95,7.16,6.05,12.739999999999998,1.09,6.47,2.82,23.62],\"xaxis\":\"x\",\"y\":[\"The Legend of Zelda: Majora's Mask\",\"Grand Theft Auto III\",\"Gran Turismo\",\"Tekken 3\",\"Metal Gear Solid 2: Sons of Liberty\",\"The Legend of Zelda: The Wind Waker\",\"NFL 2K1\",\"Halo: Combat Evolved\",\"Metroid Prime\",\"The Legend of Zelda: Ocarina of Time\"],\"yaxis\":\"y\",\"type\":\"bar\"}],\"name\":\"1997\"},{\"data\":[{\"alignmentgroup\":\"True\",\"hovertemplate\":\"Year=1998<br>Global Sales (in Millions)=%{x}<br>Name=%{y}<br>Meta Score=%{marker.color}<extra></extra>\",\"legendgroup\":\"\",\"marker\":{\"color\":[95.0,95.0,95.0,96.0,96.0,96.0,97.0,97.0,97.0,99.0],\"coloraxis\":\"coloraxis\",\"pattern\":{\"shape\":\"\"}},\"name\":\"\",\"offsetgroup\":\"\",\"orientation\":\"h\",\"showlegend\":false,\"textposition\":\"auto\",\"x\":[3.36,13.11,14.98,7.16,6.05,12.739999999999998,1.09,6.47,2.82,23.62],\"xaxis\":\"x\",\"y\":[\"The Legend of Zelda: Majora's Mask\",\"Grand Theft Auto III\",\"Gran Turismo 3: A-Spec\",\"Tekken 3\",\"Metal Gear Solid 2: Sons of Liberty\",\"The Legend of Zelda: The Wind Waker\",\"NFL 2K1\",\"Halo: Combat Evolved\",\"Metroid Prime\",\"The Legend of Zelda: Ocarina of Time\"],\"yaxis\":\"y\",\"type\":\"bar\"}],\"name\":\"1998\"},{\"data\":[{\"alignmentgroup\":\"True\",\"hovertemplate\":\"Year=1999<br>Global Sales (in Millions)=%{x}<br>Name=%{y}<br>Meta Score=%{marker.color}<extra></extra>\",\"legendgroup\":\"\",\"marker\":{\"color\":[94.0,94.5,95.0,95.0,95.0,96.0,96.0,97.0,97.0,97.0],\"coloraxis\":\"coloraxis\",\"pattern\":{\"shape\":\"\"}},\"name\":\"\",\"offsetgroup\":\"\",\"orientation\":\"h\",\"showlegend\":false,\"textposition\":\"auto\",\"x\":[1.86,16.189999999999998,3.36,13.11,14.98,6.05,12.739999999999998,1.09,6.47,2.82],\"xaxis\":\"x\",\"y\":[\"Chrono Cross\",\"Grand Theft Auto: Vice City\",\"The Legend of Zelda: Majora's Mask\",\"Grand Theft Auto III\",\"Gran Turismo 3: A-Spec\",\"Metal Gear Solid 2: Sons of Liberty\",\"The Legend of Zelda: The Wind Waker\",\"NFL 2K1\",\"Halo: Combat Evolved\",\"Metroid Prime\"],\"yaxis\":\"y\",\"type\":\"bar\"}],\"name\":\"1999\"},{\"data\":[{\"alignmentgroup\":\"True\",\"hovertemplate\":\"Year=2000<br>Global Sales (in Millions)=%{x}<br>Name=%{y}<br>Meta Score=%{marker.color}<extra></extra>\",\"legendgroup\":\"\",\"marker\":{\"color\":[94.0,94.5,95.0,95.0,95.0,96.0,96.0,97.0,97.0,97.0],\"coloraxis\":\"coloraxis\",\"pattern\":{\"shape\":\"\"}},\"name\":\"\",\"offsetgroup\":\"\",\"orientation\":\"h\",\"showlegend\":false,\"textposition\":\"auto\",\"x\":[1.81,16.189999999999998,3.36,13.11,14.98,6.05,12.739999999999998,1.09,6.47,2.82],\"xaxis\":\"x\",\"y\":[\"Virtua Fighter 4\",\"Grand Theft Auto: Vice City\",\"The Legend of Zelda: Majora's Mask\",\"Grand Theft Auto III\",\"Gran Turismo 3: A-Spec\",\"Metal Gear Solid 2: Sons of Liberty\",\"The Legend of Zelda: The Wind Waker\",\"NFL 2K1\",\"Halo: Combat Evolved\",\"Metroid Prime\"],\"yaxis\":\"y\",\"type\":\"bar\"}],\"name\":\"2000\"},{\"data\":[{\"alignmentgroup\":\"True\",\"hovertemplate\":\"Year=2001<br>Global Sales (in Millions)=%{x}<br>Name=%{y}<br>Meta Score=%{marker.color}<extra></extra>\",\"legendgroup\":\"\",\"marker\":{\"color\":[94.0,94.0,94.5,95.0,95.0,95.5,96.0,96.0,97.0,97.0],\"coloraxis\":\"coloraxis\",\"pattern\":{\"shape\":\"\"}},\"name\":\"\",\"offsetgroup\":\"\",\"orientation\":\"h\",\"showlegend\":false,\"textposition\":\"auto\",\"x\":[1.81,0.03,16.189999999999998,13.11,14.98,8.9,6.05,12.739999999999998,6.47,2.82],\"xaxis\":\"x\",\"y\":[\"Virtua Fighter 4\",\"Jet Grind Radio\",\"Grand Theft Auto: Vice City\",\"Grand Theft Auto III\",\"Gran Turismo 3: A-Spec\",\"The Legend of Zelda: Twilight Princess\",\"Metal Gear Solid 2: Sons of Liberty\",\"The Legend of Zelda: The Wind Waker\",\"Halo: Combat Evolved\",\"Metroid Prime\"],\"yaxis\":\"y\",\"type\":\"bar\"}],\"name\":\"2001\"},{\"data\":[{\"alignmentgroup\":\"True\",\"hovertemplate\":\"Year=2002<br>Global Sales (in Millions)=%{x}<br>Name=%{y}<br>Meta Score=%{marker.color}<extra></extra>\",\"legendgroup\":\"\",\"marker\":{\"color\":[94.0,94.0,94.0,94.5,95.33,95.5,96.0,96.0,97.0,97.0],\"coloraxis\":\"coloraxis\",\"pattern\":{\"shape\":\"\"}},\"name\":\"\",\"offsetgroup\":\"\",\"orientation\":\"h\",\"showlegend\":false,\"textposition\":\"auto\",\"x\":[1.81,0.03,4.45,16.189999999999998,4.69,8.9,12.739999999999998,3.0500000000000003,2.82,11.52],\"xaxis\":\"x\",\"y\":[\"Virtua Fighter 4\",\"Jet Grind Radio\",\"God of War\",\"Grand Theft Auto: Vice City\",\"BioShock\",\"The Legend of Zelda: Twilight Princess\",\"The Legend of Zelda: The Wind Waker\",\"The Orange Box\",\"Metroid Prime\",\"Super Mario Galaxy\"],\"yaxis\":\"y\",\"type\":\"bar\"}],\"name\":\"2002\"},{\"data\":[{\"alignmentgroup\":\"True\",\"hovertemplate\":\"Year=2003<br>Global Sales (in Millions)=%{x}<br>Name=%{y}<br>Meta Score=%{marker.color}<extra></extra>\",\"legendgroup\":\"\",\"marker\":{\"color\":[94.0,94.0,94.0,94.0,94.0,95.33,95.33,95.5,96.0,97.0],\"coloraxis\":\"coloraxis\",\"pattern\":{\"shape\":\"\"}},\"name\":\"\",\"offsetgroup\":\"\",\"orientation\":\"h\",\"showlegend\":false,\"textposition\":\"auto\",\"x\":[0.03,4.45,0.55,0.51,0.09,4.69,22.47,8.9,3.0500000000000003,11.52],\"xaxis\":\"x\",\"y\":[\"Jet Grind Radio\",\"God of War\",\"Metal Gear Solid 3: Subsistence\",\"Sid Meier's Civilization IV\",\"Ninja Gaiden Black\",\"BioShock\",\"Grand Theft Auto IV\",\"The Legend of Zelda: Twilight Princess\",\"The Orange Box\",\"Super Mario Galaxy\"],\"yaxis\":\"y\",\"type\":\"bar\"}],\"name\":\"2003\"},{\"data\":[{\"alignmentgroup\":\"True\",\"hovertemplate\":\"Year=2004<br>Global Sales (in Millions)=%{x}<br>Name=%{y}<br>Meta Score=%{marker.color}<extra></extra>\",\"legendgroup\":\"\",\"marker\":{\"color\":[94.0,94.0,94.0,94.0,95.33,95.33,95.5,96.0,96.0,97.0],\"coloraxis\":\"coloraxis\",\"pattern\":{\"shape\":\"\"}},\"name\":\"\",\"offsetgroup\":\"\",\"orientation\":\"h\",\"showlegend\":false,\"textposition\":\"auto\",\"x\":[4.45,0.55,0.51,0.09,4.69,22.47,8.9,3.0500000000000003,6.73,11.52],\"xaxis\":\"x\",\"y\":[\"God of War\",\"Metal Gear Solid 3: Subsistence\",\"Sid Meier's Civilization IV\",\"Ninja Gaiden Black\",\"BioShock\",\"Grand Theft Auto IV\",\"The Legend of Zelda: Twilight Princess\",\"The Orange Box\",\"Uncharted 2: Among Thieves\",\"Super Mario Galaxy\"],\"yaxis\":\"y\",\"type\":\"bar\"}],\"name\":\"2004\"},{\"data\":[{\"alignmentgroup\":\"True\",\"hovertemplate\":\"Year=2005<br>Global Sales (in Millions)=%{x}<br>Name=%{y}<br>Meta Score=%{marker.color}<extra></extra>\",\"legendgroup\":\"\",\"marker\":{\"color\":[94.0,94.67,95.0,95.33,95.33,95.5,96.0,96.0,97.0,97.0],\"coloraxis\":\"coloraxis\",\"pattern\":{\"shape\":\"\"}},\"name\":\"\",\"offsetgroup\":\"\",\"orientation\":\"h\",\"showlegend\":false,\"textposition\":\"auto\",\"x\":[4.45,4.99,25.88,4.69,22.47,8.9,3.0500000000000003,6.73,11.52,7.69],\"xaxis\":\"x\",\"y\":[\"God of War\",\"Mass Effect 2\",\"Red Dead Redemption\",\"BioShock\",\"Grand Theft Auto IV\",\"The Legend of Zelda: Twilight Princess\",\"The Orange Box\",\"Uncharted 2: Among Thieves\",\"Super Mario Galaxy\",\"Super Mario Galaxy 2\"],\"yaxis\":\"y\",\"type\":\"bar\"}],\"name\":\"2005\"},{\"data\":[{\"alignmentgroup\":\"True\",\"hovertemplate\":\"Year=2006<br>Global Sales (in Millions)=%{x}<br>Name=%{y}<br>Meta Score=%{marker.color}<extra></extra>\",\"legendgroup\":\"\",\"marker\":{\"color\":[94.67,95.0,95.0,95.33,95.33,95.5,96.0,96.0,97.0,97.0],\"coloraxis\":\"coloraxis\",\"pattern\":{\"shape\":\"\"}},\"name\":\"\",\"offsetgroup\":\"\",\"orientation\":\"h\",\"showlegend\":false,\"textposition\":\"auto\",\"x\":[4.99,25.88,4.6,4.69,22.47,8.9,3.0500000000000003,6.73,11.52,7.69],\"xaxis\":\"x\",\"y\":[\"Mass Effect 2\",\"Red Dead Redemption\",\"Portal 2\",\"BioShock\",\"Grand Theft Auto IV\",\"The Legend of Zelda: Twilight Princess\",\"The Orange Box\",\"Uncharted 2: Among Thieves\",\"Super Mario Galaxy\",\"Super Mario Galaxy 2\"],\"yaxis\":\"y\",\"type\":\"bar\"}],\"name\":\"2006\"},{\"data\":[{\"alignmentgroup\":\"True\",\"hovertemplate\":\"Year=2007<br>Global Sales (in Millions)=%{x}<br>Name=%{y}<br>Meta Score=%{marker.color}<extra></extra>\",\"legendgroup\":\"\",\"marker\":{\"color\":[94.0,94.67,95.0,95.0,95.33,95.33,96.0,96.0,97.0,97.0],\"coloraxis\":\"coloraxis\",\"pattern\":{\"shape\":\"\"}},\"name\":\"\",\"offsetgroup\":\"\",\"orientation\":\"h\",\"showlegend\":false,\"textposition\":\"auto\",\"x\":[12.14,4.99,25.88,4.6,4.69,22.47,3.0500000000000003,6.73,11.52,7.69],\"xaxis\":\"x\",\"y\":[\"Halo 3\",\"Mass Effect 2\",\"Red Dead Redemption\",\"Portal 2\",\"BioShock\",\"Grand Theft Auto IV\",\"The Orange Box\",\"Uncharted 2: Among Thieves\",\"Super Mario Galaxy\",\"Super Mario Galaxy 2\"],\"yaxis\":\"y\",\"type\":\"bar\"}],\"name\":\"2007\"},{\"data\":[{\"alignmentgroup\":\"True\",\"hovertemplate\":\"Year=2008<br>Global Sales (in Millions)=%{x}<br>Name=%{y}<br>Meta Score=%{marker.color}<extra></extra>\",\"legendgroup\":\"\",\"marker\":{\"color\":[94.0,94.0,94.67,95.0,95.0,95.0,95.33,96.0,96.8,97.0],\"coloraxis\":\"coloraxis\",\"pattern\":{\"shape\":\"\"}},\"name\":\"\",\"offsetgroup\":\"\",\"orientation\":\"h\",\"showlegend\":false,\"textposition\":\"auto\",\"x\":[6.03,25.09,4.99,25.88,4.6,10.54,22.47,6.73,55.92,7.69],\"xaxis\":\"x\",\"y\":[\"Metal Gear Solid 4: Guns of the Patriots\",\"Call of Duty: Modern Warfare 2\",\"Mass Effect 2\",\"Red Dead Redemption\",\"Portal 2\",\"The Last of Us\",\"Grand Theft Auto IV\",\"Uncharted 2: Among Thieves\",\"Grand Theft Auto V\",\"Super Mario Galaxy 2\"],\"yaxis\":\"y\",\"type\":\"bar\"}],\"name\":\"2008\"},{\"data\":[{\"alignmentgroup\":\"True\",\"hovertemplate\":\"Year=2009<br>Global Sales (in Millions)=%{x}<br>Name=%{y}<br>Meta Score=%{marker.color}<extra></extra>\",\"legendgroup\":\"\",\"marker\":{\"color\":[93.67,93.67,94.0,94.67,95.0,95.0,95.0,96.0,96.8,97.0],\"coloraxis\":\"coloraxis\",\"pattern\":{\"shape\":\"\"}},\"name\":\"\",\"offsetgroup\":\"\",\"orientation\":\"h\",\"showlegend\":false,\"textposition\":\"auto\",\"x\":[11.2,4.39,25.09,4.99,25.88,4.6,10.54,6.73,55.92,7.69],\"xaxis\":\"x\",\"y\":[\"Batman: Arkham City\",\"BioShock Infinite\",\"Call of Duty: Modern Warfare 2\",\"Mass Effect 2\",\"Red Dead Redemption\",\"Portal 2\",\"The Last of Us\",\"Uncharted 2: Among Thieves\",\"Grand Theft Auto V\",\"Super Mario Galaxy 2\"],\"yaxis\":\"y\",\"type\":\"bar\"}],\"name\":\"2009\"},{\"data\":[{\"alignmentgroup\":\"True\",\"hovertemplate\":\"Year=2010<br>Global Sales (in Millions)=%{x}<br>Name=%{y}<br>Meta Score=%{marker.color}<extra></extra>\",\"legendgroup\":\"\",\"marker\":{\"color\":[93.0,93.0,93.67,93.67,94.67,95.0,95.0,95.0,96.8,97.0],\"coloraxis\":\"coloraxis\",\"pattern\":{\"shape\":\"\"}},\"name\":\"\",\"offsetgroup\":\"\",\"orientation\":\"h\",\"showlegend\":false,\"textposition\":\"auto\",\"x\":[4.83,8.2,11.2,4.39,4.99,25.88,4.6,10.54,55.92,7.69],\"xaxis\":\"x\",\"y\":[\"StarCraft II: Wings of Liberty\",\"The Legend of Zelda: Skyward Sword\",\"Batman: Arkham City\",\"BioShock Infinite\",\"Mass Effect 2\",\"Red Dead Redemption\",\"Portal 2\",\"The Last of Us\",\"Grand Theft Auto V\",\"Super Mario Galaxy 2\"],\"yaxis\":\"y\",\"type\":\"bar\"}],\"name\":\"2010\"},{\"data\":[{\"alignmentgroup\":\"True\",\"hovertemplate\":\"Year=2011<br>Global Sales (in Millions)=%{x}<br>Name=%{y}<br>Meta Score=%{marker.color}<extra></extra>\",\"legendgroup\":\"\",\"marker\":{\"color\":[93.0,93.0,93.0,93.0,93.0,93.67,93.67,95.0,95.0,96.8],\"coloraxis\":\"coloraxis\",\"pattern\":{\"shape\":\"\"}},\"name\":\"\",\"offsetgroup\":\"\",\"orientation\":\"h\",\"showlegend\":false,\"textposition\":\"auto\",\"x\":[8.2,1.38,5.779999999999999,23.3,4.25,11.2,4.39,4.6,10.54,55.92],\"xaxis\":\"x\",\"y\":[\"The Legend of Zelda: Skyward Sword\",\"Persona 4: Golden\",\"Mass Effect 3\",\"Minecraft\",\"Super Mario 3D World\",\"Batman: Arkham City\",\"BioShock Infinite\",\"Portal 2\",\"The Last of Us\",\"Grand Theft Auto V\"],\"yaxis\":\"y\",\"type\":\"bar\"}],\"name\":\"2011\"},{\"data\":[{\"alignmentgroup\":\"True\",\"hovertemplate\":\"Year=2012<br>Global Sales (in Millions)=%{x}<br>Name=%{y}<br>Meta Score=%{marker.color}<extra></extra>\",\"legendgroup\":\"\",\"marker\":{\"color\":[93.0,93.0,93.0,93.0,93.0,93.0,93.0,93.67,95.0,96.8],\"coloraxis\":\"coloraxis\",\"pattern\":{\"shape\":\"\"}},\"name\":\"\",\"offsetgroup\":\"\",\"orientation\":\"h\",\"showlegend\":false,\"textposition\":\"auto\",\"x\":[1.38,5.779999999999999,23.3,4.25,0.36000000000000004,5.08,8.03,4.39,10.54,55.92],\"xaxis\":\"x\",\"y\":[\"Persona 4: Golden\",\"Mass Effect 3\",\"Minecraft\",\"Super Mario 3D World\",\"Divinity: Original Sin\",\"Metal Gear Solid V: The Phantom Pain\",\"NBA 2K16\",\"BioShock Infinite\",\"The Last of Us\",\"Grand Theft Auto V\"],\"yaxis\":\"y\",\"type\":\"bar\"}],\"name\":\"2012\"},{\"data\":[{\"alignmentgroup\":\"True\",\"hovertemplate\":\"Year=2013<br>Global Sales (in Millions)=%{x}<br>Name=%{y}<br>Meta Score=%{marker.color}<extra></extra>\",\"legendgroup\":\"\",\"marker\":{\"color\":[92.0,92.0,93.0,93.0,93.0,93.0,93.0,93.67,95.0,96.8],\"coloraxis\":\"coloraxis\",\"pattern\":{\"shape\":\"\"}},\"name\":\"\",\"offsetgroup\":\"\",\"orientation\":\"h\",\"showlegend\":false,\"textposition\":\"auto\",\"x\":[5.64,2.38,23.3,4.25,0.36000000000000004,5.08,8.03,4.39,10.54,55.92],\"xaxis\":\"x\",\"y\":[\"The Witcher 3: Wild Hunt\",\"Bloodborne\",\"Minecraft\",\"Super Mario 3D World\",\"Divinity: Original Sin\",\"Metal Gear Solid V: The Phantom Pain\",\"NBA 2K16\",\"BioShock Infinite\",\"The Last of Us\",\"Grand Theft Auto V\"],\"yaxis\":\"y\",\"type\":\"bar\"}],\"name\":\"2013\"},{\"data\":[{\"alignmentgroup\":\"True\",\"hovertemplate\":\"Year=2014<br>Global Sales (in Millions)=%{x}<br>Name=%{y}<br>Meta Score=%{marker.color}<extra></extra>\",\"legendgroup\":\"\",\"marker\":{\"color\":[88.0,89.0,89.0,91.0,91.5,92.0,92.0,93.0,93.0,93.0],\"coloraxis\":\"coloraxis\",\"pattern\":{\"shape\":\"\"}},\"name\":\"\",\"offsetgroup\":\"\",\"orientation\":\"h\",\"showlegend\":false,\"textposition\":\"auto\",\"x\":[3.18,0.02,2.32,3.0700000000000003,1.01,5.64,2.38,0.36000000000000004,5.08,8.03],\"xaxis\":\"x\",\"y\":[\"Super Mario Maker\",\"Pillars of Eternity\",\"The Legend of Zelda: Majora's Mask 3D\",\"Dark Souls II\",\"Bayonetta 2\",\"The Witcher 3: Wild Hunt\",\"Bloodborne\",\"Divinity: Original Sin\",\"Metal Gear Solid V: The Phantom Pain\",\"NBA 2K16\"],\"yaxis\":\"y\",\"type\":\"bar\"}],\"name\":\"2014\"}]);\n",
       "                        }).then(function(){\n",
       "                            \n",
       "var gd = document.getElementById('d6c92a6d-9ffc-48de-ab7a-75543a1c7a4d');\n",
       "var x = new MutationObserver(function (mutations, observer) {{\n",
       "        var display = window.getComputedStyle(gd).display;\n",
       "        if (!display || display === 'none') {{\n",
       "            console.log([gd, 'removed!']);\n",
       "            Plotly.purge(gd);\n",
       "            observer.disconnect();\n",
       "        }}\n",
       "}});\n",
       "\n",
       "// Listen for the removal of the full notebook cells\n",
       "var notebookContainer = gd.closest('#notebook-container');\n",
       "if (notebookContainer) {{\n",
       "    x.observe(notebookContainer, {childList: true});\n",
       "}}\n",
       "\n",
       "// Listen for the clearing of the current output cell\n",
       "var outputEl = gd.closest('.output');\n",
       "if (outputEl) {{\n",
       "    x.observe(outputEl, {childList: true});\n",
       "}}\n",
       "\n",
       "                        })                };                });            </script>        </div>"
      ]
     },
     "metadata": {},
     "output_type": "display_data"
    }
   ],
   "source": [
    "fig = px.bar(\n",
    "    windowed.sort_values(by=[\"Year_window\",'Meta_score'], ascending = [True,False]).groupby(\"Year_window\").head(10).sort_values(by=[\"Year_window\",'Meta_score'], ascending = [True,True]),\n",
    "    x=\"Global_Sales\",\n",
    "    y=\"Name\",\n",
    "    animation_frame=\"Year_window\", \n",
    "    range_x=[0, 80],\n",
    "    color='Meta_score',\n",
    "    color_continuous_scale=[\"red\", \"yellow\", \"green\"],\n",
    "    range_color = [0,100],\n",
    "    #barmode=\"group\",\n",
    "    orientation=\"h\",\n",
    "    labels={'Name':'Name',\n",
    "           \"Global_Sales\": \"Global Sales (in Millions)\",\n",
    "           \"Meta_score\": \"Meta Score\",\n",
    "           \"Year_window\":\"Year\"}\n",
    ")\n",
    "fig.update_layout(margin=dict(l=400))\n",
    "fig.update_yaxes(title_font_color=\"white\")\n",
    "fig.layout.updatemenus[0].buttons[0].args[1][\"frame\"][\"duration\"] = 1500\n",
    "fig.write_html('../plots/meta_score_vs_sales.html', auto_play=False)\n",
    "fig.show()"
   ]
  },
  {
   "cell_type": "code",
   "execution_count": 225,
   "id": "65d3fece",
   "metadata": {},
   "outputs": [
    {
     "data": {
      "application/vnd.plotly.v1+json": {
       "config": {
        "plotlyServerURL": "https://plot.ly"
       },
       "data": [
        {
         "alignmentgroup": "True",
         "hovertemplate": "Year=1980<br>Meta Score=%{x}<br>Name=%{y}<br>User Score=%{marker.color}<extra></extra>",
         "legendgroup": "",
         "marker": {
          "color": [
           62.6,
           53,
           51,
           63,
           72,
           67,
           70,
           72,
           72,
           85
          ],
          "coloraxis": "coloraxis",
          "pattern": {
           "shape": ""
          }
         },
         "name": "",
         "offsetgroup": "",
         "orientation": "h",
         "showlegend": false,
         "textposition": "auto",
         "type": "bar",
         "x": [
          60.6,
          61,
          62,
          63,
          65,
          65,
          68,
          74,
          76,
          83.5
         ],
         "xaxis": "x",
         "y": [
          "Defender",
          "Frogger",
          "Pac-Man",
          "Missile Command",
          "Ms. Pac-Man",
          "Dig Dug",
          "Joust",
          "Bomberman",
          "Lode Runner",
          "Spider-Man"
         ],
         "yaxis": "y"
        }
       ],
       "frames": [
        {
         "data": [
          {
           "alignmentgroup": "True",
           "hovertemplate": "Year=1980<br>Meta Score=%{x}<br>Name=%{y}<br>User Score=%{marker.color}<extra></extra>",
           "legendgroup": "",
           "marker": {
            "color": [
             62.6,
             53,
             51,
             63,
             72,
             67,
             70,
             72,
             72,
             85
            ],
            "coloraxis": "coloraxis",
            "pattern": {
             "shape": ""
            }
           },
           "name": "",
           "offsetgroup": "",
           "orientation": "h",
           "showlegend": false,
           "textposition": "auto",
           "type": "bar",
           "x": [
            60.6,
            61,
            62,
            63,
            65,
            65,
            68,
            74,
            76,
            83.5
           ],
           "xaxis": "x",
           "y": [
            "Defender",
            "Frogger",
            "Pac-Man",
            "Missile Command",
            "Ms. Pac-Man",
            "Dig Dug",
            "Joust",
            "Bomberman",
            "Lode Runner",
            "Spider-Man"
           ],
           "yaxis": "y"
          }
         ],
         "name": "1980"
        },
        {
         "data": [
          {
           "alignmentgroup": "True",
           "hovertemplate": "Year=1981<br>Meta Score=%{x}<br>Name=%{y}<br>User Score=%{marker.color}<extra></extra>",
           "legendgroup": "",
           "marker": {
            "color": [
             53,
             51,
             64,
             72,
             67,
             70,
             72,
             72,
             73,
             85
            ],
            "coloraxis": "coloraxis",
            "pattern": {
             "shape": ""
            }
           },
           "name": "",
           "offsetgroup": "",
           "orientation": "h",
           "showlegend": false,
           "textposition": "auto",
           "type": "bar",
           "x": [
            61,
            62,
            64,
            65,
            65,
            68,
            74,
            76,
            78,
            83.5
           ],
           "xaxis": "x",
           "y": [
            "Frogger",
            "Pac-Man",
            "Star Soldier",
            "Ms. Pac-Man",
            "Dig Dug",
            "Joust",
            "Bomberman",
            "Lode Runner",
            "Castlevania",
            "Spider-Man"
           ],
           "yaxis": "y"
          }
         ],
         "name": "1981"
        },
        {
         "data": [
          {
           "alignmentgroup": "True",
           "hovertemplate": "Year=1982<br>Meta Score=%{x}<br>Name=%{y}<br>User Score=%{marker.color}<extra></extra>",
           "legendgroup": "",
           "marker": {
            "color": [
             50,
             55,
             51,
             64,
             67,
             87,
             70,
             72,
             72,
             73
            ],
            "coloraxis": "coloraxis",
            "pattern": {
             "shape": ""
            }
           },
           "name": "",
           "offsetgroup": "",
           "orientation": "h",
           "showlegend": false,
           "textposition": "auto",
           "type": "bar",
           "x": [
            50,
            55,
            62,
            64,
            65,
            67,
            68,
            74,
            76,
            78
           ],
           "xaxis": "x",
           "y": [
            "Battlezone",
            "Yars' Revenge",
            "Pac-Man",
            "Star Soldier",
            "Dig Dug",
            "Final Fantasy",
            "Joust",
            "Bomberman",
            "Lode Runner",
            "Castlevania"
           ],
           "yaxis": "y"
          }
         ],
         "name": "1982"
        },
        {
         "data": [
          {
           "alignmentgroup": "True",
           "hovertemplate": "Year=1983<br>Meta Score=%{x}<br>Name=%{y}<br>User Score=%{marker.color}<extra></extra>",
           "legendgroup": "",
           "marker": {
            "color": [
             68,
             64,
             22,
             87,
             72,
             72,
             73,
             75
            ],
            "coloraxis": "coloraxis",
            "pattern": {
             "shape": ""
            }
           },
           "name": "",
           "offsetgroup": "",
           "orientation": "h",
           "showlegend": false,
           "textposition": "auto",
           "type": "bar",
           "x": [
            63,
            64,
            64,
            67,
            74,
            76,
            78,
            82.5
           ],
           "xaxis": "x",
           "y": [
            "Final Fantasy II",
            "Star Soldier",
            "SimCity",
            "Final Fantasy",
            "Bomberman",
            "Lode Runner",
            "Castlevania",
            "Tetris"
           ],
           "yaxis": "y"
          }
         ],
         "name": "1983"
        },
        {
         "data": [
          {
           "alignmentgroup": "True",
           "hovertemplate": "Year=1984<br>Meta Score=%{x}<br>Name=%{y}<br>User Score=%{marker.color}<extra></extra>",
           "legendgroup": "",
           "marker": {
            "color": [
             63,
             78,
             68,
             64,
             22,
             87,
             72,
             72,
             73,
             75
            ],
            "coloraxis": "coloraxis",
            "pattern": {
             "shape": ""
            }
           },
           "name": "",
           "offsetgroup": "",
           "orientation": "h",
           "showlegend": false,
           "textposition": "auto",
           "type": "bar",
           "x": [
            57,
            62.33,
            63,
            64,
            64,
            67,
            74,
            76,
            78,
            82.5
           ],
           "xaxis": "x",
           "y": [
            "Double Dragon",
            "Teenage Mutant Ninja Turtles",
            "Final Fantasy II",
            "Star Soldier",
            "SimCity",
            "Final Fantasy",
            "Bomberman",
            "Lode Runner",
            "Castlevania",
            "Tetris"
           ],
           "yaxis": "y"
          }
         ],
         "name": "1984"
        },
        {
         "data": [
          {
           "alignmentgroup": "True",
           "hovertemplate": "Year=1985<br>Meta Score=%{x}<br>Name=%{y}<br>User Score=%{marker.color}<extra></extra>",
           "legendgroup": "",
           "marker": {
            "color": [
             78,
             68,
             64,
             22,
             87,
             72,
             86,
             73,
             75,
             79.3
            ],
            "coloraxis": "coloraxis",
            "pattern": {
             "shape": ""
            }
           },
           "name": "",
           "offsetgroup": "",
           "orientation": "h",
           "showlegend": false,
           "textposition": "auto",
           "type": "bar",
           "x": [
            62.33,
            63,
            64,
            64,
            67,
            74,
            77,
            78,
            82.5,
            82.67
           ],
           "xaxis": "x",
           "y": [
            "Teenage Mutant Ninja Turtles",
            "Final Fantasy II",
            "Star Soldier",
            "SimCity",
            "Final Fantasy",
            "Bomberman",
            "Final Fantasy III",
            "Castlevania",
            "Tetris",
            "Streets of Rage"
           ],
           "yaxis": "y"
          }
         ],
         "name": "1985"
        },
        {
         "data": [
          {
           "alignmentgroup": "True",
           "hovertemplate": "Year=1986<br>Meta Score=%{x}<br>Name=%{y}<br>User Score=%{marker.color}<extra></extra>",
           "legendgroup": "",
           "marker": {
            "color": [
             68,
             64,
             22,
             87,
             86,
             73,
             73,
             75,
             79.3,
             90
            ],
            "coloraxis": "coloraxis",
            "pattern": {
             "shape": ""
            }
           },
           "name": "",
           "offsetgroup": "",
           "orientation": "h",
           "showlegend": false,
           "textposition": "auto",
           "type": "bar",
           "x": [
            63,
            64,
            64,
            67,
            77,
            78,
            78,
            82.5,
            82.67,
            95
           ],
           "xaxis": "x",
           "y": [
            "Final Fantasy II",
            "Star Soldier",
            "SimCity",
            "Final Fantasy",
            "Final Fantasy III",
            "Castlevania",
            "Super Ghouls 'n Ghosts",
            "Tetris",
            "Streets of Rage",
            "The Legend of Zelda: A Link to the Past"
           ],
           "yaxis": "y"
          }
         ],
         "name": "1986"
        },
        {
         "data": [
          {
           "alignmentgroup": "True",
           "hovertemplate": "Year=1987<br>Meta Score=%{x}<br>Name=%{y}<br>User Score=%{marker.color}<extra></extra>",
           "legendgroup": "",
           "marker": {
            "color": [
             69.5,
             75,
             86,
             73,
             87,
             78,
             75,
             79.3,
             82,
             90
            ],
            "coloraxis": "coloraxis",
            "pattern": {
             "shape": ""
            }
           },
           "name": "",
           "offsetgroup": "",
           "orientation": "h",
           "showlegend": false,
           "textposition": "auto",
           "type": "bar",
           "x": [
            74.5,
            75,
            77,
            78,
            81,
            82,
            82.5,
            82.67,
            84.5,
            95
           ],
           "xaxis": "x",
           "y": [
            "Syndicate",
            "NBA Jam",
            "Final Fantasy III",
            "Super Ghouls 'n Ghosts",
            "Doom",
            "Sonic the Hedgehog 2",
            "Tetris",
            "Streets of Rage",
            "Mortal Kombat",
            "The Legend of Zelda: A Link to the Past"
           ],
           "yaxis": "y"
          }
         ],
         "name": "1987"
        },
        {
         "data": [
          {
           "alignmentgroup": "True",
           "hovertemplate": "Year=1988<br>Meta Score=%{x}<br>Name=%{y}<br>User Score=%{marker.color}<extra></extra>",
           "legendgroup": "",
           "marker": {
            "color": [
             73,
             87,
             78,
             77,
             64,
             75,
             79.3,
             82,
             77.5,
             90
            ],
            "coloraxis": "coloraxis",
            "pattern": {
             "shape": ""
            }
           },
           "name": "",
           "offsetgroup": "",
           "orientation": "h",
           "showlegend": false,
           "textposition": "auto",
           "type": "bar",
           "x": [
            78,
            81,
            82,
            82,
            82,
            82.5,
            82.67,
            84.5,
            91.5,
            95
           ],
           "xaxis": "x",
           "y": [
            "Super Ghouls 'n Ghosts",
            "Doom",
            "Sonic the Hedgehog 2",
            "Sonic CD",
            "Super Mario All-Stars",
            "Tetris",
            "Streets of Rage",
            "Mortal Kombat",
            "Super Street Fighter II",
            "The Legend of Zelda: A Link to the Past"
           ],
           "yaxis": "y"
          }
         ],
         "name": "1988"
        },
        {
         "data": [
          {
           "alignmentgroup": "True",
           "hovertemplate": "Year=1989<br>Meta Score=%{x}<br>Name=%{y}<br>User Score=%{marker.color}<extra></extra>",
           "legendgroup": "",
           "marker": {
            "color": [
             87,
             78,
             77,
             64,
             79.3,
             82,
             85,
             81,
             77.5,
             90
            ],
            "coloraxis": "coloraxis",
            "pattern": {
             "shape": ""
            }
           },
           "name": "",
           "offsetgroup": "",
           "orientation": "h",
           "showlegend": false,
           "textposition": "auto",
           "type": "bar",
           "x": [
            81,
            82,
            82,
            82,
            82.67,
            84.5,
            86,
            88,
            91.5,
            95
           ],
           "xaxis": "x",
           "y": [
            "Doom",
            "Sonic the Hedgehog 2",
            "Sonic CD",
            "Super Mario All-Stars",
            "Streets of Rage",
            "Mortal Kombat",
            "Daytona USA",
            "Ridge Racer",
            "Super Street Fighter II",
            "The Legend of Zelda: A Link to the Past"
           ],
           "yaxis": "y"
          }
         ],
         "name": "1989"
        },
        {
         "data": [
          {
           "alignmentgroup": "True",
           "hovertemplate": "Year=1990<br>Meta Score=%{x}<br>Name=%{y}<br>User Score=%{marker.color}<extra></extra>",
           "legendgroup": "",
           "marker": {
            "color": [
             78,
             79.3,
             81,
             83,
             82,
             85,
             81,
             77.5,
             91,
             90
            ],
            "coloraxis": "coloraxis",
            "pattern": {
             "shape": ""
            }
           },
           "name": "",
           "offsetgroup": "",
           "orientation": "h",
           "showlegend": false,
           "textposition": "auto",
           "type": "bar",
           "x": [
            82,
            82.67,
            83,
            84,
            84.5,
            86,
            88,
            91.5,
            92,
            95
           ],
           "xaxis": "x",
           "y": [
            "Sonic the Hedgehog 2",
            "Streets of Rage",
            "Guardian Heroes",
            "Warhawk",
            "Mortal Kombat",
            "Daytona USA",
            "Ridge Racer",
            "Super Street Fighter II",
            "Chrono Trigger",
            "The Legend of Zelda: A Link to the Past"
           ],
           "yaxis": "y"
          }
         ],
         "name": "1990"
        },
        {
         "data": [
          {
           "alignmentgroup": "True",
           "hovertemplate": "Year=1991<br>Meta Score=%{x}<br>Name=%{y}<br>User Score=%{marker.color}<extra></extra>",
           "legendgroup": "",
           "marker": {
            "color": [
             81,
             87,
             76,
             84,
             77.5,
             91,
             83,
             91,
             87,
             90
            ],
            "coloraxis": "coloraxis",
            "pattern": {
             "shape": ""
            }
           },
           "name": "",
           "offsetgroup": "",
           "orientation": "h",
           "showlegend": false,
           "textposition": "auto",
           "type": "bar",
           "x": [
            88,
            90,
            90.5,
            91,
            91.5,
            92,
            92,
            94,
            94,
            95
           ],
           "xaxis": "x",
           "y": [
            "Ridge Racer",
            "Command & Conquer: Red Alert",
            "Microsoft Flight Simulator",
            "Tomb Raider",
            "Super Street Fighter II",
            "Chrono Trigger",
            "Wave Race 64",
            "Super Mario 64",
            "Diablo",
            "The Legend of Zelda: A Link to the Past"
           ],
           "yaxis": "y"
          }
         ],
         "name": "1991"
        },
        {
         "data": [
          {
           "alignmentgroup": "True",
           "hovertemplate": "Year=1992<br>Meta Score=%{x}<br>Name=%{y}<br>User Score=%{marker.color}<extra></extra>",
           "legendgroup": "",
           "marker": {
            "color": [
             84,
             83,
             89,
             77.5,
             88.5,
             91,
             83,
             91,
             87,
             86
            ],
            "coloraxis": "coloraxis",
            "pattern": {
             "shape": ""
            }
           },
           "name": "",
           "offsetgroup": "",
           "orientation": "h",
           "showlegend": false,
           "textposition": "auto",
           "type": "bar",
           "x": [
            91,
            91,
            91,
            91.5,
            91.5,
            92,
            92,
            94,
            94,
            96
           ],
           "xaxis": "x",
           "y": [
            "Tomb Raider",
            "Colony Wars",
            "Castlevania: Symphony of the Night",
            "Super Street Fighter II",
            "Half-Life",
            "Chrono Trigger",
            "Wave Race 64",
            "Super Mario 64",
            "Diablo",
            "Gran Turismo"
           ],
           "yaxis": "y"
          }
         ],
         "name": "1992"
        },
        {
         "data": [
          {
           "alignmentgroup": "True",
           "hovertemplate": "Year=1993<br>Meta Score=%{x}<br>Name=%{y}<br>User Score=%{marker.color}<extra></extra>",
           "legendgroup": "",
           "marker": {
            "color": [
             77.5,
             88.5,
             91,
             83,
             88,
             91,
             87,
             86,
             91,
             91
            ],
            "coloraxis": "coloraxis",
            "pattern": {
             "shape": ""
            }
           },
           "name": "",
           "offsetgroup": "",
           "orientation": "h",
           "showlegend": false,
           "textposition": "auto",
           "type": "bar",
           "x": [
            91.5,
            91.5,
            92,
            92,
            93,
            94,
            94,
            96,
            96,
            99
           ],
           "xaxis": "x",
           "y": [
            "Super Street Fighter II",
            "Half-Life",
            "Chrono Trigger",
            "Wave Race 64",
            "Homeworld",
            "Super Mario 64",
            "Diablo",
            "Gran Turismo",
            "Tekken 3",
            "The Legend of Zelda: Ocarina of Time"
           ],
           "yaxis": "y"
          }
         ],
         "name": "1993"
        },
        {
         "data": [
          {
           "alignmentgroup": "True",
           "hovertemplate": "Year=1994<br>Meta Score=%{x}<br>Name=%{y}<br>User Score=%{marker.color}<extra></extra>",
           "legendgroup": "",
           "marker": {
            "color": [
             91,
             88,
             90,
             83,
             91,
             87,
             88,
             86,
             91,
             91
            ],
            "coloraxis": "coloraxis",
            "pattern": {
             "shape": ""
            }
           },
           "name": "",
           "offsetgroup": "",
           "orientation": "h",
           "showlegend": false,
           "textposition": "auto",
           "type": "bar",
           "x": [
            92,
            93,
            93,
            93,
            94,
            94,
            94,
            96,
            96,
            99
           ],
           "xaxis": "x",
           "y": [
            "Chrono Trigger",
            "Homeworld",
            "Gran Turismo 2",
            "Test Drive Le Mans",
            "Super Mario 64",
            "Diablo",
            "Chrono Cross",
            "Gran Turismo",
            "Tekken 3",
            "The Legend of Zelda: Ocarina of Time"
           ],
           "yaxis": "y"
          }
         ],
         "name": "1994"
        },
        {
         "data": [
          {
           "alignmentgroup": "True",
           "hovertemplate": "Year=1995<br>Meta Score=%{x}<br>Name=%{y}<br>User Score=%{marker.color}<extra></extra>",
           "legendgroup": "",
           "marker": {
            "color": [
             88,
             90,
             91,
             87,
             88,
             91,
             86,
             91,
             62,
             91
            ],
            "coloraxis": "coloraxis",
            "pattern": {
             "shape": ""
            }
           },
           "name": "",
           "offsetgroup": "",
           "orientation": "h",
           "showlegend": false,
           "textposition": "auto",
           "type": "bar",
           "x": [
            93,
            93,
            94,
            94,
            94,
            95,
            96,
            96,
            97,
            99
           ],
           "xaxis": "x",
           "y": [
            "Homeworld",
            "Gran Turismo 2",
            "Super Mario 64",
            "Diablo",
            "Chrono Cross",
            "The Legend of Zelda: Majora's Mask",
            "Gran Turismo",
            "Tekken 3",
            "NFL 2K1",
            "The Legend of Zelda: Ocarina of Time"
           ],
           "yaxis": "y"
          }
         ],
         "name": "1995"
        },
        {
         "data": [
          {
           "alignmentgroup": "True",
           "hovertemplate": "Year=1996<br>Meta Score=%{x}<br>Name=%{y}<br>User Score=%{marker.color}<extra></extra>",
           "legendgroup": "",
           "marker": {
            "color": [
             91,
             91,
             83,
             84,
             86,
             91,
             88,
             62,
             87,
             91
            ],
            "coloraxis": "coloraxis",
            "pattern": {
             "shape": ""
            }
           },
           "name": "",
           "offsetgroup": "",
           "orientation": "h",
           "showlegend": false,
           "textposition": "auto",
           "type": "bar",
           "x": [
            94,
            95,
            95,
            95,
            96,
            96,
            96,
            97,
            97,
            99
           ],
           "xaxis": "x",
           "y": [
            "Super Mario 64",
            "The Legend of Zelda: Majora's Mask",
            "Grand Theft Auto III",
            "Gran Turismo 3: A-Spec",
            "Gran Turismo",
            "Tekken 3",
            "Metal Gear Solid 2: Sons of Liberty",
            "NFL 2K1",
            "Halo: Combat Evolved",
            "The Legend of Zelda: Ocarina of Time"
           ],
           "yaxis": "y"
          }
         ],
         "name": "1996"
        },
        {
         "data": [
          {
           "alignmentgroup": "True",
           "hovertemplate": "Year=1997<br>Meta Score=%{x}<br>Name=%{y}<br>User Score=%{marker.color}<extra></extra>",
           "legendgroup": "",
           "marker": {
            "color": [
             91,
             83,
             86,
             91,
             88,
             90,
             62,
             87,
             89,
             91
            ],
            "coloraxis": "coloraxis",
            "pattern": {
             "shape": ""
            }
           },
           "name": "",
           "offsetgroup": "",
           "orientation": "h",
           "showlegend": false,
           "textposition": "auto",
           "type": "bar",
           "x": [
            95,
            95,
            96,
            96,
            96,
            96,
            97,
            97,
            97,
            99
           ],
           "xaxis": "x",
           "y": [
            "The Legend of Zelda: Majora's Mask",
            "Grand Theft Auto III",
            "Gran Turismo",
            "Tekken 3",
            "Metal Gear Solid 2: Sons of Liberty",
            "The Legend of Zelda: The Wind Waker",
            "NFL 2K1",
            "Halo: Combat Evolved",
            "Metroid Prime",
            "The Legend of Zelda: Ocarina of Time"
           ],
           "yaxis": "y"
          }
         ],
         "name": "1997"
        },
        {
         "data": [
          {
           "alignmentgroup": "True",
           "hovertemplate": "Year=1998<br>Meta Score=%{x}<br>Name=%{y}<br>User Score=%{marker.color}<extra></extra>",
           "legendgroup": "",
           "marker": {
            "color": [
             91,
             83,
             84,
             91,
             88,
             90,
             62,
             87,
             89,
             91
            ],
            "coloraxis": "coloraxis",
            "pattern": {
             "shape": ""
            }
           },
           "name": "",
           "offsetgroup": "",
           "orientation": "h",
           "showlegend": false,
           "textposition": "auto",
           "type": "bar",
           "x": [
            95,
            95,
            95,
            96,
            96,
            96,
            97,
            97,
            97,
            99
           ],
           "xaxis": "x",
           "y": [
            "The Legend of Zelda: Majora's Mask",
            "Grand Theft Auto III",
            "Gran Turismo 3: A-Spec",
            "Tekken 3",
            "Metal Gear Solid 2: Sons of Liberty",
            "The Legend of Zelda: The Wind Waker",
            "NFL 2K1",
            "Halo: Combat Evolved",
            "Metroid Prime",
            "The Legend of Zelda: Ocarina of Time"
           ],
           "yaxis": "y"
          }
         ],
         "name": "1998"
        },
        {
         "data": [
          {
           "alignmentgroup": "True",
           "hovertemplate": "Year=1999<br>Meta Score=%{x}<br>Name=%{y}<br>User Score=%{marker.color}<extra></extra>",
           "legendgroup": "",
           "marker": {
            "color": [
             88,
             88,
             91,
             83,
             84,
             88,
             90,
             62,
             87,
             89
            ],
            "coloraxis": "coloraxis",
            "pattern": {
             "shape": ""
            }
           },
           "name": "",
           "offsetgroup": "",
           "orientation": "h",
           "showlegend": false,
           "textposition": "auto",
           "type": "bar",
           "x": [
            94,
            94.5,
            95,
            95,
            95,
            96,
            96,
            97,
            97,
            97
           ],
           "xaxis": "x",
           "y": [
            "Chrono Cross",
            "Grand Theft Auto: Vice City",
            "The Legend of Zelda: Majora's Mask",
            "Grand Theft Auto III",
            "Gran Turismo 3: A-Spec",
            "Metal Gear Solid 2: Sons of Liberty",
            "The Legend of Zelda: The Wind Waker",
            "NFL 2K1",
            "Halo: Combat Evolved",
            "Metroid Prime"
           ],
           "yaxis": "y"
          }
         ],
         "name": "1999"
        },
        {
         "data": [
          {
           "alignmentgroup": "True",
           "hovertemplate": "Year=2000<br>Meta Score=%{x}<br>Name=%{y}<br>User Score=%{marker.color}<extra></extra>",
           "legendgroup": "",
           "marker": {
            "color": [
             81,
             88,
             91,
             83,
             84,
             88,
             90,
             62,
             87,
             89
            ],
            "coloraxis": "coloraxis",
            "pattern": {
             "shape": ""
            }
           },
           "name": "",
           "offsetgroup": "",
           "orientation": "h",
           "showlegend": false,
           "textposition": "auto",
           "type": "bar",
           "x": [
            94,
            94.5,
            95,
            95,
            95,
            96,
            96,
            97,
            97,
            97
           ],
           "xaxis": "x",
           "y": [
            "Virtua Fighter 4",
            "Grand Theft Auto: Vice City",
            "The Legend of Zelda: Majora's Mask",
            "Grand Theft Auto III",
            "Gran Turismo 3: A-Spec",
            "Metal Gear Solid 2: Sons of Liberty",
            "The Legend of Zelda: The Wind Waker",
            "NFL 2K1",
            "Halo: Combat Evolved",
            "Metroid Prime"
           ],
           "yaxis": "y"
          }
         ],
         "name": "2000"
        },
        {
         "data": [
          {
           "alignmentgroup": "True",
           "hovertemplate": "Year=2001<br>Meta Score=%{x}<br>Name=%{y}<br>User Score=%{marker.color}<extra></extra>",
           "legendgroup": "",
           "marker": {
            "color": [
             81,
             83,
             88,
             83,
             84,
             89.5,
             88,
             90,
             87,
             89
            ],
            "coloraxis": "coloraxis",
            "pattern": {
             "shape": ""
            }
           },
           "name": "",
           "offsetgroup": "",
           "orientation": "h",
           "showlegend": false,
           "textposition": "auto",
           "type": "bar",
           "x": [
            94,
            94,
            94.5,
            95,
            95,
            95.5,
            96,
            96,
            97,
            97
           ],
           "xaxis": "x",
           "y": [
            "Virtua Fighter 4",
            "Jet Grind Radio",
            "Grand Theft Auto: Vice City",
            "Grand Theft Auto III",
            "Gran Turismo 3: A-Spec",
            "The Legend of Zelda: Twilight Princess",
            "Metal Gear Solid 2: Sons of Liberty",
            "The Legend of Zelda: The Wind Waker",
            "Halo: Combat Evolved",
            "Metroid Prime"
           ],
           "yaxis": "y"
          }
         ],
         "name": "2001"
        },
        {
         "data": [
          {
           "alignmentgroup": "True",
           "hovertemplate": "Year=2002<br>Meta Score=%{x}<br>Name=%{y}<br>User Score=%{marker.color}<extra></extra>",
           "legendgroup": "",
           "marker": {
            "color": [
             81,
             83,
             90.5,
             88,
             88.3,
             89.5,
             90,
             91.5,
             89,
             91
            ],
            "coloraxis": "coloraxis",
            "pattern": {
             "shape": ""
            }
           },
           "name": "",
           "offsetgroup": "",
           "orientation": "h",
           "showlegend": false,
           "textposition": "auto",
           "type": "bar",
           "x": [
            94,
            94,
            94,
            94.5,
            95.33,
            95.5,
            96,
            96,
            97,
            97
           ],
           "xaxis": "x",
           "y": [
            "Virtua Fighter 4",
            "Jet Grind Radio",
            "God of War",
            "Grand Theft Auto: Vice City",
            "BioShock",
            "The Legend of Zelda: Twilight Princess",
            "The Legend of Zelda: The Wind Waker",
            "The Orange Box",
            "Metroid Prime",
            "Super Mario Galaxy"
           ],
           "yaxis": "y"
          }
         ],
         "name": "2002"
        },
        {
         "data": [
          {
           "alignmentgroup": "True",
           "hovertemplate": "Year=2003<br>Meta Score=%{x}<br>Name=%{y}<br>User Score=%{marker.color}<extra></extra>",
           "legendgroup": "",
           "marker": {
            "color": [
             83,
             90.5,
             91,
             88,
             88,
             88.3,
             75.3,
             89.5,
             91.5,
             91
            ],
            "coloraxis": "coloraxis",
            "pattern": {
             "shape": ""
            }
           },
           "name": "",
           "offsetgroup": "",
           "orientation": "h",
           "showlegend": false,
           "textposition": "auto",
           "type": "bar",
           "x": [
            94,
            94,
            94,
            94,
            94,
            95.33,
            95.33,
            95.5,
            96,
            97
           ],
           "xaxis": "x",
           "y": [
            "Jet Grind Radio",
            "God of War",
            "Metal Gear Solid 3: Subsistence",
            "Sid Meier's Civilization IV",
            "Ninja Gaiden Black",
            "BioShock",
            "Grand Theft Auto IV",
            "The Legend of Zelda: Twilight Princess",
            "The Orange Box",
            "Super Mario Galaxy"
           ],
           "yaxis": "y"
          }
         ],
         "name": "2003"
        },
        {
         "data": [
          {
           "alignmentgroup": "True",
           "hovertemplate": "Year=2004<br>Meta Score=%{x}<br>Name=%{y}<br>User Score=%{marker.color}<extra></extra>",
           "legendgroup": "",
           "marker": {
            "color": [
             90.5,
             91,
             88,
             88,
             88.3,
             75.3,
             89.5,
             91.5,
             88,
             91
            ],
            "coloraxis": "coloraxis",
            "pattern": {
             "shape": ""
            }
           },
           "name": "",
           "offsetgroup": "",
           "orientation": "h",
           "showlegend": false,
           "textposition": "auto",
           "type": "bar",
           "x": [
            94,
            94,
            94,
            94,
            95.33,
            95.33,
            95.5,
            96,
            96,
            97
           ],
           "xaxis": "x",
           "y": [
            "God of War",
            "Metal Gear Solid 3: Subsistence",
            "Sid Meier's Civilization IV",
            "Ninja Gaiden Black",
            "BioShock",
            "Grand Theft Auto IV",
            "The Legend of Zelda: Twilight Princess",
            "The Orange Box",
            "Uncharted 2: Among Thieves",
            "Super Mario Galaxy"
           ],
           "yaxis": "y"
          }
         ],
         "name": "2004"
        },
        {
         "data": [
          {
           "alignmentgroup": "True",
           "hovertemplate": "Year=2005<br>Meta Score=%{x}<br>Name=%{y}<br>User Score=%{marker.color}<extra></extra>",
           "legendgroup": "",
           "marker": {
            "color": [
             90.5,
             88.3,
             89.5,
             88.3,
             75.3,
             89.5,
             91.5,
             88,
             91,
             91
            ],
            "coloraxis": "coloraxis",
            "pattern": {
             "shape": ""
            }
           },
           "name": "",
           "offsetgroup": "",
           "orientation": "h",
           "showlegend": false,
           "textposition": "auto",
           "type": "bar",
           "x": [
            94,
            94.67,
            95,
            95.33,
            95.33,
            95.5,
            96,
            96,
            97,
            97
           ],
           "xaxis": "x",
           "y": [
            "God of War",
            "Mass Effect 2",
            "Red Dead Redemption",
            "BioShock",
            "Grand Theft Auto IV",
            "The Legend of Zelda: Twilight Princess",
            "The Orange Box",
            "Uncharted 2: Among Thieves",
            "Super Mario Galaxy",
            "Super Mario Galaxy 2"
           ],
           "yaxis": "y"
          }
         ],
         "name": "2005"
        },
        {
         "data": [
          {
           "alignmentgroup": "True",
           "hovertemplate": "Year=2006<br>Meta Score=%{x}<br>Name=%{y}<br>User Score=%{marker.color}<extra></extra>",
           "legendgroup": "",
           "marker": {
            "color": [
             88.3,
             89.5,
             88.7,
             88.3,
             75.3,
             89.5,
             91.5,
             88,
             91,
             91
            ],
            "coloraxis": "coloraxis",
            "pattern": {
             "shape": ""
            }
           },
           "name": "",
           "offsetgroup": "",
           "orientation": "h",
           "showlegend": false,
           "textposition": "auto",
           "type": "bar",
           "x": [
            94.67,
            95,
            95,
            95.33,
            95.33,
            95.5,
            96,
            96,
            97,
            97
           ],
           "xaxis": "x",
           "y": [
            "Mass Effect 2",
            "Red Dead Redemption",
            "Portal 2",
            "BioShock",
            "Grand Theft Auto IV",
            "The Legend of Zelda: Twilight Princess",
            "The Orange Box",
            "Uncharted 2: Among Thieves",
            "Super Mario Galaxy",
            "Super Mario Galaxy 2"
           ],
           "yaxis": "y"
          }
         ],
         "name": "2006"
        },
        {
         "data": [
          {
           "alignmentgroup": "True",
           "hovertemplate": "Year=2007<br>Meta Score=%{x}<br>Name=%{y}<br>User Score=%{marker.color}<extra></extra>",
           "legendgroup": "",
           "marker": {
            "color": [
             81,
             88.3,
             89.5,
             88.7,
             88.3,
             75.3,
             91.5,
             88,
             91,
             91
            ],
            "coloraxis": "coloraxis",
            "pattern": {
             "shape": ""
            }
           },
           "name": "",
           "offsetgroup": "",
           "orientation": "h",
           "showlegend": false,
           "textposition": "auto",
           "type": "bar",
           "x": [
            94,
            94.67,
            95,
            95,
            95.33,
            95.33,
            96,
            96,
            97,
            97
           ],
           "xaxis": "x",
           "y": [
            "Halo 3",
            "Mass Effect 2",
            "Red Dead Redemption",
            "Portal 2",
            "BioShock",
            "Grand Theft Auto IV",
            "The Orange Box",
            "Uncharted 2: Among Thieves",
            "Super Mario Galaxy",
            "Super Mario Galaxy 2"
           ],
           "yaxis": "y"
          }
         ],
         "name": "2007"
        },
        {
         "data": [
          {
           "alignmentgroup": "True",
           "hovertemplate": "Year=2008<br>Meta Score=%{x}<br>Name=%{y}<br>User Score=%{marker.color}<extra></extra>",
           "legendgroup": "",
           "marker": {
            "color": [
             88,
             66,
             88.3,
             89.5,
             88.7,
             92,
             75.3,
             88,
             81.4,
             91
            ],
            "coloraxis": "coloraxis",
            "pattern": {
             "shape": ""
            }
           },
           "name": "",
           "offsetgroup": "",
           "orientation": "h",
           "showlegend": false,
           "textposition": "auto",
           "type": "bar",
           "x": [
            94,
            94,
            94.67,
            95,
            95,
            95,
            95.33,
            96,
            96.8,
            97
           ],
           "xaxis": "x",
           "y": [
            "Metal Gear Solid 4: Guns of the Patriots",
            "Call of Duty: Modern Warfare 2",
            "Mass Effect 2",
            "Red Dead Redemption",
            "Portal 2",
            "The Last of Us",
            "Grand Theft Auto IV",
            "Uncharted 2: Among Thieves",
            "Grand Theft Auto V",
            "Super Mario Galaxy 2"
           ],
           "yaxis": "y"
          }
         ],
         "name": "2008"
        },
        {
         "data": [
          {
           "alignmentgroup": "True",
           "hovertemplate": "Year=2009<br>Meta Score=%{x}<br>Name=%{y}<br>User Score=%{marker.color}<extra></extra>",
           "legendgroup": "",
           "marker": {
            "color": [
             87.3,
             85.7,
             66,
             88.3,
             89.5,
             88.7,
             92,
             88,
             81.4,
             91
            ],
            "coloraxis": "coloraxis",
            "pattern": {
             "shape": ""
            }
           },
           "name": "",
           "offsetgroup": "",
           "orientation": "h",
           "showlegend": false,
           "textposition": "auto",
           "type": "bar",
           "x": [
            93.67,
            93.67,
            94,
            94.67,
            95,
            95,
            95,
            96,
            96.8,
            97
           ],
           "xaxis": "x",
           "y": [
            "Batman: Arkham City",
            "BioShock Infinite",
            "Call of Duty: Modern Warfare 2",
            "Mass Effect 2",
            "Red Dead Redemption",
            "Portal 2",
            "The Last of Us",
            "Uncharted 2: Among Thieves",
            "Grand Theft Auto V",
            "Super Mario Galaxy 2"
           ],
           "yaxis": "y"
          }
         ],
         "name": "2009"
        },
        {
         "data": [
          {
           "alignmentgroup": "True",
           "hovertemplate": "Year=2010<br>Meta Score=%{x}<br>Name=%{y}<br>User Score=%{marker.color}<extra></extra>",
           "legendgroup": "",
           "marker": {
            "color": [
             83,
             81,
             87.3,
             85.7,
             88.3,
             89.5,
             88.7,
             92,
             81.4,
             91
            ],
            "coloraxis": "coloraxis",
            "pattern": {
             "shape": ""
            }
           },
           "name": "",
           "offsetgroup": "",
           "orientation": "h",
           "showlegend": false,
           "textposition": "auto",
           "type": "bar",
           "x": [
            93,
            93,
            93.67,
            93.67,
            94.67,
            95,
            95,
            95,
            96.8,
            97
           ],
           "xaxis": "x",
           "y": [
            "StarCraft II: Wings of Liberty",
            "The Legend of Zelda: Skyward Sword",
            "Batman: Arkham City",
            "BioShock Infinite",
            "Mass Effect 2",
            "Red Dead Redemption",
            "Portal 2",
            "The Last of Us",
            "Grand Theft Auto V",
            "Super Mario Galaxy 2"
           ],
           "yaxis": "y"
          }
         ],
         "name": "2010"
        },
        {
         "data": [
          {
           "alignmentgroup": "True",
           "hovertemplate": "Year=2011<br>Meta Score=%{x}<br>Name=%{y}<br>User Score=%{marker.color}<extra></extra>",
           "legendgroup": "",
           "marker": {
            "color": [
             81,
             86,
             59,
             80,
             89,
             87.3,
             85.7,
             88.7,
             92,
             81.4
            ],
            "coloraxis": "coloraxis",
            "pattern": {
             "shape": ""
            }
           },
           "name": "",
           "offsetgroup": "",
           "orientation": "h",
           "showlegend": false,
           "textposition": "auto",
           "type": "bar",
           "x": [
            93,
            93,
            93,
            93,
            93,
            93.67,
            93.67,
            95,
            95,
            96.8
           ],
           "xaxis": "x",
           "y": [
            "The Legend of Zelda: Skyward Sword",
            "Persona 4: Golden",
            "Mass Effect 3",
            "Minecraft",
            "Super Mario 3D World",
            "Batman: Arkham City",
            "BioShock Infinite",
            "Portal 2",
            "The Last of Us",
            "Grand Theft Auto V"
           ],
           "yaxis": "y"
          }
         ],
         "name": "2011"
        },
        {
         "data": [
          {
           "alignmentgroup": "True",
           "hovertemplate": "Year=2012<br>Meta Score=%{x}<br>Name=%{y}<br>User Score=%{marker.color}<extra></extra>",
           "legendgroup": "",
           "marker": {
            "color": [
             86,
             59,
             80,
             89,
             88,
             78.3,
             72,
             85.7,
             92,
             81.4
            ],
            "coloraxis": "coloraxis",
            "pattern": {
             "shape": ""
            }
           },
           "name": "",
           "offsetgroup": "",
           "orientation": "h",
           "showlegend": false,
           "textposition": "auto",
           "type": "bar",
           "x": [
            93,
            93,
            93,
            93,
            93,
            93,
            93,
            93.67,
            95,
            96.8
           ],
           "xaxis": "x",
           "y": [
            "Persona 4: Golden",
            "Mass Effect 3",
            "Minecraft",
            "Super Mario 3D World",
            "Divinity: Original Sin",
            "Metal Gear Solid V: The Phantom Pain",
            "NBA 2K16",
            "BioShock Infinite",
            "The Last of Us",
            "Grand Theft Auto V"
           ],
           "yaxis": "y"
          }
         ],
         "name": "2012"
        },
        {
         "data": [
          {
           "alignmentgroup": "True",
           "hovertemplate": "Year=2013<br>Meta Score=%{x}<br>Name=%{y}<br>User Score=%{marker.color}<extra></extra>",
           "legendgroup": "",
           "marker": {
            "color": [
             92.7,
             88,
             80,
             89,
             88,
             78.3,
             72,
             85.7,
             92,
             81.4
            ],
            "coloraxis": "coloraxis",
            "pattern": {
             "shape": ""
            }
           },
           "name": "",
           "offsetgroup": "",
           "orientation": "h",
           "showlegend": false,
           "textposition": "auto",
           "type": "bar",
           "x": [
            92,
            92,
            93,
            93,
            93,
            93,
            93,
            93.67,
            95,
            96.8
           ],
           "xaxis": "x",
           "y": [
            "The Witcher 3: Wild Hunt",
            "Bloodborne",
            "Minecraft",
            "Super Mario 3D World",
            "Divinity: Original Sin",
            "Metal Gear Solid V: The Phantom Pain",
            "NBA 2K16",
            "BioShock Infinite",
            "The Last of Us",
            "Grand Theft Auto V"
           ],
           "yaxis": "y"
          }
         ],
         "name": "2013"
        },
        {
         "data": [
          {
           "alignmentgroup": "True",
           "hovertemplate": "Year=2014<br>Meta Score=%{x}<br>Name=%{y}<br>User Score=%{marker.color}<extra></extra>",
           "legendgroup": "",
           "marker": {
            "color": [
             85,
             83,
             89,
             77.3,
             87,
             92.7,
             88,
             88,
             78.3,
             72
            ],
            "coloraxis": "coloraxis",
            "pattern": {
             "shape": ""
            }
           },
           "name": "",
           "offsetgroup": "",
           "orientation": "h",
           "showlegend": false,
           "textposition": "auto",
           "type": "bar",
           "x": [
            88,
            89,
            89,
            91,
            91.5,
            92,
            92,
            93,
            93,
            93
           ],
           "xaxis": "x",
           "y": [
            "Super Mario Maker",
            "Pillars of Eternity",
            "The Legend of Zelda: Majora's Mask 3D",
            "Dark Souls II",
            "Bayonetta 2",
            "The Witcher 3: Wild Hunt",
            "Bloodborne",
            "Divinity: Original Sin",
            "Metal Gear Solid V: The Phantom Pain",
            "NBA 2K16"
           ],
           "yaxis": "y"
          }
         ],
         "name": "2014"
        }
       ],
       "layout": {
        "barmode": "relative",
        "coloraxis": {
         "cmax": 100,
         "cmin": 0,
         "colorbar": {
          "title": {
           "text": "User Score"
          }
         },
         "colorscale": [
          [
           0,
           "red"
          ],
          [
           0.5,
           "yellow"
          ],
          [
           1,
           "green"
          ]
         ]
        },
        "legend": {
         "tracegroupgap": 0
        },
        "margin": {
         "l": 400,
         "t": 60
        },
        "sliders": [
         {
          "active": 0,
          "currentvalue": {
           "prefix": "Year="
          },
          "len": 0.9,
          "pad": {
           "b": 10,
           "t": 60
          },
          "steps": [
           {
            "args": [
             [
              "1980"
             ],
             {
              "frame": {
               "duration": 0,
               "redraw": true
              },
              "fromcurrent": true,
              "mode": "immediate",
              "transition": {
               "duration": 0,
               "easing": "linear"
              }
             }
            ],
            "label": "1980",
            "method": "animate"
           },
           {
            "args": [
             [
              "1981"
             ],
             {
              "frame": {
               "duration": 0,
               "redraw": true
              },
              "fromcurrent": true,
              "mode": "immediate",
              "transition": {
               "duration": 0,
               "easing": "linear"
              }
             }
            ],
            "label": "1981",
            "method": "animate"
           },
           {
            "args": [
             [
              "1982"
             ],
             {
              "frame": {
               "duration": 0,
               "redraw": true
              },
              "fromcurrent": true,
              "mode": "immediate",
              "transition": {
               "duration": 0,
               "easing": "linear"
              }
             }
            ],
            "label": "1982",
            "method": "animate"
           },
           {
            "args": [
             [
              "1983"
             ],
             {
              "frame": {
               "duration": 0,
               "redraw": true
              },
              "fromcurrent": true,
              "mode": "immediate",
              "transition": {
               "duration": 0,
               "easing": "linear"
              }
             }
            ],
            "label": "1983",
            "method": "animate"
           },
           {
            "args": [
             [
              "1984"
             ],
             {
              "frame": {
               "duration": 0,
               "redraw": true
              },
              "fromcurrent": true,
              "mode": "immediate",
              "transition": {
               "duration": 0,
               "easing": "linear"
              }
             }
            ],
            "label": "1984",
            "method": "animate"
           },
           {
            "args": [
             [
              "1985"
             ],
             {
              "frame": {
               "duration": 0,
               "redraw": true
              },
              "fromcurrent": true,
              "mode": "immediate",
              "transition": {
               "duration": 0,
               "easing": "linear"
              }
             }
            ],
            "label": "1985",
            "method": "animate"
           },
           {
            "args": [
             [
              "1986"
             ],
             {
              "frame": {
               "duration": 0,
               "redraw": true
              },
              "fromcurrent": true,
              "mode": "immediate",
              "transition": {
               "duration": 0,
               "easing": "linear"
              }
             }
            ],
            "label": "1986",
            "method": "animate"
           },
           {
            "args": [
             [
              "1987"
             ],
             {
              "frame": {
               "duration": 0,
               "redraw": true
              },
              "fromcurrent": true,
              "mode": "immediate",
              "transition": {
               "duration": 0,
               "easing": "linear"
              }
             }
            ],
            "label": "1987",
            "method": "animate"
           },
           {
            "args": [
             [
              "1988"
             ],
             {
              "frame": {
               "duration": 0,
               "redraw": true
              },
              "fromcurrent": true,
              "mode": "immediate",
              "transition": {
               "duration": 0,
               "easing": "linear"
              }
             }
            ],
            "label": "1988",
            "method": "animate"
           },
           {
            "args": [
             [
              "1989"
             ],
             {
              "frame": {
               "duration": 0,
               "redraw": true
              },
              "fromcurrent": true,
              "mode": "immediate",
              "transition": {
               "duration": 0,
               "easing": "linear"
              }
             }
            ],
            "label": "1989",
            "method": "animate"
           },
           {
            "args": [
             [
              "1990"
             ],
             {
              "frame": {
               "duration": 0,
               "redraw": true
              },
              "fromcurrent": true,
              "mode": "immediate",
              "transition": {
               "duration": 0,
               "easing": "linear"
              }
             }
            ],
            "label": "1990",
            "method": "animate"
           },
           {
            "args": [
             [
              "1991"
             ],
             {
              "frame": {
               "duration": 0,
               "redraw": true
              },
              "fromcurrent": true,
              "mode": "immediate",
              "transition": {
               "duration": 0,
               "easing": "linear"
              }
             }
            ],
            "label": "1991",
            "method": "animate"
           },
           {
            "args": [
             [
              "1992"
             ],
             {
              "frame": {
               "duration": 0,
               "redraw": true
              },
              "fromcurrent": true,
              "mode": "immediate",
              "transition": {
               "duration": 0,
               "easing": "linear"
              }
             }
            ],
            "label": "1992",
            "method": "animate"
           },
           {
            "args": [
             [
              "1993"
             ],
             {
              "frame": {
               "duration": 0,
               "redraw": true
              },
              "fromcurrent": true,
              "mode": "immediate",
              "transition": {
               "duration": 0,
               "easing": "linear"
              }
             }
            ],
            "label": "1993",
            "method": "animate"
           },
           {
            "args": [
             [
              "1994"
             ],
             {
              "frame": {
               "duration": 0,
               "redraw": true
              },
              "fromcurrent": true,
              "mode": "immediate",
              "transition": {
               "duration": 0,
               "easing": "linear"
              }
             }
            ],
            "label": "1994",
            "method": "animate"
           },
           {
            "args": [
             [
              "1995"
             ],
             {
              "frame": {
               "duration": 0,
               "redraw": true
              },
              "fromcurrent": true,
              "mode": "immediate",
              "transition": {
               "duration": 0,
               "easing": "linear"
              }
             }
            ],
            "label": "1995",
            "method": "animate"
           },
           {
            "args": [
             [
              "1996"
             ],
             {
              "frame": {
               "duration": 0,
               "redraw": true
              },
              "fromcurrent": true,
              "mode": "immediate",
              "transition": {
               "duration": 0,
               "easing": "linear"
              }
             }
            ],
            "label": "1996",
            "method": "animate"
           },
           {
            "args": [
             [
              "1997"
             ],
             {
              "frame": {
               "duration": 0,
               "redraw": true
              },
              "fromcurrent": true,
              "mode": "immediate",
              "transition": {
               "duration": 0,
               "easing": "linear"
              }
             }
            ],
            "label": "1997",
            "method": "animate"
           },
           {
            "args": [
             [
              "1998"
             ],
             {
              "frame": {
               "duration": 0,
               "redraw": true
              },
              "fromcurrent": true,
              "mode": "immediate",
              "transition": {
               "duration": 0,
               "easing": "linear"
              }
             }
            ],
            "label": "1998",
            "method": "animate"
           },
           {
            "args": [
             [
              "1999"
             ],
             {
              "frame": {
               "duration": 0,
               "redraw": true
              },
              "fromcurrent": true,
              "mode": "immediate",
              "transition": {
               "duration": 0,
               "easing": "linear"
              }
             }
            ],
            "label": "1999",
            "method": "animate"
           },
           {
            "args": [
             [
              "2000"
             ],
             {
              "frame": {
               "duration": 0,
               "redraw": true
              },
              "fromcurrent": true,
              "mode": "immediate",
              "transition": {
               "duration": 0,
               "easing": "linear"
              }
             }
            ],
            "label": "2000",
            "method": "animate"
           },
           {
            "args": [
             [
              "2001"
             ],
             {
              "frame": {
               "duration": 0,
               "redraw": true
              },
              "fromcurrent": true,
              "mode": "immediate",
              "transition": {
               "duration": 0,
               "easing": "linear"
              }
             }
            ],
            "label": "2001",
            "method": "animate"
           },
           {
            "args": [
             [
              "2002"
             ],
             {
              "frame": {
               "duration": 0,
               "redraw": true
              },
              "fromcurrent": true,
              "mode": "immediate",
              "transition": {
               "duration": 0,
               "easing": "linear"
              }
             }
            ],
            "label": "2002",
            "method": "animate"
           },
           {
            "args": [
             [
              "2003"
             ],
             {
              "frame": {
               "duration": 0,
               "redraw": true
              },
              "fromcurrent": true,
              "mode": "immediate",
              "transition": {
               "duration": 0,
               "easing": "linear"
              }
             }
            ],
            "label": "2003",
            "method": "animate"
           },
           {
            "args": [
             [
              "2004"
             ],
             {
              "frame": {
               "duration": 0,
               "redraw": true
              },
              "fromcurrent": true,
              "mode": "immediate",
              "transition": {
               "duration": 0,
               "easing": "linear"
              }
             }
            ],
            "label": "2004",
            "method": "animate"
           },
           {
            "args": [
             [
              "2005"
             ],
             {
              "frame": {
               "duration": 0,
               "redraw": true
              },
              "fromcurrent": true,
              "mode": "immediate",
              "transition": {
               "duration": 0,
               "easing": "linear"
              }
             }
            ],
            "label": "2005",
            "method": "animate"
           },
           {
            "args": [
             [
              "2006"
             ],
             {
              "frame": {
               "duration": 0,
               "redraw": true
              },
              "fromcurrent": true,
              "mode": "immediate",
              "transition": {
               "duration": 0,
               "easing": "linear"
              }
             }
            ],
            "label": "2006",
            "method": "animate"
           },
           {
            "args": [
             [
              "2007"
             ],
             {
              "frame": {
               "duration": 0,
               "redraw": true
              },
              "fromcurrent": true,
              "mode": "immediate",
              "transition": {
               "duration": 0,
               "easing": "linear"
              }
             }
            ],
            "label": "2007",
            "method": "animate"
           },
           {
            "args": [
             [
              "2008"
             ],
             {
              "frame": {
               "duration": 0,
               "redraw": true
              },
              "fromcurrent": true,
              "mode": "immediate",
              "transition": {
               "duration": 0,
               "easing": "linear"
              }
             }
            ],
            "label": "2008",
            "method": "animate"
           },
           {
            "args": [
             [
              "2009"
             ],
             {
              "frame": {
               "duration": 0,
               "redraw": true
              },
              "fromcurrent": true,
              "mode": "immediate",
              "transition": {
               "duration": 0,
               "easing": "linear"
              }
             }
            ],
            "label": "2009",
            "method": "animate"
           },
           {
            "args": [
             [
              "2010"
             ],
             {
              "frame": {
               "duration": 0,
               "redraw": true
              },
              "fromcurrent": true,
              "mode": "immediate",
              "transition": {
               "duration": 0,
               "easing": "linear"
              }
             }
            ],
            "label": "2010",
            "method": "animate"
           },
           {
            "args": [
             [
              "2011"
             ],
             {
              "frame": {
               "duration": 0,
               "redraw": true
              },
              "fromcurrent": true,
              "mode": "immediate",
              "transition": {
               "duration": 0,
               "easing": "linear"
              }
             }
            ],
            "label": "2011",
            "method": "animate"
           },
           {
            "args": [
             [
              "2012"
             ],
             {
              "frame": {
               "duration": 0,
               "redraw": true
              },
              "fromcurrent": true,
              "mode": "immediate",
              "transition": {
               "duration": 0,
               "easing": "linear"
              }
             }
            ],
            "label": "2012",
            "method": "animate"
           },
           {
            "args": [
             [
              "2013"
             ],
             {
              "frame": {
               "duration": 0,
               "redraw": true
              },
              "fromcurrent": true,
              "mode": "immediate",
              "transition": {
               "duration": 0,
               "easing": "linear"
              }
             }
            ],
            "label": "2013",
            "method": "animate"
           },
           {
            "args": [
             [
              "2014"
             ],
             {
              "frame": {
               "duration": 0,
               "redraw": true
              },
              "fromcurrent": true,
              "mode": "immediate",
              "transition": {
               "duration": 0,
               "easing": "linear"
              }
             }
            ],
            "label": "2014",
            "method": "animate"
           }
          ],
          "x": 0.1,
          "xanchor": "left",
          "y": 0,
          "yanchor": "top"
         }
        ],
        "template": {
         "data": {
          "bar": [
           {
            "error_x": {
             "color": "#2a3f5f"
            },
            "error_y": {
             "color": "#2a3f5f"
            },
            "marker": {
             "line": {
              "color": "#E5ECF6",
              "width": 0.5
             },
             "pattern": {
              "fillmode": "overlay",
              "size": 10,
              "solidity": 0.2
             }
            },
            "type": "bar"
           }
          ],
          "barpolar": [
           {
            "marker": {
             "line": {
              "color": "#E5ECF6",
              "width": 0.5
             },
             "pattern": {
              "fillmode": "overlay",
              "size": 10,
              "solidity": 0.2
             }
            },
            "type": "barpolar"
           }
          ],
          "carpet": [
           {
            "aaxis": {
             "endlinecolor": "#2a3f5f",
             "gridcolor": "white",
             "linecolor": "white",
             "minorgridcolor": "white",
             "startlinecolor": "#2a3f5f"
            },
            "baxis": {
             "endlinecolor": "#2a3f5f",
             "gridcolor": "white",
             "linecolor": "white",
             "minorgridcolor": "white",
             "startlinecolor": "#2a3f5f"
            },
            "type": "carpet"
           }
          ],
          "choropleth": [
           {
            "colorbar": {
             "outlinewidth": 0,
             "ticks": ""
            },
            "type": "choropleth"
           }
          ],
          "contour": [
           {
            "colorbar": {
             "outlinewidth": 0,
             "ticks": ""
            },
            "colorscale": [
             [
              0,
              "#0d0887"
             ],
             [
              0.1111111111111111,
              "#46039f"
             ],
             [
              0.2222222222222222,
              "#7201a8"
             ],
             [
              0.3333333333333333,
              "#9c179e"
             ],
             [
              0.4444444444444444,
              "#bd3786"
             ],
             [
              0.5555555555555556,
              "#d8576b"
             ],
             [
              0.6666666666666666,
              "#ed7953"
             ],
             [
              0.7777777777777778,
              "#fb9f3a"
             ],
             [
              0.8888888888888888,
              "#fdca26"
             ],
             [
              1,
              "#f0f921"
             ]
            ],
            "type": "contour"
           }
          ],
          "contourcarpet": [
           {
            "colorbar": {
             "outlinewidth": 0,
             "ticks": ""
            },
            "type": "contourcarpet"
           }
          ],
          "heatmap": [
           {
            "colorbar": {
             "outlinewidth": 0,
             "ticks": ""
            },
            "colorscale": [
             [
              0,
              "#0d0887"
             ],
             [
              0.1111111111111111,
              "#46039f"
             ],
             [
              0.2222222222222222,
              "#7201a8"
             ],
             [
              0.3333333333333333,
              "#9c179e"
             ],
             [
              0.4444444444444444,
              "#bd3786"
             ],
             [
              0.5555555555555556,
              "#d8576b"
             ],
             [
              0.6666666666666666,
              "#ed7953"
             ],
             [
              0.7777777777777778,
              "#fb9f3a"
             ],
             [
              0.8888888888888888,
              "#fdca26"
             ],
             [
              1,
              "#f0f921"
             ]
            ],
            "type": "heatmap"
           }
          ],
          "heatmapgl": [
           {
            "colorbar": {
             "outlinewidth": 0,
             "ticks": ""
            },
            "colorscale": [
             [
              0,
              "#0d0887"
             ],
             [
              0.1111111111111111,
              "#46039f"
             ],
             [
              0.2222222222222222,
              "#7201a8"
             ],
             [
              0.3333333333333333,
              "#9c179e"
             ],
             [
              0.4444444444444444,
              "#bd3786"
             ],
             [
              0.5555555555555556,
              "#d8576b"
             ],
             [
              0.6666666666666666,
              "#ed7953"
             ],
             [
              0.7777777777777778,
              "#fb9f3a"
             ],
             [
              0.8888888888888888,
              "#fdca26"
             ],
             [
              1,
              "#f0f921"
             ]
            ],
            "type": "heatmapgl"
           }
          ],
          "histogram": [
           {
            "marker": {
             "pattern": {
              "fillmode": "overlay",
              "size": 10,
              "solidity": 0.2
             }
            },
            "type": "histogram"
           }
          ],
          "histogram2d": [
           {
            "colorbar": {
             "outlinewidth": 0,
             "ticks": ""
            },
            "colorscale": [
             [
              0,
              "#0d0887"
             ],
             [
              0.1111111111111111,
              "#46039f"
             ],
             [
              0.2222222222222222,
              "#7201a8"
             ],
             [
              0.3333333333333333,
              "#9c179e"
             ],
             [
              0.4444444444444444,
              "#bd3786"
             ],
             [
              0.5555555555555556,
              "#d8576b"
             ],
             [
              0.6666666666666666,
              "#ed7953"
             ],
             [
              0.7777777777777778,
              "#fb9f3a"
             ],
             [
              0.8888888888888888,
              "#fdca26"
             ],
             [
              1,
              "#f0f921"
             ]
            ],
            "type": "histogram2d"
           }
          ],
          "histogram2dcontour": [
           {
            "colorbar": {
             "outlinewidth": 0,
             "ticks": ""
            },
            "colorscale": [
             [
              0,
              "#0d0887"
             ],
             [
              0.1111111111111111,
              "#46039f"
             ],
             [
              0.2222222222222222,
              "#7201a8"
             ],
             [
              0.3333333333333333,
              "#9c179e"
             ],
             [
              0.4444444444444444,
              "#bd3786"
             ],
             [
              0.5555555555555556,
              "#d8576b"
             ],
             [
              0.6666666666666666,
              "#ed7953"
             ],
             [
              0.7777777777777778,
              "#fb9f3a"
             ],
             [
              0.8888888888888888,
              "#fdca26"
             ],
             [
              1,
              "#f0f921"
             ]
            ],
            "type": "histogram2dcontour"
           }
          ],
          "mesh3d": [
           {
            "colorbar": {
             "outlinewidth": 0,
             "ticks": ""
            },
            "type": "mesh3d"
           }
          ],
          "parcoords": [
           {
            "line": {
             "colorbar": {
              "outlinewidth": 0,
              "ticks": ""
             }
            },
            "type": "parcoords"
           }
          ],
          "pie": [
           {
            "automargin": true,
            "type": "pie"
           }
          ],
          "scatter": [
           {
            "fillpattern": {
             "fillmode": "overlay",
             "size": 10,
             "solidity": 0.2
            },
            "type": "scatter"
           }
          ],
          "scatter3d": [
           {
            "line": {
             "colorbar": {
              "outlinewidth": 0,
              "ticks": ""
             }
            },
            "marker": {
             "colorbar": {
              "outlinewidth": 0,
              "ticks": ""
             }
            },
            "type": "scatter3d"
           }
          ],
          "scattercarpet": [
           {
            "marker": {
             "colorbar": {
              "outlinewidth": 0,
              "ticks": ""
             }
            },
            "type": "scattercarpet"
           }
          ],
          "scattergeo": [
           {
            "marker": {
             "colorbar": {
              "outlinewidth": 0,
              "ticks": ""
             }
            },
            "type": "scattergeo"
           }
          ],
          "scattergl": [
           {
            "marker": {
             "colorbar": {
              "outlinewidth": 0,
              "ticks": ""
             }
            },
            "type": "scattergl"
           }
          ],
          "scattermapbox": [
           {
            "marker": {
             "colorbar": {
              "outlinewidth": 0,
              "ticks": ""
             }
            },
            "type": "scattermapbox"
           }
          ],
          "scatterpolar": [
           {
            "marker": {
             "colorbar": {
              "outlinewidth": 0,
              "ticks": ""
             }
            },
            "type": "scatterpolar"
           }
          ],
          "scatterpolargl": [
           {
            "marker": {
             "colorbar": {
              "outlinewidth": 0,
              "ticks": ""
             }
            },
            "type": "scatterpolargl"
           }
          ],
          "scatterternary": [
           {
            "marker": {
             "colorbar": {
              "outlinewidth": 0,
              "ticks": ""
             }
            },
            "type": "scatterternary"
           }
          ],
          "surface": [
           {
            "colorbar": {
             "outlinewidth": 0,
             "ticks": ""
            },
            "colorscale": [
             [
              0,
              "#0d0887"
             ],
             [
              0.1111111111111111,
              "#46039f"
             ],
             [
              0.2222222222222222,
              "#7201a8"
             ],
             [
              0.3333333333333333,
              "#9c179e"
             ],
             [
              0.4444444444444444,
              "#bd3786"
             ],
             [
              0.5555555555555556,
              "#d8576b"
             ],
             [
              0.6666666666666666,
              "#ed7953"
             ],
             [
              0.7777777777777778,
              "#fb9f3a"
             ],
             [
              0.8888888888888888,
              "#fdca26"
             ],
             [
              1,
              "#f0f921"
             ]
            ],
            "type": "surface"
           }
          ],
          "table": [
           {
            "cells": {
             "fill": {
              "color": "#EBF0F8"
             },
             "line": {
              "color": "white"
             }
            },
            "header": {
             "fill": {
              "color": "#C8D4E3"
             },
             "line": {
              "color": "white"
             }
            },
            "type": "table"
           }
          ]
         },
         "layout": {
          "annotationdefaults": {
           "arrowcolor": "#2a3f5f",
           "arrowhead": 0,
           "arrowwidth": 1
          },
          "autotypenumbers": "strict",
          "coloraxis": {
           "colorbar": {
            "outlinewidth": 0,
            "ticks": ""
           }
          },
          "colorscale": {
           "diverging": [
            [
             0,
             "#8e0152"
            ],
            [
             0.1,
             "#c51b7d"
            ],
            [
             0.2,
             "#de77ae"
            ],
            [
             0.3,
             "#f1b6da"
            ],
            [
             0.4,
             "#fde0ef"
            ],
            [
             0.5,
             "#f7f7f7"
            ],
            [
             0.6,
             "#e6f5d0"
            ],
            [
             0.7,
             "#b8e186"
            ],
            [
             0.8,
             "#7fbc41"
            ],
            [
             0.9,
             "#4d9221"
            ],
            [
             1,
             "#276419"
            ]
           ],
           "sequential": [
            [
             0,
             "#0d0887"
            ],
            [
             0.1111111111111111,
             "#46039f"
            ],
            [
             0.2222222222222222,
             "#7201a8"
            ],
            [
             0.3333333333333333,
             "#9c179e"
            ],
            [
             0.4444444444444444,
             "#bd3786"
            ],
            [
             0.5555555555555556,
             "#d8576b"
            ],
            [
             0.6666666666666666,
             "#ed7953"
            ],
            [
             0.7777777777777778,
             "#fb9f3a"
            ],
            [
             0.8888888888888888,
             "#fdca26"
            ],
            [
             1,
             "#f0f921"
            ]
           ],
           "sequentialminus": [
            [
             0,
             "#0d0887"
            ],
            [
             0.1111111111111111,
             "#46039f"
            ],
            [
             0.2222222222222222,
             "#7201a8"
            ],
            [
             0.3333333333333333,
             "#9c179e"
            ],
            [
             0.4444444444444444,
             "#bd3786"
            ],
            [
             0.5555555555555556,
             "#d8576b"
            ],
            [
             0.6666666666666666,
             "#ed7953"
            ],
            [
             0.7777777777777778,
             "#fb9f3a"
            ],
            [
             0.8888888888888888,
             "#fdca26"
            ],
            [
             1,
             "#f0f921"
            ]
           ]
          },
          "colorway": [
           "#636efa",
           "#EF553B",
           "#00cc96",
           "#ab63fa",
           "#FFA15A",
           "#19d3f3",
           "#FF6692",
           "#B6E880",
           "#FF97FF",
           "#FECB52"
          ],
          "font": {
           "color": "#2a3f5f"
          },
          "geo": {
           "bgcolor": "white",
           "lakecolor": "white",
           "landcolor": "#E5ECF6",
           "showlakes": true,
           "showland": true,
           "subunitcolor": "white"
          },
          "hoverlabel": {
           "align": "left"
          },
          "hovermode": "closest",
          "mapbox": {
           "style": "light"
          },
          "paper_bgcolor": "white",
          "plot_bgcolor": "#E5ECF6",
          "polar": {
           "angularaxis": {
            "gridcolor": "white",
            "linecolor": "white",
            "ticks": ""
           },
           "bgcolor": "#E5ECF6",
           "radialaxis": {
            "gridcolor": "white",
            "linecolor": "white",
            "ticks": ""
           }
          },
          "scene": {
           "xaxis": {
            "backgroundcolor": "#E5ECF6",
            "gridcolor": "white",
            "gridwidth": 2,
            "linecolor": "white",
            "showbackground": true,
            "ticks": "",
            "zerolinecolor": "white"
           },
           "yaxis": {
            "backgroundcolor": "#E5ECF6",
            "gridcolor": "white",
            "gridwidth": 2,
            "linecolor": "white",
            "showbackground": true,
            "ticks": "",
            "zerolinecolor": "white"
           },
           "zaxis": {
            "backgroundcolor": "#E5ECF6",
            "gridcolor": "white",
            "gridwidth": 2,
            "linecolor": "white",
            "showbackground": true,
            "ticks": "",
            "zerolinecolor": "white"
           }
          },
          "shapedefaults": {
           "line": {
            "color": "#2a3f5f"
           }
          },
          "ternary": {
           "aaxis": {
            "gridcolor": "white",
            "linecolor": "white",
            "ticks": ""
           },
           "baxis": {
            "gridcolor": "white",
            "linecolor": "white",
            "ticks": ""
           },
           "bgcolor": "#E5ECF6",
           "caxis": {
            "gridcolor": "white",
            "linecolor": "white",
            "ticks": ""
           }
          },
          "title": {
           "x": 0.05
          },
          "xaxis": {
           "automargin": true,
           "gridcolor": "white",
           "linecolor": "white",
           "ticks": "",
           "title": {
            "standoff": 15
           },
           "zerolinecolor": "white",
           "zerolinewidth": 2
          },
          "yaxis": {
           "automargin": true,
           "gridcolor": "white",
           "linecolor": "white",
           "ticks": "",
           "title": {
            "standoff": 15
           },
           "zerolinecolor": "white",
           "zerolinewidth": 2
          }
         }
        },
        "updatemenus": [
         {
          "buttons": [
           {
            "args": [
             null,
             {
              "frame": {
               "duration": 1500,
               "redraw": true
              },
              "fromcurrent": true,
              "mode": "immediate",
              "transition": {
               "duration": 500,
               "easing": "linear"
              }
             }
            ],
            "label": "&#9654;",
            "method": "animate"
           },
           {
            "args": [
             [
              null
             ],
             {
              "frame": {
               "duration": 0,
               "redraw": true
              },
              "fromcurrent": true,
              "mode": "immediate",
              "transition": {
               "duration": 0,
               "easing": "linear"
              }
             }
            ],
            "label": "&#9724;",
            "method": "animate"
           }
          ],
          "direction": "left",
          "pad": {
           "r": 10,
           "t": 70
          },
          "showactive": false,
          "type": "buttons",
          "x": 0.1,
          "xanchor": "right",
          "y": 0,
          "yanchor": "top"
         }
        ],
        "xaxis": {
         "anchor": "y",
         "domain": [
          0,
          1
         ],
         "range": [
          0,
          100
         ],
         "title": {
          "text": "Meta Score"
         }
        },
        "yaxis": {
         "anchor": "x",
         "domain": [
          0,
          1
         ],
         "title": {
          "font": {
           "color": "white"
          },
          "text": "Name"
         }
        }
       }
      },
      "text/html": [
       "<div>                            <div id=\"b7611f6f-2015-4cf9-99dd-6da863091844\" class=\"plotly-graph-div\" style=\"height:525px; width:100%;\"></div>            <script type=\"text/javascript\">                require([\"plotly\"], function(Plotly) {                    window.PLOTLYENV=window.PLOTLYENV || {};                                    if (document.getElementById(\"b7611f6f-2015-4cf9-99dd-6da863091844\")) {                    Plotly.newPlot(                        \"b7611f6f-2015-4cf9-99dd-6da863091844\",                        [{\"alignmentgroup\":\"True\",\"hovertemplate\":\"Year=1980<br>Meta Score=%{x}<br>Name=%{y}<br>User Score=%{marker.color}<extra></extra>\",\"legendgroup\":\"\",\"marker\":{\"color\":[62.6,53.0,51.0,63.0,72.0,67.0,70.0,72.0,72.0,85.0],\"coloraxis\":\"coloraxis\",\"pattern\":{\"shape\":\"\"}},\"name\":\"\",\"offsetgroup\":\"\",\"orientation\":\"h\",\"showlegend\":false,\"textposition\":\"auto\",\"x\":[60.6,61.0,62.0,63.0,65.0,65.0,68.0,74.0,76.0,83.5],\"xaxis\":\"x\",\"y\":[\"Defender\",\"Frogger\",\"Pac-Man\",\"Missile Command\",\"Ms. Pac-Man\",\"Dig Dug\",\"Joust\",\"Bomberman\",\"Lode Runner\",\"Spider-Man\"],\"yaxis\":\"y\",\"type\":\"bar\"}],                        {\"template\":{\"data\":{\"histogram2dcontour\":[{\"type\":\"histogram2dcontour\",\"colorbar\":{\"outlinewidth\":0,\"ticks\":\"\"},\"colorscale\":[[0.0,\"#0d0887\"],[0.1111111111111111,\"#46039f\"],[0.2222222222222222,\"#7201a8\"],[0.3333333333333333,\"#9c179e\"],[0.4444444444444444,\"#bd3786\"],[0.5555555555555556,\"#d8576b\"],[0.6666666666666666,\"#ed7953\"],[0.7777777777777778,\"#fb9f3a\"],[0.8888888888888888,\"#fdca26\"],[1.0,\"#f0f921\"]]}],\"choropleth\":[{\"type\":\"choropleth\",\"colorbar\":{\"outlinewidth\":0,\"ticks\":\"\"}}],\"histogram2d\":[{\"type\":\"histogram2d\",\"colorbar\":{\"outlinewidth\":0,\"ticks\":\"\"},\"colorscale\":[[0.0,\"#0d0887\"],[0.1111111111111111,\"#46039f\"],[0.2222222222222222,\"#7201a8\"],[0.3333333333333333,\"#9c179e\"],[0.4444444444444444,\"#bd3786\"],[0.5555555555555556,\"#d8576b\"],[0.6666666666666666,\"#ed7953\"],[0.7777777777777778,\"#fb9f3a\"],[0.8888888888888888,\"#fdca26\"],[1.0,\"#f0f921\"]]}],\"heatmap\":[{\"type\":\"heatmap\",\"colorbar\":{\"outlinewidth\":0,\"ticks\":\"\"},\"colorscale\":[[0.0,\"#0d0887\"],[0.1111111111111111,\"#46039f\"],[0.2222222222222222,\"#7201a8\"],[0.3333333333333333,\"#9c179e\"],[0.4444444444444444,\"#bd3786\"],[0.5555555555555556,\"#d8576b\"],[0.6666666666666666,\"#ed7953\"],[0.7777777777777778,\"#fb9f3a\"],[0.8888888888888888,\"#fdca26\"],[1.0,\"#f0f921\"]]}],\"heatmapgl\":[{\"type\":\"heatmapgl\",\"colorbar\":{\"outlinewidth\":0,\"ticks\":\"\"},\"colorscale\":[[0.0,\"#0d0887\"],[0.1111111111111111,\"#46039f\"],[0.2222222222222222,\"#7201a8\"],[0.3333333333333333,\"#9c179e\"],[0.4444444444444444,\"#bd3786\"],[0.5555555555555556,\"#d8576b\"],[0.6666666666666666,\"#ed7953\"],[0.7777777777777778,\"#fb9f3a\"],[0.8888888888888888,\"#fdca26\"],[1.0,\"#f0f921\"]]}],\"contourcarpet\":[{\"type\":\"contourcarpet\",\"colorbar\":{\"outlinewidth\":0,\"ticks\":\"\"}}],\"contour\":[{\"type\":\"contour\",\"colorbar\":{\"outlinewidth\":0,\"ticks\":\"\"},\"colorscale\":[[0.0,\"#0d0887\"],[0.1111111111111111,\"#46039f\"],[0.2222222222222222,\"#7201a8\"],[0.3333333333333333,\"#9c179e\"],[0.4444444444444444,\"#bd3786\"],[0.5555555555555556,\"#d8576b\"],[0.6666666666666666,\"#ed7953\"],[0.7777777777777778,\"#fb9f3a\"],[0.8888888888888888,\"#fdca26\"],[1.0,\"#f0f921\"]]}],\"surface\":[{\"type\":\"surface\",\"colorbar\":{\"outlinewidth\":0,\"ticks\":\"\"},\"colorscale\":[[0.0,\"#0d0887\"],[0.1111111111111111,\"#46039f\"],[0.2222222222222222,\"#7201a8\"],[0.3333333333333333,\"#9c179e\"],[0.4444444444444444,\"#bd3786\"],[0.5555555555555556,\"#d8576b\"],[0.6666666666666666,\"#ed7953\"],[0.7777777777777778,\"#fb9f3a\"],[0.8888888888888888,\"#fdca26\"],[1.0,\"#f0f921\"]]}],\"mesh3d\":[{\"type\":\"mesh3d\",\"colorbar\":{\"outlinewidth\":0,\"ticks\":\"\"}}],\"scatter\":[{\"fillpattern\":{\"fillmode\":\"overlay\",\"size\":10,\"solidity\":0.2},\"type\":\"scatter\"}],\"parcoords\":[{\"type\":\"parcoords\",\"line\":{\"colorbar\":{\"outlinewidth\":0,\"ticks\":\"\"}}}],\"scatterpolargl\":[{\"type\":\"scatterpolargl\",\"marker\":{\"colorbar\":{\"outlinewidth\":0,\"ticks\":\"\"}}}],\"bar\":[{\"error_x\":{\"color\":\"#2a3f5f\"},\"error_y\":{\"color\":\"#2a3f5f\"},\"marker\":{\"line\":{\"color\":\"#E5ECF6\",\"width\":0.5},\"pattern\":{\"fillmode\":\"overlay\",\"size\":10,\"solidity\":0.2}},\"type\":\"bar\"}],\"scattergeo\":[{\"type\":\"scattergeo\",\"marker\":{\"colorbar\":{\"outlinewidth\":0,\"ticks\":\"\"}}}],\"scatterpolar\":[{\"type\":\"scatterpolar\",\"marker\":{\"colorbar\":{\"outlinewidth\":0,\"ticks\":\"\"}}}],\"histogram\":[{\"marker\":{\"pattern\":{\"fillmode\":\"overlay\",\"size\":10,\"solidity\":0.2}},\"type\":\"histogram\"}],\"scattergl\":[{\"type\":\"scattergl\",\"marker\":{\"colorbar\":{\"outlinewidth\":0,\"ticks\":\"\"}}}],\"scatter3d\":[{\"type\":\"scatter3d\",\"line\":{\"colorbar\":{\"outlinewidth\":0,\"ticks\":\"\"}},\"marker\":{\"colorbar\":{\"outlinewidth\":0,\"ticks\":\"\"}}}],\"scattermapbox\":[{\"type\":\"scattermapbox\",\"marker\":{\"colorbar\":{\"outlinewidth\":0,\"ticks\":\"\"}}}],\"scatterternary\":[{\"type\":\"scatterternary\",\"marker\":{\"colorbar\":{\"outlinewidth\":0,\"ticks\":\"\"}}}],\"scattercarpet\":[{\"type\":\"scattercarpet\",\"marker\":{\"colorbar\":{\"outlinewidth\":0,\"ticks\":\"\"}}}],\"carpet\":[{\"aaxis\":{\"endlinecolor\":\"#2a3f5f\",\"gridcolor\":\"white\",\"linecolor\":\"white\",\"minorgridcolor\":\"white\",\"startlinecolor\":\"#2a3f5f\"},\"baxis\":{\"endlinecolor\":\"#2a3f5f\",\"gridcolor\":\"white\",\"linecolor\":\"white\",\"minorgridcolor\":\"white\",\"startlinecolor\":\"#2a3f5f\"},\"type\":\"carpet\"}],\"table\":[{\"cells\":{\"fill\":{\"color\":\"#EBF0F8\"},\"line\":{\"color\":\"white\"}},\"header\":{\"fill\":{\"color\":\"#C8D4E3\"},\"line\":{\"color\":\"white\"}},\"type\":\"table\"}],\"barpolar\":[{\"marker\":{\"line\":{\"color\":\"#E5ECF6\",\"width\":0.5},\"pattern\":{\"fillmode\":\"overlay\",\"size\":10,\"solidity\":0.2}},\"type\":\"barpolar\"}],\"pie\":[{\"automargin\":true,\"type\":\"pie\"}]},\"layout\":{\"autotypenumbers\":\"strict\",\"colorway\":[\"#636efa\",\"#EF553B\",\"#00cc96\",\"#ab63fa\",\"#FFA15A\",\"#19d3f3\",\"#FF6692\",\"#B6E880\",\"#FF97FF\",\"#FECB52\"],\"font\":{\"color\":\"#2a3f5f\"},\"hovermode\":\"closest\",\"hoverlabel\":{\"align\":\"left\"},\"paper_bgcolor\":\"white\",\"plot_bgcolor\":\"#E5ECF6\",\"polar\":{\"bgcolor\":\"#E5ECF6\",\"angularaxis\":{\"gridcolor\":\"white\",\"linecolor\":\"white\",\"ticks\":\"\"},\"radialaxis\":{\"gridcolor\":\"white\",\"linecolor\":\"white\",\"ticks\":\"\"}},\"ternary\":{\"bgcolor\":\"#E5ECF6\",\"aaxis\":{\"gridcolor\":\"white\",\"linecolor\":\"white\",\"ticks\":\"\"},\"baxis\":{\"gridcolor\":\"white\",\"linecolor\":\"white\",\"ticks\":\"\"},\"caxis\":{\"gridcolor\":\"white\",\"linecolor\":\"white\",\"ticks\":\"\"}},\"coloraxis\":{\"colorbar\":{\"outlinewidth\":0,\"ticks\":\"\"}},\"colorscale\":{\"sequential\":[[0.0,\"#0d0887\"],[0.1111111111111111,\"#46039f\"],[0.2222222222222222,\"#7201a8\"],[0.3333333333333333,\"#9c179e\"],[0.4444444444444444,\"#bd3786\"],[0.5555555555555556,\"#d8576b\"],[0.6666666666666666,\"#ed7953\"],[0.7777777777777778,\"#fb9f3a\"],[0.8888888888888888,\"#fdca26\"],[1.0,\"#f0f921\"]],\"sequentialminus\":[[0.0,\"#0d0887\"],[0.1111111111111111,\"#46039f\"],[0.2222222222222222,\"#7201a8\"],[0.3333333333333333,\"#9c179e\"],[0.4444444444444444,\"#bd3786\"],[0.5555555555555556,\"#d8576b\"],[0.6666666666666666,\"#ed7953\"],[0.7777777777777778,\"#fb9f3a\"],[0.8888888888888888,\"#fdca26\"],[1.0,\"#f0f921\"]],\"diverging\":[[0,\"#8e0152\"],[0.1,\"#c51b7d\"],[0.2,\"#de77ae\"],[0.3,\"#f1b6da\"],[0.4,\"#fde0ef\"],[0.5,\"#f7f7f7\"],[0.6,\"#e6f5d0\"],[0.7,\"#b8e186\"],[0.8,\"#7fbc41\"],[0.9,\"#4d9221\"],[1,\"#276419\"]]},\"xaxis\":{\"gridcolor\":\"white\",\"linecolor\":\"white\",\"ticks\":\"\",\"title\":{\"standoff\":15},\"zerolinecolor\":\"white\",\"automargin\":true,\"zerolinewidth\":2},\"yaxis\":{\"gridcolor\":\"white\",\"linecolor\":\"white\",\"ticks\":\"\",\"title\":{\"standoff\":15},\"zerolinecolor\":\"white\",\"automargin\":true,\"zerolinewidth\":2},\"scene\":{\"xaxis\":{\"backgroundcolor\":\"#E5ECF6\",\"gridcolor\":\"white\",\"linecolor\":\"white\",\"showbackground\":true,\"ticks\":\"\",\"zerolinecolor\":\"white\",\"gridwidth\":2},\"yaxis\":{\"backgroundcolor\":\"#E5ECF6\",\"gridcolor\":\"white\",\"linecolor\":\"white\",\"showbackground\":true,\"ticks\":\"\",\"zerolinecolor\":\"white\",\"gridwidth\":2},\"zaxis\":{\"backgroundcolor\":\"#E5ECF6\",\"gridcolor\":\"white\",\"linecolor\":\"white\",\"showbackground\":true,\"ticks\":\"\",\"zerolinecolor\":\"white\",\"gridwidth\":2}},\"shapedefaults\":{\"line\":{\"color\":\"#2a3f5f\"}},\"annotationdefaults\":{\"arrowcolor\":\"#2a3f5f\",\"arrowhead\":0,\"arrowwidth\":1},\"geo\":{\"bgcolor\":\"white\",\"landcolor\":\"#E5ECF6\",\"subunitcolor\":\"white\",\"showland\":true,\"showlakes\":true,\"lakecolor\":\"white\"},\"title\":{\"x\":0.05},\"mapbox\":{\"style\":\"light\"}}},\"xaxis\":{\"anchor\":\"y\",\"domain\":[0.0,1.0],\"title\":{\"text\":\"Meta Score\"},\"range\":[0,100]},\"yaxis\":{\"anchor\":\"x\",\"domain\":[0.0,1.0],\"title\":{\"text\":\"Name\",\"font\":{\"color\":\"white\"}}},\"coloraxis\":{\"colorbar\":{\"title\":{\"text\":\"User Score\"}},\"colorscale\":[[0.0,\"red\"],[0.5,\"yellow\"],[1.0,\"green\"]],\"cmin\":0,\"cmax\":100},\"legend\":{\"tracegroupgap\":0},\"margin\":{\"t\":60,\"l\":400},\"barmode\":\"relative\",\"updatemenus\":[{\"buttons\":[{\"args\":[null,{\"frame\":{\"duration\":1500,\"redraw\":true},\"mode\":\"immediate\",\"fromcurrent\":true,\"transition\":{\"duration\":500,\"easing\":\"linear\"}}],\"label\":\"&#9654;\",\"method\":\"animate\"},{\"args\":[[null],{\"frame\":{\"duration\":0,\"redraw\":true},\"mode\":\"immediate\",\"fromcurrent\":true,\"transition\":{\"duration\":0,\"easing\":\"linear\"}}],\"label\":\"&#9724;\",\"method\":\"animate\"}],\"direction\":\"left\",\"pad\":{\"r\":10,\"t\":70},\"showactive\":false,\"type\":\"buttons\",\"x\":0.1,\"xanchor\":\"right\",\"y\":0,\"yanchor\":\"top\"}],\"sliders\":[{\"active\":0,\"currentvalue\":{\"prefix\":\"Year=\"},\"len\":0.9,\"pad\":{\"b\":10,\"t\":60},\"steps\":[{\"args\":[[\"1980\"],{\"frame\":{\"duration\":0,\"redraw\":true},\"mode\":\"immediate\",\"fromcurrent\":true,\"transition\":{\"duration\":0,\"easing\":\"linear\"}}],\"label\":\"1980\",\"method\":\"animate\"},{\"args\":[[\"1981\"],{\"frame\":{\"duration\":0,\"redraw\":true},\"mode\":\"immediate\",\"fromcurrent\":true,\"transition\":{\"duration\":0,\"easing\":\"linear\"}}],\"label\":\"1981\",\"method\":\"animate\"},{\"args\":[[\"1982\"],{\"frame\":{\"duration\":0,\"redraw\":true},\"mode\":\"immediate\",\"fromcurrent\":true,\"transition\":{\"duration\":0,\"easing\":\"linear\"}}],\"label\":\"1982\",\"method\":\"animate\"},{\"args\":[[\"1983\"],{\"frame\":{\"duration\":0,\"redraw\":true},\"mode\":\"immediate\",\"fromcurrent\":true,\"transition\":{\"duration\":0,\"easing\":\"linear\"}}],\"label\":\"1983\",\"method\":\"animate\"},{\"args\":[[\"1984\"],{\"frame\":{\"duration\":0,\"redraw\":true},\"mode\":\"immediate\",\"fromcurrent\":true,\"transition\":{\"duration\":0,\"easing\":\"linear\"}}],\"label\":\"1984\",\"method\":\"animate\"},{\"args\":[[\"1985\"],{\"frame\":{\"duration\":0,\"redraw\":true},\"mode\":\"immediate\",\"fromcurrent\":true,\"transition\":{\"duration\":0,\"easing\":\"linear\"}}],\"label\":\"1985\",\"method\":\"animate\"},{\"args\":[[\"1986\"],{\"frame\":{\"duration\":0,\"redraw\":true},\"mode\":\"immediate\",\"fromcurrent\":true,\"transition\":{\"duration\":0,\"easing\":\"linear\"}}],\"label\":\"1986\",\"method\":\"animate\"},{\"args\":[[\"1987\"],{\"frame\":{\"duration\":0,\"redraw\":true},\"mode\":\"immediate\",\"fromcurrent\":true,\"transition\":{\"duration\":0,\"easing\":\"linear\"}}],\"label\":\"1987\",\"method\":\"animate\"},{\"args\":[[\"1988\"],{\"frame\":{\"duration\":0,\"redraw\":true},\"mode\":\"immediate\",\"fromcurrent\":true,\"transition\":{\"duration\":0,\"easing\":\"linear\"}}],\"label\":\"1988\",\"method\":\"animate\"},{\"args\":[[\"1989\"],{\"frame\":{\"duration\":0,\"redraw\":true},\"mode\":\"immediate\",\"fromcurrent\":true,\"transition\":{\"duration\":0,\"easing\":\"linear\"}}],\"label\":\"1989\",\"method\":\"animate\"},{\"args\":[[\"1990\"],{\"frame\":{\"duration\":0,\"redraw\":true},\"mode\":\"immediate\",\"fromcurrent\":true,\"transition\":{\"duration\":0,\"easing\":\"linear\"}}],\"label\":\"1990\",\"method\":\"animate\"},{\"args\":[[\"1991\"],{\"frame\":{\"duration\":0,\"redraw\":true},\"mode\":\"immediate\",\"fromcurrent\":true,\"transition\":{\"duration\":0,\"easing\":\"linear\"}}],\"label\":\"1991\",\"method\":\"animate\"},{\"args\":[[\"1992\"],{\"frame\":{\"duration\":0,\"redraw\":true},\"mode\":\"immediate\",\"fromcurrent\":true,\"transition\":{\"duration\":0,\"easing\":\"linear\"}}],\"label\":\"1992\",\"method\":\"animate\"},{\"args\":[[\"1993\"],{\"frame\":{\"duration\":0,\"redraw\":true},\"mode\":\"immediate\",\"fromcurrent\":true,\"transition\":{\"duration\":0,\"easing\":\"linear\"}}],\"label\":\"1993\",\"method\":\"animate\"},{\"args\":[[\"1994\"],{\"frame\":{\"duration\":0,\"redraw\":true},\"mode\":\"immediate\",\"fromcurrent\":true,\"transition\":{\"duration\":0,\"easing\":\"linear\"}}],\"label\":\"1994\",\"method\":\"animate\"},{\"args\":[[\"1995\"],{\"frame\":{\"duration\":0,\"redraw\":true},\"mode\":\"immediate\",\"fromcurrent\":true,\"transition\":{\"duration\":0,\"easing\":\"linear\"}}],\"label\":\"1995\",\"method\":\"animate\"},{\"args\":[[\"1996\"],{\"frame\":{\"duration\":0,\"redraw\":true},\"mode\":\"immediate\",\"fromcurrent\":true,\"transition\":{\"duration\":0,\"easing\":\"linear\"}}],\"label\":\"1996\",\"method\":\"animate\"},{\"args\":[[\"1997\"],{\"frame\":{\"duration\":0,\"redraw\":true},\"mode\":\"immediate\",\"fromcurrent\":true,\"transition\":{\"duration\":0,\"easing\":\"linear\"}}],\"label\":\"1997\",\"method\":\"animate\"},{\"args\":[[\"1998\"],{\"frame\":{\"duration\":0,\"redraw\":true},\"mode\":\"immediate\",\"fromcurrent\":true,\"transition\":{\"duration\":0,\"easing\":\"linear\"}}],\"label\":\"1998\",\"method\":\"animate\"},{\"args\":[[\"1999\"],{\"frame\":{\"duration\":0,\"redraw\":true},\"mode\":\"immediate\",\"fromcurrent\":true,\"transition\":{\"duration\":0,\"easing\":\"linear\"}}],\"label\":\"1999\",\"method\":\"animate\"},{\"args\":[[\"2000\"],{\"frame\":{\"duration\":0,\"redraw\":true},\"mode\":\"immediate\",\"fromcurrent\":true,\"transition\":{\"duration\":0,\"easing\":\"linear\"}}],\"label\":\"2000\",\"method\":\"animate\"},{\"args\":[[\"2001\"],{\"frame\":{\"duration\":0,\"redraw\":true},\"mode\":\"immediate\",\"fromcurrent\":true,\"transition\":{\"duration\":0,\"easing\":\"linear\"}}],\"label\":\"2001\",\"method\":\"animate\"},{\"args\":[[\"2002\"],{\"frame\":{\"duration\":0,\"redraw\":true},\"mode\":\"immediate\",\"fromcurrent\":true,\"transition\":{\"duration\":0,\"easing\":\"linear\"}}],\"label\":\"2002\",\"method\":\"animate\"},{\"args\":[[\"2003\"],{\"frame\":{\"duration\":0,\"redraw\":true},\"mode\":\"immediate\",\"fromcurrent\":true,\"transition\":{\"duration\":0,\"easing\":\"linear\"}}],\"label\":\"2003\",\"method\":\"animate\"},{\"args\":[[\"2004\"],{\"frame\":{\"duration\":0,\"redraw\":true},\"mode\":\"immediate\",\"fromcurrent\":true,\"transition\":{\"duration\":0,\"easing\":\"linear\"}}],\"label\":\"2004\",\"method\":\"animate\"},{\"args\":[[\"2005\"],{\"frame\":{\"duration\":0,\"redraw\":true},\"mode\":\"immediate\",\"fromcurrent\":true,\"transition\":{\"duration\":0,\"easing\":\"linear\"}}],\"label\":\"2005\",\"method\":\"animate\"},{\"args\":[[\"2006\"],{\"frame\":{\"duration\":0,\"redraw\":true},\"mode\":\"immediate\",\"fromcurrent\":true,\"transition\":{\"duration\":0,\"easing\":\"linear\"}}],\"label\":\"2006\",\"method\":\"animate\"},{\"args\":[[\"2007\"],{\"frame\":{\"duration\":0,\"redraw\":true},\"mode\":\"immediate\",\"fromcurrent\":true,\"transition\":{\"duration\":0,\"easing\":\"linear\"}}],\"label\":\"2007\",\"method\":\"animate\"},{\"args\":[[\"2008\"],{\"frame\":{\"duration\":0,\"redraw\":true},\"mode\":\"immediate\",\"fromcurrent\":true,\"transition\":{\"duration\":0,\"easing\":\"linear\"}}],\"label\":\"2008\",\"method\":\"animate\"},{\"args\":[[\"2009\"],{\"frame\":{\"duration\":0,\"redraw\":true},\"mode\":\"immediate\",\"fromcurrent\":true,\"transition\":{\"duration\":0,\"easing\":\"linear\"}}],\"label\":\"2009\",\"method\":\"animate\"},{\"args\":[[\"2010\"],{\"frame\":{\"duration\":0,\"redraw\":true},\"mode\":\"immediate\",\"fromcurrent\":true,\"transition\":{\"duration\":0,\"easing\":\"linear\"}}],\"label\":\"2010\",\"method\":\"animate\"},{\"args\":[[\"2011\"],{\"frame\":{\"duration\":0,\"redraw\":true},\"mode\":\"immediate\",\"fromcurrent\":true,\"transition\":{\"duration\":0,\"easing\":\"linear\"}}],\"label\":\"2011\",\"method\":\"animate\"},{\"args\":[[\"2012\"],{\"frame\":{\"duration\":0,\"redraw\":true},\"mode\":\"immediate\",\"fromcurrent\":true,\"transition\":{\"duration\":0,\"easing\":\"linear\"}}],\"label\":\"2012\",\"method\":\"animate\"},{\"args\":[[\"2013\"],{\"frame\":{\"duration\":0,\"redraw\":true},\"mode\":\"immediate\",\"fromcurrent\":true,\"transition\":{\"duration\":0,\"easing\":\"linear\"}}],\"label\":\"2013\",\"method\":\"animate\"},{\"args\":[[\"2014\"],{\"frame\":{\"duration\":0,\"redraw\":true},\"mode\":\"immediate\",\"fromcurrent\":true,\"transition\":{\"duration\":0,\"easing\":\"linear\"}}],\"label\":\"2014\",\"method\":\"animate\"}],\"x\":0.1,\"xanchor\":\"left\",\"y\":0,\"yanchor\":\"top\"}]},                        {\"responsive\": true}                    ).then(function(){\n",
       "                            Plotly.addFrames('b7611f6f-2015-4cf9-99dd-6da863091844', [{\"data\":[{\"alignmentgroup\":\"True\",\"hovertemplate\":\"Year=1980<br>Meta Score=%{x}<br>Name=%{y}<br>User Score=%{marker.color}<extra></extra>\",\"legendgroup\":\"\",\"marker\":{\"color\":[62.6,53.0,51.0,63.0,72.0,67.0,70.0,72.0,72.0,85.0],\"coloraxis\":\"coloraxis\",\"pattern\":{\"shape\":\"\"}},\"name\":\"\",\"offsetgroup\":\"\",\"orientation\":\"h\",\"showlegend\":false,\"textposition\":\"auto\",\"x\":[60.6,61.0,62.0,63.0,65.0,65.0,68.0,74.0,76.0,83.5],\"xaxis\":\"x\",\"y\":[\"Defender\",\"Frogger\",\"Pac-Man\",\"Missile Command\",\"Ms. Pac-Man\",\"Dig Dug\",\"Joust\",\"Bomberman\",\"Lode Runner\",\"Spider-Man\"],\"yaxis\":\"y\",\"type\":\"bar\"}],\"name\":\"1980\"},{\"data\":[{\"alignmentgroup\":\"True\",\"hovertemplate\":\"Year=1981<br>Meta Score=%{x}<br>Name=%{y}<br>User Score=%{marker.color}<extra></extra>\",\"legendgroup\":\"\",\"marker\":{\"color\":[53.0,51.0,64.0,72.0,67.0,70.0,72.0,72.0,73.0,85.0],\"coloraxis\":\"coloraxis\",\"pattern\":{\"shape\":\"\"}},\"name\":\"\",\"offsetgroup\":\"\",\"orientation\":\"h\",\"showlegend\":false,\"textposition\":\"auto\",\"x\":[61.0,62.0,64.0,65.0,65.0,68.0,74.0,76.0,78.0,83.5],\"xaxis\":\"x\",\"y\":[\"Frogger\",\"Pac-Man\",\"Star Soldier\",\"Ms. Pac-Man\",\"Dig Dug\",\"Joust\",\"Bomberman\",\"Lode Runner\",\"Castlevania\",\"Spider-Man\"],\"yaxis\":\"y\",\"type\":\"bar\"}],\"name\":\"1981\"},{\"data\":[{\"alignmentgroup\":\"True\",\"hovertemplate\":\"Year=1982<br>Meta Score=%{x}<br>Name=%{y}<br>User Score=%{marker.color}<extra></extra>\",\"legendgroup\":\"\",\"marker\":{\"color\":[50.0,55.0,51.0,64.0,67.0,87.0,70.0,72.0,72.0,73.0],\"coloraxis\":\"coloraxis\",\"pattern\":{\"shape\":\"\"}},\"name\":\"\",\"offsetgroup\":\"\",\"orientation\":\"h\",\"showlegend\":false,\"textposition\":\"auto\",\"x\":[50.0,55.0,62.0,64.0,65.0,67.0,68.0,74.0,76.0,78.0],\"xaxis\":\"x\",\"y\":[\"Battlezone\",\"Yars' Revenge\",\"Pac-Man\",\"Star Soldier\",\"Dig Dug\",\"Final Fantasy\",\"Joust\",\"Bomberman\",\"Lode Runner\",\"Castlevania\"],\"yaxis\":\"y\",\"type\":\"bar\"}],\"name\":\"1982\"},{\"data\":[{\"alignmentgroup\":\"True\",\"hovertemplate\":\"Year=1983<br>Meta Score=%{x}<br>Name=%{y}<br>User Score=%{marker.color}<extra></extra>\",\"legendgroup\":\"\",\"marker\":{\"color\":[68.0,64.0,22.0,87.0,72.0,72.0,73.0,75.0],\"coloraxis\":\"coloraxis\",\"pattern\":{\"shape\":\"\"}},\"name\":\"\",\"offsetgroup\":\"\",\"orientation\":\"h\",\"showlegend\":false,\"textposition\":\"auto\",\"x\":[63.0,64.0,64.0,67.0,74.0,76.0,78.0,82.5],\"xaxis\":\"x\",\"y\":[\"Final Fantasy II\",\"Star Soldier\",\"SimCity\",\"Final Fantasy\",\"Bomberman\",\"Lode Runner\",\"Castlevania\",\"Tetris\"],\"yaxis\":\"y\",\"type\":\"bar\"}],\"name\":\"1983\"},{\"data\":[{\"alignmentgroup\":\"True\",\"hovertemplate\":\"Year=1984<br>Meta Score=%{x}<br>Name=%{y}<br>User Score=%{marker.color}<extra></extra>\",\"legendgroup\":\"\",\"marker\":{\"color\":[63.0,78.0,68.0,64.0,22.0,87.0,72.0,72.0,73.0,75.0],\"coloraxis\":\"coloraxis\",\"pattern\":{\"shape\":\"\"}},\"name\":\"\",\"offsetgroup\":\"\",\"orientation\":\"h\",\"showlegend\":false,\"textposition\":\"auto\",\"x\":[57.0,62.33,63.0,64.0,64.0,67.0,74.0,76.0,78.0,82.5],\"xaxis\":\"x\",\"y\":[\"Double Dragon\",\"Teenage Mutant Ninja Turtles\",\"Final Fantasy II\",\"Star Soldier\",\"SimCity\",\"Final Fantasy\",\"Bomberman\",\"Lode Runner\",\"Castlevania\",\"Tetris\"],\"yaxis\":\"y\",\"type\":\"bar\"}],\"name\":\"1984\"},{\"data\":[{\"alignmentgroup\":\"True\",\"hovertemplate\":\"Year=1985<br>Meta Score=%{x}<br>Name=%{y}<br>User Score=%{marker.color}<extra></extra>\",\"legendgroup\":\"\",\"marker\":{\"color\":[78.0,68.0,64.0,22.0,87.0,72.0,86.0,73.0,75.0,79.3],\"coloraxis\":\"coloraxis\",\"pattern\":{\"shape\":\"\"}},\"name\":\"\",\"offsetgroup\":\"\",\"orientation\":\"h\",\"showlegend\":false,\"textposition\":\"auto\",\"x\":[62.33,63.0,64.0,64.0,67.0,74.0,77.0,78.0,82.5,82.67],\"xaxis\":\"x\",\"y\":[\"Teenage Mutant Ninja Turtles\",\"Final Fantasy II\",\"Star Soldier\",\"SimCity\",\"Final Fantasy\",\"Bomberman\",\"Final Fantasy III\",\"Castlevania\",\"Tetris\",\"Streets of Rage\"],\"yaxis\":\"y\",\"type\":\"bar\"}],\"name\":\"1985\"},{\"data\":[{\"alignmentgroup\":\"True\",\"hovertemplate\":\"Year=1986<br>Meta Score=%{x}<br>Name=%{y}<br>User Score=%{marker.color}<extra></extra>\",\"legendgroup\":\"\",\"marker\":{\"color\":[68.0,64.0,22.0,87.0,86.0,73.0,73.0,75.0,79.3,90.0],\"coloraxis\":\"coloraxis\",\"pattern\":{\"shape\":\"\"}},\"name\":\"\",\"offsetgroup\":\"\",\"orientation\":\"h\",\"showlegend\":false,\"textposition\":\"auto\",\"x\":[63.0,64.0,64.0,67.0,77.0,78.0,78.0,82.5,82.67,95.0],\"xaxis\":\"x\",\"y\":[\"Final Fantasy II\",\"Star Soldier\",\"SimCity\",\"Final Fantasy\",\"Final Fantasy III\",\"Castlevania\",\"Super Ghouls 'n Ghosts\",\"Tetris\",\"Streets of Rage\",\"The Legend of Zelda: A Link to the Past\"],\"yaxis\":\"y\",\"type\":\"bar\"}],\"name\":\"1986\"},{\"data\":[{\"alignmentgroup\":\"True\",\"hovertemplate\":\"Year=1987<br>Meta Score=%{x}<br>Name=%{y}<br>User Score=%{marker.color}<extra></extra>\",\"legendgroup\":\"\",\"marker\":{\"color\":[69.5,75.0,86.0,73.0,87.0,78.0,75.0,79.3,82.0,90.0],\"coloraxis\":\"coloraxis\",\"pattern\":{\"shape\":\"\"}},\"name\":\"\",\"offsetgroup\":\"\",\"orientation\":\"h\",\"showlegend\":false,\"textposition\":\"auto\",\"x\":[74.5,75.0,77.0,78.0,81.0,82.0,82.5,82.67,84.5,95.0],\"xaxis\":\"x\",\"y\":[\"Syndicate\",\"NBA Jam\",\"Final Fantasy III\",\"Super Ghouls 'n Ghosts\",\"Doom\",\"Sonic the Hedgehog 2\",\"Tetris\",\"Streets of Rage\",\"Mortal Kombat\",\"The Legend of Zelda: A Link to the Past\"],\"yaxis\":\"y\",\"type\":\"bar\"}],\"name\":\"1987\"},{\"data\":[{\"alignmentgroup\":\"True\",\"hovertemplate\":\"Year=1988<br>Meta Score=%{x}<br>Name=%{y}<br>User Score=%{marker.color}<extra></extra>\",\"legendgroup\":\"\",\"marker\":{\"color\":[73.0,87.0,78.0,77.0,64.0,75.0,79.3,82.0,77.5,90.0],\"coloraxis\":\"coloraxis\",\"pattern\":{\"shape\":\"\"}},\"name\":\"\",\"offsetgroup\":\"\",\"orientation\":\"h\",\"showlegend\":false,\"textposition\":\"auto\",\"x\":[78.0,81.0,82.0,82.0,82.0,82.5,82.67,84.5,91.5,95.0],\"xaxis\":\"x\",\"y\":[\"Super Ghouls 'n Ghosts\",\"Doom\",\"Sonic the Hedgehog 2\",\"Sonic CD\",\"Super Mario All-Stars\",\"Tetris\",\"Streets of Rage\",\"Mortal Kombat\",\"Super Street Fighter II\",\"The Legend of Zelda: A Link to the Past\"],\"yaxis\":\"y\",\"type\":\"bar\"}],\"name\":\"1988\"},{\"data\":[{\"alignmentgroup\":\"True\",\"hovertemplate\":\"Year=1989<br>Meta Score=%{x}<br>Name=%{y}<br>User Score=%{marker.color}<extra></extra>\",\"legendgroup\":\"\",\"marker\":{\"color\":[87.0,78.0,77.0,64.0,79.3,82.0,85.0,81.0,77.5,90.0],\"coloraxis\":\"coloraxis\",\"pattern\":{\"shape\":\"\"}},\"name\":\"\",\"offsetgroup\":\"\",\"orientation\":\"h\",\"showlegend\":false,\"textposition\":\"auto\",\"x\":[81.0,82.0,82.0,82.0,82.67,84.5,86.0,88.0,91.5,95.0],\"xaxis\":\"x\",\"y\":[\"Doom\",\"Sonic the Hedgehog 2\",\"Sonic CD\",\"Super Mario All-Stars\",\"Streets of Rage\",\"Mortal Kombat\",\"Daytona USA\",\"Ridge Racer\",\"Super Street Fighter II\",\"The Legend of Zelda: A Link to the Past\"],\"yaxis\":\"y\",\"type\":\"bar\"}],\"name\":\"1989\"},{\"data\":[{\"alignmentgroup\":\"True\",\"hovertemplate\":\"Year=1990<br>Meta Score=%{x}<br>Name=%{y}<br>User Score=%{marker.color}<extra></extra>\",\"legendgroup\":\"\",\"marker\":{\"color\":[78.0,79.3,81.0,83.0,82.0,85.0,81.0,77.5,91.0,90.0],\"coloraxis\":\"coloraxis\",\"pattern\":{\"shape\":\"\"}},\"name\":\"\",\"offsetgroup\":\"\",\"orientation\":\"h\",\"showlegend\":false,\"textposition\":\"auto\",\"x\":[82.0,82.67,83.0,84.0,84.5,86.0,88.0,91.5,92.0,95.0],\"xaxis\":\"x\",\"y\":[\"Sonic the Hedgehog 2\",\"Streets of Rage\",\"Guardian Heroes\",\"Warhawk\",\"Mortal Kombat\",\"Daytona USA\",\"Ridge Racer\",\"Super Street Fighter II\",\"Chrono Trigger\",\"The Legend of Zelda: A Link to the Past\"],\"yaxis\":\"y\",\"type\":\"bar\"}],\"name\":\"1990\"},{\"data\":[{\"alignmentgroup\":\"True\",\"hovertemplate\":\"Year=1991<br>Meta Score=%{x}<br>Name=%{y}<br>User Score=%{marker.color}<extra></extra>\",\"legendgroup\":\"\",\"marker\":{\"color\":[81.0,87.0,76.0,84.0,77.5,91.0,83.0,91.0,87.0,90.0],\"coloraxis\":\"coloraxis\",\"pattern\":{\"shape\":\"\"}},\"name\":\"\",\"offsetgroup\":\"\",\"orientation\":\"h\",\"showlegend\":false,\"textposition\":\"auto\",\"x\":[88.0,90.0,90.5,91.0,91.5,92.0,92.0,94.0,94.0,95.0],\"xaxis\":\"x\",\"y\":[\"Ridge Racer\",\"Command & Conquer: Red Alert\",\"Microsoft Flight Simulator\",\"Tomb Raider\",\"Super Street Fighter II\",\"Chrono Trigger\",\"Wave Race 64\",\"Super Mario 64\",\"Diablo\",\"The Legend of Zelda: A Link to the Past\"],\"yaxis\":\"y\",\"type\":\"bar\"}],\"name\":\"1991\"},{\"data\":[{\"alignmentgroup\":\"True\",\"hovertemplate\":\"Year=1992<br>Meta Score=%{x}<br>Name=%{y}<br>User Score=%{marker.color}<extra></extra>\",\"legendgroup\":\"\",\"marker\":{\"color\":[84.0,83.0,89.0,77.5,88.5,91.0,83.0,91.0,87.0,86.0],\"coloraxis\":\"coloraxis\",\"pattern\":{\"shape\":\"\"}},\"name\":\"\",\"offsetgroup\":\"\",\"orientation\":\"h\",\"showlegend\":false,\"textposition\":\"auto\",\"x\":[91.0,91.0,91.0,91.5,91.5,92.0,92.0,94.0,94.0,96.0],\"xaxis\":\"x\",\"y\":[\"Tomb Raider\",\"Colony Wars\",\"Castlevania: Symphony of the Night\",\"Super Street Fighter II\",\"Half-Life\",\"Chrono Trigger\",\"Wave Race 64\",\"Super Mario 64\",\"Diablo\",\"Gran Turismo\"],\"yaxis\":\"y\",\"type\":\"bar\"}],\"name\":\"1992\"},{\"data\":[{\"alignmentgroup\":\"True\",\"hovertemplate\":\"Year=1993<br>Meta Score=%{x}<br>Name=%{y}<br>User Score=%{marker.color}<extra></extra>\",\"legendgroup\":\"\",\"marker\":{\"color\":[77.5,88.5,91.0,83.0,88.0,91.0,87.0,86.0,91.0,91.0],\"coloraxis\":\"coloraxis\",\"pattern\":{\"shape\":\"\"}},\"name\":\"\",\"offsetgroup\":\"\",\"orientation\":\"h\",\"showlegend\":false,\"textposition\":\"auto\",\"x\":[91.5,91.5,92.0,92.0,93.0,94.0,94.0,96.0,96.0,99.0],\"xaxis\":\"x\",\"y\":[\"Super Street Fighter II\",\"Half-Life\",\"Chrono Trigger\",\"Wave Race 64\",\"Homeworld\",\"Super Mario 64\",\"Diablo\",\"Gran Turismo\",\"Tekken 3\",\"The Legend of Zelda: Ocarina of Time\"],\"yaxis\":\"y\",\"type\":\"bar\"}],\"name\":\"1993\"},{\"data\":[{\"alignmentgroup\":\"True\",\"hovertemplate\":\"Year=1994<br>Meta Score=%{x}<br>Name=%{y}<br>User Score=%{marker.color}<extra></extra>\",\"legendgroup\":\"\",\"marker\":{\"color\":[91.0,88.0,90.0,83.0,91.0,87.0,88.0,86.0,91.0,91.0],\"coloraxis\":\"coloraxis\",\"pattern\":{\"shape\":\"\"}},\"name\":\"\",\"offsetgroup\":\"\",\"orientation\":\"h\",\"showlegend\":false,\"textposition\":\"auto\",\"x\":[92.0,93.0,93.0,93.0,94.0,94.0,94.0,96.0,96.0,99.0],\"xaxis\":\"x\",\"y\":[\"Chrono Trigger\",\"Homeworld\",\"Gran Turismo 2\",\"Test Drive Le Mans\",\"Super Mario 64\",\"Diablo\",\"Chrono Cross\",\"Gran Turismo\",\"Tekken 3\",\"The Legend of Zelda: Ocarina of Time\"],\"yaxis\":\"y\",\"type\":\"bar\"}],\"name\":\"1994\"},{\"data\":[{\"alignmentgroup\":\"True\",\"hovertemplate\":\"Year=1995<br>Meta Score=%{x}<br>Name=%{y}<br>User Score=%{marker.color}<extra></extra>\",\"legendgroup\":\"\",\"marker\":{\"color\":[88.0,90.0,91.0,87.0,88.0,91.0,86.0,91.0,62.0,91.0],\"coloraxis\":\"coloraxis\",\"pattern\":{\"shape\":\"\"}},\"name\":\"\",\"offsetgroup\":\"\",\"orientation\":\"h\",\"showlegend\":false,\"textposition\":\"auto\",\"x\":[93.0,93.0,94.0,94.0,94.0,95.0,96.0,96.0,97.0,99.0],\"xaxis\":\"x\",\"y\":[\"Homeworld\",\"Gran Turismo 2\",\"Super Mario 64\",\"Diablo\",\"Chrono Cross\",\"The Legend of Zelda: Majora's Mask\",\"Gran Turismo\",\"Tekken 3\",\"NFL 2K1\",\"The Legend of Zelda: Ocarina of Time\"],\"yaxis\":\"y\",\"type\":\"bar\"}],\"name\":\"1995\"},{\"data\":[{\"alignmentgroup\":\"True\",\"hovertemplate\":\"Year=1996<br>Meta Score=%{x}<br>Name=%{y}<br>User Score=%{marker.color}<extra></extra>\",\"legendgroup\":\"\",\"marker\":{\"color\":[91.0,91.0,83.0,84.0,86.0,91.0,88.0,62.0,87.0,91.0],\"coloraxis\":\"coloraxis\",\"pattern\":{\"shape\":\"\"}},\"name\":\"\",\"offsetgroup\":\"\",\"orientation\":\"h\",\"showlegend\":false,\"textposition\":\"auto\",\"x\":[94.0,95.0,95.0,95.0,96.0,96.0,96.0,97.0,97.0,99.0],\"xaxis\":\"x\",\"y\":[\"Super Mario 64\",\"The Legend of Zelda: Majora's Mask\",\"Grand Theft Auto III\",\"Gran Turismo 3: A-Spec\",\"Gran Turismo\",\"Tekken 3\",\"Metal Gear Solid 2: Sons of Liberty\",\"NFL 2K1\",\"Halo: Combat Evolved\",\"The Legend of Zelda: Ocarina of Time\"],\"yaxis\":\"y\",\"type\":\"bar\"}],\"name\":\"1996\"},{\"data\":[{\"alignmentgroup\":\"True\",\"hovertemplate\":\"Year=1997<br>Meta Score=%{x}<br>Name=%{y}<br>User Score=%{marker.color}<extra></extra>\",\"legendgroup\":\"\",\"marker\":{\"color\":[91.0,83.0,86.0,91.0,88.0,90.0,62.0,87.0,89.0,91.0],\"coloraxis\":\"coloraxis\",\"pattern\":{\"shape\":\"\"}},\"name\":\"\",\"offsetgroup\":\"\",\"orientation\":\"h\",\"showlegend\":false,\"textposition\":\"auto\",\"x\":[95.0,95.0,96.0,96.0,96.0,96.0,97.0,97.0,97.0,99.0],\"xaxis\":\"x\",\"y\":[\"The Legend of Zelda: Majora's Mask\",\"Grand Theft Auto III\",\"Gran Turismo\",\"Tekken 3\",\"Metal Gear Solid 2: Sons of Liberty\",\"The Legend of Zelda: The Wind Waker\",\"NFL 2K1\",\"Halo: Combat Evolved\",\"Metroid Prime\",\"The Legend of Zelda: Ocarina of Time\"],\"yaxis\":\"y\",\"type\":\"bar\"}],\"name\":\"1997\"},{\"data\":[{\"alignmentgroup\":\"True\",\"hovertemplate\":\"Year=1998<br>Meta Score=%{x}<br>Name=%{y}<br>User Score=%{marker.color}<extra></extra>\",\"legendgroup\":\"\",\"marker\":{\"color\":[91.0,83.0,84.0,91.0,88.0,90.0,62.0,87.0,89.0,91.0],\"coloraxis\":\"coloraxis\",\"pattern\":{\"shape\":\"\"}},\"name\":\"\",\"offsetgroup\":\"\",\"orientation\":\"h\",\"showlegend\":false,\"textposition\":\"auto\",\"x\":[95.0,95.0,95.0,96.0,96.0,96.0,97.0,97.0,97.0,99.0],\"xaxis\":\"x\",\"y\":[\"The Legend of Zelda: Majora's Mask\",\"Grand Theft Auto III\",\"Gran Turismo 3: A-Spec\",\"Tekken 3\",\"Metal Gear Solid 2: Sons of Liberty\",\"The Legend of Zelda: The Wind Waker\",\"NFL 2K1\",\"Halo: Combat Evolved\",\"Metroid Prime\",\"The Legend of Zelda: Ocarina of Time\"],\"yaxis\":\"y\",\"type\":\"bar\"}],\"name\":\"1998\"},{\"data\":[{\"alignmentgroup\":\"True\",\"hovertemplate\":\"Year=1999<br>Meta Score=%{x}<br>Name=%{y}<br>User Score=%{marker.color}<extra></extra>\",\"legendgroup\":\"\",\"marker\":{\"color\":[88.0,88.0,91.0,83.0,84.0,88.0,90.0,62.0,87.0,89.0],\"coloraxis\":\"coloraxis\",\"pattern\":{\"shape\":\"\"}},\"name\":\"\",\"offsetgroup\":\"\",\"orientation\":\"h\",\"showlegend\":false,\"textposition\":\"auto\",\"x\":[94.0,94.5,95.0,95.0,95.0,96.0,96.0,97.0,97.0,97.0],\"xaxis\":\"x\",\"y\":[\"Chrono Cross\",\"Grand Theft Auto: Vice City\",\"The Legend of Zelda: Majora's Mask\",\"Grand Theft Auto III\",\"Gran Turismo 3: A-Spec\",\"Metal Gear Solid 2: Sons of Liberty\",\"The Legend of Zelda: The Wind Waker\",\"NFL 2K1\",\"Halo: Combat Evolved\",\"Metroid Prime\"],\"yaxis\":\"y\",\"type\":\"bar\"}],\"name\":\"1999\"},{\"data\":[{\"alignmentgroup\":\"True\",\"hovertemplate\":\"Year=2000<br>Meta Score=%{x}<br>Name=%{y}<br>User Score=%{marker.color}<extra></extra>\",\"legendgroup\":\"\",\"marker\":{\"color\":[81.0,88.0,91.0,83.0,84.0,88.0,90.0,62.0,87.0,89.0],\"coloraxis\":\"coloraxis\",\"pattern\":{\"shape\":\"\"}},\"name\":\"\",\"offsetgroup\":\"\",\"orientation\":\"h\",\"showlegend\":false,\"textposition\":\"auto\",\"x\":[94.0,94.5,95.0,95.0,95.0,96.0,96.0,97.0,97.0,97.0],\"xaxis\":\"x\",\"y\":[\"Virtua Fighter 4\",\"Grand Theft Auto: Vice City\",\"The Legend of Zelda: Majora's Mask\",\"Grand Theft Auto III\",\"Gran Turismo 3: A-Spec\",\"Metal Gear Solid 2: Sons of Liberty\",\"The Legend of Zelda: The Wind Waker\",\"NFL 2K1\",\"Halo: Combat Evolved\",\"Metroid Prime\"],\"yaxis\":\"y\",\"type\":\"bar\"}],\"name\":\"2000\"},{\"data\":[{\"alignmentgroup\":\"True\",\"hovertemplate\":\"Year=2001<br>Meta Score=%{x}<br>Name=%{y}<br>User Score=%{marker.color}<extra></extra>\",\"legendgroup\":\"\",\"marker\":{\"color\":[81.0,83.0,88.0,83.0,84.0,89.5,88.0,90.0,87.0,89.0],\"coloraxis\":\"coloraxis\",\"pattern\":{\"shape\":\"\"}},\"name\":\"\",\"offsetgroup\":\"\",\"orientation\":\"h\",\"showlegend\":false,\"textposition\":\"auto\",\"x\":[94.0,94.0,94.5,95.0,95.0,95.5,96.0,96.0,97.0,97.0],\"xaxis\":\"x\",\"y\":[\"Virtua Fighter 4\",\"Jet Grind Radio\",\"Grand Theft Auto: Vice City\",\"Grand Theft Auto III\",\"Gran Turismo 3: A-Spec\",\"The Legend of Zelda: Twilight Princess\",\"Metal Gear Solid 2: Sons of Liberty\",\"The Legend of Zelda: The Wind Waker\",\"Halo: Combat Evolved\",\"Metroid Prime\"],\"yaxis\":\"y\",\"type\":\"bar\"}],\"name\":\"2001\"},{\"data\":[{\"alignmentgroup\":\"True\",\"hovertemplate\":\"Year=2002<br>Meta Score=%{x}<br>Name=%{y}<br>User Score=%{marker.color}<extra></extra>\",\"legendgroup\":\"\",\"marker\":{\"color\":[81.0,83.0,90.5,88.0,88.3,89.5,90.0,91.5,89.0,91.0],\"coloraxis\":\"coloraxis\",\"pattern\":{\"shape\":\"\"}},\"name\":\"\",\"offsetgroup\":\"\",\"orientation\":\"h\",\"showlegend\":false,\"textposition\":\"auto\",\"x\":[94.0,94.0,94.0,94.5,95.33,95.5,96.0,96.0,97.0,97.0],\"xaxis\":\"x\",\"y\":[\"Virtua Fighter 4\",\"Jet Grind Radio\",\"God of War\",\"Grand Theft Auto: Vice City\",\"BioShock\",\"The Legend of Zelda: Twilight Princess\",\"The Legend of Zelda: The Wind Waker\",\"The Orange Box\",\"Metroid Prime\",\"Super Mario Galaxy\"],\"yaxis\":\"y\",\"type\":\"bar\"}],\"name\":\"2002\"},{\"data\":[{\"alignmentgroup\":\"True\",\"hovertemplate\":\"Year=2003<br>Meta Score=%{x}<br>Name=%{y}<br>User Score=%{marker.color}<extra></extra>\",\"legendgroup\":\"\",\"marker\":{\"color\":[83.0,90.5,91.0,88.0,88.0,88.3,75.3,89.5,91.5,91.0],\"coloraxis\":\"coloraxis\",\"pattern\":{\"shape\":\"\"}},\"name\":\"\",\"offsetgroup\":\"\",\"orientation\":\"h\",\"showlegend\":false,\"textposition\":\"auto\",\"x\":[94.0,94.0,94.0,94.0,94.0,95.33,95.33,95.5,96.0,97.0],\"xaxis\":\"x\",\"y\":[\"Jet Grind Radio\",\"God of War\",\"Metal Gear Solid 3: Subsistence\",\"Sid Meier's Civilization IV\",\"Ninja Gaiden Black\",\"BioShock\",\"Grand Theft Auto IV\",\"The Legend of Zelda: Twilight Princess\",\"The Orange Box\",\"Super Mario Galaxy\"],\"yaxis\":\"y\",\"type\":\"bar\"}],\"name\":\"2003\"},{\"data\":[{\"alignmentgroup\":\"True\",\"hovertemplate\":\"Year=2004<br>Meta Score=%{x}<br>Name=%{y}<br>User Score=%{marker.color}<extra></extra>\",\"legendgroup\":\"\",\"marker\":{\"color\":[90.5,91.0,88.0,88.0,88.3,75.3,89.5,91.5,88.0,91.0],\"coloraxis\":\"coloraxis\",\"pattern\":{\"shape\":\"\"}},\"name\":\"\",\"offsetgroup\":\"\",\"orientation\":\"h\",\"showlegend\":false,\"textposition\":\"auto\",\"x\":[94.0,94.0,94.0,94.0,95.33,95.33,95.5,96.0,96.0,97.0],\"xaxis\":\"x\",\"y\":[\"God of War\",\"Metal Gear Solid 3: Subsistence\",\"Sid Meier's Civilization IV\",\"Ninja Gaiden Black\",\"BioShock\",\"Grand Theft Auto IV\",\"The Legend of Zelda: Twilight Princess\",\"The Orange Box\",\"Uncharted 2: Among Thieves\",\"Super Mario Galaxy\"],\"yaxis\":\"y\",\"type\":\"bar\"}],\"name\":\"2004\"},{\"data\":[{\"alignmentgroup\":\"True\",\"hovertemplate\":\"Year=2005<br>Meta Score=%{x}<br>Name=%{y}<br>User Score=%{marker.color}<extra></extra>\",\"legendgroup\":\"\",\"marker\":{\"color\":[90.5,88.3,89.5,88.3,75.3,89.5,91.5,88.0,91.0,91.0],\"coloraxis\":\"coloraxis\",\"pattern\":{\"shape\":\"\"}},\"name\":\"\",\"offsetgroup\":\"\",\"orientation\":\"h\",\"showlegend\":false,\"textposition\":\"auto\",\"x\":[94.0,94.67,95.0,95.33,95.33,95.5,96.0,96.0,97.0,97.0],\"xaxis\":\"x\",\"y\":[\"God of War\",\"Mass Effect 2\",\"Red Dead Redemption\",\"BioShock\",\"Grand Theft Auto IV\",\"The Legend of Zelda: Twilight Princess\",\"The Orange Box\",\"Uncharted 2: Among Thieves\",\"Super Mario Galaxy\",\"Super Mario Galaxy 2\"],\"yaxis\":\"y\",\"type\":\"bar\"}],\"name\":\"2005\"},{\"data\":[{\"alignmentgroup\":\"True\",\"hovertemplate\":\"Year=2006<br>Meta Score=%{x}<br>Name=%{y}<br>User Score=%{marker.color}<extra></extra>\",\"legendgroup\":\"\",\"marker\":{\"color\":[88.3,89.5,88.7,88.3,75.3,89.5,91.5,88.0,91.0,91.0],\"coloraxis\":\"coloraxis\",\"pattern\":{\"shape\":\"\"}},\"name\":\"\",\"offsetgroup\":\"\",\"orientation\":\"h\",\"showlegend\":false,\"textposition\":\"auto\",\"x\":[94.67,95.0,95.0,95.33,95.33,95.5,96.0,96.0,97.0,97.0],\"xaxis\":\"x\",\"y\":[\"Mass Effect 2\",\"Red Dead Redemption\",\"Portal 2\",\"BioShock\",\"Grand Theft Auto IV\",\"The Legend of Zelda: Twilight Princess\",\"The Orange Box\",\"Uncharted 2: Among Thieves\",\"Super Mario Galaxy\",\"Super Mario Galaxy 2\"],\"yaxis\":\"y\",\"type\":\"bar\"}],\"name\":\"2006\"},{\"data\":[{\"alignmentgroup\":\"True\",\"hovertemplate\":\"Year=2007<br>Meta Score=%{x}<br>Name=%{y}<br>User Score=%{marker.color}<extra></extra>\",\"legendgroup\":\"\",\"marker\":{\"color\":[81.0,88.3,89.5,88.7,88.3,75.3,91.5,88.0,91.0,91.0],\"coloraxis\":\"coloraxis\",\"pattern\":{\"shape\":\"\"}},\"name\":\"\",\"offsetgroup\":\"\",\"orientation\":\"h\",\"showlegend\":false,\"textposition\":\"auto\",\"x\":[94.0,94.67,95.0,95.0,95.33,95.33,96.0,96.0,97.0,97.0],\"xaxis\":\"x\",\"y\":[\"Halo 3\",\"Mass Effect 2\",\"Red Dead Redemption\",\"Portal 2\",\"BioShock\",\"Grand Theft Auto IV\",\"The Orange Box\",\"Uncharted 2: Among Thieves\",\"Super Mario Galaxy\",\"Super Mario Galaxy 2\"],\"yaxis\":\"y\",\"type\":\"bar\"}],\"name\":\"2007\"},{\"data\":[{\"alignmentgroup\":\"True\",\"hovertemplate\":\"Year=2008<br>Meta Score=%{x}<br>Name=%{y}<br>User Score=%{marker.color}<extra></extra>\",\"legendgroup\":\"\",\"marker\":{\"color\":[88.0,66.0,88.3,89.5,88.7,92.0,75.3,88.0,81.4,91.0],\"coloraxis\":\"coloraxis\",\"pattern\":{\"shape\":\"\"}},\"name\":\"\",\"offsetgroup\":\"\",\"orientation\":\"h\",\"showlegend\":false,\"textposition\":\"auto\",\"x\":[94.0,94.0,94.67,95.0,95.0,95.0,95.33,96.0,96.8,97.0],\"xaxis\":\"x\",\"y\":[\"Metal Gear Solid 4: Guns of the Patriots\",\"Call of Duty: Modern Warfare 2\",\"Mass Effect 2\",\"Red Dead Redemption\",\"Portal 2\",\"The Last of Us\",\"Grand Theft Auto IV\",\"Uncharted 2: Among Thieves\",\"Grand Theft Auto V\",\"Super Mario Galaxy 2\"],\"yaxis\":\"y\",\"type\":\"bar\"}],\"name\":\"2008\"},{\"data\":[{\"alignmentgroup\":\"True\",\"hovertemplate\":\"Year=2009<br>Meta Score=%{x}<br>Name=%{y}<br>User Score=%{marker.color}<extra></extra>\",\"legendgroup\":\"\",\"marker\":{\"color\":[87.3,85.7,66.0,88.3,89.5,88.7,92.0,88.0,81.4,91.0],\"coloraxis\":\"coloraxis\",\"pattern\":{\"shape\":\"\"}},\"name\":\"\",\"offsetgroup\":\"\",\"orientation\":\"h\",\"showlegend\":false,\"textposition\":\"auto\",\"x\":[93.67,93.67,94.0,94.67,95.0,95.0,95.0,96.0,96.8,97.0],\"xaxis\":\"x\",\"y\":[\"Batman: Arkham City\",\"BioShock Infinite\",\"Call of Duty: Modern Warfare 2\",\"Mass Effect 2\",\"Red Dead Redemption\",\"Portal 2\",\"The Last of Us\",\"Uncharted 2: Among Thieves\",\"Grand Theft Auto V\",\"Super Mario Galaxy 2\"],\"yaxis\":\"y\",\"type\":\"bar\"}],\"name\":\"2009\"},{\"data\":[{\"alignmentgroup\":\"True\",\"hovertemplate\":\"Year=2010<br>Meta Score=%{x}<br>Name=%{y}<br>User Score=%{marker.color}<extra></extra>\",\"legendgroup\":\"\",\"marker\":{\"color\":[83.0,81.0,87.3,85.7,88.3,89.5,88.7,92.0,81.4,91.0],\"coloraxis\":\"coloraxis\",\"pattern\":{\"shape\":\"\"}},\"name\":\"\",\"offsetgroup\":\"\",\"orientation\":\"h\",\"showlegend\":false,\"textposition\":\"auto\",\"x\":[93.0,93.0,93.67,93.67,94.67,95.0,95.0,95.0,96.8,97.0],\"xaxis\":\"x\",\"y\":[\"StarCraft II: Wings of Liberty\",\"The Legend of Zelda: Skyward Sword\",\"Batman: Arkham City\",\"BioShock Infinite\",\"Mass Effect 2\",\"Red Dead Redemption\",\"Portal 2\",\"The Last of Us\",\"Grand Theft Auto V\",\"Super Mario Galaxy 2\"],\"yaxis\":\"y\",\"type\":\"bar\"}],\"name\":\"2010\"},{\"data\":[{\"alignmentgroup\":\"True\",\"hovertemplate\":\"Year=2011<br>Meta Score=%{x}<br>Name=%{y}<br>User Score=%{marker.color}<extra></extra>\",\"legendgroup\":\"\",\"marker\":{\"color\":[81.0,86.0,59.0,80.0,89.0,87.3,85.7,88.7,92.0,81.4],\"coloraxis\":\"coloraxis\",\"pattern\":{\"shape\":\"\"}},\"name\":\"\",\"offsetgroup\":\"\",\"orientation\":\"h\",\"showlegend\":false,\"textposition\":\"auto\",\"x\":[93.0,93.0,93.0,93.0,93.0,93.67,93.67,95.0,95.0,96.8],\"xaxis\":\"x\",\"y\":[\"The Legend of Zelda: Skyward Sword\",\"Persona 4: Golden\",\"Mass Effect 3\",\"Minecraft\",\"Super Mario 3D World\",\"Batman: Arkham City\",\"BioShock Infinite\",\"Portal 2\",\"The Last of Us\",\"Grand Theft Auto V\"],\"yaxis\":\"y\",\"type\":\"bar\"}],\"name\":\"2011\"},{\"data\":[{\"alignmentgroup\":\"True\",\"hovertemplate\":\"Year=2012<br>Meta Score=%{x}<br>Name=%{y}<br>User Score=%{marker.color}<extra></extra>\",\"legendgroup\":\"\",\"marker\":{\"color\":[86.0,59.0,80.0,89.0,88.0,78.3,72.0,85.7,92.0,81.4],\"coloraxis\":\"coloraxis\",\"pattern\":{\"shape\":\"\"}},\"name\":\"\",\"offsetgroup\":\"\",\"orientation\":\"h\",\"showlegend\":false,\"textposition\":\"auto\",\"x\":[93.0,93.0,93.0,93.0,93.0,93.0,93.0,93.67,95.0,96.8],\"xaxis\":\"x\",\"y\":[\"Persona 4: Golden\",\"Mass Effect 3\",\"Minecraft\",\"Super Mario 3D World\",\"Divinity: Original Sin\",\"Metal Gear Solid V: The Phantom Pain\",\"NBA 2K16\",\"BioShock Infinite\",\"The Last of Us\",\"Grand Theft Auto V\"],\"yaxis\":\"y\",\"type\":\"bar\"}],\"name\":\"2012\"},{\"data\":[{\"alignmentgroup\":\"True\",\"hovertemplate\":\"Year=2013<br>Meta Score=%{x}<br>Name=%{y}<br>User Score=%{marker.color}<extra></extra>\",\"legendgroup\":\"\",\"marker\":{\"color\":[92.7,88.0,80.0,89.0,88.0,78.3,72.0,85.7,92.0,81.4],\"coloraxis\":\"coloraxis\",\"pattern\":{\"shape\":\"\"}},\"name\":\"\",\"offsetgroup\":\"\",\"orientation\":\"h\",\"showlegend\":false,\"textposition\":\"auto\",\"x\":[92.0,92.0,93.0,93.0,93.0,93.0,93.0,93.67,95.0,96.8],\"xaxis\":\"x\",\"y\":[\"The Witcher 3: Wild Hunt\",\"Bloodborne\",\"Minecraft\",\"Super Mario 3D World\",\"Divinity: Original Sin\",\"Metal Gear Solid V: The Phantom Pain\",\"NBA 2K16\",\"BioShock Infinite\",\"The Last of Us\",\"Grand Theft Auto V\"],\"yaxis\":\"y\",\"type\":\"bar\"}],\"name\":\"2013\"},{\"data\":[{\"alignmentgroup\":\"True\",\"hovertemplate\":\"Year=2014<br>Meta Score=%{x}<br>Name=%{y}<br>User Score=%{marker.color}<extra></extra>\",\"legendgroup\":\"\",\"marker\":{\"color\":[85.0,83.0,89.0,77.3,87.0,92.7,88.0,88.0,78.3,72.0],\"coloraxis\":\"coloraxis\",\"pattern\":{\"shape\":\"\"}},\"name\":\"\",\"offsetgroup\":\"\",\"orientation\":\"h\",\"showlegend\":false,\"textposition\":\"auto\",\"x\":[88.0,89.0,89.0,91.0,91.5,92.0,92.0,93.0,93.0,93.0],\"xaxis\":\"x\",\"y\":[\"Super Mario Maker\",\"Pillars of Eternity\",\"The Legend of Zelda: Majora's Mask 3D\",\"Dark Souls II\",\"Bayonetta 2\",\"The Witcher 3: Wild Hunt\",\"Bloodborne\",\"Divinity: Original Sin\",\"Metal Gear Solid V: The Phantom Pain\",\"NBA 2K16\"],\"yaxis\":\"y\",\"type\":\"bar\"}],\"name\":\"2014\"}]);\n",
       "                        }).then(function(){\n",
       "                            \n",
       "var gd = document.getElementById('b7611f6f-2015-4cf9-99dd-6da863091844');\n",
       "var x = new MutationObserver(function (mutations, observer) {{\n",
       "        var display = window.getComputedStyle(gd).display;\n",
       "        if (!display || display === 'none') {{\n",
       "            console.log([gd, 'removed!']);\n",
       "            Plotly.purge(gd);\n",
       "            observer.disconnect();\n",
       "        }}\n",
       "}});\n",
       "\n",
       "// Listen for the removal of the full notebook cells\n",
       "var notebookContainer = gd.closest('#notebook-container');\n",
       "if (notebookContainer) {{\n",
       "    x.observe(notebookContainer, {childList: true});\n",
       "}}\n",
       "\n",
       "// Listen for the clearing of the current output cell\n",
       "var outputEl = gd.closest('.output');\n",
       "if (outputEl) {{\n",
       "    x.observe(outputEl, {childList: true});\n",
       "}}\n",
       "\n",
       "                        })                };                });            </script>        </div>"
      ]
     },
     "metadata": {},
     "output_type": "display_data"
    }
   ],
   "source": [
    "fig = px.bar(\n",
    "    windowed.sort_values(by=[\"Year_window\",'Meta_score'], ascending = [True,False]).groupby(\"Year_window\").head(10).sort_values(by=[\"Year_window\",'Meta_score'], ascending = [True,True]),\n",
    "    x=\"Meta_score\",\n",
    "    y=\"Name\",\n",
    "    animation_frame=\"Year_window\", \n",
    "    range_x=[0, 100],\n",
    "    color='User_score',\n",
    "    color_continuous_scale=[\"red\", \"yellow\", \"green\"],\n",
    "    range_color = [0,100],\n",
    "    #barmode=\"group\",\n",
    "    orientation=\"h\",\n",
    "    labels={'Name':'Name',\n",
    "           \"User_score\": \"User Score\",\n",
    "           \"Meta_score\": \"Meta Score\",\n",
    "           \"Year_window\":\"Year\"}\n",
    ")\n",
    "fig.update_layout(margin=dict(l=400))\n",
    "fig.update_yaxes(title_font_color=\"white\")\n",
    "fig.layout.updatemenus[0].buttons[0].args[1][\"frame\"][\"duration\"] = 1500\n",
    "fig.write_html('../plots/meta_score_vs_user_score.html', auto_play=False)\n",
    "fig.show()"
   ]
  },
  {
   "cell_type": "code",
   "execution_count": null,
   "id": "1fd38886",
   "metadata": {},
   "outputs": [],
   "source": [
    "\n"
   ]
  },
  {
   "cell_type": "code",
   "execution_count": null,
   "id": "6eebf3c4",
   "metadata": {},
   "outputs": [],
   "source": []
  }
 ],
 "metadata": {
  "kernelspec": {
   "display_name": "Python 3 (ipykernel)",
   "language": "python",
   "name": "python3"
  },
  "language_info": {
   "codemirror_mode": {
    "name": "ipython",
    "version": 3
   },
   "file_extension": ".py",
   "mimetype": "text/x-python",
   "name": "python",
   "nbconvert_exporter": "python",
   "pygments_lexer": "ipython3",
   "version": "3.7.4"
  }
 },
 "nbformat": 4,
 "nbformat_minor": 5
}
