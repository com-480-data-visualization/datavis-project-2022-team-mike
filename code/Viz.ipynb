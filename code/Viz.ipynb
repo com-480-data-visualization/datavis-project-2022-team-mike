{
 "cells": [
  {
   "cell_type": "code",
   "execution_count": 6,
   "id": "a21ccba0",
   "metadata": {},
   "outputs": [],
   "source": [
    "import os\n",
    "import pandas as pd\n",
    "import numpy as np\n",
    "import math\n",
    "import ast\n",
    "from util import *\n",
    "import plotly.express as px\n",
    "import plotly.graph_objects as go"
   ]
  },
  {
   "cell_type": "code",
   "execution_count": 101,
   "id": "38ac911e",
   "metadata": {},
   "outputs": [
    {
     "data": {
      "text/html": [
       "<div>\n",
       "<style scoped>\n",
       "    .dataframe tbody tr th:only-of-type {\n",
       "        vertical-align: middle;\n",
       "    }\n",
       "\n",
       "    .dataframe tbody tr th {\n",
       "        vertical-align: top;\n",
       "    }\n",
       "\n",
       "    .dataframe thead th {\n",
       "        text-align: right;\n",
       "    }\n",
       "</style>\n",
       "<table border=\"1\" class=\"dataframe\">\n",
       "  <thead>\n",
       "    <tr style=\"text-align: right;\">\n",
       "      <th></th>\n",
       "      <th>Name</th>\n",
       "      <th>Meta_score</th>\n",
       "      <th>User_score</th>\n",
       "      <th>Description</th>\n",
       "      <th>URL</th>\n",
       "      <th>Developer</th>\n",
       "      <th>Type</th>\n",
       "      <th>Rating</th>\n",
       "      <th>Rank</th>\n",
       "      <th>Platform</th>\n",
       "      <th>Year</th>\n",
       "      <th>Publisher</th>\n",
       "      <th>NA_Sales</th>\n",
       "      <th>EU_Sales</th>\n",
       "      <th>JP_Sales</th>\n",
       "      <th>Other_Sales</th>\n",
       "      <th>Global_Sales</th>\n",
       "      <th>Genre</th>\n",
       "    </tr>\n",
       "  </thead>\n",
       "  <tbody>\n",
       "    <tr>\n",
       "      <th>0</th>\n",
       "      <td>The Legend of Zelda: Ocarina of Time</td>\n",
       "      <td>99.0</td>\n",
       "      <td>91.0</td>\n",
       "      <td>As a young boy, Link is tricked by Ganondorf, ...</td>\n",
       "      <td>https://www.metacritic.com/game/nintendo-64/th...</td>\n",
       "      <td>Nintendo</td>\n",
       "      <td>singleplayer</td>\n",
       "      <td>E</td>\n",
       "      <td>95</td>\n",
       "      <td>N64</td>\n",
       "      <td>1998</td>\n",
       "      <td>Nintendo</td>\n",
       "      <td>4.10</td>\n",
       "      <td>1.89</td>\n",
       "      <td>1.45</td>\n",
       "      <td>0.16</td>\n",
       "      <td>7.60</td>\n",
       "      <td>['Action Adventure', 'Fantasy', 'Action']</td>\n",
       "    </tr>\n",
       "    <tr>\n",
       "      <th>1</th>\n",
       "      <td>The Legend of Zelda: Ocarina of Time</td>\n",
       "      <td>94.0</td>\n",
       "      <td>90.0</td>\n",
       "      <td>The Legend of Zelda: Ocarina of Time 3D takes ...</td>\n",
       "      <td>https://www.metacritic.com/game/3ds/the-legend...</td>\n",
       "      <td>GREZZO</td>\n",
       "      <td>singleplayer</td>\n",
       "      <td>E10+</td>\n",
       "      <td>95</td>\n",
       "      <td>N64</td>\n",
       "      <td>1998</td>\n",
       "      <td>Nintendo</td>\n",
       "      <td>4.10</td>\n",
       "      <td>1.89</td>\n",
       "      <td>1.45</td>\n",
       "      <td>0.16</td>\n",
       "      <td>7.60</td>\n",
       "      <td>['Compilation', 'Open-World', 'Miscellaneous',...</td>\n",
       "    </tr>\n",
       "    <tr>\n",
       "      <th>2</th>\n",
       "      <td>The Legend of Zelda: Ocarina of Time</td>\n",
       "      <td>99.0</td>\n",
       "      <td>91.0</td>\n",
       "      <td>As a young boy, Link is tricked by Ganondorf, ...</td>\n",
       "      <td>https://www.metacritic.com/game/nintendo-64/th...</td>\n",
       "      <td>Nintendo</td>\n",
       "      <td>singleplayer</td>\n",
       "      <td>E</td>\n",
       "      <td>269</td>\n",
       "      <td>3DS</td>\n",
       "      <td>2011</td>\n",
       "      <td>Nintendo</td>\n",
       "      <td>2.03</td>\n",
       "      <td>1.27</td>\n",
       "      <td>0.62</td>\n",
       "      <td>0.30</td>\n",
       "      <td>4.21</td>\n",
       "      <td>['Action Adventure', 'Fantasy', 'Action']</td>\n",
       "    </tr>\n",
       "    <tr>\n",
       "      <th>3</th>\n",
       "      <td>The Legend of Zelda: Ocarina of Time</td>\n",
       "      <td>94.0</td>\n",
       "      <td>90.0</td>\n",
       "      <td>The Legend of Zelda: Ocarina of Time 3D takes ...</td>\n",
       "      <td>https://www.metacritic.com/game/3ds/the-legend...</td>\n",
       "      <td>GREZZO</td>\n",
       "      <td>singleplayer</td>\n",
       "      <td>E10+</td>\n",
       "      <td>269</td>\n",
       "      <td>3DS</td>\n",
       "      <td>2011</td>\n",
       "      <td>Nintendo</td>\n",
       "      <td>2.03</td>\n",
       "      <td>1.27</td>\n",
       "      <td>0.62</td>\n",
       "      <td>0.30</td>\n",
       "      <td>4.21</td>\n",
       "      <td>['Compilation', 'Open-World', 'Miscellaneous',...</td>\n",
       "    </tr>\n",
       "    <tr>\n",
       "      <th>4</th>\n",
       "      <td>Super Mario Galaxy</td>\n",
       "      <td>97.0</td>\n",
       "      <td>91.0</td>\n",
       "      <td>[Metacritic's 2007 Wii Game of the Year] The u...</td>\n",
       "      <td>https://www.metacritic.com/game/wii/super-mari...</td>\n",
       "      <td>Nintendo</td>\n",
       "      <td>singleplayer</td>\n",
       "      <td>E</td>\n",
       "      <td>49</td>\n",
       "      <td>Wii</td>\n",
       "      <td>2007</td>\n",
       "      <td>Nintendo</td>\n",
       "      <td>6.16</td>\n",
       "      <td>3.40</td>\n",
       "      <td>1.20</td>\n",
       "      <td>0.76</td>\n",
       "      <td>11.52</td>\n",
       "      <td>['Platform', 'Action', 'Platformer', '3D']</td>\n",
       "    </tr>\n",
       "  </tbody>\n",
       "</table>\n",
       "</div>"
      ],
      "text/plain": [
       "                                   Name  Meta_score  User_score  \\\n",
       "0  The Legend of Zelda: Ocarina of Time        99.0        91.0   \n",
       "1  The Legend of Zelda: Ocarina of Time        94.0        90.0   \n",
       "2  The Legend of Zelda: Ocarina of Time        99.0        91.0   \n",
       "3  The Legend of Zelda: Ocarina of Time        94.0        90.0   \n",
       "4                    Super Mario Galaxy        97.0        91.0   \n",
       "\n",
       "                                         Description  \\\n",
       "0  As a young boy, Link is tricked by Ganondorf, ...   \n",
       "1  The Legend of Zelda: Ocarina of Time 3D takes ...   \n",
       "2  As a young boy, Link is tricked by Ganondorf, ...   \n",
       "3  The Legend of Zelda: Ocarina of Time 3D takes ...   \n",
       "4  [Metacritic's 2007 Wii Game of the Year] The u...   \n",
       "\n",
       "                                                 URL Developer          Type  \\\n",
       "0  https://www.metacritic.com/game/nintendo-64/th...  Nintendo  singleplayer   \n",
       "1  https://www.metacritic.com/game/3ds/the-legend...    GREZZO  singleplayer   \n",
       "2  https://www.metacritic.com/game/nintendo-64/th...  Nintendo  singleplayer   \n",
       "3  https://www.metacritic.com/game/3ds/the-legend...    GREZZO  singleplayer   \n",
       "4  https://www.metacritic.com/game/wii/super-mari...  Nintendo  singleplayer   \n",
       "\n",
       "  Rating  Rank Platform  Year Publisher  NA_Sales  EU_Sales  JP_Sales  \\\n",
       "0      E    95      N64  1998  Nintendo      4.10      1.89      1.45   \n",
       "1   E10+    95      N64  1998  Nintendo      4.10      1.89      1.45   \n",
       "2      E   269      3DS  2011  Nintendo      2.03      1.27      0.62   \n",
       "3   E10+   269      3DS  2011  Nintendo      2.03      1.27      0.62   \n",
       "4      E    49      Wii  2007  Nintendo      6.16      3.40      1.20   \n",
       "\n",
       "   Other_Sales  Global_Sales  \\\n",
       "0         0.16          7.60   \n",
       "1         0.16          7.60   \n",
       "2         0.30          4.21   \n",
       "3         0.30          4.21   \n",
       "4         0.76         11.52   \n",
       "\n",
       "                                               Genre  \n",
       "0          ['Action Adventure', 'Fantasy', 'Action']  \n",
       "1  ['Compilation', 'Open-World', 'Miscellaneous',...  \n",
       "2          ['Action Adventure', 'Fantasy', 'Action']  \n",
       "3  ['Compilation', 'Open-World', 'Miscellaneous',...  \n",
       "4         ['Platform', 'Action', 'Platformer', '3D']  "
      ]
     },
     "execution_count": 101,
     "metadata": {},
     "output_type": "execute_result"
    }
   ],
   "source": [
    "merged = load_dataframes(\"merged_sales_ratings\")\n",
    "merged.head()"
   ]
  },
  {
   "cell_type": "code",
   "execution_count": 102,
   "id": "bf5410ec",
   "metadata": {},
   "outputs": [],
   "source": [
    "#merged[\"Platform\"] = merged[\"Platform\"].apply(str)\n",
    "#merged[\"Platform\"] = merged[\"Platform\"].apply(ast.literal_eval)\n",
    "merged[\"Genre\"] = merged[\"Genre\"].apply(str)\n",
    "merged[\"Genre\"] = merged[\"Genre\"].apply(ast.literal_eval)\n",
    "merged = merged[merged[\"Year\"] > 1970]\n",
    "merged = merged[merged[\"Year\"] < 2016]"
   ]
  },
  {
   "cell_type": "code",
   "execution_count": 65,
   "id": "9568832c",
   "metadata": {},
   "outputs": [
    {
     "name": "stdout",
     "output_type": "stream",
     "text": [
      "1980\n",
      "2015\n"
     ]
    }
   ],
   "source": [
    "print(merged[\"Year\"].min())\n",
    "print(merged[\"Year\"].max())"
   ]
  },
  {
   "cell_type": "code",
   "execution_count": 66,
   "id": "4c541050",
   "metadata": {},
   "outputs": [],
   "source": [
    "max_size = merged[\"Name\"].apply(len).max()\n",
    "merged[\"Name\"] = merged[\"Name\"].apply(lambda x:x.rjust(50, \" \"))"
   ]
  },
  {
   "cell_type": "code",
   "execution_count": null,
   "id": "5498e1fc",
   "metadata": {},
   "outputs": [],
   "source": []
  },
  {
   "cell_type": "code",
   "execution_count": 109,
   "id": "7a5cca67",
   "metadata": {},
   "outputs": [
    {
     "data": {
      "application/vnd.plotly.v1+json": {
       "config": {
        "plotlyServerURL": "https://plot.ly"
       },
       "data": [
        {
         "alignmentgroup": "True",
         "hovertemplate": "Year=1980<br>Global_Sales=%{x}<br>Name=%{y}<extra></extra>",
         "legendgroup": "",
         "marker": {
          "color": "#636efa",
          "pattern": {
           "shape": ""
          }
         },
         "name": "",
         "offsetgroup": "",
         "orientation": "h",
         "showlegend": false,
         "textposition": "auto",
         "type": "bar",
         "x": [
          0.24,
          0.27,
          0.34,
          0.49,
          0.77,
          1.05,
          1.15,
          2.76,
          4.31
         ],
         "xaxis": "x",
         "y": [
          "Checkers",
          "Bridge",
          "Freeway",
          "Ice Hockey",
          "Boxing",
          "Defender",
          "Kaboom!",
          "Missile Command",
          "Asteroids"
         ],
         "yaxis": "y"
        }
       ],
       "frames": [
        {
         "data": [
          {
           "alignmentgroup": "True",
           "hovertemplate": "Year=1980<br>Global_Sales=%{x}<br>Name=%{y}<extra></extra>",
           "legendgroup": "",
           "marker": {
            "color": "#636efa",
            "pattern": {
             "shape": ""
            }
           },
           "name": "",
           "offsetgroup": "",
           "orientation": "h",
           "showlegend": false,
           "textposition": "auto",
           "type": "bar",
           "x": [
            0.24,
            0.27,
            0.34,
            0.49,
            0.77,
            1.05,
            1.15,
            2.76,
            4.31
           ],
           "xaxis": "x",
           "y": [
            "Checkers",
            "Bridge",
            "Freeway",
            "Ice Hockey",
            "Boxing",
            "Defender",
            "Kaboom!",
            "Missile Command",
            "Asteroids"
           ],
           "yaxis": "y"
          }
         ],
         "name": "1980"
        },
        {
         "data": [
          {
           "alignmentgroup": "True",
           "hovertemplate": "Year=1983<br>Global_Sales=%{x}<br>Name=%{y}<extra></extra>",
           "legendgroup": "",
           "marker": {
            "color": "#636efa",
            "pattern": {
             "shape": ""
            }
           },
           "name": "",
           "offsetgroup": "",
           "orientation": "h",
           "showlegend": false,
           "textposition": "auto",
           "type": "bar",
           "x": [
            0.5,
            0.77,
            0.78,
            1.1,
            1.11,
            1.13,
            1.31,
            2.14,
            2.28,
            3.2
           ],
           "xaxis": "x",
           "y": [
            "Midnight Magic",
            "Crystal Castles",
            "Jr. Pac-Man",
            "Popeye",
            "Donkey Kong Jr.",
            "Donkey Kong",
            "Pitfall II: Lost Caverns",
            "Mahjong",
            "Mario Bros.",
            "Baseball"
           ],
           "yaxis": "y"
          }
         ],
         "name": "1983"
        },
        {
         "data": [
          {
           "alignmentgroup": "True",
           "hovertemplate": "Year=1985<br>Global_Sales=%{x}<br>Name=%{y}<extra></extra>",
           "legendgroup": "",
           "marker": {
            "color": "#636efa",
            "pattern": {
             "shape": ""
            }
           },
           "name": "",
           "offsetgroup": "",
           "orientation": "h",
           "showlegend": false,
           "textposition": "auto",
           "type": "bar",
           "x": [
            0.51,
            0.92,
            1,
            1.03,
            1.05,
            1.32,
            1.5,
            1.96,
            3.5,
            40.24
           ],
           "xaxis": "x",
           "y": [
            "Wrecking Crew",
            "Balloon Fight",
            "1942",
            "Bomberman",
            "Tag Team Match M.U.S.C.L.E.",
            "Gyromite",
            "Ice Climber",
            "Soccer",
            "Kung Fu",
            "Super Mario Bros."
           ],
           "yaxis": "y"
          }
         ],
         "name": "1985"
        },
        {
         "data": [
          {
           "alignmentgroup": "True",
           "hovertemplate": "Year=1982<br>Global_Sales=%{x}<br>Name=%{y}<extra></extra>",
           "legendgroup": "",
           "marker": {
            "color": "#636efa",
            "pattern": {
             "shape": ""
            }
           },
           "name": "",
           "offsetgroup": "",
           "orientation": "h",
           "showlegend": false,
           "textposition": "auto",
           "type": "bar",
           "x": [
            0.77,
            0.78,
            0.87,
            1.08,
            1.1,
            1.12,
            1.18,
            1.59,
            1.64,
            7.81
           ],
           "xaxis": "x",
           "y": [
            "Galaxian",
            "Yars' Revenge",
            "Enduro",
            "Joust",
            "Jungle Hunt",
            "Moon Patrol",
            "Pole Position",
            "Mario Bros.",
            "Dig Dug",
            "Pac-Man"
           ],
           "yaxis": "y"
          }
         ],
         "name": "1982"
        },
        {
         "data": [
          {
           "alignmentgroup": "True",
           "hovertemplate": "Year=1987<br>Global_Sales=%{x}<br>Name=%{y}<extra></extra>",
           "legendgroup": "",
           "marker": {
            "color": "#636efa",
            "pattern": {
             "shape": ""
            }
           },
           "name": "",
           "offsetgroup": "",
           "orientation": "h",
           "showlegend": false,
           "textposition": "auto",
           "type": "bar",
           "x": [
            0.81,
            0.84,
            0.93,
            1.25,
            1.42,
            2.15,
            2.4,
            2.56,
            3.02,
            4.38
           ],
           "xaxis": "x",
           "y": [
            "Mega Man",
            "Final Fantasy",
            "Castlevania II: Simon's Quest",
            "Gegege no Kitarou 2: Youkai Gundan no Chousen",
            "Pro Yakyuu Family Stadium '87",
            "Volleyball",
            "Pro Wrestling",
            "Dragon Warrior II",
            "Mike Tyson's Punch-Out!!",
            "Zelda II: The Adventure of Link"
           ],
           "yaxis": "y"
          }
         ],
         "name": "1987"
        },
        {
         "data": [
          {
           "alignmentgroup": "True",
           "hovertemplate": "Year=1981<br>Global_Sales=%{x}<br>Name=%{y}<extra></extra>",
           "legendgroup": "",
           "marker": {
            "color": "#636efa",
            "pattern": {
             "shape": ""
            }
           },
           "name": "",
           "offsetgroup": "",
           "orientation": "h",
           "showlegend": false,
           "textposition": "auto",
           "type": "bar",
           "x": [
            1.1,
            1.27,
            1.36,
            1.46,
            1.6,
            1.65,
            1.97,
            2.13,
            2.2,
            4.5
           ],
           "xaxis": "x",
           "y": [
            "Megamania",
            "Atlantis",
            "Centipede",
            "Donkey Kong",
            "River Raid",
            "Ms. Pac-Man",
            "E.T.: The Extra Terrestrial",
            "Demon Attack",
            "Frogger",
            "Pitfall!"
           ],
           "yaxis": "y"
          }
         ],
         "name": "1981"
        },
        {
         "data": [
          {
           "alignmentgroup": "True",
           "hovertemplate": "Year=1991<br>Global_Sales=%{x}<br>Name=%{y}<extra></extra>",
           "legendgroup": "",
           "marker": {
            "color": "#636efa",
            "pattern": {
             "shape": ""
            }
           },
           "name": "",
           "offsetgroup": "",
           "orientation": "h",
           "showlegend": false,
           "textposition": "auto",
           "type": "bar",
           "x": [
            1.14,
            1.18,
            1.39,
            1.65,
            1.75,
            1.76,
            1.77,
            1.98,
            4.34,
            4.61
           ],
           "xaxis": "x",
           "y": [
            "Super R.C. Pro-Am",
            "Super Ghouls 'n Ghosts",
            "Teenage Mutant Ninja Turtles III: The Manhattan Project",
            "Super Scope 6",
            "Yoshi",
            "Metroid II: Return of Samus",
            "Final Fantasy II",
            "SimCity",
            "Sonic the Hedgehog",
            "The Legend of Zelda: A Link to the Past"
           ],
           "yaxis": "y"
          }
         ],
         "name": "1991"
        },
        {
         "data": [
          {
           "alignmentgroup": "True",
           "hovertemplate": "Year=1984<br>Global_Sales=%{x}<br>Name=%{y}<extra></extra>",
           "legendgroup": "",
           "marker": {
            "color": "#636efa",
            "pattern": {
             "shape": ""
            }
           },
           "name": "",
           "offsetgroup": "",
           "orientation": "h",
           "showlegend": false,
           "textposition": "auto",
           "type": "bar",
           "x": [
            1.22,
            1.27,
            1.45,
            1.52,
            1.52,
            1.85,
            2.17,
            4.01,
            4.16,
            28.31
           ],
           "xaxis": "x",
           "y": [
            "Pac-Man",
            "Hogan's Alley",
            "4 Nin uchi Mahjong",
            "F1 Race",
            "Xevious",
            "Pinball",
            "Tennis",
            "Golf",
            "Excitebike",
            "Duck Hunt"
           ],
           "yaxis": "y"
          }
         ],
         "name": "1984"
        },
        {
         "data": [
          {
           "alignmentgroup": "True",
           "hovertemplate": "Year=1988<br>Global_Sales=%{x}<br>Name=%{y}<extra></extra>",
           "legendgroup": "",
           "marker": {
            "color": "#636efa",
            "pattern": {
             "shape": ""
            }
           },
           "name": "",
           "offsetgroup": "",
           "orientation": "h",
           "showlegend": false,
           "textposition": "auto",
           "type": "bar",
           "x": [
            1.25,
            1.43,
            1.51,
            1.56,
            2.14,
            2.42,
            3.87,
            5.58,
            7.46,
            17.28
           ],
           "xaxis": "x",
           "y": [
            "Dragon Ball: Daimaou Fukkatsu",
            "Disney's DuckTales",
            "Mega Man 2",
            "Donkey Kong Classics",
            "R.C. Pro-Am",
            "Ice Hockey",
            "Dragon Warrior III",
            "Tetris",
            "Super Mario Bros. 2",
            "Super Mario Bros. 3"
           ],
           "yaxis": "y"
          }
         ],
         "name": "1988"
        },
        {
         "data": [
          {
           "alignmentgroup": "True",
           "hovertemplate": "Year=1989<br>Global_Sales=%{x}<br>Name=%{y}<extra></extra>",
           "legendgroup": "",
           "marker": {
            "color": "#636efa",
            "pattern": {
             "shape": ""
            }
           },
           "name": "",
           "offsetgroup": "",
           "orientation": "h",
           "showlegend": false,
           "textposition": "auto",
           "type": "bar",
           "x": [
            1.28,
            1.61,
            1.67,
            1.94,
            1.99,
            2.12,
            4.17,
            5.34,
            18.14,
            30.26
           ],
           "xaxis": "x",
           "y": [
            "Yakuman",
            "Baseball",
            "Disney's DuckTales",
            "Alleyway",
            "Tennis",
            "Golf",
            "Teenage Mutant Ninja Turtles",
            "Dr. Mario",
            "Super Mario Land",
            "Tetris"
           ],
           "yaxis": "y"
          }
         ],
         "name": "1989"
        },
        {
         "data": [
          {
           "alignmentgroup": "True",
           "hovertemplate": "Year=1993<br>Global_Sales=%{x}<br>Name=%{y}<extra></extra>",
           "legendgroup": "",
           "marker": {
            "color": "#636efa",
            "pattern": {
             "shape": ""
            }
           },
           "name": "",
           "offsetgroup": "",
           "orientation": "h",
           "showlegend": false,
           "textposition": "auto",
           "type": "bar",
           "x": [
            1.45,
            1.5,
            1.7,
            1.75,
            1.75,
            1.83,
            1.93,
            2,
            2.99,
            10.55
           ],
           "xaxis": "x",
           "y": [
            "Dragon Ball Z",
            "Sonic CD",
            "Super Puyo Puyo",
            "Disney's Aladdin",
            "Kirby's Adventure",
            "Secret of Mana",
            "Mortal Kombat II",
            "Super Street Fighter II",
            "Star Fox",
            "Super Mario All-Stars"
           ],
           "yaxis": "y"
          }
         ],
         "name": "1993"
        },
        {
         "data": [
          {
           "alignmentgroup": "True",
           "hovertemplate": "Year=1990<br>Global_Sales=%{x}<br>Name=%{y}<extra></extra>",
           "legendgroup": "",
           "marker": {
            "color": "#636efa",
            "pattern": {
             "shape": ""
            }
           },
           "name": "",
           "offsetgroup": "",
           "orientation": "h",
           "showlegend": false,
           "textposition": "auto",
           "type": "bar",
           "x": [
            1.48,
            1.56,
            2.23,
            2.6,
            2.6,
            2.85,
            3.12,
            3.41,
            4.85,
            20.61
           ],
           "xaxis": "x",
           "y": [
            "Nintendo World Cup",
            "Final Fight",
            "Teenage Mutant Ninja Turtles II: The Arcade Game",
            "Streets of Rage",
            "Streets of Rage",
            "F-Zero",
            "Dragon Warrior IV",
            "F-1 Race",
            "Dr. Mario",
            "Super Mario World"
           ],
           "yaxis": "y"
          }
         ],
         "name": "1990"
        },
        {
         "data": [
          {
           "alignmentgroup": "True",
           "hovertemplate": "Year=1986<br>Global_Sales=%{x}<br>Name=%{y}<extra></extra>",
           "legendgroup": "",
           "marker": {
            "color": "#636efa",
            "pattern": {
             "shape": ""
            }
           },
           "name": "",
           "offsetgroup": "",
           "orientation": "h",
           "showlegend": false,
           "textposition": "auto",
           "type": "bar",
           "x": [
            1.5,
            1.64,
            1.76,
            1.96,
            2.2,
            2.52,
            2.65,
            2.73,
            3.08,
            6.51
           ],
           "xaxis": "x",
           "y": [
            "Ninja Hattori Kun: Ninja wa Shuugyou Degogiru no Maki",
            "Ghosts 'n Goblins",
            "Kid Icarus",
            "Rad Racer",
            "Pro Yakyuu Family Stadium",
            "Dragon Warrior",
            "Super Mario Bros.: The Lost Levels",
            "Metroid",
            "World Class Track Meet",
            "The Legend of Zelda"
           ],
           "yaxis": "y"
          }
         ],
         "name": "1986"
        },
        {
         "data": [
          {
           "alignmentgroup": "True",
           "hovertemplate": "Year=1994<br>Global_Sales=%{x}<br>Name=%{y}<extra></extra>",
           "legendgroup": "",
           "marker": {
            "color": "#636efa",
            "pattern": {
             "shape": ""
            }
           },
           "name": "",
           "offsetgroup": "",
           "orientation": "h",
           "showlegend": false,
           "textposition": "auto",
           "type": "bar",
           "x": [
            1.95,
            2.08,
            2.39,
            2.81,
            3.07,
            3.42,
            3.61,
            3.91,
            5.19,
            9.3
           ],
           "xaxis": "x",
           "y": [
            "Star Wars: Dark Forces",
            "Warcraft: Orcs & Humans",
            "Monopoly",
            "Myst",
            "Donkey Kong",
            "Final Fantasy III",
            "Doom II: Hell on Earth",
            "Donkey Kong Land",
            "Super Mario Land 3: Wario Land",
            "Donkey Kong Country"
           ],
           "yaxis": "y"
          }
         ],
         "name": "1994"
        },
        {
         "data": [
          {
           "alignmentgroup": "True",
           "hovertemplate": "Year=1995<br>Global_Sales=%{x}<br>Name=%{y}<extra></extra>",
           "legendgroup": "",
           "marker": {
            "color": "#636efa",
            "pattern": {
             "shape": ""
            }
           },
           "name": "",
           "offsetgroup": "",
           "orientation": "h",
           "showlegend": false,
           "textposition": "auto",
           "type": "bar",
           "x": [
            2.31,
            2.36,
            3.03,
            3.19,
            3.2,
            3.24,
            3.84,
            4.12,
            4.21,
            5.15
           ],
           "xaxis": "x",
           "y": [
            "Chrono Trigger",
            "Kirby's Dream Land 2",
            "Rayman",
            "Dragon Quest VI: Maboroshi no Daichi",
            "Killer Instinct",
            "Tekken",
            "Namco Museum Vol.1",
            "Super Mario World 2: Yoshi's Island",
            "Warcraft II: Tides of Darkness",
            "Donkey Kong Country 2: Diddy's Kong Quest"
           ],
           "yaxis": "y"
          }
         ],
         "name": "1995"
        },
        {
         "data": [
          {
           "alignmentgroup": "True",
           "hovertemplate": "Year=1992<br>Global_Sales=%{x}<br>Name=%{y}<extra></extra>",
           "legendgroup": "",
           "marker": {
            "color": "#636efa",
            "pattern": {
             "shape": ""
            }
           },
           "name": "",
           "offsetgroup": "",
           "orientation": "h",
           "showlegend": false,
           "textposition": "auto",
           "type": "bar",
           "x": [
            2.67,
            2.75,
            2.79,
            3.83,
            4.1,
            5.13,
            6.03,
            6.3,
            8.76,
            11.18
           ],
           "xaxis": "x",
           "y": [
            "Mortal Kombat",
            "Mario Paint",
            "Dragon Quest V: Tenkuu no Hanayome",
            "The Legend of Zelda: Link's Awakening",
            "Street Fighter II Turbo",
            "Kirby's Dream Land",
            "Sonic the Hedgehog 2",
            "Street Fighter II: The World Warrior",
            "Super Mario Kart",
            "Super Mario Land 2: 6 Golden Coins"
           ],
           "yaxis": "y"
          }
         ],
         "name": "1992"
        },
        {
         "data": [
          {
           "alignmentgroup": "True",
           "hovertemplate": "Year=2003<br>Global_Sales=%{x}<br>Name=%{y}<extra></extra>",
           "legendgroup": "",
           "marker": {
            "color": "#636efa",
            "pattern": {
             "shape": ""
            }
           },
           "name": "",
           "offsetgroup": "",
           "orientation": "h",
           "showlegend": false,
           "textposition": "auto",
           "type": "bar",
           "x": [
            3.28,
            3.9,
            4.2,
            4.7,
            5.13,
            5.2,
            5.29,
            6.95,
            7.2,
            7.2
           ],
           "xaxis": "x",
           "y": [
            "The Lord of the Rings: The Return of the King",
            "Tony Hawk's Underground",
            "EyeToy Play",
            "The Simpsons: Hit & Run",
            "Medal of Honor: Rising Sun",
            "Super Mario Bros. 3",
            "Final Fantasy X-2",
            "Mario Kart: Double Dash!!",
            "Need for Speed Underground",
            "Need for Speed Underground"
           ],
           "yaxis": "y"
          }
         ],
         "name": "2003"
        },
        {
         "data": [
          {
           "alignmentgroup": "True",
           "hovertemplate": "Year=2000<br>Global_Sales=%{x}<br>Name=%{y}<extra></extra>",
           "legendgroup": "",
           "marker": {
            "color": "#636efa",
            "pattern": {
             "shape": ""
            }
           },
           "name": "",
           "offsetgroup": "",
           "orientation": "h",
           "showlegend": false,
           "textposition": "auto",
           "type": "bar",
           "x": [
            3.52,
            3.58,
            3.71,
            4.05,
            4.47,
            4.68,
            4.68,
            4.73,
            5.3,
            6.39
           ],
           "xaxis": "x",
           "y": [
            "Rugrats in Paris: The Movie",
            "WWF SmackDown!",
            "Spyro: Year of the Dragon",
            "Tekken Tag Tournament",
            "Dragon Quest VII: Warriors of Eden",
            "Tony Hawk's Pro Skater 2",
            "Tony Hawk's Pro Skater 2",
            "Driver 2",
            "Final Fantasy IX",
            "Pokémon Crystal Version"
           ],
           "yaxis": "y"
          }
         ],
         "name": "2000"
        },
        {
         "data": [
          {
           "alignmentgroup": "True",
           "hovertemplate": "Year=1997<br>Global_Sales=%{x}<br>Name=%{y}<extra></extra>",
           "legendgroup": "",
           "marker": {
            "color": "#636efa",
            "pattern": {
             "shape": ""
            }
           },
           "name": "",
           "offsetgroup": "",
           "orientation": "h",
           "showlegend": false,
           "textposition": "auto",
           "type": "bar",
           "x": [
            3.56,
            4.03,
            4.12,
            4.16,
            4.88,
            5.24,
            7.58,
            8.09,
            9.72,
            10.95
           ],
           "xaxis": "x",
           "y": [
            "Croc: Legend of the Gobbos",
            "Star Fox 64",
            "Half-Life",
            "Frogger",
            "Diddy Kong Racing",
            "Tomb Raider II",
            "Crash Bandicoot 2: Cortex Strikes Back",
            "GoldenEye 007",
            "Final Fantasy VII",
            "Gran Turismo"
           ],
           "yaxis": "y"
          }
         ],
         "name": "1997"
        },
        {
         "data": [
          {
           "alignmentgroup": "True",
           "hovertemplate": "Year=1996<br>Global_Sales=%{x}<br>Name=%{y}<extra></extra>",
           "legendgroup": "",
           "marker": {
            "color": "#636efa",
            "pattern": {
             "shape": ""
            }
           },
           "name": "",
           "offsetgroup": "",
           "orientation": "h",
           "showlegend": false,
           "textposition": "auto",
           "type": "bar",
           "x": [
            3.77,
            4.05,
            4.63,
            5.05,
            5.12,
            5.74,
            6.82,
            9.87,
            11.89,
            31.37
           ],
           "xaxis": "x",
           "y": [
            "Resident Evil Director's Cut",
            "Namco Museum Vol.3",
            "Tomb Raider",
            "Resident Evil",
            "Microsoft Flight Simulator",
            "Tekken 2",
            "Crash Bandicoot",
            "Mario Kart 64",
            "Super Mario 64",
            "Pokemon Red/Pokemon Blue"
           ],
           "yaxis": "y"
          }
         ],
         "name": "1996"
        },
        {
         "data": [
          {
           "alignmentgroup": "True",
           "hovertemplate": "Year=2015<br>Global_Sales=%{x}<br>Name=%{y}<extra></extra>",
           "legendgroup": "",
           "marker": {
            "color": "#636efa",
            "pattern": {
             "shape": ""
            }
           },
           "name": "",
           "offsetgroup": "",
           "orientation": "h",
           "showlegend": false,
           "textposition": "auto",
           "type": "bar",
           "x": [
            3.85,
            4.09,
            4.26,
            4.47,
            4.57,
            6.96,
            7.3,
            7.67,
            8.49,
            14.24
           ],
           "xaxis": "x",
           "y": [
            "NBA 2K16",
            "Fallout 4",
            "Halo 5: Guardians",
            "Uncharted: The Nathan Drake Collection",
            "Splatoon",
            "Fallout 4",
            "Call of Duty: Black Ops 3",
            "Star Wars Battlefront (2015)",
            "FIFA 16",
            "Call of Duty: Black Ops 3"
           ],
           "yaxis": "y"
          }
         ],
         "name": "2015"
        },
        {
         "data": [
          {
           "alignmentgroup": "True",
           "hovertemplate": "Year=2002<br>Global_Sales=%{x}<br>Name=%{y}<extra></extra>",
           "legendgroup": "",
           "marker": {
            "color": "#636efa",
            "pattern": {
             "shape": ""
            }
           },
           "name": "",
           "offsetgroup": "",
           "orientation": "h",
           "showlegend": false,
           "textposition": "auto",
           "type": "bar",
           "x": [
            4.14,
            4.48,
            4.6,
            4.6,
            4.67,
            6.31,
            6.4,
            6.83,
            15.85,
            16.15
           ],
           "xaxis": "x",
           "y": [
            "Madden NFL 2003",
            "Spider-Man: The Movie",
            "The Legend of Zelda: The Wind Waker",
            "The Legend of Zelda: The Wind Waker",
            "The Lord of the Rings: The Two Towers",
            "Super Mario Sunshine",
            "Kingdom Hearts",
            "Medal of Honor: Frontline",
            "Pokemon Ruby/Pokemon Sapphire",
            "Grand Theft Auto: Vice City"
           ],
           "yaxis": "y"
          }
         ],
         "name": "2002"
        },
        {
         "data": [
          {
           "alignmentgroup": "True",
           "hovertemplate": "Year=2005<br>Global_Sales=%{x}<br>Name=%{y}<extra></extra>",
           "legendgroup": "",
           "marker": {
            "color": "#636efa",
            "pattern": {
             "shape": ""
            }
           },
           "name": "",
           "offsetgroup": "",
           "orientation": "h",
           "showlegend": false,
           "textposition": "auto",
           "type": "bar",
           "x": [
            4.37,
            4.45,
            4.91,
            6.67,
            7.72,
            12.27,
            15.3,
            20.22,
            23.42,
            24.76
           ],
           "xaxis": "x",
           "y": [
            "Need for Speed: Most Wanted",
            "God of War",
            "Madden NFL 06",
            "Big Brain Academy",
            "Grand Theft Auto: Liberty City Stories",
            "Animal Crossing: Wild World",
            "Brain Age 2: More Training in Minutes a Day",
            "Brain Age: Train Your Brain in Minutes a Day",
            "Mario Kart DS",
            "Nintendogs"
           ],
           "yaxis": "y"
          }
         ],
         "name": "2005"
        },
        {
         "data": [
          {
           "alignmentgroup": "True",
           "hovertemplate": "Year=2013<br>Global_Sales=%{x}<br>Name=%{y}<extra></extra>",
           "legendgroup": "",
           "marker": {
            "color": "#636efa",
            "pattern": {
             "shape": ""
            }
           },
           "name": "",
           "offsetgroup": "",
           "orientation": "h",
           "showlegend": false,
           "textposition": "auto",
           "type": "bar",
           "x": [
            4.58,
            5.15,
            5.99,
            6.9,
            9.2,
            9.59,
            10.21,
            14.35,
            16.38,
            21.4
           ],
           "xaxis": "x",
           "y": [
            "Luigi's Mansion: Dark Moon",
            "Tomodachi Life",
            "The Last of Us",
            "FIFA 14",
            "Minecraft",
            "Call of Duty: Ghosts",
            "Call of Duty: Ghosts",
            "Pokemon X/Pokemon Y",
            "Grand Theft Auto V",
            "Grand Theft Auto V"
           ],
           "yaxis": "y"
          }
         ],
         "name": "2013"
        },
        {
         "data": [
          {
           "alignmentgroup": "True",
           "hovertemplate": "Year=1998<br>Global_Sales=%{x}<br>Name=%{y}<extra></extra>",
           "legendgroup": "",
           "marker": {
            "color": "#636efa",
            "pattern": {
             "shape": ""
            }
           },
           "name": "",
           "offsetgroup": "",
           "orientation": "h",
           "showlegend": false,
           "textposition": "auto",
           "type": "bar",
           "x": [
            5,
            5.82,
            5.82,
            5.82,
            6.03,
            7.13,
            7.16,
            7.6,
            7.6,
            14.64
           ],
           "xaxis": "x",
           "y": [
            "Spyro the Dragon",
            "Resident Evil 2",
            "Resident Evil 2",
            "Resident Evil 2",
            "Metal Gear Solid",
            "Crash Bandicoot 3: Warped",
            "Tekken 3",
            "The Legend of Zelda: Ocarina of Time",
            "The Legend of Zelda: Ocarina of Time",
            "Pokémon Yellow: Special Pikachu Edition"
           ],
           "yaxis": "y"
          }
         ],
         "name": "1998"
        },
        {
         "data": [
          {
           "alignmentgroup": "True",
           "hovertemplate": "Year=1999<br>Global_Sales=%{x}<br>Name=%{y}<extra></extra>",
           "legendgroup": "",
           "marker": {
            "color": "#636efa",
            "pattern": {
             "shape": ""
            }
           },
           "name": "",
           "offsetgroup": "",
           "orientation": "h",
           "showlegend": false,
           "textposition": "auto",
           "type": "bar",
           "x": [
            5.02,
            5.07,
            5.27,
            5.31,
            5.45,
            5.55,
            6.27,
            7.86,
            9.49,
            23.1
           ],
           "xaxis": "x",
           "y": [
            "Tony Hawk's Pro Skater",
            "Super Mario Bros.",
            "Donkey Kong 64",
            "Pokemon Pinball",
            "Pokemon Stadium",
            "Super Smash Bros.",
            "Driver",
            "Final Fantasy VIII",
            "Gran Turismo 2",
            "Pokemon Gold/Pokemon Silver"
           ],
           "yaxis": "y"
          }
         ],
         "name": "1999"
        },
        {
         "data": [
          {
           "alignmentgroup": "True",
           "hovertemplate": "Year=2006<br>Global_Sales=%{x}<br>Name=%{y}<extra></extra>",
           "legendgroup": "",
           "marker": {
            "color": "#636efa",
            "pattern": {
             "shape": ""
            }
           },
           "name": "",
           "offsetgroup": "",
           "orientation": "h",
           "showlegend": false,
           "textposition": "auto",
           "type": "bar",
           "x": [
            5.08,
            5.12,
            5.72,
            5.95,
            6.11,
            7.31,
            18.36,
            29.02,
            30.01,
            82.74
           ],
           "xaxis": "x",
           "y": [
            "Grand Theft Auto: Vice City Stories",
            "Guitar Hero II",
            "Cooking Mama",
            "Final Fantasy XII",
            "Gears of War",
            "The Legend of Zelda: Twilight Princess",
            "Pokemon Diamond/Pokemon Pearl",
            "Wii Play",
            "New Super Mario Bros.",
            "Wii Sports"
           ],
           "yaxis": "y"
          }
         ],
         "name": "2006"
        },
        {
         "data": [
          {
           "alignmentgroup": "True",
           "hovertemplate": "Year=2014<br>Global_Sales=%{x}<br>Name=%{y}<extra></extra>",
           "legendgroup": "",
           "marker": {
            "color": "#636efa",
            "pattern": {
             "shape": ""
            }
           },
           "name": "",
           "offsetgroup": "",
           "orientation": "h",
           "showlegend": false,
           "textposition": "auto",
           "type": "bar",
           "x": [
            5.08,
            5.13,
            5.42,
            5.65,
            6.59,
            6.96,
            7.45,
            7.6,
            11.33,
            11.98
           ],
           "xaxis": "x",
           "y": [
            "Grand Theft Auto V",
            "Call of Duty: Advanced Warfare",
            "Minecraft",
            "Destiny",
            "FIFA 15",
            "Mario Kart 8",
            "Super Smash Bros. for Wii U and 3DS",
            "Call of Duty: Advanced Warfare",
            "Pokemon Omega Ruby/Pokemon Alpha Sapphire",
            "Grand Theft Auto V"
           ],
           "yaxis": "y"
          }
         ],
         "name": "2014"
        },
        {
         "data": [
          {
           "alignmentgroup": "True",
           "hovertemplate": "Year=2004<br>Global_Sales=%{x}<br>Name=%{y}<extra></extra>",
           "legendgroup": "",
           "marker": {
            "color": "#636efa",
            "pattern": {
             "shape": ""
            }
           },
           "name": "",
           "offsetgroup": "",
           "orientation": "h",
           "showlegend": false,
           "textposition": "auto",
           "type": "bar",
           "x": [
            5.21,
            6.28,
            6.41,
            6.9,
            6.9,
            8.49,
            10.42,
            10.49,
            11.66,
            20.81
           ],
           "xaxis": "x",
           "y": [
            "Dragon Quest VIII: Journey of the Cursed King",
            "World of Warcraft",
            "Pokémon Emerald Version",
            "Need for Speed Underground 2",
            "Need for Speed Underground 2",
            "Halo 2",
            "Super Mario 64",
            "Pokemon FireRed/Pokemon LeafGreen",
            "Gran Turismo 4",
            "Grand Theft Auto: San Andreas"
           ],
           "yaxis": "y"
          }
         ],
         "name": "2004"
        },
        {
         "data": [
          {
           "alignmentgroup": "True",
           "hovertemplate": "Year=2001<br>Global_Sales=%{x}<br>Name=%{y}<extra></extra>",
           "legendgroup": "",
           "marker": {
            "color": "#636efa",
            "pattern": {
             "shape": ""
            }
           },
           "name": "",
           "offsetgroup": "",
           "orientation": "h",
           "showlegend": false,
           "textposition": "auto",
           "type": "bar",
           "x": [
            5.46,
            5.47,
            5.49,
            6.05,
            6.43,
            7.07,
            8.05,
            8.05,
            13.1,
            14.98
           ],
           "xaxis": "x",
           "y": [
            "Super Mario World",
            "Mario Kart: Super Circuit",
            "Super Mario Advance",
            "Metal Gear Solid 2: Sons of Liberty",
            "Halo: Combat Evolved",
            "Super Smash Bros. Melee",
            "Final Fantasy X",
            "Final Fantasy X",
            "Grand Theft Auto III",
            "Gran Turismo 3: A-Spec"
           ],
           "yaxis": "y"
          }
         ],
         "name": "2001"
        },
        {
         "data": [
          {
           "alignmentgroup": "True",
           "hovertemplate": "Year=2007<br>Global_Sales=%{x}<br>Name=%{y}<extra></extra>",
           "legendgroup": "",
           "marker": {
            "color": "#636efa",
            "pattern": {
             "shape": ""
            }
           },
           "name": "",
           "offsetgroup": "",
           "orientation": "h",
           "showlegend": false,
           "textposition": "auto",
           "type": "bar",
           "x": [
            5.55,
            5.83,
            6.72,
            8.06,
            8.42,
            9.02,
            9.32,
            11.52,
            12.14,
            22.72
           ],
           "xaxis": "x",
           "y": [
            "Assassin's Creed",
            "LEGO Star Wars: The Complete Saga",
            "Call of Duty 4: Modern Warfare",
            "Mario & Sonic at the Olympic Games",
            "Mario Party 8",
            "Mario Party DS",
            "Call of Duty 4: Modern Warfare",
            "Super Mario Galaxy",
            "Halo 3",
            "Wii Fit"
           ],
           "yaxis": "y"
          }
         ],
         "name": "2007"
        },
        {
         "data": [
          {
           "alignmentgroup": "True",
           "hovertemplate": "Year=2008<br>Global_Sales=%{x}<br>Name=%{y}<extra></extra>",
           "legendgroup": "",
           "marker": {
            "color": "#636efa",
            "pattern": {
             "shape": ""
            }
           },
           "name": "",
           "offsetgroup": "",
           "orientation": "h",
           "showlegend": false,
           "textposition": "auto",
           "type": "bar",
           "x": [
            5.92,
            6.03,
            6.76,
            6.76,
            7.37,
            7.84,
            10.57,
            11.02,
            13.04,
            35.82
           ],
           "xaxis": "x",
           "y": [
            "LittleBigPlanet",
            "Metal Gear Solid 4: Guns of the Patriots",
            "Gears of War 2",
            "Gears of War 2",
            "Call of Duty: World at War",
            "Pokémon Platinum Version",
            "Grand Theft Auto IV",
            "Grand Theft Auto IV",
            "Super Smash Bros. Brawl",
            "Mario Kart Wii"
           ],
           "yaxis": "y"
          }
         ],
         "name": "2008"
        },
        {
         "data": [
          {
           "alignmentgroup": "True",
           "hovertemplate": "Year=2009<br>Global_Sales=%{x}<br>Name=%{y}<extra></extra>",
           "legendgroup": "",
           "marker": {
            "color": "#636efa",
            "pattern": {
             "shape": ""
            }
           },
           "name": "",
           "offsetgroup": "",
           "orientation": "h",
           "showlegend": false,
           "textposition": "auto",
           "type": "bar",
           "x": [
            6.36,
            6.73,
            7.27,
            8.11,
            10.69,
            11.9,
            13.51,
            22,
            28.62,
            33
           ],
           "xaxis": "x",
           "y": [
            "Halo 3: ODST",
            "Uncharted 2: Among Thieves",
            "Just Dance",
            "The Sims 3",
            "Call of Duty: Modern Warfare 2",
            "Pokemon HeartGold/Pokemon SoulSilver",
            "Call of Duty: Modern Warfare 2",
            "Wii Fit Plus",
            "New Super Mario Bros. Wii",
            "Wii Sports Resort"
           ],
           "yaxis": "y"
          }
         ],
         "name": "2009"
        },
        {
         "data": [
          {
           "alignmentgroup": "True",
           "hovertemplate": "Year=2011<br>Global_Sales=%{x}<br>Name=%{y}<extra></extra>",
           "legendgroup": "",
           "marker": {
            "color": "#636efa",
            "pattern": {
             "shape": ""
            }
           },
           "name": "",
           "offsetgroup": "",
           "orientation": "h",
           "showlegend": false,
           "textposition": "auto",
           "type": "bar",
           "x": [
            7.34,
            8.84,
            8.84,
            10.26,
            10.79,
            12.21,
            13.46,
            13.46,
            14.76,
            14.76
           ],
           "xaxis": "x",
           "y": [
            "Battlefield 3",
            "The Elder Scrolls V: Skyrim",
            "The Elder Scrolls V: Skyrim",
            "Just Dance 3",
            "Super Mario 3D Land",
            "Mario Kart 7",
            "Call of Duty: Modern Warfare 3",
            "Call of Duty: Modern Warfare 3",
            "Call of Duty: Modern Warfare 3",
            "Call of Duty: Modern Warfare 3"
           ],
           "yaxis": "y"
          }
         ],
         "name": "2011"
        },
        {
         "data": [
          {
           "alignmentgroup": "True",
           "hovertemplate": "Year=2012<br>Global_Sales=%{x}<br>Name=%{y}<extra></extra>",
           "legendgroup": "",
           "marker": {
            "color": "#636efa",
            "pattern": {
             "shape": ""
            }
           },
           "name": "",
           "offsetgroup": "",
           "orientation": "h",
           "showlegend": false,
           "textposition": "auto",
           "type": "bar",
           "x": [
            8.24,
            8.24,
            8.33,
            9.09,
            9.76,
            9.82,
            13.73,
            13.73,
            14.03,
            14.03
           ],
           "xaxis": "x",
           "y": [
            "FIFA Soccer 13",
            "FIFA Soccer 13",
            "Pokemon Black 2/Pokemon White 2",
            "Animal Crossing: New Leaf",
            "Halo 4",
            "New Super Mario Bros. 2",
            "Call of Duty: Black Ops II",
            "Call of Duty: Black Ops II",
            "Call of Duty: Black Ops II",
            "Call of Duty: Black Ops II"
           ],
           "yaxis": "y"
          }
         ],
         "name": "2012"
        },
        {
         "data": [
          {
           "alignmentgroup": "True",
           "hovertemplate": "Year=2010<br>Global_Sales=%{x}<br>Name=%{y}<extra></extra>",
           "legendgroup": "",
           "marker": {
            "color": "#636efa",
            "pattern": {
             "shape": ""
            }
           },
           "name": "",
           "offsetgroup": "",
           "orientation": "h",
           "showlegend": false,
           "textposition": "auto",
           "type": "bar",
           "x": [
            8.49,
            9.52,
            9.88,
            10.77,
            12.73,
            12.73,
            14.64,
            14.64,
            15.32,
            21.82
           ],
           "xaxis": "x",
           "y": [
            "Wii Party",
            "Just Dance 2",
            "Halo: Reach",
            "Gran Turismo 5",
            "Call of Duty: Black Ops",
            "Call of Duty: Black Ops",
            "Call of Duty: Black Ops",
            "Call of Duty: Black Ops",
            "Pokemon Black/Pokemon White",
            "Kinect Adventures!"
           ],
           "yaxis": "y"
          }
         ],
         "name": "2010"
        }
       ],
       "layout": {
        "barmode": "group",
        "legend": {
         "tracegroupgap": 0
        },
        "margin": {
         "l": 400,
         "t": 60
        },
        "sliders": [
         {
          "active": 0,
          "currentvalue": {
           "prefix": "Year="
          },
          "len": 0.9,
          "pad": {
           "b": 10,
           "t": 60
          },
          "steps": [
           {
            "args": [
             [
              "1980"
             ],
             {
              "frame": {
               "duration": 0,
               "redraw": true
              },
              "fromcurrent": true,
              "mode": "immediate",
              "transition": {
               "duration": 0,
               "easing": "linear"
              }
             }
            ],
            "label": "1980",
            "method": "animate"
           },
           {
            "args": [
             [
              "1983"
             ],
             {
              "frame": {
               "duration": 0,
               "redraw": true
              },
              "fromcurrent": true,
              "mode": "immediate",
              "transition": {
               "duration": 0,
               "easing": "linear"
              }
             }
            ],
            "label": "1983",
            "method": "animate"
           },
           {
            "args": [
             [
              "1985"
             ],
             {
              "frame": {
               "duration": 0,
               "redraw": true
              },
              "fromcurrent": true,
              "mode": "immediate",
              "transition": {
               "duration": 0,
               "easing": "linear"
              }
             }
            ],
            "label": "1985",
            "method": "animate"
           },
           {
            "args": [
             [
              "1982"
             ],
             {
              "frame": {
               "duration": 0,
               "redraw": true
              },
              "fromcurrent": true,
              "mode": "immediate",
              "transition": {
               "duration": 0,
               "easing": "linear"
              }
             }
            ],
            "label": "1982",
            "method": "animate"
           },
           {
            "args": [
             [
              "1987"
             ],
             {
              "frame": {
               "duration": 0,
               "redraw": true
              },
              "fromcurrent": true,
              "mode": "immediate",
              "transition": {
               "duration": 0,
               "easing": "linear"
              }
             }
            ],
            "label": "1987",
            "method": "animate"
           },
           {
            "args": [
             [
              "1981"
             ],
             {
              "frame": {
               "duration": 0,
               "redraw": true
              },
              "fromcurrent": true,
              "mode": "immediate",
              "transition": {
               "duration": 0,
               "easing": "linear"
              }
             }
            ],
            "label": "1981",
            "method": "animate"
           },
           {
            "args": [
             [
              "1991"
             ],
             {
              "frame": {
               "duration": 0,
               "redraw": true
              },
              "fromcurrent": true,
              "mode": "immediate",
              "transition": {
               "duration": 0,
               "easing": "linear"
              }
             }
            ],
            "label": "1991",
            "method": "animate"
           },
           {
            "args": [
             [
              "1984"
             ],
             {
              "frame": {
               "duration": 0,
               "redraw": true
              },
              "fromcurrent": true,
              "mode": "immediate",
              "transition": {
               "duration": 0,
               "easing": "linear"
              }
             }
            ],
            "label": "1984",
            "method": "animate"
           },
           {
            "args": [
             [
              "1988"
             ],
             {
              "frame": {
               "duration": 0,
               "redraw": true
              },
              "fromcurrent": true,
              "mode": "immediate",
              "transition": {
               "duration": 0,
               "easing": "linear"
              }
             }
            ],
            "label": "1988",
            "method": "animate"
           },
           {
            "args": [
             [
              "1989"
             ],
             {
              "frame": {
               "duration": 0,
               "redraw": true
              },
              "fromcurrent": true,
              "mode": "immediate",
              "transition": {
               "duration": 0,
               "easing": "linear"
              }
             }
            ],
            "label": "1989",
            "method": "animate"
           },
           {
            "args": [
             [
              "1993"
             ],
             {
              "frame": {
               "duration": 0,
               "redraw": true
              },
              "fromcurrent": true,
              "mode": "immediate",
              "transition": {
               "duration": 0,
               "easing": "linear"
              }
             }
            ],
            "label": "1993",
            "method": "animate"
           },
           {
            "args": [
             [
              "1990"
             ],
             {
              "frame": {
               "duration": 0,
               "redraw": true
              },
              "fromcurrent": true,
              "mode": "immediate",
              "transition": {
               "duration": 0,
               "easing": "linear"
              }
             }
            ],
            "label": "1990",
            "method": "animate"
           },
           {
            "args": [
             [
              "1986"
             ],
             {
              "frame": {
               "duration": 0,
               "redraw": true
              },
              "fromcurrent": true,
              "mode": "immediate",
              "transition": {
               "duration": 0,
               "easing": "linear"
              }
             }
            ],
            "label": "1986",
            "method": "animate"
           },
           {
            "args": [
             [
              "1994"
             ],
             {
              "frame": {
               "duration": 0,
               "redraw": true
              },
              "fromcurrent": true,
              "mode": "immediate",
              "transition": {
               "duration": 0,
               "easing": "linear"
              }
             }
            ],
            "label": "1994",
            "method": "animate"
           },
           {
            "args": [
             [
              "1995"
             ],
             {
              "frame": {
               "duration": 0,
               "redraw": true
              },
              "fromcurrent": true,
              "mode": "immediate",
              "transition": {
               "duration": 0,
               "easing": "linear"
              }
             }
            ],
            "label": "1995",
            "method": "animate"
           },
           {
            "args": [
             [
              "1992"
             ],
             {
              "frame": {
               "duration": 0,
               "redraw": true
              },
              "fromcurrent": true,
              "mode": "immediate",
              "transition": {
               "duration": 0,
               "easing": "linear"
              }
             }
            ],
            "label": "1992",
            "method": "animate"
           },
           {
            "args": [
             [
              "2003"
             ],
             {
              "frame": {
               "duration": 0,
               "redraw": true
              },
              "fromcurrent": true,
              "mode": "immediate",
              "transition": {
               "duration": 0,
               "easing": "linear"
              }
             }
            ],
            "label": "2003",
            "method": "animate"
           },
           {
            "args": [
             [
              "2000"
             ],
             {
              "frame": {
               "duration": 0,
               "redraw": true
              },
              "fromcurrent": true,
              "mode": "immediate",
              "transition": {
               "duration": 0,
               "easing": "linear"
              }
             }
            ],
            "label": "2000",
            "method": "animate"
           },
           {
            "args": [
             [
              "1997"
             ],
             {
              "frame": {
               "duration": 0,
               "redraw": true
              },
              "fromcurrent": true,
              "mode": "immediate",
              "transition": {
               "duration": 0,
               "easing": "linear"
              }
             }
            ],
            "label": "1997",
            "method": "animate"
           },
           {
            "args": [
             [
              "1996"
             ],
             {
              "frame": {
               "duration": 0,
               "redraw": true
              },
              "fromcurrent": true,
              "mode": "immediate",
              "transition": {
               "duration": 0,
               "easing": "linear"
              }
             }
            ],
            "label": "1996",
            "method": "animate"
           },
           {
            "args": [
             [
              "2015"
             ],
             {
              "frame": {
               "duration": 0,
               "redraw": true
              },
              "fromcurrent": true,
              "mode": "immediate",
              "transition": {
               "duration": 0,
               "easing": "linear"
              }
             }
            ],
            "label": "2015",
            "method": "animate"
           },
           {
            "args": [
             [
              "2002"
             ],
             {
              "frame": {
               "duration": 0,
               "redraw": true
              },
              "fromcurrent": true,
              "mode": "immediate",
              "transition": {
               "duration": 0,
               "easing": "linear"
              }
             }
            ],
            "label": "2002",
            "method": "animate"
           },
           {
            "args": [
             [
              "2005"
             ],
             {
              "frame": {
               "duration": 0,
               "redraw": true
              },
              "fromcurrent": true,
              "mode": "immediate",
              "transition": {
               "duration": 0,
               "easing": "linear"
              }
             }
            ],
            "label": "2005",
            "method": "animate"
           },
           {
            "args": [
             [
              "2013"
             ],
             {
              "frame": {
               "duration": 0,
               "redraw": true
              },
              "fromcurrent": true,
              "mode": "immediate",
              "transition": {
               "duration": 0,
               "easing": "linear"
              }
             }
            ],
            "label": "2013",
            "method": "animate"
           },
           {
            "args": [
             [
              "1998"
             ],
             {
              "frame": {
               "duration": 0,
               "redraw": true
              },
              "fromcurrent": true,
              "mode": "immediate",
              "transition": {
               "duration": 0,
               "easing": "linear"
              }
             }
            ],
            "label": "1998",
            "method": "animate"
           },
           {
            "args": [
             [
              "1999"
             ],
             {
              "frame": {
               "duration": 0,
               "redraw": true
              },
              "fromcurrent": true,
              "mode": "immediate",
              "transition": {
               "duration": 0,
               "easing": "linear"
              }
             }
            ],
            "label": "1999",
            "method": "animate"
           },
           {
            "args": [
             [
              "2006"
             ],
             {
              "frame": {
               "duration": 0,
               "redraw": true
              },
              "fromcurrent": true,
              "mode": "immediate",
              "transition": {
               "duration": 0,
               "easing": "linear"
              }
             }
            ],
            "label": "2006",
            "method": "animate"
           },
           {
            "args": [
             [
              "2014"
             ],
             {
              "frame": {
               "duration": 0,
               "redraw": true
              },
              "fromcurrent": true,
              "mode": "immediate",
              "transition": {
               "duration": 0,
               "easing": "linear"
              }
             }
            ],
            "label": "2014",
            "method": "animate"
           },
           {
            "args": [
             [
              "2004"
             ],
             {
              "frame": {
               "duration": 0,
               "redraw": true
              },
              "fromcurrent": true,
              "mode": "immediate",
              "transition": {
               "duration": 0,
               "easing": "linear"
              }
             }
            ],
            "label": "2004",
            "method": "animate"
           },
           {
            "args": [
             [
              "2001"
             ],
             {
              "frame": {
               "duration": 0,
               "redraw": true
              },
              "fromcurrent": true,
              "mode": "immediate",
              "transition": {
               "duration": 0,
               "easing": "linear"
              }
             }
            ],
            "label": "2001",
            "method": "animate"
           },
           {
            "args": [
             [
              "2007"
             ],
             {
              "frame": {
               "duration": 0,
               "redraw": true
              },
              "fromcurrent": true,
              "mode": "immediate",
              "transition": {
               "duration": 0,
               "easing": "linear"
              }
             }
            ],
            "label": "2007",
            "method": "animate"
           },
           {
            "args": [
             [
              "2008"
             ],
             {
              "frame": {
               "duration": 0,
               "redraw": true
              },
              "fromcurrent": true,
              "mode": "immediate",
              "transition": {
               "duration": 0,
               "easing": "linear"
              }
             }
            ],
            "label": "2008",
            "method": "animate"
           },
           {
            "args": [
             [
              "2009"
             ],
             {
              "frame": {
               "duration": 0,
               "redraw": true
              },
              "fromcurrent": true,
              "mode": "immediate",
              "transition": {
               "duration": 0,
               "easing": "linear"
              }
             }
            ],
            "label": "2009",
            "method": "animate"
           },
           {
            "args": [
             [
              "2011"
             ],
             {
              "frame": {
               "duration": 0,
               "redraw": true
              },
              "fromcurrent": true,
              "mode": "immediate",
              "transition": {
               "duration": 0,
               "easing": "linear"
              }
             }
            ],
            "label": "2011",
            "method": "animate"
           },
           {
            "args": [
             [
              "2012"
             ],
             {
              "frame": {
               "duration": 0,
               "redraw": true
              },
              "fromcurrent": true,
              "mode": "immediate",
              "transition": {
               "duration": 0,
               "easing": "linear"
              }
             }
            ],
            "label": "2012",
            "method": "animate"
           },
           {
            "args": [
             [
              "2010"
             ],
             {
              "frame": {
               "duration": 0,
               "redraw": true
              },
              "fromcurrent": true,
              "mode": "immediate",
              "transition": {
               "duration": 0,
               "easing": "linear"
              }
             }
            ],
            "label": "2010",
            "method": "animate"
           }
          ],
          "x": 0.1,
          "xanchor": "left",
          "y": 0,
          "yanchor": "top"
         }
        ],
        "template": {
         "data": {
          "bar": [
           {
            "error_x": {
             "color": "#2a3f5f"
            },
            "error_y": {
             "color": "#2a3f5f"
            },
            "marker": {
             "line": {
              "color": "#E5ECF6",
              "width": 0.5
             },
             "pattern": {
              "fillmode": "overlay",
              "size": 10,
              "solidity": 0.2
             }
            },
            "type": "bar"
           }
          ],
          "barpolar": [
           {
            "marker": {
             "line": {
              "color": "#E5ECF6",
              "width": 0.5
             },
             "pattern": {
              "fillmode": "overlay",
              "size": 10,
              "solidity": 0.2
             }
            },
            "type": "barpolar"
           }
          ],
          "carpet": [
           {
            "aaxis": {
             "endlinecolor": "#2a3f5f",
             "gridcolor": "white",
             "linecolor": "white",
             "minorgridcolor": "white",
             "startlinecolor": "#2a3f5f"
            },
            "baxis": {
             "endlinecolor": "#2a3f5f",
             "gridcolor": "white",
             "linecolor": "white",
             "minorgridcolor": "white",
             "startlinecolor": "#2a3f5f"
            },
            "type": "carpet"
           }
          ],
          "choropleth": [
           {
            "colorbar": {
             "outlinewidth": 0,
             "ticks": ""
            },
            "type": "choropleth"
           }
          ],
          "contour": [
           {
            "colorbar": {
             "outlinewidth": 0,
             "ticks": ""
            },
            "colorscale": [
             [
              0,
              "#0d0887"
             ],
             [
              0.1111111111111111,
              "#46039f"
             ],
             [
              0.2222222222222222,
              "#7201a8"
             ],
             [
              0.3333333333333333,
              "#9c179e"
             ],
             [
              0.4444444444444444,
              "#bd3786"
             ],
             [
              0.5555555555555556,
              "#d8576b"
             ],
             [
              0.6666666666666666,
              "#ed7953"
             ],
             [
              0.7777777777777778,
              "#fb9f3a"
             ],
             [
              0.8888888888888888,
              "#fdca26"
             ],
             [
              1,
              "#f0f921"
             ]
            ],
            "type": "contour"
           }
          ],
          "contourcarpet": [
           {
            "colorbar": {
             "outlinewidth": 0,
             "ticks": ""
            },
            "type": "contourcarpet"
           }
          ],
          "heatmap": [
           {
            "colorbar": {
             "outlinewidth": 0,
             "ticks": ""
            },
            "colorscale": [
             [
              0,
              "#0d0887"
             ],
             [
              0.1111111111111111,
              "#46039f"
             ],
             [
              0.2222222222222222,
              "#7201a8"
             ],
             [
              0.3333333333333333,
              "#9c179e"
             ],
             [
              0.4444444444444444,
              "#bd3786"
             ],
             [
              0.5555555555555556,
              "#d8576b"
             ],
             [
              0.6666666666666666,
              "#ed7953"
             ],
             [
              0.7777777777777778,
              "#fb9f3a"
             ],
             [
              0.8888888888888888,
              "#fdca26"
             ],
             [
              1,
              "#f0f921"
             ]
            ],
            "type": "heatmap"
           }
          ],
          "heatmapgl": [
           {
            "colorbar": {
             "outlinewidth": 0,
             "ticks": ""
            },
            "colorscale": [
             [
              0,
              "#0d0887"
             ],
             [
              0.1111111111111111,
              "#46039f"
             ],
             [
              0.2222222222222222,
              "#7201a8"
             ],
             [
              0.3333333333333333,
              "#9c179e"
             ],
             [
              0.4444444444444444,
              "#bd3786"
             ],
             [
              0.5555555555555556,
              "#d8576b"
             ],
             [
              0.6666666666666666,
              "#ed7953"
             ],
             [
              0.7777777777777778,
              "#fb9f3a"
             ],
             [
              0.8888888888888888,
              "#fdca26"
             ],
             [
              1,
              "#f0f921"
             ]
            ],
            "type": "heatmapgl"
           }
          ],
          "histogram": [
           {
            "marker": {
             "pattern": {
              "fillmode": "overlay",
              "size": 10,
              "solidity": 0.2
             }
            },
            "type": "histogram"
           }
          ],
          "histogram2d": [
           {
            "colorbar": {
             "outlinewidth": 0,
             "ticks": ""
            },
            "colorscale": [
             [
              0,
              "#0d0887"
             ],
             [
              0.1111111111111111,
              "#46039f"
             ],
             [
              0.2222222222222222,
              "#7201a8"
             ],
             [
              0.3333333333333333,
              "#9c179e"
             ],
             [
              0.4444444444444444,
              "#bd3786"
             ],
             [
              0.5555555555555556,
              "#d8576b"
             ],
             [
              0.6666666666666666,
              "#ed7953"
             ],
             [
              0.7777777777777778,
              "#fb9f3a"
             ],
             [
              0.8888888888888888,
              "#fdca26"
             ],
             [
              1,
              "#f0f921"
             ]
            ],
            "type": "histogram2d"
           }
          ],
          "histogram2dcontour": [
           {
            "colorbar": {
             "outlinewidth": 0,
             "ticks": ""
            },
            "colorscale": [
             [
              0,
              "#0d0887"
             ],
             [
              0.1111111111111111,
              "#46039f"
             ],
             [
              0.2222222222222222,
              "#7201a8"
             ],
             [
              0.3333333333333333,
              "#9c179e"
             ],
             [
              0.4444444444444444,
              "#bd3786"
             ],
             [
              0.5555555555555556,
              "#d8576b"
             ],
             [
              0.6666666666666666,
              "#ed7953"
             ],
             [
              0.7777777777777778,
              "#fb9f3a"
             ],
             [
              0.8888888888888888,
              "#fdca26"
             ],
             [
              1,
              "#f0f921"
             ]
            ],
            "type": "histogram2dcontour"
           }
          ],
          "mesh3d": [
           {
            "colorbar": {
             "outlinewidth": 0,
             "ticks": ""
            },
            "type": "mesh3d"
           }
          ],
          "parcoords": [
           {
            "line": {
             "colorbar": {
              "outlinewidth": 0,
              "ticks": ""
             }
            },
            "type": "parcoords"
           }
          ],
          "pie": [
           {
            "automargin": true,
            "type": "pie"
           }
          ],
          "scatter": [
           {
            "fillpattern": {
             "fillmode": "overlay",
             "size": 10,
             "solidity": 0.2
            },
            "type": "scatter"
           }
          ],
          "scatter3d": [
           {
            "line": {
             "colorbar": {
              "outlinewidth": 0,
              "ticks": ""
             }
            },
            "marker": {
             "colorbar": {
              "outlinewidth": 0,
              "ticks": ""
             }
            },
            "type": "scatter3d"
           }
          ],
          "scattercarpet": [
           {
            "marker": {
             "colorbar": {
              "outlinewidth": 0,
              "ticks": ""
             }
            },
            "type": "scattercarpet"
           }
          ],
          "scattergeo": [
           {
            "marker": {
             "colorbar": {
              "outlinewidth": 0,
              "ticks": ""
             }
            },
            "type": "scattergeo"
           }
          ],
          "scattergl": [
           {
            "marker": {
             "colorbar": {
              "outlinewidth": 0,
              "ticks": ""
             }
            },
            "type": "scattergl"
           }
          ],
          "scattermapbox": [
           {
            "marker": {
             "colorbar": {
              "outlinewidth": 0,
              "ticks": ""
             }
            },
            "type": "scattermapbox"
           }
          ],
          "scatterpolar": [
           {
            "marker": {
             "colorbar": {
              "outlinewidth": 0,
              "ticks": ""
             }
            },
            "type": "scatterpolar"
           }
          ],
          "scatterpolargl": [
           {
            "marker": {
             "colorbar": {
              "outlinewidth": 0,
              "ticks": ""
             }
            },
            "type": "scatterpolargl"
           }
          ],
          "scatterternary": [
           {
            "marker": {
             "colorbar": {
              "outlinewidth": 0,
              "ticks": ""
             }
            },
            "type": "scatterternary"
           }
          ],
          "surface": [
           {
            "colorbar": {
             "outlinewidth": 0,
             "ticks": ""
            },
            "colorscale": [
             [
              0,
              "#0d0887"
             ],
             [
              0.1111111111111111,
              "#46039f"
             ],
             [
              0.2222222222222222,
              "#7201a8"
             ],
             [
              0.3333333333333333,
              "#9c179e"
             ],
             [
              0.4444444444444444,
              "#bd3786"
             ],
             [
              0.5555555555555556,
              "#d8576b"
             ],
             [
              0.6666666666666666,
              "#ed7953"
             ],
             [
              0.7777777777777778,
              "#fb9f3a"
             ],
             [
              0.8888888888888888,
              "#fdca26"
             ],
             [
              1,
              "#f0f921"
             ]
            ],
            "type": "surface"
           }
          ],
          "table": [
           {
            "cells": {
             "fill": {
              "color": "#EBF0F8"
             },
             "line": {
              "color": "white"
             }
            },
            "header": {
             "fill": {
              "color": "#C8D4E3"
             },
             "line": {
              "color": "white"
             }
            },
            "type": "table"
           }
          ]
         },
         "layout": {
          "annotationdefaults": {
           "arrowcolor": "#2a3f5f",
           "arrowhead": 0,
           "arrowwidth": 1
          },
          "autotypenumbers": "strict",
          "coloraxis": {
           "colorbar": {
            "outlinewidth": 0,
            "ticks": ""
           }
          },
          "colorscale": {
           "diverging": [
            [
             0,
             "#8e0152"
            ],
            [
             0.1,
             "#c51b7d"
            ],
            [
             0.2,
             "#de77ae"
            ],
            [
             0.3,
             "#f1b6da"
            ],
            [
             0.4,
             "#fde0ef"
            ],
            [
             0.5,
             "#f7f7f7"
            ],
            [
             0.6,
             "#e6f5d0"
            ],
            [
             0.7,
             "#b8e186"
            ],
            [
             0.8,
             "#7fbc41"
            ],
            [
             0.9,
             "#4d9221"
            ],
            [
             1,
             "#276419"
            ]
           ],
           "sequential": [
            [
             0,
             "#0d0887"
            ],
            [
             0.1111111111111111,
             "#46039f"
            ],
            [
             0.2222222222222222,
             "#7201a8"
            ],
            [
             0.3333333333333333,
             "#9c179e"
            ],
            [
             0.4444444444444444,
             "#bd3786"
            ],
            [
             0.5555555555555556,
             "#d8576b"
            ],
            [
             0.6666666666666666,
             "#ed7953"
            ],
            [
             0.7777777777777778,
             "#fb9f3a"
            ],
            [
             0.8888888888888888,
             "#fdca26"
            ],
            [
             1,
             "#f0f921"
            ]
           ],
           "sequentialminus": [
            [
             0,
             "#0d0887"
            ],
            [
             0.1111111111111111,
             "#46039f"
            ],
            [
             0.2222222222222222,
             "#7201a8"
            ],
            [
             0.3333333333333333,
             "#9c179e"
            ],
            [
             0.4444444444444444,
             "#bd3786"
            ],
            [
             0.5555555555555556,
             "#d8576b"
            ],
            [
             0.6666666666666666,
             "#ed7953"
            ],
            [
             0.7777777777777778,
             "#fb9f3a"
            ],
            [
             0.8888888888888888,
             "#fdca26"
            ],
            [
             1,
             "#f0f921"
            ]
           ]
          },
          "colorway": [
           "#636efa",
           "#EF553B",
           "#00cc96",
           "#ab63fa",
           "#FFA15A",
           "#19d3f3",
           "#FF6692",
           "#B6E880",
           "#FF97FF",
           "#FECB52"
          ],
          "font": {
           "color": "#2a3f5f"
          },
          "geo": {
           "bgcolor": "white",
           "lakecolor": "white",
           "landcolor": "#E5ECF6",
           "showlakes": true,
           "showland": true,
           "subunitcolor": "white"
          },
          "hoverlabel": {
           "align": "left"
          },
          "hovermode": "closest",
          "mapbox": {
           "style": "light"
          },
          "paper_bgcolor": "white",
          "plot_bgcolor": "#E5ECF6",
          "polar": {
           "angularaxis": {
            "gridcolor": "white",
            "linecolor": "white",
            "ticks": ""
           },
           "bgcolor": "#E5ECF6",
           "radialaxis": {
            "gridcolor": "white",
            "linecolor": "white",
            "ticks": ""
           }
          },
          "scene": {
           "xaxis": {
            "backgroundcolor": "#E5ECF6",
            "gridcolor": "white",
            "gridwidth": 2,
            "linecolor": "white",
            "showbackground": true,
            "ticks": "",
            "zerolinecolor": "white"
           },
           "yaxis": {
            "backgroundcolor": "#E5ECF6",
            "gridcolor": "white",
            "gridwidth": 2,
            "linecolor": "white",
            "showbackground": true,
            "ticks": "",
            "zerolinecolor": "white"
           },
           "zaxis": {
            "backgroundcolor": "#E5ECF6",
            "gridcolor": "white",
            "gridwidth": 2,
            "linecolor": "white",
            "showbackground": true,
            "ticks": "",
            "zerolinecolor": "white"
           }
          },
          "shapedefaults": {
           "line": {
            "color": "#2a3f5f"
           }
          },
          "ternary": {
           "aaxis": {
            "gridcolor": "white",
            "linecolor": "white",
            "ticks": ""
           },
           "baxis": {
            "gridcolor": "white",
            "linecolor": "white",
            "ticks": ""
           },
           "bgcolor": "#E5ECF6",
           "caxis": {
            "gridcolor": "white",
            "linecolor": "white",
            "ticks": ""
           }
          },
          "title": {
           "x": 0.05
          },
          "xaxis": {
           "automargin": true,
           "gridcolor": "white",
           "linecolor": "white",
           "ticks": "",
           "title": {
            "standoff": 15
           },
           "zerolinecolor": "white",
           "zerolinewidth": 2
          },
          "yaxis": {
           "automargin": true,
           "gridcolor": "white",
           "linecolor": "white",
           "ticks": "",
           "title": {
            "standoff": 15
           },
           "zerolinecolor": "white",
           "zerolinewidth": 2
          }
         }
        },
        "updatemenus": [
         {
          "buttons": [
           {
            "args": [
             null,
             {
              "frame": {
               "duration": 1500,
               "redraw": true
              },
              "fromcurrent": true,
              "mode": "immediate",
              "transition": {
               "duration": 500,
               "easing": "linear"
              }
             }
            ],
            "label": "&#9654;",
            "method": "animate"
           },
           {
            "args": [
             [
              null
             ],
             {
              "frame": {
               "duration": 0,
               "redraw": true
              },
              "fromcurrent": true,
              "mode": "immediate",
              "transition": {
               "duration": 0,
               "easing": "linear"
              }
             }
            ],
            "label": "&#9724;",
            "method": "animate"
           }
          ],
          "direction": "left",
          "pad": {
           "r": 10,
           "t": 70
          },
          "showactive": false,
          "type": "buttons",
          "x": 0.1,
          "xanchor": "right",
          "y": 0,
          "yanchor": "top"
         }
        ],
        "xaxis": {
         "anchor": "y",
         "domain": [
          0,
          1
         ],
         "range": [
          0,
          35
         ],
         "title": {
          "text": "Global_Sales"
         }
        },
        "yaxis": {
         "anchor": "x",
         "domain": [
          0,
          1
         ],
         "title": {
          "text": "Name"
         }
        }
       }
      },
      "text/html": [
       "<div>                            <div id=\"52927a2b-3e65-4224-bae7-ae9d4f854fe5\" class=\"plotly-graph-div\" style=\"height:525px; width:100%;\"></div>            <script type=\"text/javascript\">                require([\"plotly\"], function(Plotly) {                    window.PLOTLYENV=window.PLOTLYENV || {};                                    if (document.getElementById(\"52927a2b-3e65-4224-bae7-ae9d4f854fe5\")) {                    Plotly.newPlot(                        \"52927a2b-3e65-4224-bae7-ae9d4f854fe5\",                        [{\"alignmentgroup\":\"True\",\"hovertemplate\":\"Year=1980<br>Global_Sales=%{x}<br>Name=%{y}<extra></extra>\",\"legendgroup\":\"\",\"marker\":{\"color\":\"#636efa\",\"pattern\":{\"shape\":\"\"}},\"name\":\"\",\"offsetgroup\":\"\",\"orientation\":\"h\",\"showlegend\":false,\"textposition\":\"auto\",\"x\":[0.24,0.27,0.34,0.49,0.77,1.05,1.15,2.76,4.31],\"xaxis\":\"x\",\"y\":[\"Checkers\",\"Bridge\",\"Freeway\",\"Ice Hockey\",\"Boxing\",\"Defender\",\"Kaboom!\",\"Missile Command\",\"Asteroids\"],\"yaxis\":\"y\",\"type\":\"bar\"}],                        {\"template\":{\"data\":{\"histogram2dcontour\":[{\"type\":\"histogram2dcontour\",\"colorbar\":{\"outlinewidth\":0,\"ticks\":\"\"},\"colorscale\":[[0.0,\"#0d0887\"],[0.1111111111111111,\"#46039f\"],[0.2222222222222222,\"#7201a8\"],[0.3333333333333333,\"#9c179e\"],[0.4444444444444444,\"#bd3786\"],[0.5555555555555556,\"#d8576b\"],[0.6666666666666666,\"#ed7953\"],[0.7777777777777778,\"#fb9f3a\"],[0.8888888888888888,\"#fdca26\"],[1.0,\"#f0f921\"]]}],\"choropleth\":[{\"type\":\"choropleth\",\"colorbar\":{\"outlinewidth\":0,\"ticks\":\"\"}}],\"histogram2d\":[{\"type\":\"histogram2d\",\"colorbar\":{\"outlinewidth\":0,\"ticks\":\"\"},\"colorscale\":[[0.0,\"#0d0887\"],[0.1111111111111111,\"#46039f\"],[0.2222222222222222,\"#7201a8\"],[0.3333333333333333,\"#9c179e\"],[0.4444444444444444,\"#bd3786\"],[0.5555555555555556,\"#d8576b\"],[0.6666666666666666,\"#ed7953\"],[0.7777777777777778,\"#fb9f3a\"],[0.8888888888888888,\"#fdca26\"],[1.0,\"#f0f921\"]]}],\"heatmap\":[{\"type\":\"heatmap\",\"colorbar\":{\"outlinewidth\":0,\"ticks\":\"\"},\"colorscale\":[[0.0,\"#0d0887\"],[0.1111111111111111,\"#46039f\"],[0.2222222222222222,\"#7201a8\"],[0.3333333333333333,\"#9c179e\"],[0.4444444444444444,\"#bd3786\"],[0.5555555555555556,\"#d8576b\"],[0.6666666666666666,\"#ed7953\"],[0.7777777777777778,\"#fb9f3a\"],[0.8888888888888888,\"#fdca26\"],[1.0,\"#f0f921\"]]}],\"heatmapgl\":[{\"type\":\"heatmapgl\",\"colorbar\":{\"outlinewidth\":0,\"ticks\":\"\"},\"colorscale\":[[0.0,\"#0d0887\"],[0.1111111111111111,\"#46039f\"],[0.2222222222222222,\"#7201a8\"],[0.3333333333333333,\"#9c179e\"],[0.4444444444444444,\"#bd3786\"],[0.5555555555555556,\"#d8576b\"],[0.6666666666666666,\"#ed7953\"],[0.7777777777777778,\"#fb9f3a\"],[0.8888888888888888,\"#fdca26\"],[1.0,\"#f0f921\"]]}],\"contourcarpet\":[{\"type\":\"contourcarpet\",\"colorbar\":{\"outlinewidth\":0,\"ticks\":\"\"}}],\"contour\":[{\"type\":\"contour\",\"colorbar\":{\"outlinewidth\":0,\"ticks\":\"\"},\"colorscale\":[[0.0,\"#0d0887\"],[0.1111111111111111,\"#46039f\"],[0.2222222222222222,\"#7201a8\"],[0.3333333333333333,\"#9c179e\"],[0.4444444444444444,\"#bd3786\"],[0.5555555555555556,\"#d8576b\"],[0.6666666666666666,\"#ed7953\"],[0.7777777777777778,\"#fb9f3a\"],[0.8888888888888888,\"#fdca26\"],[1.0,\"#f0f921\"]]}],\"surface\":[{\"type\":\"surface\",\"colorbar\":{\"outlinewidth\":0,\"ticks\":\"\"},\"colorscale\":[[0.0,\"#0d0887\"],[0.1111111111111111,\"#46039f\"],[0.2222222222222222,\"#7201a8\"],[0.3333333333333333,\"#9c179e\"],[0.4444444444444444,\"#bd3786\"],[0.5555555555555556,\"#d8576b\"],[0.6666666666666666,\"#ed7953\"],[0.7777777777777778,\"#fb9f3a\"],[0.8888888888888888,\"#fdca26\"],[1.0,\"#f0f921\"]]}],\"mesh3d\":[{\"type\":\"mesh3d\",\"colorbar\":{\"outlinewidth\":0,\"ticks\":\"\"}}],\"scatter\":[{\"fillpattern\":{\"fillmode\":\"overlay\",\"size\":10,\"solidity\":0.2},\"type\":\"scatter\"}],\"parcoords\":[{\"type\":\"parcoords\",\"line\":{\"colorbar\":{\"outlinewidth\":0,\"ticks\":\"\"}}}],\"scatterpolargl\":[{\"type\":\"scatterpolargl\",\"marker\":{\"colorbar\":{\"outlinewidth\":0,\"ticks\":\"\"}}}],\"bar\":[{\"error_x\":{\"color\":\"#2a3f5f\"},\"error_y\":{\"color\":\"#2a3f5f\"},\"marker\":{\"line\":{\"color\":\"#E5ECF6\",\"width\":0.5},\"pattern\":{\"fillmode\":\"overlay\",\"size\":10,\"solidity\":0.2}},\"type\":\"bar\"}],\"scattergeo\":[{\"type\":\"scattergeo\",\"marker\":{\"colorbar\":{\"outlinewidth\":0,\"ticks\":\"\"}}}],\"scatterpolar\":[{\"type\":\"scatterpolar\",\"marker\":{\"colorbar\":{\"outlinewidth\":0,\"ticks\":\"\"}}}],\"histogram\":[{\"marker\":{\"pattern\":{\"fillmode\":\"overlay\",\"size\":10,\"solidity\":0.2}},\"type\":\"histogram\"}],\"scattergl\":[{\"type\":\"scattergl\",\"marker\":{\"colorbar\":{\"outlinewidth\":0,\"ticks\":\"\"}}}],\"scatter3d\":[{\"type\":\"scatter3d\",\"line\":{\"colorbar\":{\"outlinewidth\":0,\"ticks\":\"\"}},\"marker\":{\"colorbar\":{\"outlinewidth\":0,\"ticks\":\"\"}}}],\"scattermapbox\":[{\"type\":\"scattermapbox\",\"marker\":{\"colorbar\":{\"outlinewidth\":0,\"ticks\":\"\"}}}],\"scatterternary\":[{\"type\":\"scatterternary\",\"marker\":{\"colorbar\":{\"outlinewidth\":0,\"ticks\":\"\"}}}],\"scattercarpet\":[{\"type\":\"scattercarpet\",\"marker\":{\"colorbar\":{\"outlinewidth\":0,\"ticks\":\"\"}}}],\"carpet\":[{\"aaxis\":{\"endlinecolor\":\"#2a3f5f\",\"gridcolor\":\"white\",\"linecolor\":\"white\",\"minorgridcolor\":\"white\",\"startlinecolor\":\"#2a3f5f\"},\"baxis\":{\"endlinecolor\":\"#2a3f5f\",\"gridcolor\":\"white\",\"linecolor\":\"white\",\"minorgridcolor\":\"white\",\"startlinecolor\":\"#2a3f5f\"},\"type\":\"carpet\"}],\"table\":[{\"cells\":{\"fill\":{\"color\":\"#EBF0F8\"},\"line\":{\"color\":\"white\"}},\"header\":{\"fill\":{\"color\":\"#C8D4E3\"},\"line\":{\"color\":\"white\"}},\"type\":\"table\"}],\"barpolar\":[{\"marker\":{\"line\":{\"color\":\"#E5ECF6\",\"width\":0.5},\"pattern\":{\"fillmode\":\"overlay\",\"size\":10,\"solidity\":0.2}},\"type\":\"barpolar\"}],\"pie\":[{\"automargin\":true,\"type\":\"pie\"}]},\"layout\":{\"autotypenumbers\":\"strict\",\"colorway\":[\"#636efa\",\"#EF553B\",\"#00cc96\",\"#ab63fa\",\"#FFA15A\",\"#19d3f3\",\"#FF6692\",\"#B6E880\",\"#FF97FF\",\"#FECB52\"],\"font\":{\"color\":\"#2a3f5f\"},\"hovermode\":\"closest\",\"hoverlabel\":{\"align\":\"left\"},\"paper_bgcolor\":\"white\",\"plot_bgcolor\":\"#E5ECF6\",\"polar\":{\"bgcolor\":\"#E5ECF6\",\"angularaxis\":{\"gridcolor\":\"white\",\"linecolor\":\"white\",\"ticks\":\"\"},\"radialaxis\":{\"gridcolor\":\"white\",\"linecolor\":\"white\",\"ticks\":\"\"}},\"ternary\":{\"bgcolor\":\"#E5ECF6\",\"aaxis\":{\"gridcolor\":\"white\",\"linecolor\":\"white\",\"ticks\":\"\"},\"baxis\":{\"gridcolor\":\"white\",\"linecolor\":\"white\",\"ticks\":\"\"},\"caxis\":{\"gridcolor\":\"white\",\"linecolor\":\"white\",\"ticks\":\"\"}},\"coloraxis\":{\"colorbar\":{\"outlinewidth\":0,\"ticks\":\"\"}},\"colorscale\":{\"sequential\":[[0.0,\"#0d0887\"],[0.1111111111111111,\"#46039f\"],[0.2222222222222222,\"#7201a8\"],[0.3333333333333333,\"#9c179e\"],[0.4444444444444444,\"#bd3786\"],[0.5555555555555556,\"#d8576b\"],[0.6666666666666666,\"#ed7953\"],[0.7777777777777778,\"#fb9f3a\"],[0.8888888888888888,\"#fdca26\"],[1.0,\"#f0f921\"]],\"sequentialminus\":[[0.0,\"#0d0887\"],[0.1111111111111111,\"#46039f\"],[0.2222222222222222,\"#7201a8\"],[0.3333333333333333,\"#9c179e\"],[0.4444444444444444,\"#bd3786\"],[0.5555555555555556,\"#d8576b\"],[0.6666666666666666,\"#ed7953\"],[0.7777777777777778,\"#fb9f3a\"],[0.8888888888888888,\"#fdca26\"],[1.0,\"#f0f921\"]],\"diverging\":[[0,\"#8e0152\"],[0.1,\"#c51b7d\"],[0.2,\"#de77ae\"],[0.3,\"#f1b6da\"],[0.4,\"#fde0ef\"],[0.5,\"#f7f7f7\"],[0.6,\"#e6f5d0\"],[0.7,\"#b8e186\"],[0.8,\"#7fbc41\"],[0.9,\"#4d9221\"],[1,\"#276419\"]]},\"xaxis\":{\"gridcolor\":\"white\",\"linecolor\":\"white\",\"ticks\":\"\",\"title\":{\"standoff\":15},\"zerolinecolor\":\"white\",\"automargin\":true,\"zerolinewidth\":2},\"yaxis\":{\"gridcolor\":\"white\",\"linecolor\":\"white\",\"ticks\":\"\",\"title\":{\"standoff\":15},\"zerolinecolor\":\"white\",\"automargin\":true,\"zerolinewidth\":2},\"scene\":{\"xaxis\":{\"backgroundcolor\":\"#E5ECF6\",\"gridcolor\":\"white\",\"linecolor\":\"white\",\"showbackground\":true,\"ticks\":\"\",\"zerolinecolor\":\"white\",\"gridwidth\":2},\"yaxis\":{\"backgroundcolor\":\"#E5ECF6\",\"gridcolor\":\"white\",\"linecolor\":\"white\",\"showbackground\":true,\"ticks\":\"\",\"zerolinecolor\":\"white\",\"gridwidth\":2},\"zaxis\":{\"backgroundcolor\":\"#E5ECF6\",\"gridcolor\":\"white\",\"linecolor\":\"white\",\"showbackground\":true,\"ticks\":\"\",\"zerolinecolor\":\"white\",\"gridwidth\":2}},\"shapedefaults\":{\"line\":{\"color\":\"#2a3f5f\"}},\"annotationdefaults\":{\"arrowcolor\":\"#2a3f5f\",\"arrowhead\":0,\"arrowwidth\":1},\"geo\":{\"bgcolor\":\"white\",\"landcolor\":\"#E5ECF6\",\"subunitcolor\":\"white\",\"showland\":true,\"showlakes\":true,\"lakecolor\":\"white\"},\"title\":{\"x\":0.05},\"mapbox\":{\"style\":\"light\"}}},\"xaxis\":{\"anchor\":\"y\",\"domain\":[0.0,1.0],\"title\":{\"text\":\"Global_Sales\"},\"range\":[0,35]},\"yaxis\":{\"anchor\":\"x\",\"domain\":[0.0,1.0],\"title\":{\"text\":\"Name\"}},\"legend\":{\"tracegroupgap\":0},\"margin\":{\"t\":60,\"l\":400},\"barmode\":\"group\",\"updatemenus\":[{\"buttons\":[{\"args\":[null,{\"frame\":{\"duration\":1500,\"redraw\":true},\"mode\":\"immediate\",\"fromcurrent\":true,\"transition\":{\"duration\":500,\"easing\":\"linear\"}}],\"label\":\"&#9654;\",\"method\":\"animate\"},{\"args\":[[null],{\"frame\":{\"duration\":0,\"redraw\":true},\"mode\":\"immediate\",\"fromcurrent\":true,\"transition\":{\"duration\":0,\"easing\":\"linear\"}}],\"label\":\"&#9724;\",\"method\":\"animate\"}],\"direction\":\"left\",\"pad\":{\"r\":10,\"t\":70},\"showactive\":false,\"type\":\"buttons\",\"x\":0.1,\"xanchor\":\"right\",\"y\":0,\"yanchor\":\"top\"}],\"sliders\":[{\"active\":0,\"currentvalue\":{\"prefix\":\"Year=\"},\"len\":0.9,\"pad\":{\"b\":10,\"t\":60},\"steps\":[{\"args\":[[\"1980\"],{\"frame\":{\"duration\":0,\"redraw\":true},\"mode\":\"immediate\",\"fromcurrent\":true,\"transition\":{\"duration\":0,\"easing\":\"linear\"}}],\"label\":\"1980\",\"method\":\"animate\"},{\"args\":[[\"1983\"],{\"frame\":{\"duration\":0,\"redraw\":true},\"mode\":\"immediate\",\"fromcurrent\":true,\"transition\":{\"duration\":0,\"easing\":\"linear\"}}],\"label\":\"1983\",\"method\":\"animate\"},{\"args\":[[\"1985\"],{\"frame\":{\"duration\":0,\"redraw\":true},\"mode\":\"immediate\",\"fromcurrent\":true,\"transition\":{\"duration\":0,\"easing\":\"linear\"}}],\"label\":\"1985\",\"method\":\"animate\"},{\"args\":[[\"1982\"],{\"frame\":{\"duration\":0,\"redraw\":true},\"mode\":\"immediate\",\"fromcurrent\":true,\"transition\":{\"duration\":0,\"easing\":\"linear\"}}],\"label\":\"1982\",\"method\":\"animate\"},{\"args\":[[\"1987\"],{\"frame\":{\"duration\":0,\"redraw\":true},\"mode\":\"immediate\",\"fromcurrent\":true,\"transition\":{\"duration\":0,\"easing\":\"linear\"}}],\"label\":\"1987\",\"method\":\"animate\"},{\"args\":[[\"1981\"],{\"frame\":{\"duration\":0,\"redraw\":true},\"mode\":\"immediate\",\"fromcurrent\":true,\"transition\":{\"duration\":0,\"easing\":\"linear\"}}],\"label\":\"1981\",\"method\":\"animate\"},{\"args\":[[\"1991\"],{\"frame\":{\"duration\":0,\"redraw\":true},\"mode\":\"immediate\",\"fromcurrent\":true,\"transition\":{\"duration\":0,\"easing\":\"linear\"}}],\"label\":\"1991\",\"method\":\"animate\"},{\"args\":[[\"1984\"],{\"frame\":{\"duration\":0,\"redraw\":true},\"mode\":\"immediate\",\"fromcurrent\":true,\"transition\":{\"duration\":0,\"easing\":\"linear\"}}],\"label\":\"1984\",\"method\":\"animate\"},{\"args\":[[\"1988\"],{\"frame\":{\"duration\":0,\"redraw\":true},\"mode\":\"immediate\",\"fromcurrent\":true,\"transition\":{\"duration\":0,\"easing\":\"linear\"}}],\"label\":\"1988\",\"method\":\"animate\"},{\"args\":[[\"1989\"],{\"frame\":{\"duration\":0,\"redraw\":true},\"mode\":\"immediate\",\"fromcurrent\":true,\"transition\":{\"duration\":0,\"easing\":\"linear\"}}],\"label\":\"1989\",\"method\":\"animate\"},{\"args\":[[\"1993\"],{\"frame\":{\"duration\":0,\"redraw\":true},\"mode\":\"immediate\",\"fromcurrent\":true,\"transition\":{\"duration\":0,\"easing\":\"linear\"}}],\"label\":\"1993\",\"method\":\"animate\"},{\"args\":[[\"1990\"],{\"frame\":{\"duration\":0,\"redraw\":true},\"mode\":\"immediate\",\"fromcurrent\":true,\"transition\":{\"duration\":0,\"easing\":\"linear\"}}],\"label\":\"1990\",\"method\":\"animate\"},{\"args\":[[\"1986\"],{\"frame\":{\"duration\":0,\"redraw\":true},\"mode\":\"immediate\",\"fromcurrent\":true,\"transition\":{\"duration\":0,\"easing\":\"linear\"}}],\"label\":\"1986\",\"method\":\"animate\"},{\"args\":[[\"1994\"],{\"frame\":{\"duration\":0,\"redraw\":true},\"mode\":\"immediate\",\"fromcurrent\":true,\"transition\":{\"duration\":0,\"easing\":\"linear\"}}],\"label\":\"1994\",\"method\":\"animate\"},{\"args\":[[\"1995\"],{\"frame\":{\"duration\":0,\"redraw\":true},\"mode\":\"immediate\",\"fromcurrent\":true,\"transition\":{\"duration\":0,\"easing\":\"linear\"}}],\"label\":\"1995\",\"method\":\"animate\"},{\"args\":[[\"1992\"],{\"frame\":{\"duration\":0,\"redraw\":true},\"mode\":\"immediate\",\"fromcurrent\":true,\"transition\":{\"duration\":0,\"easing\":\"linear\"}}],\"label\":\"1992\",\"method\":\"animate\"},{\"args\":[[\"2003\"],{\"frame\":{\"duration\":0,\"redraw\":true},\"mode\":\"immediate\",\"fromcurrent\":true,\"transition\":{\"duration\":0,\"easing\":\"linear\"}}],\"label\":\"2003\",\"method\":\"animate\"},{\"args\":[[\"2000\"],{\"frame\":{\"duration\":0,\"redraw\":true},\"mode\":\"immediate\",\"fromcurrent\":true,\"transition\":{\"duration\":0,\"easing\":\"linear\"}}],\"label\":\"2000\",\"method\":\"animate\"},{\"args\":[[\"1997\"],{\"frame\":{\"duration\":0,\"redraw\":true},\"mode\":\"immediate\",\"fromcurrent\":true,\"transition\":{\"duration\":0,\"easing\":\"linear\"}}],\"label\":\"1997\",\"method\":\"animate\"},{\"args\":[[\"1996\"],{\"frame\":{\"duration\":0,\"redraw\":true},\"mode\":\"immediate\",\"fromcurrent\":true,\"transition\":{\"duration\":0,\"easing\":\"linear\"}}],\"label\":\"1996\",\"method\":\"animate\"},{\"args\":[[\"2015\"],{\"frame\":{\"duration\":0,\"redraw\":true},\"mode\":\"immediate\",\"fromcurrent\":true,\"transition\":{\"duration\":0,\"easing\":\"linear\"}}],\"label\":\"2015\",\"method\":\"animate\"},{\"args\":[[\"2002\"],{\"frame\":{\"duration\":0,\"redraw\":true},\"mode\":\"immediate\",\"fromcurrent\":true,\"transition\":{\"duration\":0,\"easing\":\"linear\"}}],\"label\":\"2002\",\"method\":\"animate\"},{\"args\":[[\"2005\"],{\"frame\":{\"duration\":0,\"redraw\":true},\"mode\":\"immediate\",\"fromcurrent\":true,\"transition\":{\"duration\":0,\"easing\":\"linear\"}}],\"label\":\"2005\",\"method\":\"animate\"},{\"args\":[[\"2013\"],{\"frame\":{\"duration\":0,\"redraw\":true},\"mode\":\"immediate\",\"fromcurrent\":true,\"transition\":{\"duration\":0,\"easing\":\"linear\"}}],\"label\":\"2013\",\"method\":\"animate\"},{\"args\":[[\"1998\"],{\"frame\":{\"duration\":0,\"redraw\":true},\"mode\":\"immediate\",\"fromcurrent\":true,\"transition\":{\"duration\":0,\"easing\":\"linear\"}}],\"label\":\"1998\",\"method\":\"animate\"},{\"args\":[[\"1999\"],{\"frame\":{\"duration\":0,\"redraw\":true},\"mode\":\"immediate\",\"fromcurrent\":true,\"transition\":{\"duration\":0,\"easing\":\"linear\"}}],\"label\":\"1999\",\"method\":\"animate\"},{\"args\":[[\"2006\"],{\"frame\":{\"duration\":0,\"redraw\":true},\"mode\":\"immediate\",\"fromcurrent\":true,\"transition\":{\"duration\":0,\"easing\":\"linear\"}}],\"label\":\"2006\",\"method\":\"animate\"},{\"args\":[[\"2014\"],{\"frame\":{\"duration\":0,\"redraw\":true},\"mode\":\"immediate\",\"fromcurrent\":true,\"transition\":{\"duration\":0,\"easing\":\"linear\"}}],\"label\":\"2014\",\"method\":\"animate\"},{\"args\":[[\"2004\"],{\"frame\":{\"duration\":0,\"redraw\":true},\"mode\":\"immediate\",\"fromcurrent\":true,\"transition\":{\"duration\":0,\"easing\":\"linear\"}}],\"label\":\"2004\",\"method\":\"animate\"},{\"args\":[[\"2001\"],{\"frame\":{\"duration\":0,\"redraw\":true},\"mode\":\"immediate\",\"fromcurrent\":true,\"transition\":{\"duration\":0,\"easing\":\"linear\"}}],\"label\":\"2001\",\"method\":\"animate\"},{\"args\":[[\"2007\"],{\"frame\":{\"duration\":0,\"redraw\":true},\"mode\":\"immediate\",\"fromcurrent\":true,\"transition\":{\"duration\":0,\"easing\":\"linear\"}}],\"label\":\"2007\",\"method\":\"animate\"},{\"args\":[[\"2008\"],{\"frame\":{\"duration\":0,\"redraw\":true},\"mode\":\"immediate\",\"fromcurrent\":true,\"transition\":{\"duration\":0,\"easing\":\"linear\"}}],\"label\":\"2008\",\"method\":\"animate\"},{\"args\":[[\"2009\"],{\"frame\":{\"duration\":0,\"redraw\":true},\"mode\":\"immediate\",\"fromcurrent\":true,\"transition\":{\"duration\":0,\"easing\":\"linear\"}}],\"label\":\"2009\",\"method\":\"animate\"},{\"args\":[[\"2011\"],{\"frame\":{\"duration\":0,\"redraw\":true},\"mode\":\"immediate\",\"fromcurrent\":true,\"transition\":{\"duration\":0,\"easing\":\"linear\"}}],\"label\":\"2011\",\"method\":\"animate\"},{\"args\":[[\"2012\"],{\"frame\":{\"duration\":0,\"redraw\":true},\"mode\":\"immediate\",\"fromcurrent\":true,\"transition\":{\"duration\":0,\"easing\":\"linear\"}}],\"label\":\"2012\",\"method\":\"animate\"},{\"args\":[[\"2010\"],{\"frame\":{\"duration\":0,\"redraw\":true},\"mode\":\"immediate\",\"fromcurrent\":true,\"transition\":{\"duration\":0,\"easing\":\"linear\"}}],\"label\":\"2010\",\"method\":\"animate\"}],\"x\":0.1,\"xanchor\":\"left\",\"y\":0,\"yanchor\":\"top\"}]},                        {\"responsive\": true}                    ).then(function(){\n",
       "                            Plotly.addFrames('52927a2b-3e65-4224-bae7-ae9d4f854fe5', [{\"data\":[{\"alignmentgroup\":\"True\",\"hovertemplate\":\"Year=1980<br>Global_Sales=%{x}<br>Name=%{y}<extra></extra>\",\"legendgroup\":\"\",\"marker\":{\"color\":\"#636efa\",\"pattern\":{\"shape\":\"\"}},\"name\":\"\",\"offsetgroup\":\"\",\"orientation\":\"h\",\"showlegend\":false,\"textposition\":\"auto\",\"x\":[0.24,0.27,0.34,0.49,0.77,1.05,1.15,2.76,4.31],\"xaxis\":\"x\",\"y\":[\"Checkers\",\"Bridge\",\"Freeway\",\"Ice Hockey\",\"Boxing\",\"Defender\",\"Kaboom!\",\"Missile Command\",\"Asteroids\"],\"yaxis\":\"y\",\"type\":\"bar\"}],\"name\":\"1980\"},{\"data\":[{\"alignmentgroup\":\"True\",\"hovertemplate\":\"Year=1983<br>Global_Sales=%{x}<br>Name=%{y}<extra></extra>\",\"legendgroup\":\"\",\"marker\":{\"color\":\"#636efa\",\"pattern\":{\"shape\":\"\"}},\"name\":\"\",\"offsetgroup\":\"\",\"orientation\":\"h\",\"showlegend\":false,\"textposition\":\"auto\",\"x\":[0.5,0.77,0.78,1.1,1.11,1.13,1.31,2.14,2.28,3.2],\"xaxis\":\"x\",\"y\":[\"Midnight Magic\",\"Crystal Castles\",\"Jr. Pac-Man\",\"Popeye\",\"Donkey Kong Jr.\",\"Donkey Kong\",\"Pitfall II: Lost Caverns\",\"Mahjong\",\"Mario Bros.\",\"Baseball\"],\"yaxis\":\"y\",\"type\":\"bar\"}],\"name\":\"1983\"},{\"data\":[{\"alignmentgroup\":\"True\",\"hovertemplate\":\"Year=1985<br>Global_Sales=%{x}<br>Name=%{y}<extra></extra>\",\"legendgroup\":\"\",\"marker\":{\"color\":\"#636efa\",\"pattern\":{\"shape\":\"\"}},\"name\":\"\",\"offsetgroup\":\"\",\"orientation\":\"h\",\"showlegend\":false,\"textposition\":\"auto\",\"x\":[0.51,0.92,1.0,1.03,1.05,1.32,1.5,1.96,3.5,40.24],\"xaxis\":\"x\",\"y\":[\"Wrecking Crew\",\"Balloon Fight\",\"1942\",\"Bomberman\",\"Tag Team Match M.U.S.C.L.E.\",\"Gyromite\",\"Ice Climber\",\"Soccer\",\"Kung Fu\",\"Super Mario Bros.\"],\"yaxis\":\"y\",\"type\":\"bar\"}],\"name\":\"1985\"},{\"data\":[{\"alignmentgroup\":\"True\",\"hovertemplate\":\"Year=1982<br>Global_Sales=%{x}<br>Name=%{y}<extra></extra>\",\"legendgroup\":\"\",\"marker\":{\"color\":\"#636efa\",\"pattern\":{\"shape\":\"\"}},\"name\":\"\",\"offsetgroup\":\"\",\"orientation\":\"h\",\"showlegend\":false,\"textposition\":\"auto\",\"x\":[0.77,0.78,0.87,1.08,1.1,1.12,1.18,1.59,1.64,7.81],\"xaxis\":\"x\",\"y\":[\"Galaxian\",\"Yars' Revenge\",\"Enduro\",\"Joust\",\"Jungle Hunt\",\"Moon Patrol\",\"Pole Position\",\"Mario Bros.\",\"Dig Dug\",\"Pac-Man\"],\"yaxis\":\"y\",\"type\":\"bar\"}],\"name\":\"1982\"},{\"data\":[{\"alignmentgroup\":\"True\",\"hovertemplate\":\"Year=1987<br>Global_Sales=%{x}<br>Name=%{y}<extra></extra>\",\"legendgroup\":\"\",\"marker\":{\"color\":\"#636efa\",\"pattern\":{\"shape\":\"\"}},\"name\":\"\",\"offsetgroup\":\"\",\"orientation\":\"h\",\"showlegend\":false,\"textposition\":\"auto\",\"x\":[0.81,0.84,0.93,1.25,1.42,2.15,2.4,2.56,3.02,4.38],\"xaxis\":\"x\",\"y\":[\"Mega Man\",\"Final Fantasy\",\"Castlevania II: Simon's Quest\",\"Gegege no Kitarou 2: Youkai Gundan no Chousen\",\"Pro Yakyuu Family Stadium '87\",\"Volleyball\",\"Pro Wrestling\",\"Dragon Warrior II\",\"Mike Tyson's Punch-Out!!\",\"Zelda II: The Adventure of Link\"],\"yaxis\":\"y\",\"type\":\"bar\"}],\"name\":\"1987\"},{\"data\":[{\"alignmentgroup\":\"True\",\"hovertemplate\":\"Year=1981<br>Global_Sales=%{x}<br>Name=%{y}<extra></extra>\",\"legendgroup\":\"\",\"marker\":{\"color\":\"#636efa\",\"pattern\":{\"shape\":\"\"}},\"name\":\"\",\"offsetgroup\":\"\",\"orientation\":\"h\",\"showlegend\":false,\"textposition\":\"auto\",\"x\":[1.1,1.27,1.36,1.46,1.6,1.65,1.97,2.13,2.2,4.5],\"xaxis\":\"x\",\"y\":[\"Megamania\",\"Atlantis\",\"Centipede\",\"Donkey Kong\",\"River Raid\",\"Ms. Pac-Man\",\"E.T.: The Extra Terrestrial\",\"Demon Attack\",\"Frogger\",\"Pitfall!\"],\"yaxis\":\"y\",\"type\":\"bar\"}],\"name\":\"1981\"},{\"data\":[{\"alignmentgroup\":\"True\",\"hovertemplate\":\"Year=1991<br>Global_Sales=%{x}<br>Name=%{y}<extra></extra>\",\"legendgroup\":\"\",\"marker\":{\"color\":\"#636efa\",\"pattern\":{\"shape\":\"\"}},\"name\":\"\",\"offsetgroup\":\"\",\"orientation\":\"h\",\"showlegend\":false,\"textposition\":\"auto\",\"x\":[1.14,1.18,1.39,1.65,1.75,1.76,1.77,1.98,4.34,4.61],\"xaxis\":\"x\",\"y\":[\"Super R.C. Pro-Am\",\"Super Ghouls 'n Ghosts\",\"Teenage Mutant Ninja Turtles III: The Manhattan Project\",\"Super Scope 6\",\"Yoshi\",\"Metroid II: Return of Samus\",\"Final Fantasy II\",\"SimCity\",\"Sonic the Hedgehog\",\"The Legend of Zelda: A Link to the Past\"],\"yaxis\":\"y\",\"type\":\"bar\"}],\"name\":\"1991\"},{\"data\":[{\"alignmentgroup\":\"True\",\"hovertemplate\":\"Year=1984<br>Global_Sales=%{x}<br>Name=%{y}<extra></extra>\",\"legendgroup\":\"\",\"marker\":{\"color\":\"#636efa\",\"pattern\":{\"shape\":\"\"}},\"name\":\"\",\"offsetgroup\":\"\",\"orientation\":\"h\",\"showlegend\":false,\"textposition\":\"auto\",\"x\":[1.22,1.27,1.45,1.52,1.52,1.85,2.17,4.01,4.16,28.31],\"xaxis\":\"x\",\"y\":[\"Pac-Man\",\"Hogan's Alley\",\"4 Nin uchi Mahjong\",\"F1 Race\",\"Xevious\",\"Pinball\",\"Tennis\",\"Golf\",\"Excitebike\",\"Duck Hunt\"],\"yaxis\":\"y\",\"type\":\"bar\"}],\"name\":\"1984\"},{\"data\":[{\"alignmentgroup\":\"True\",\"hovertemplate\":\"Year=1988<br>Global_Sales=%{x}<br>Name=%{y}<extra></extra>\",\"legendgroup\":\"\",\"marker\":{\"color\":\"#636efa\",\"pattern\":{\"shape\":\"\"}},\"name\":\"\",\"offsetgroup\":\"\",\"orientation\":\"h\",\"showlegend\":false,\"textposition\":\"auto\",\"x\":[1.25,1.43,1.51,1.56,2.14,2.42,3.87,5.58,7.46,17.28],\"xaxis\":\"x\",\"y\":[\"Dragon Ball: Daimaou Fukkatsu\",\"Disney's DuckTales\",\"Mega Man 2\",\"Donkey Kong Classics\",\"R.C. Pro-Am\",\"Ice Hockey\",\"Dragon Warrior III\",\"Tetris\",\"Super Mario Bros. 2\",\"Super Mario Bros. 3\"],\"yaxis\":\"y\",\"type\":\"bar\"}],\"name\":\"1988\"},{\"data\":[{\"alignmentgroup\":\"True\",\"hovertemplate\":\"Year=1989<br>Global_Sales=%{x}<br>Name=%{y}<extra></extra>\",\"legendgroup\":\"\",\"marker\":{\"color\":\"#636efa\",\"pattern\":{\"shape\":\"\"}},\"name\":\"\",\"offsetgroup\":\"\",\"orientation\":\"h\",\"showlegend\":false,\"textposition\":\"auto\",\"x\":[1.28,1.61,1.67,1.94,1.99,2.12,4.17,5.34,18.14,30.26],\"xaxis\":\"x\",\"y\":[\"Yakuman\",\"Baseball\",\"Disney's DuckTales\",\"Alleyway\",\"Tennis\",\"Golf\",\"Teenage Mutant Ninja Turtles\",\"Dr. Mario\",\"Super Mario Land\",\"Tetris\"],\"yaxis\":\"y\",\"type\":\"bar\"}],\"name\":\"1989\"},{\"data\":[{\"alignmentgroup\":\"True\",\"hovertemplate\":\"Year=1993<br>Global_Sales=%{x}<br>Name=%{y}<extra></extra>\",\"legendgroup\":\"\",\"marker\":{\"color\":\"#636efa\",\"pattern\":{\"shape\":\"\"}},\"name\":\"\",\"offsetgroup\":\"\",\"orientation\":\"h\",\"showlegend\":false,\"textposition\":\"auto\",\"x\":[1.45,1.5,1.7,1.75,1.75,1.83,1.93,2.0,2.99,10.55],\"xaxis\":\"x\",\"y\":[\"Dragon Ball Z\",\"Sonic CD\",\"Super Puyo Puyo\",\"Disney's Aladdin\",\"Kirby's Adventure\",\"Secret of Mana\",\"Mortal Kombat II\",\"Super Street Fighter II\",\"Star Fox\",\"Super Mario All-Stars\"],\"yaxis\":\"y\",\"type\":\"bar\"}],\"name\":\"1993\"},{\"data\":[{\"alignmentgroup\":\"True\",\"hovertemplate\":\"Year=1990<br>Global_Sales=%{x}<br>Name=%{y}<extra></extra>\",\"legendgroup\":\"\",\"marker\":{\"color\":\"#636efa\",\"pattern\":{\"shape\":\"\"}},\"name\":\"\",\"offsetgroup\":\"\",\"orientation\":\"h\",\"showlegend\":false,\"textposition\":\"auto\",\"x\":[1.48,1.56,2.23,2.6,2.6,2.85,3.12,3.41,4.85,20.61],\"xaxis\":\"x\",\"y\":[\"Nintendo World Cup\",\"Final Fight\",\"Teenage Mutant Ninja Turtles II: The Arcade Game\",\"Streets of Rage\",\"Streets of Rage\",\"F-Zero\",\"Dragon Warrior IV\",\"F-1 Race\",\"Dr. Mario\",\"Super Mario World\"],\"yaxis\":\"y\",\"type\":\"bar\"}],\"name\":\"1990\"},{\"data\":[{\"alignmentgroup\":\"True\",\"hovertemplate\":\"Year=1986<br>Global_Sales=%{x}<br>Name=%{y}<extra></extra>\",\"legendgroup\":\"\",\"marker\":{\"color\":\"#636efa\",\"pattern\":{\"shape\":\"\"}},\"name\":\"\",\"offsetgroup\":\"\",\"orientation\":\"h\",\"showlegend\":false,\"textposition\":\"auto\",\"x\":[1.5,1.64,1.76,1.96,2.2,2.52,2.65,2.73,3.08,6.51],\"xaxis\":\"x\",\"y\":[\"Ninja Hattori Kun: Ninja wa Shuugyou Degogiru no Maki\",\"Ghosts 'n Goblins\",\"Kid Icarus\",\"Rad Racer\",\"Pro Yakyuu Family Stadium\",\"Dragon Warrior\",\"Super Mario Bros.: The Lost Levels\",\"Metroid\",\"World Class Track Meet\",\"The Legend of Zelda\"],\"yaxis\":\"y\",\"type\":\"bar\"}],\"name\":\"1986\"},{\"data\":[{\"alignmentgroup\":\"True\",\"hovertemplate\":\"Year=1994<br>Global_Sales=%{x}<br>Name=%{y}<extra></extra>\",\"legendgroup\":\"\",\"marker\":{\"color\":\"#636efa\",\"pattern\":{\"shape\":\"\"}},\"name\":\"\",\"offsetgroup\":\"\",\"orientation\":\"h\",\"showlegend\":false,\"textposition\":\"auto\",\"x\":[1.95,2.08,2.39,2.81,3.07,3.42,3.61,3.91,5.19,9.3],\"xaxis\":\"x\",\"y\":[\"Star Wars: Dark Forces\",\"Warcraft: Orcs & Humans\",\"Monopoly\",\"Myst\",\"Donkey Kong\",\"Final Fantasy III\",\"Doom II: Hell on Earth\",\"Donkey Kong Land\",\"Super Mario Land 3: Wario Land\",\"Donkey Kong Country\"],\"yaxis\":\"y\",\"type\":\"bar\"}],\"name\":\"1994\"},{\"data\":[{\"alignmentgroup\":\"True\",\"hovertemplate\":\"Year=1995<br>Global_Sales=%{x}<br>Name=%{y}<extra></extra>\",\"legendgroup\":\"\",\"marker\":{\"color\":\"#636efa\",\"pattern\":{\"shape\":\"\"}},\"name\":\"\",\"offsetgroup\":\"\",\"orientation\":\"h\",\"showlegend\":false,\"textposition\":\"auto\",\"x\":[2.31,2.36,3.03,3.19,3.2,3.24,3.84,4.12,4.21,5.15],\"xaxis\":\"x\",\"y\":[\"Chrono Trigger\",\"Kirby's Dream Land 2\",\"Rayman\",\"Dragon Quest VI: Maboroshi no Daichi\",\"Killer Instinct\",\"Tekken\",\"Namco Museum Vol.1\",\"Super Mario World 2: Yoshi's Island\",\"Warcraft II: Tides of Darkness\",\"Donkey Kong Country 2: Diddy's Kong Quest\"],\"yaxis\":\"y\",\"type\":\"bar\"}],\"name\":\"1995\"},{\"data\":[{\"alignmentgroup\":\"True\",\"hovertemplate\":\"Year=1992<br>Global_Sales=%{x}<br>Name=%{y}<extra></extra>\",\"legendgroup\":\"\",\"marker\":{\"color\":\"#636efa\",\"pattern\":{\"shape\":\"\"}},\"name\":\"\",\"offsetgroup\":\"\",\"orientation\":\"h\",\"showlegend\":false,\"textposition\":\"auto\",\"x\":[2.67,2.75,2.79,3.83,4.1,5.13,6.03,6.3,8.76,11.18],\"xaxis\":\"x\",\"y\":[\"Mortal Kombat\",\"Mario Paint\",\"Dragon Quest V: Tenkuu no Hanayome\",\"The Legend of Zelda: Link's Awakening\",\"Street Fighter II Turbo\",\"Kirby's Dream Land\",\"Sonic the Hedgehog 2\",\"Street Fighter II: The World Warrior\",\"Super Mario Kart\",\"Super Mario Land 2: 6 Golden Coins\"],\"yaxis\":\"y\",\"type\":\"bar\"}],\"name\":\"1992\"},{\"data\":[{\"alignmentgroup\":\"True\",\"hovertemplate\":\"Year=2003<br>Global_Sales=%{x}<br>Name=%{y}<extra></extra>\",\"legendgroup\":\"\",\"marker\":{\"color\":\"#636efa\",\"pattern\":{\"shape\":\"\"}},\"name\":\"\",\"offsetgroup\":\"\",\"orientation\":\"h\",\"showlegend\":false,\"textposition\":\"auto\",\"x\":[3.28,3.9,4.2,4.7,5.13,5.2,5.29,6.95,7.2,7.2],\"xaxis\":\"x\",\"y\":[\"The Lord of the Rings: The Return of the King\",\"Tony Hawk's Underground\",\"EyeToy Play\",\"The Simpsons: Hit & Run\",\"Medal of Honor: Rising Sun\",\"Super Mario Bros. 3\",\"Final Fantasy X-2\",\"Mario Kart: Double Dash!!\",\"Need for Speed Underground\",\"Need for Speed Underground\"],\"yaxis\":\"y\",\"type\":\"bar\"}],\"name\":\"2003\"},{\"data\":[{\"alignmentgroup\":\"True\",\"hovertemplate\":\"Year=2000<br>Global_Sales=%{x}<br>Name=%{y}<extra></extra>\",\"legendgroup\":\"\",\"marker\":{\"color\":\"#636efa\",\"pattern\":{\"shape\":\"\"}},\"name\":\"\",\"offsetgroup\":\"\",\"orientation\":\"h\",\"showlegend\":false,\"textposition\":\"auto\",\"x\":[3.52,3.58,3.71,4.05,4.47,4.68,4.68,4.73,5.3,6.39],\"xaxis\":\"x\",\"y\":[\"Rugrats in Paris: The Movie\",\"WWF SmackDown!\",\"Spyro: Year of the Dragon\",\"Tekken Tag Tournament\",\"Dragon Quest VII: Warriors of Eden\",\"Tony Hawk's Pro Skater 2\",\"Tony Hawk's Pro Skater 2\",\"Driver 2\",\"Final Fantasy IX\",\"Pok\\u00e9mon Crystal Version\"],\"yaxis\":\"y\",\"type\":\"bar\"}],\"name\":\"2000\"},{\"data\":[{\"alignmentgroup\":\"True\",\"hovertemplate\":\"Year=1997<br>Global_Sales=%{x}<br>Name=%{y}<extra></extra>\",\"legendgroup\":\"\",\"marker\":{\"color\":\"#636efa\",\"pattern\":{\"shape\":\"\"}},\"name\":\"\",\"offsetgroup\":\"\",\"orientation\":\"h\",\"showlegend\":false,\"textposition\":\"auto\",\"x\":[3.56,4.03,4.12,4.16,4.88,5.24,7.58,8.09,9.72,10.95],\"xaxis\":\"x\",\"y\":[\"Croc: Legend of the Gobbos\",\"Star Fox 64\",\"Half-Life\",\"Frogger\",\"Diddy Kong Racing\",\"Tomb Raider II\",\"Crash Bandicoot 2: Cortex Strikes Back\",\"GoldenEye 007\",\"Final Fantasy VII\",\"Gran Turismo\"],\"yaxis\":\"y\",\"type\":\"bar\"}],\"name\":\"1997\"},{\"data\":[{\"alignmentgroup\":\"True\",\"hovertemplate\":\"Year=1996<br>Global_Sales=%{x}<br>Name=%{y}<extra></extra>\",\"legendgroup\":\"\",\"marker\":{\"color\":\"#636efa\",\"pattern\":{\"shape\":\"\"}},\"name\":\"\",\"offsetgroup\":\"\",\"orientation\":\"h\",\"showlegend\":false,\"textposition\":\"auto\",\"x\":[3.77,4.05,4.63,5.05,5.12,5.74,6.82,9.87,11.89,31.37],\"xaxis\":\"x\",\"y\":[\"Resident Evil Director's Cut\",\"Namco Museum Vol.3\",\"Tomb Raider\",\"Resident Evil\",\"Microsoft Flight Simulator\",\"Tekken 2\",\"Crash Bandicoot\",\"Mario Kart 64\",\"Super Mario 64\",\"Pokemon Red/Pokemon Blue\"],\"yaxis\":\"y\",\"type\":\"bar\"}],\"name\":\"1996\"},{\"data\":[{\"alignmentgroup\":\"True\",\"hovertemplate\":\"Year=2015<br>Global_Sales=%{x}<br>Name=%{y}<extra></extra>\",\"legendgroup\":\"\",\"marker\":{\"color\":\"#636efa\",\"pattern\":{\"shape\":\"\"}},\"name\":\"\",\"offsetgroup\":\"\",\"orientation\":\"h\",\"showlegend\":false,\"textposition\":\"auto\",\"x\":[3.85,4.09,4.26,4.47,4.57,6.96,7.3,7.67,8.49,14.24],\"xaxis\":\"x\",\"y\":[\"NBA 2K16\",\"Fallout 4\",\"Halo 5: Guardians\",\"Uncharted: The Nathan Drake Collection\",\"Splatoon\",\"Fallout 4\",\"Call of Duty: Black Ops 3\",\"Star Wars Battlefront (2015)\",\"FIFA 16\",\"Call of Duty: Black Ops 3\"],\"yaxis\":\"y\",\"type\":\"bar\"}],\"name\":\"2015\"},{\"data\":[{\"alignmentgroup\":\"True\",\"hovertemplate\":\"Year=2002<br>Global_Sales=%{x}<br>Name=%{y}<extra></extra>\",\"legendgroup\":\"\",\"marker\":{\"color\":\"#636efa\",\"pattern\":{\"shape\":\"\"}},\"name\":\"\",\"offsetgroup\":\"\",\"orientation\":\"h\",\"showlegend\":false,\"textposition\":\"auto\",\"x\":[4.14,4.48,4.6,4.6,4.67,6.31,6.4,6.83,15.85,16.15],\"xaxis\":\"x\",\"y\":[\"Madden NFL 2003\",\"Spider-Man: The Movie\",\"The Legend of Zelda: The Wind Waker\",\"The Legend of Zelda: The Wind Waker\",\"The Lord of the Rings: The Two Towers\",\"Super Mario Sunshine\",\"Kingdom Hearts\",\"Medal of Honor: Frontline\",\"Pokemon Ruby/Pokemon Sapphire\",\"Grand Theft Auto: Vice City\"],\"yaxis\":\"y\",\"type\":\"bar\"}],\"name\":\"2002\"},{\"data\":[{\"alignmentgroup\":\"True\",\"hovertemplate\":\"Year=2005<br>Global_Sales=%{x}<br>Name=%{y}<extra></extra>\",\"legendgroup\":\"\",\"marker\":{\"color\":\"#636efa\",\"pattern\":{\"shape\":\"\"}},\"name\":\"\",\"offsetgroup\":\"\",\"orientation\":\"h\",\"showlegend\":false,\"textposition\":\"auto\",\"x\":[4.37,4.45,4.91,6.67,7.72,12.27,15.3,20.22,23.42,24.76],\"xaxis\":\"x\",\"y\":[\"Need for Speed: Most Wanted\",\"God of War\",\"Madden NFL 06\",\"Big Brain Academy\",\"Grand Theft Auto: Liberty City Stories\",\"Animal Crossing: Wild World\",\"Brain Age 2: More Training in Minutes a Day\",\"Brain Age: Train Your Brain in Minutes a Day\",\"Mario Kart DS\",\"Nintendogs\"],\"yaxis\":\"y\",\"type\":\"bar\"}],\"name\":\"2005\"},{\"data\":[{\"alignmentgroup\":\"True\",\"hovertemplate\":\"Year=2013<br>Global_Sales=%{x}<br>Name=%{y}<extra></extra>\",\"legendgroup\":\"\",\"marker\":{\"color\":\"#636efa\",\"pattern\":{\"shape\":\"\"}},\"name\":\"\",\"offsetgroup\":\"\",\"orientation\":\"h\",\"showlegend\":false,\"textposition\":\"auto\",\"x\":[4.58,5.15,5.99,6.9,9.2,9.59,10.21,14.35,16.38,21.4],\"xaxis\":\"x\",\"y\":[\"Luigi's Mansion: Dark Moon\",\"Tomodachi Life\",\"The Last of Us\",\"FIFA 14\",\"Minecraft\",\"Call of Duty: Ghosts\",\"Call of Duty: Ghosts\",\"Pokemon X/Pokemon Y\",\"Grand Theft Auto V\",\"Grand Theft Auto V\"],\"yaxis\":\"y\",\"type\":\"bar\"}],\"name\":\"2013\"},{\"data\":[{\"alignmentgroup\":\"True\",\"hovertemplate\":\"Year=1998<br>Global_Sales=%{x}<br>Name=%{y}<extra></extra>\",\"legendgroup\":\"\",\"marker\":{\"color\":\"#636efa\",\"pattern\":{\"shape\":\"\"}},\"name\":\"\",\"offsetgroup\":\"\",\"orientation\":\"h\",\"showlegend\":false,\"textposition\":\"auto\",\"x\":[5.0,5.82,5.82,5.82,6.03,7.13,7.16,7.6,7.6,14.64],\"xaxis\":\"x\",\"y\":[\"Spyro the Dragon\",\"Resident Evil 2\",\"Resident Evil 2\",\"Resident Evil 2\",\"Metal Gear Solid\",\"Crash Bandicoot 3: Warped\",\"Tekken 3\",\"The Legend of Zelda: Ocarina of Time\",\"The Legend of Zelda: Ocarina of Time\",\"Pok\\u00e9mon Yellow: Special Pikachu Edition\"],\"yaxis\":\"y\",\"type\":\"bar\"}],\"name\":\"1998\"},{\"data\":[{\"alignmentgroup\":\"True\",\"hovertemplate\":\"Year=1999<br>Global_Sales=%{x}<br>Name=%{y}<extra></extra>\",\"legendgroup\":\"\",\"marker\":{\"color\":\"#636efa\",\"pattern\":{\"shape\":\"\"}},\"name\":\"\",\"offsetgroup\":\"\",\"orientation\":\"h\",\"showlegend\":false,\"textposition\":\"auto\",\"x\":[5.02,5.07,5.27,5.31,5.45,5.55,6.27,7.86,9.49,23.1],\"xaxis\":\"x\",\"y\":[\"Tony Hawk's Pro Skater\",\"Super Mario Bros.\",\"Donkey Kong 64\",\"Pokemon Pinball\",\"Pokemon Stadium\",\"Super Smash Bros.\",\"Driver\",\"Final Fantasy VIII\",\"Gran Turismo 2\",\"Pokemon Gold/Pokemon Silver\"],\"yaxis\":\"y\",\"type\":\"bar\"}],\"name\":\"1999\"},{\"data\":[{\"alignmentgroup\":\"True\",\"hovertemplate\":\"Year=2006<br>Global_Sales=%{x}<br>Name=%{y}<extra></extra>\",\"legendgroup\":\"\",\"marker\":{\"color\":\"#636efa\",\"pattern\":{\"shape\":\"\"}},\"name\":\"\",\"offsetgroup\":\"\",\"orientation\":\"h\",\"showlegend\":false,\"textposition\":\"auto\",\"x\":[5.08,5.12,5.72,5.95,6.11,7.31,18.36,29.02,30.01,82.74],\"xaxis\":\"x\",\"y\":[\"Grand Theft Auto: Vice City Stories\",\"Guitar Hero II\",\"Cooking Mama\",\"Final Fantasy XII\",\"Gears of War\",\"The Legend of Zelda: Twilight Princess\",\"Pokemon Diamond/Pokemon Pearl\",\"Wii Play\",\"New Super Mario Bros.\",\"Wii Sports\"],\"yaxis\":\"y\",\"type\":\"bar\"}],\"name\":\"2006\"},{\"data\":[{\"alignmentgroup\":\"True\",\"hovertemplate\":\"Year=2014<br>Global_Sales=%{x}<br>Name=%{y}<extra></extra>\",\"legendgroup\":\"\",\"marker\":{\"color\":\"#636efa\",\"pattern\":{\"shape\":\"\"}},\"name\":\"\",\"offsetgroup\":\"\",\"orientation\":\"h\",\"showlegend\":false,\"textposition\":\"auto\",\"x\":[5.08,5.13,5.42,5.65,6.59,6.96,7.45,7.6,11.33,11.98],\"xaxis\":\"x\",\"y\":[\"Grand Theft Auto V\",\"Call of Duty: Advanced Warfare\",\"Minecraft\",\"Destiny\",\"FIFA 15\",\"Mario Kart 8\",\"Super Smash Bros. for Wii U and 3DS\",\"Call of Duty: Advanced Warfare\",\"Pokemon Omega Ruby/Pokemon Alpha Sapphire\",\"Grand Theft Auto V\"],\"yaxis\":\"y\",\"type\":\"bar\"}],\"name\":\"2014\"},{\"data\":[{\"alignmentgroup\":\"True\",\"hovertemplate\":\"Year=2004<br>Global_Sales=%{x}<br>Name=%{y}<extra></extra>\",\"legendgroup\":\"\",\"marker\":{\"color\":\"#636efa\",\"pattern\":{\"shape\":\"\"}},\"name\":\"\",\"offsetgroup\":\"\",\"orientation\":\"h\",\"showlegend\":false,\"textposition\":\"auto\",\"x\":[5.21,6.28,6.41,6.9,6.9,8.49,10.42,10.49,11.66,20.81],\"xaxis\":\"x\",\"y\":[\"Dragon Quest VIII: Journey of the Cursed King\",\"World of Warcraft\",\"Pok\\u00e9mon Emerald Version\",\"Need for Speed Underground 2\",\"Need for Speed Underground 2\",\"Halo 2\",\"Super Mario 64\",\"Pokemon FireRed/Pokemon LeafGreen\",\"Gran Turismo 4\",\"Grand Theft Auto: San Andreas\"],\"yaxis\":\"y\",\"type\":\"bar\"}],\"name\":\"2004\"},{\"data\":[{\"alignmentgroup\":\"True\",\"hovertemplate\":\"Year=2001<br>Global_Sales=%{x}<br>Name=%{y}<extra></extra>\",\"legendgroup\":\"\",\"marker\":{\"color\":\"#636efa\",\"pattern\":{\"shape\":\"\"}},\"name\":\"\",\"offsetgroup\":\"\",\"orientation\":\"h\",\"showlegend\":false,\"textposition\":\"auto\",\"x\":[5.46,5.47,5.49,6.05,6.43,7.07,8.05,8.05,13.1,14.98],\"xaxis\":\"x\",\"y\":[\"Super Mario World\",\"Mario Kart: Super Circuit\",\"Super Mario Advance\",\"Metal Gear Solid 2: Sons of Liberty\",\"Halo: Combat Evolved\",\"Super Smash Bros. Melee\",\"Final Fantasy X\",\"Final Fantasy X\",\"Grand Theft Auto III\",\"Gran Turismo 3: A-Spec\"],\"yaxis\":\"y\",\"type\":\"bar\"}],\"name\":\"2001\"},{\"data\":[{\"alignmentgroup\":\"True\",\"hovertemplate\":\"Year=2007<br>Global_Sales=%{x}<br>Name=%{y}<extra></extra>\",\"legendgroup\":\"\",\"marker\":{\"color\":\"#636efa\",\"pattern\":{\"shape\":\"\"}},\"name\":\"\",\"offsetgroup\":\"\",\"orientation\":\"h\",\"showlegend\":false,\"textposition\":\"auto\",\"x\":[5.55,5.83,6.72,8.06,8.42,9.02,9.32,11.52,12.14,22.72],\"xaxis\":\"x\",\"y\":[\"Assassin's Creed\",\"LEGO Star Wars: The Complete Saga\",\"Call of Duty 4: Modern Warfare\",\"Mario & Sonic at the Olympic Games\",\"Mario Party 8\",\"Mario Party DS\",\"Call of Duty 4: Modern Warfare\",\"Super Mario Galaxy\",\"Halo 3\",\"Wii Fit\"],\"yaxis\":\"y\",\"type\":\"bar\"}],\"name\":\"2007\"},{\"data\":[{\"alignmentgroup\":\"True\",\"hovertemplate\":\"Year=2008<br>Global_Sales=%{x}<br>Name=%{y}<extra></extra>\",\"legendgroup\":\"\",\"marker\":{\"color\":\"#636efa\",\"pattern\":{\"shape\":\"\"}},\"name\":\"\",\"offsetgroup\":\"\",\"orientation\":\"h\",\"showlegend\":false,\"textposition\":\"auto\",\"x\":[5.92,6.03,6.76,6.76,7.37,7.84,10.57,11.02,13.04,35.82],\"xaxis\":\"x\",\"y\":[\"LittleBigPlanet\",\"Metal Gear Solid 4: Guns of the Patriots\",\"Gears of War 2\",\"Gears of War 2\",\"Call of Duty: World at War\",\"Pok\\u00e9mon Platinum Version\",\"Grand Theft Auto IV\",\"Grand Theft Auto IV\",\"Super Smash Bros. Brawl\",\"Mario Kart Wii\"],\"yaxis\":\"y\",\"type\":\"bar\"}],\"name\":\"2008\"},{\"data\":[{\"alignmentgroup\":\"True\",\"hovertemplate\":\"Year=2009<br>Global_Sales=%{x}<br>Name=%{y}<extra></extra>\",\"legendgroup\":\"\",\"marker\":{\"color\":\"#636efa\",\"pattern\":{\"shape\":\"\"}},\"name\":\"\",\"offsetgroup\":\"\",\"orientation\":\"h\",\"showlegend\":false,\"textposition\":\"auto\",\"x\":[6.36,6.73,7.27,8.11,10.69,11.9,13.51,22.0,28.62,33.0],\"xaxis\":\"x\",\"y\":[\"Halo 3: ODST\",\"Uncharted 2: Among Thieves\",\"Just Dance\",\"The Sims 3\",\"Call of Duty: Modern Warfare 2\",\"Pokemon HeartGold/Pokemon SoulSilver\",\"Call of Duty: Modern Warfare 2\",\"Wii Fit Plus\",\"New Super Mario Bros. Wii\",\"Wii Sports Resort\"],\"yaxis\":\"y\",\"type\":\"bar\"}],\"name\":\"2009\"},{\"data\":[{\"alignmentgroup\":\"True\",\"hovertemplate\":\"Year=2011<br>Global_Sales=%{x}<br>Name=%{y}<extra></extra>\",\"legendgroup\":\"\",\"marker\":{\"color\":\"#636efa\",\"pattern\":{\"shape\":\"\"}},\"name\":\"\",\"offsetgroup\":\"\",\"orientation\":\"h\",\"showlegend\":false,\"textposition\":\"auto\",\"x\":[7.34,8.84,8.84,10.26,10.79,12.21,13.46,13.46,14.76,14.76],\"xaxis\":\"x\",\"y\":[\"Battlefield 3\",\"The Elder Scrolls V: Skyrim\",\"The Elder Scrolls V: Skyrim\",\"Just Dance 3\",\"Super Mario 3D Land\",\"Mario Kart 7\",\"Call of Duty: Modern Warfare 3\",\"Call of Duty: Modern Warfare 3\",\"Call of Duty: Modern Warfare 3\",\"Call of Duty: Modern Warfare 3\"],\"yaxis\":\"y\",\"type\":\"bar\"}],\"name\":\"2011\"},{\"data\":[{\"alignmentgroup\":\"True\",\"hovertemplate\":\"Year=2012<br>Global_Sales=%{x}<br>Name=%{y}<extra></extra>\",\"legendgroup\":\"\",\"marker\":{\"color\":\"#636efa\",\"pattern\":{\"shape\":\"\"}},\"name\":\"\",\"offsetgroup\":\"\",\"orientation\":\"h\",\"showlegend\":false,\"textposition\":\"auto\",\"x\":[8.24,8.24,8.33,9.09,9.76,9.82,13.73,13.73,14.03,14.03],\"xaxis\":\"x\",\"y\":[\"FIFA Soccer 13\",\"FIFA Soccer 13\",\"Pokemon Black 2/Pokemon White 2\",\"Animal Crossing: New Leaf\",\"Halo 4\",\"New Super Mario Bros. 2\",\"Call of Duty: Black Ops II\",\"Call of Duty: Black Ops II\",\"Call of Duty: Black Ops II\",\"Call of Duty: Black Ops II\"],\"yaxis\":\"y\",\"type\":\"bar\"}],\"name\":\"2012\"},{\"data\":[{\"alignmentgroup\":\"True\",\"hovertemplate\":\"Year=2010<br>Global_Sales=%{x}<br>Name=%{y}<extra></extra>\",\"legendgroup\":\"\",\"marker\":{\"color\":\"#636efa\",\"pattern\":{\"shape\":\"\"}},\"name\":\"\",\"offsetgroup\":\"\",\"orientation\":\"h\",\"showlegend\":false,\"textposition\":\"auto\",\"x\":[8.49,9.52,9.88,10.77,12.73,12.73,14.64,14.64,15.32,21.82],\"xaxis\":\"x\",\"y\":[\"Wii Party\",\"Just Dance 2\",\"Halo: Reach\",\"Gran Turismo 5\",\"Call of Duty: Black Ops\",\"Call of Duty: Black Ops\",\"Call of Duty: Black Ops\",\"Call of Duty: Black Ops\",\"Pokemon Black/Pokemon White\",\"Kinect Adventures!\"],\"yaxis\":\"y\",\"type\":\"bar\"}],\"name\":\"2010\"}]);\n",
       "                        }).then(function(){\n",
       "                            \n",
       "var gd = document.getElementById('52927a2b-3e65-4224-bae7-ae9d4f854fe5');\n",
       "var x = new MutationObserver(function (mutations, observer) {{\n",
       "        var display = window.getComputedStyle(gd).display;\n",
       "        if (!display || display === 'none') {{\n",
       "            console.log([gd, 'removed!']);\n",
       "            Plotly.purge(gd);\n",
       "            observer.disconnect();\n",
       "        }}\n",
       "}});\n",
       "\n",
       "// Listen for the removal of the full notebook cells\n",
       "var notebookContainer = gd.closest('#notebook-container');\n",
       "if (notebookContainer) {{\n",
       "    x.observe(notebookContainer, {childList: true});\n",
       "}}\n",
       "\n",
       "// Listen for the clearing of the current output cell\n",
       "var outputEl = gd.closest('.output');\n",
       "if (outputEl) {{\n",
       "    x.observe(outputEl, {childList: true});\n",
       "}}\n",
       "\n",
       "                        })                };                });            </script>        </div>"
      ]
     },
     "metadata": {},
     "output_type": "display_data"
    }
   ],
   "source": [
    "fig = px.bar(\n",
    "    merged.sort_values(by=[\"Year\",'Global_Sales'], ascending = [True,False]).groupby(\"Year\").head(10).sort_values(by=['Global_Sales'], ascending = True),\n",
    "    x=\"Global_Sales\",\n",
    "    y=\"Name\",\n",
    "    animation_frame=\"Year\", \n",
    "    range_x=[0, 35],\n",
    "    barmode=\"group\",\n",
    "    orientation=\"h\"\n",
    ")\n",
    "#for f in fig.frames:\n",
    "#    f.layout.update(xaxis_range = [0,35])\n",
    "#fig.update_layout(yaxis_range=[0,10])\n",
    "#fig.update_layout(xaxis_range=[0,35])\n",
    "fig.update_layout(margin=dict(l=400))\n",
    "#fig.update_layout(\n",
    "#    xaxis = dict(\n",
    "#        tickmode = 'array',\n",
    "#        tickvals = [0, 5, 10, 15, 20, 25, 30, 25],\n",
    "#        ticktext = [0, 5, 10, 15, 20, 25, 30, 25]\n",
    "#    )\n",
    "#)\n",
    "#fig.update_layout(\n",
    "#    xaxis = dict(\n",
    "#        range = [0,35],\n",
    "#        type = 'linear'\n",
    "#    )\n",
    "#)\n",
    "fig.layout.updatemenus[0].buttons[0].args[1][\"frame\"][\"duration\"] = 1500\n",
    "fig.show()"
   ]
  },
  {
   "cell_type": "code",
   "execution_count": null,
   "id": "a30abd0f",
   "metadata": {},
   "outputs": [],
   "source": [
    "\n"
   ]
  },
  {
   "cell_type": "code",
   "execution_count": null,
   "id": "f60eadfc",
   "metadata": {},
   "outputs": [],
   "source": []
  }
 ],
 "metadata": {
  "kernelspec": {
   "display_name": "Python 3 (ipykernel)",
   "language": "python",
   "name": "python3"
  },
  "language_info": {
   "codemirror_mode": {
    "name": "ipython",
    "version": 3
   },
   "file_extension": ".py",
   "mimetype": "text/x-python",
   "name": "python",
   "nbconvert_exporter": "python",
   "pygments_lexer": "ipython3",
   "version": "3.7.4"
  }
 },
 "nbformat": 4,
 "nbformat_minor": 5
}
